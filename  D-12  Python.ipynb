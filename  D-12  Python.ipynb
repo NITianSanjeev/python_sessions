{
 "cells": [
  {
   "cell_type": "code",
   "execution_count": null,
   "id": "bb860a32",
   "metadata": {},
   "outputs": [],
   "source": [
    "basic_salary=eval(input(\"enter a basic salary:\"))\n",
    "DA=eval(input(\"enter a DA amount:\"))\n",
    "HRA=eval(input(\"enter a HRA amount\"))\n",
    "total_pay=basic_salary+DA+HRA\n",
    "print(\"the total salary is:\",total_pay)"
   ]
  },
  {
   "cell_type": "code",
   "execution_count": null,
   "id": "597aab6e",
   "metadata": {},
   "outputs": [],
   "source": [
    "basic_salary"
   ]
  },
  {
   "cell_type": "code",
   "execution_count": null,
   "id": "0abc7c09",
   "metadata": {},
   "outputs": [],
   "source": [
    "# WAP ask the user enter salary\n",
    "#     ask the user tax percentage\n",
    "# calculate how much tax user need to pay"
   ]
  },
  {
   "cell_type": "code",
   "execution_count": null,
   "id": "466b3d16",
   "metadata": {},
   "outputs": [],
   "source": [
    "salary=eval(input(\"Enter your salar: \"))\n",
    "tax_percent=eval(input(\"Enter your tax percent: \"))\n",
    "tax_amount=(salary*tax_percent)/100\n",
    "print(\"Total tax is\",tax_amount)"
   ]
  },
  {
   "cell_type": "code",
   "execution_count": null,
   "id": "a36b3f03",
   "metadata": {},
   "outputs": [],
   "source": [
    "# WAP ask the user get a random value between 1 and 100\n",
    "# Perform the square of the number\n",
    "\n",
    "# package name: random\n",
    "# method name:  randit\n"
   ]
  },
  {
   "cell_type": "code",
   "execution_count": null,
   "id": "c622f967",
   "metadata": {},
   "outputs": [],
   "source": [
    "eval(input(\"enter a number\"))"
   ]
  },
  {
   "cell_type": "code",
   "execution_count": null,
   "id": "e2ef5570",
   "metadata": {},
   "outputs": [],
   "source": [
    "import random\n",
    "number=random.randint(1,100)\n",
    "square=number*number\n",
    "print(\"the square of {} is {}\" .format(number,number*number))"
   ]
  },
  {
   "cell_type": "code",
   "execution_count": null,
   "id": "9dd1f5ef",
   "metadata": {},
   "outputs": [],
   "source": [
    "val1 = 200\n",
    "val2 = 300\n",
    "add = val1+val2\n",
    "sub = val1-val2\n",
    "mul = val1*val2\n",
    "div = round(val1/val2,2)\n",
    "print('The addition of {} and {} is {}'.format(val1,val2,add))\n",
    "print('The subtraction of {} and {} is {}'.format(val1,val2,sub))\n",
    "print('The multiplication of {} and {} is {}'.format(val1,val2,mul))\n",
    "print('The division of {} and {} is {}'.format(val1,val2,div))"
   ]
  },
  {
   "cell_type": "code",
   "execution_count": null,
   "id": "e2ce0ed8",
   "metadata": {},
   "outputs": [],
   "source": []
  },
  {
   "cell_type": "code",
   "execution_count": null,
   "id": "c661c655",
   "metadata": {},
   "outputs": [],
   "source": []
  },
  {
   "cell_type": "code",
   "execution_count": null,
   "id": "b2e50fd3",
   "metadata": {},
   "outputs": [],
   "source": []
  }
 ],
 "metadata": {
  "kernelspec": {
   "display_name": "Python 3 (ipykernel)",
   "language": "python",
   "name": "python3"
  },
  "language_info": {
   "codemirror_mode": {
    "name": "ipython",
    "version": 3
   },
   "file_extension": ".py",
   "mimetype": "text/x-python",
   "name": "python",
   "nbconvert_exporter": "python",
   "pygments_lexer": "ipython3",
   "version": "3.9.12"
  }
 },
 "nbformat": 4,
 "nbformat_minor": 5
}
