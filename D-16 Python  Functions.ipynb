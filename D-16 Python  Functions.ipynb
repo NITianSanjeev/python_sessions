{
 "cells": [
  {
   "cell_type": "markdown",
   "id": "49351998",
   "metadata": {},
   "source": [
    "# Functions\n"
   ]
  },
  {
   "cell_type": "markdown",
   "id": "edf851f5",
   "metadata": {},
   "source": [
    "## . Reuse any part of code\n",
    "## . Without argument code"
   ]
  },
  {
   "cell_type": "code",
   "execution_count": 37,
   "id": "8eb558ed",
   "metadata": {},
   "outputs": [
    {
     "name": "stdout",
     "output_type": "stream",
     "text": [
      "The addition of 10 and 20 is 30\n"
     ]
    }
   ],
   "source": [
    "n1=10\n",
    "n2=20\n",
    "add=n1+n2\n",
    "print(\"The addition of {} and {} is {}\".format(n1,n2,add))"
   ]
  },
  {
   "cell_type": "code",
   "execution_count": null,
   "id": "d0d9b749",
   "metadata": {},
   "outputs": [],
   "source": [
    "def <function_name>():\n",
    "    # write your code here"
   ]
  },
  {
   "cell_type": "code",
   "execution_count": 4,
   "id": "e90b359b",
   "metadata": {},
   "outputs": [],
   "source": [
    "def addition():\n",
    "    n1=10\n",
    "    n2=20\n",
    "    add=n1+n2\n",
    "    print(\"The addition of {} and {} is {}\".format(n1,n2,add))"
   ]
  },
  {
   "cell_type": "code",
   "execution_count": null,
   "id": "08dfb700",
   "metadata": {},
   "outputs": [],
   "source": [
    "# The o/p is not display until unless you call the function"
   ]
  },
  {
   "cell_type": "code",
   "execution_count": 5,
   "id": "2c890b0b",
   "metadata": {},
   "outputs": [
    {
     "name": "stdout",
     "output_type": "stream",
     "text": [
      "The addition of 10 and 20 is 30\n"
     ]
    }
   ],
   "source": [
    "addition()"
   ]
  },
  {
   "cell_type": "code",
   "execution_count": 9,
   "id": "46bcb371",
   "metadata": {},
   "outputs": [],
   "source": [
    "def addition():\n",
    "    n1=eval(input('enter function '))\n",
    "    print('hello')\n",
    "    print('im writing function')\n",
    "    "
   ]
  },
  {
   "cell_type": "code",
   "execution_count": 10,
   "id": "ef3b4a27",
   "metadata": {},
   "outputs": [
    {
     "name": "stdout",
     "output_type": "stream",
     "text": [
      "enter function 50\n",
      "hello\n",
      "im writing function\n"
     ]
    }
   ],
   "source": [
    "addition()"
   ]
  },
  {
   "cell_type": "code",
   "execution_count": 11,
   "id": "72ca7473",
   "metadata": {},
   "outputs": [],
   "source": [
    "def hello():\n",
    "    n1=eval(input('enter function '))\n",
    "    print('hello')\n",
    "    print('im writing function')\n",
    "    \n",
    "    "
   ]
  },
  {
   "cell_type": "code",
   "execution_count": 12,
   "id": "717165fa",
   "metadata": {},
   "outputs": [
    {
     "name": "stdout",
     "output_type": "stream",
     "text": [
      "enter function 20\n",
      "hello\n",
      "im writing function\n"
     ]
    }
   ],
   "source": [
    "hello()"
   ]
  },
  {
   "cell_type": "code",
   "execution_count": 13,
   "id": "24ca10a6",
   "metadata": {},
   "outputs": [
    {
     "name": "stdout",
     "output_type": "stream",
     "text": [
      "hello good morning\n"
     ]
    }
   ],
   "source": [
    "def hello_world():\n",
    "    print(\"hello good morning\")\n",
    "    \n",
    "hello_world()    \n",
    "    "
   ]
  },
  {
   "cell_type": "code",
   "execution_count": 3,
   "id": "99d88191",
   "metadata": {},
   "outputs": [],
   "source": [
    "# Take three numberS find the average\n",
    "# WAP aso the user enter 3 numbers\n",
    "# n1=eval(input())\n",
    "# n2=eval(input())\n",
    "# n3=eval(input())\n",
    "# avg=(n1+n2+n3)/3\n",
    "# wrt first normal code\n",
    "# then emlement the function"
   ]
  },
  {
   "cell_type": "code",
   "execution_count": 4,
   "id": "cfdbe216",
   "metadata": {},
   "outputs": [
    {
     "name": "stdout",
     "output_type": "stream",
     "text": [
      "enter number1:50\n",
      "enter number2:20\n",
      "enter number3:30\n",
      "the average of 50,20 and 30 is 33.333333333333336\n"
     ]
    }
   ],
   "source": [
    "num1=eval(input(\"enter number1:\"))\n",
    "num2=eval(input(\"enter number2:\"))\n",
    "num3=eval(input(\"enter number3:\"))\n",
    "avg=(num1+num2+num3)/3\n",
    "print(\"the average of {},{} and {} is {}\".format(num1,num2,num3,avg))"
   ]
  },
  {
   "cell_type": "code",
   "execution_count": 5,
   "id": "ce534492",
   "metadata": {},
   "outputs": [],
   "source": [
    "def avg():\n",
    "    num1=eval(input(\"enter number1:\"))\n",
    "    num2=eval(input(\"enter number2:\"))\n",
    "    num3=eval(input(\"enter number3:\"))\n",
    "    avg=(num1+num2+num3)/3\n",
    "    print(\"the average of {},{} and {} is {}\".format(num1,num2,num3,avg))\n",
    "    "
   ]
  },
  {
   "cell_type": "code",
   "execution_count": 6,
   "id": "25257b9d",
   "metadata": {},
   "outputs": [
    {
     "name": "stdout",
     "output_type": "stream",
     "text": [
      "enter number1:50\n",
      "enter number2:30\n",
      "enter number3:20\n",
      "the average of 50,30 and 20 is 33.333333333333336\n"
     ]
    }
   ],
   "source": [
    "avg()"
   ]
  },
  {
   "cell_type": "code",
   "execution_count": 8,
   "id": "c2a069de",
   "metadata": {},
   "outputs": [],
   "source": [
    "def avg():\n",
    "    num1=eval(input(\"enter number1:\"))\n",
    "    num2=eval(input(\"enter number2:\"))\n",
    "    num3=eval(input(\"enter number3:\"))\n",
    "    avg=(num1+num2+num3333)/3\n",
    "    print(\"the average of {},{} and {} is {}\".format(num1,num2,num3,avg))\n",
    "    "
   ]
  },
  {
   "cell_type": "code",
   "execution_count": 9,
   "id": "b4a96b58",
   "metadata": {},
   "outputs": [
    {
     "name": "stdout",
     "output_type": "stream",
     "text": [
      "enter number1:100\n",
      "enter number2:100\n",
      "enter number3:100\n"
     ]
    },
    {
     "ename": "NameError",
     "evalue": "name 'num3333' is not defined",
     "output_type": "error",
     "traceback": [
      "\u001b[1;31m---------------------------------------------------------------------------\u001b[0m",
      "\u001b[1;31mNameError\u001b[0m                                 Traceback (most recent call last)",
      "Input \u001b[1;32mIn [9]\u001b[0m, in \u001b[0;36m<cell line: 1>\u001b[1;34m()\u001b[0m\n\u001b[1;32m----> 1\u001b[0m \u001b[43mavg\u001b[49m\u001b[43m(\u001b[49m\u001b[43m)\u001b[49m\n",
      "Input \u001b[1;32mIn [8]\u001b[0m, in \u001b[0;36mavg\u001b[1;34m()\u001b[0m\n\u001b[0;32m      3\u001b[0m num2\u001b[38;5;241m=\u001b[39m\u001b[38;5;28meval\u001b[39m(\u001b[38;5;28minput\u001b[39m(\u001b[38;5;124m\"\u001b[39m\u001b[38;5;124menter number2:\u001b[39m\u001b[38;5;124m\"\u001b[39m))\n\u001b[0;32m      4\u001b[0m num3\u001b[38;5;241m=\u001b[39m\u001b[38;5;28meval\u001b[39m(\u001b[38;5;28minput\u001b[39m(\u001b[38;5;124m\"\u001b[39m\u001b[38;5;124menter number3:\u001b[39m\u001b[38;5;124m\"\u001b[39m))\n\u001b[1;32m----> 5\u001b[0m avg\u001b[38;5;241m=\u001b[39m(num1\u001b[38;5;241m+\u001b[39mnum2\u001b[38;5;241m+\u001b[39m\u001b[43mnum3333\u001b[49m)\u001b[38;5;241m/\u001b[39m\u001b[38;5;241m3\u001b[39m\n\u001b[0;32m      6\u001b[0m \u001b[38;5;28mprint\u001b[39m(\u001b[38;5;124m\"\u001b[39m\u001b[38;5;124mthe average of \u001b[39m\u001b[38;5;132;01m{}\u001b[39;00m\u001b[38;5;124m,\u001b[39m\u001b[38;5;132;01m{}\u001b[39;00m\u001b[38;5;124m and \u001b[39m\u001b[38;5;132;01m{}\u001b[39;00m\u001b[38;5;124m is \u001b[39m\u001b[38;5;132;01m{}\u001b[39;00m\u001b[38;5;124m\"\u001b[39m\u001b[38;5;241m.\u001b[39mformat(num1,num2,num3,avg))\n",
      "\u001b[1;31mNameError\u001b[0m: name 'num3333' is not defined"
     ]
    }
   ],
   "source": [
    "avg()"
   ]
  },
  {
   "cell_type": "markdown",
   "id": "c85a3a36",
   "metadata": {},
   "source": [
    "## note:\n",
    "### we are not sure , the function is define correct or wrong.\n",
    "### until unless we call the function"
   ]
  },
  {
   "cell_type": "code",
   "execution_count": 13,
   "id": "6e705e1f",
   "metadata": {},
   "outputs": [
    {
     "name": "stdout",
     "output_type": "stream",
     "text": [
      "enter number1:20\n",
      "enter number2:30\n",
      "enter number3:40\n",
      "the average of 20,30 and 40 is 30.0\n"
     ]
    }
   ],
   "source": [
    "def avg1():\n",
    "    try:\n",
    "        \n",
    "        num1=eval(input(\"enter number1:\"))\n",
    "        num2=eval(input(\"enter number2:\"))\n",
    "        num3=eval(input(\"enter number3:\"))\n",
    "        avg=(num1+num2+num3)/3\n",
    "        print(\"the average of {},{} and {} is {}\".format(num1,num2,num3,avg))\n",
    "        \n",
    "    except exception as e:\n",
    "        print(e)\n",
    "avg1()        \n",
    "        "
   ]
  },
  {
   "cell_type": "code",
   "execution_count": 15,
   "id": "f49e8224",
   "metadata": {},
   "outputs": [
    {
     "name": "stdout",
     "output_type": "stream",
     "text": [
      "enter number1:20\n",
      "enter number2:30\n",
      "enter number3:40\n",
      "name 'num3333' is not defined\n"
     ]
    }
   ],
   "source": [
    "def avg1():\n",
    "    try:\n",
    "        \n",
    "        num1=eval(input(\"enter number1:\"))\n",
    "        num2=eval(input(\"enter number2:\"))\n",
    "        num3=eval(input(\"enter number3:\"))\n",
    "        avg=(num1+num2+num3333)/3\n",
    "        print(\"the average of {},{} and {} is {}\".format(num1,num2,num3,avg))\n",
    "        \n",
    "    except Exception as e:\n",
    "        print(e)\n",
    "avg1()        \n",
    "        "
   ]
  },
  {
   "cell_type": "code",
   "execution_count": 16,
   "id": "b6ef6011",
   "metadata": {},
   "outputs": [],
   "source": [
    "# wap ask the user enter bill amount\n",
    "# ask the user enter tip amount\n",
    "# calculate the total bill\n",
    "\n",
    "# First write normal code \n",
    "# Then emplement the function"
   ]
  },
  {
   "cell_type": "code",
   "execution_count": 22,
   "id": "661714e0",
   "metadata": {},
   "outputs": [
    {
     "name": "stdout",
     "output_type": "stream",
     "text": [
      "Enter a bill amount: 50\n",
      "Enter a tip amount: 10\n",
      "The total bill amount 50 and tip amount 10 is total 60 :\n"
     ]
    }
   ],
   "source": [
    "bill_amount=eval(input(\"Enter a bill amount: \"))\n",
    "tip_amount=eval(input(\"Enter a tip amount: \"))\n",
    "total_bill=bill_amount+tip_amount\n",
    "print(\"The total bill amount {} and tip amount {} is total {} :\".format(bill_amount,tip_amount,total_bill) )"
   ]
  },
  {
   "cell_type": "code",
   "execution_count": 24,
   "id": "6e9d3de8",
   "metadata": {},
   "outputs": [
    {
     "name": "stdout",
     "output_type": "stream",
     "text": [
      "Enter a bill amount: 50\n",
      "Enter a tip amount: 10\n",
      "The total bill amount 50 and tip amount 10 is total 60 :\n"
     ]
    }
   ],
   "source": [
    "def amount():\n",
    "    try:\n",
    "        bill_amount=eval(input(\"Enter a bill amount: \"))\n",
    "        tip_amount=eval(input(\"Enter a tip amount: \"))\n",
    "        total_bill=bill_amount+tip_amount\n",
    "        print(\"The total bill amount {} and tip amount {} is total {} :\".format(bill_amount,tip_amount,total_bill) )\n",
    "    except Exception as e:\n",
    "        print(e)\n",
    "amount()    \n",
    "            "
   ]
  },
  {
   "cell_type": "code",
   "execution_count": 25,
   "id": "7d93899e",
   "metadata": {},
   "outputs": [],
   "source": [
    "# WAP ask the user get a random number between 1 to 100\n",
    "# print it is even or odd number \n",
    "# Implement using function\n"
   ]
  },
  {
   "cell_type": "code",
   "execution_count": 30,
   "id": "a595037d",
   "metadata": {},
   "outputs": [
    {
     "name": "stdout",
     "output_type": "stream",
     "text": [
      "we are implementing even odd function\n",
      "take one number\n",
      "The remainder is zero\n",
      "64 is an even number\n"
     ]
    }
   ],
   "source": [
    "0"
   ]
  },
  {
   "cell_type": "code",
   "execution_count": 31,
   "id": "f9ecea33",
   "metadata": {},
   "outputs": [
    {
     "name": "stdout",
     "output_type": "stream",
     "text": [
      "hello\n",
      "python\n",
      "calling function\n",
      "we are implementing even odd function\n",
      "take one number\n",
      "The remainder is zero\n",
      "18 is an even number\n",
      "done!\n"
     ]
    }
   ],
   "source": [
    "import random\n",
    "print('hello')\n",
    "print(\"python\")\n",
    "def even_odd2():\n",
    "    try:\n",
    "        print('we are implementing even odd function')\n",
    "        print('take one number')\n",
    "        num=random.randint(1,100)\n",
    "        if num%2==0:\n",
    "            print(\"The remainder is zero\")\n",
    "            print(\"{} is an even number\".format(num))\n",
    "        else:\n",
    "            print(\"The remainder is not equal to zero\")\n",
    "            print(\"{} is an odd number\".format(num))\n",
    "            \n",
    "    except Exception as e:\n",
    "        print(e)\n",
    "        \n",
    "print('calling function')        \n",
    "        \n",
    "even_odd2() \n",
    "print(\"done!\")\n",
    "    "
   ]
  },
  {
   "cell_type": "code",
   "execution_count": 35,
   "id": "056ab837",
   "metadata": {},
   "outputs": [
    {
     "name": "stdout",
     "output_type": "stream",
     "text": [
      "mul  function starts\n",
      "subtraction function starts\n",
      "anything remains\n",
      "no\n",
      "then call the function\n",
      "sub: -10\n",
      "subtraction is done\n",
      "mul: 600\n",
      "mul is done\n",
      "addition: 50\n"
     ]
    }
   ],
   "source": [
    "def addition():\n",
    "    n1=20\n",
    "    n2=30\n",
    "    print('addition:',n1+n2)\n",
    "    \n",
    "print(\"mul  function starts\") \n",
    "def mul():\n",
    "    n1=20\n",
    "    n2=30\n",
    "    print('mul:',n1*n2)\n",
    "    print(\"mul is done\")\n",
    "    \n",
    "print(\"subtraction function starts\") \n",
    "def sub():\n",
    "    n1=20\n",
    "    n2=30\n",
    "    print('sub:',n1-n2)\n",
    "    print(\"subtraction is done\")\n",
    "    \n",
    "print(\"anything remains\") \n",
    "print(\"no\")\n",
    "print(\"then call the function\")\n",
    "\n",
    "sub()\n",
    "mul()\n",
    "addition()"
   ]
  },
  {
   "cell_type": "code",
   "execution_count": null,
   "id": "27e1789f",
   "metadata": {},
   "outputs": [],
   "source": [
    "addition()\n",
    "bill()"
   ]
  },
  {
   "cell_type": "markdown",
   "id": "7e5dda20",
   "metadata": {},
   "source": [
    "### .if you are not mentioning any values inside the function bracket\n",
    "    .without arguments or with out parmeters\n",
    "    . arguments or parameters\n"
   ]
  },
  {
   "cell_type": "markdown",
   "id": "0759d108",
   "metadata": {},
   "source": [
    "## with arguments code"
   ]
  },
  {
   "cell_type": "code",
   "execution_count": 38,
   "id": "f5ff45e3",
   "metadata": {},
   "outputs": [
    {
     "name": "stdout",
     "output_type": "stream",
     "text": [
      "The addition of 10 and 20 is 30\n"
     ]
    }
   ],
   "source": [
    "def addition():\n",
    "    n1=10\n",
    "    n2=20\n",
    "    add=n1+n2\n",
    "    print(\"The addition of {} and {} is {}\".format(n1,n2,add))\n",
    "    \n",
    "addition()   \n",
    "\n",
    "# 1Q) inside function how many variables are there\n",
    "# 3 variable are there\n",
    "# 2Q) how many user provided variables\n",
    "# 2 variable"
   ]
  },
  {
   "cell_type": "code",
   "execution_count": 40,
   "id": "1eaba286",
   "metadata": {},
   "outputs": [
    {
     "name": "stdout",
     "output_type": "stream",
     "text": [
      "The addition of 20 and 30 is 50\n"
     ]
    }
   ],
   "source": [
    "def addition(n1,n2):   # Arguments\n",
    "    add=n1+n2\n",
    "    print(\"The addition of {} and {} is {}\".format(n1,n2,add))\n",
    "    \n",
    "addition(20,30)   # n1=20  n2=30\n"
   ]
  },
  {
   "cell_type": "code",
   "execution_count": 41,
   "id": "d90ea183",
   "metadata": {},
   "outputs": [
    {
     "name": "stdout",
     "output_type": "stream",
     "text": [
      "The addition of 20 and 30 is 50\n"
     ]
    }
   ],
   "source": [
    "def addition(n1,n2):   # Arguments\n",
    "    add=n1+n2\n",
    "    print(\"The addition of {} and {} is {}\".format(n1,n2,add))\n",
    "    \n",
    "addition(20,30)   # n1=20  n2=30\n"
   ]
  },
  {
   "cell_type": "code",
   "execution_count": 42,
   "id": "df3d0e22",
   "metadata": {},
   "outputs": [
    {
     "name": "stdout",
     "output_type": "stream",
     "text": [
      "The mul of 20 and 30 is 600\n"
     ]
    }
   ],
   "source": [
    "def mul(n1,n2):\n",
    "    mul=n1*n2\n",
    "    print(\"The mul of {} and {} is {}\".format(n1,n2,mul))\n",
    "    \n",
    "mul(20,30)    "
   ]
  },
  {
   "cell_type": "code",
   "execution_count": 43,
   "id": "84a30cd2",
   "metadata": {},
   "outputs": [
    {
     "name": "stdout",
     "output_type": "stream",
     "text": [
      "num1: 20\n",
      "num2: 30\n",
      "num3: 40\n",
      "the average of 20,30 and 40 is 30.0\n"
     ]
    }
   ],
   "source": [
    "def avg(num1,num2,num3):\n",
    "    print(\"num1:\",num1)\n",
    "    print(\"num2:\",num2)   \n",
    "    print(\"num3:\",num3)\n",
    "        \n",
    "    avg=(num1+num2+num3)/3\n",
    "    print(\"the average of {},{} and {} is {}\".format(num1,num2,num3,avg))\n",
    "    \n",
    "avg(20,30,40)    "
   ]
  },
  {
   "cell_type": "code",
   "execution_count": null,
   "id": "74856cf2",
   "metadata": {},
   "outputs": [],
   "source": []
  }
 ],
 "metadata": {
  "kernelspec": {
   "display_name": "Python 3 (ipykernel)",
   "language": "python",
   "name": "python3"
  },
  "language_info": {
   "codemirror_mode": {
    "name": "ipython",
    "version": 3
   },
   "file_extension": ".py",
   "mimetype": "text/x-python",
   "name": "python",
   "nbconvert_exporter": "python",
   "pygments_lexer": "ipython3",
   "version": "3.9.12"
  }
 },
 "nbformat": 4,
 "nbformat_minor": 5
}
