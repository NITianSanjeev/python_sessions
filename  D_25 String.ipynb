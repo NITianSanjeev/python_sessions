{
 "cells": [
  {
   "cell_type": "code",
   "execution_count": 2,
   "id": "c3b7c5cf",
   "metadata": {},
   "outputs": [],
   "source": [
    "string1='python'\n",
    "\n",
    "# I want to print the letter using for loop\n",
    "# in\n",
    "# range"
   ]
  },
  {
   "cell_type": "code",
   "execution_count": 3,
   "id": "50e3ed12",
   "metadata": {},
   "outputs": [
    {
     "name": "stdout",
     "output_type": "stream",
     "text": [
      "p y t h o n "
     ]
    }
   ],
   "source": [
    "for i in string1:  # i means each letter\n",
    "    print(i,end=' ')"
   ]
  },
  {
   "cell_type": "code",
   "execution_count": 4,
   "id": "9cd4b3a4",
   "metadata": {},
   "outputs": [
    {
     "name": "stdout",
     "output_type": "stream",
     "text": [
      "0 p\n",
      "1 y\n",
      "2 t\n",
      "3 h\n",
      "4 o\n",
      "5 n\n"
     ]
    }
   ],
   "source": [
    "for i in range(len(string1)):\n",
    "    print(i,string1[i])\n"
   ]
  },
  {
   "cell_type": "code",
   "execution_count": 5,
   "id": "9251a277",
   "metadata": {},
   "outputs": [
    {
     "name": "stdout",
     "output_type": "stream",
     "text": [
      "The index of p is 0\n",
      "The index of y is 1\n",
      "The index of t is 2\n",
      "The index of h is 3\n",
      "The index of o is 4\n",
      "The index of n is 5\n"
     ]
    }
   ],
   "source": [
    "for i in range(len(string1)):\n",
    "    print('The index of {} is {}'.format(string1[i],i))"
   ]
  },
  {
   "cell_type": "code",
   "execution_count": 6,
   "id": "772b621b",
   "metadata": {},
   "outputs": [
    {
     "ename": "SyntaxError",
     "evalue": "invalid syntax (1732866803.py, line 2)",
     "output_type": "error",
     "traceback": [
      "\u001b[1;36m  Input \u001b[1;32mIn [6]\u001b[1;36m\u001b[0m\n\u001b[1;33m    p    y   t   h   o   n\u001b[0m\n\u001b[1;37m         ^\u001b[0m\n\u001b[1;31mSyntaxError\u001b[0m\u001b[1;31m:\u001b[0m invalid syntax\n"
     ]
    }
   ],
   "source": [
    "-6  -5  -4  -3  -2  -1\n",
    "p    y   t   h   o   n\n",
    "0    1   2   3   4   5"
   ]
  },
  {
   "cell_type": "code",
   "execution_count": 7,
   "id": "2ac35ed0",
   "metadata": {},
   "outputs": [
    {
     "data": {
      "text/plain": [
       "'n'"
      ]
     },
     "execution_count": 7,
     "metadata": {},
     "output_type": "execute_result"
    }
   ],
   "source": [
    "string1[-1]"
   ]
  },
  {
   "cell_type": "code",
   "execution_count": 8,
   "id": "3e54b615",
   "metadata": {},
   "outputs": [
    {
     "data": {
      "text/plain": [
       "'p'"
      ]
     },
     "execution_count": 8,
     "metadata": {},
     "output_type": "execute_result"
    }
   ],
   "source": [
    "string1[-6]"
   ]
  },
  {
   "cell_type": "code",
   "execution_count": 9,
   "id": "34a5ca96",
   "metadata": {},
   "outputs": [
    {
     "data": {
      "text/plain": [
       "('p', 'y', 't', 'h', 'o', 'n')"
      ]
     },
     "execution_count": 9,
     "metadata": {},
     "output_type": "execute_result"
    }
   ],
   "source": [
    "string1[-6],string1[-5],string1[-4],string1[-3],string1[-2],string1[-1]"
   ]
  },
  {
   "cell_type": "code",
   "execution_count": 10,
   "id": "bbeb1b44",
   "metadata": {},
   "outputs": [
    {
     "name": "stdout",
     "output_type": "stream",
     "text": [
      "the negative index of p is -6\n",
      "the negative index of y is -5\n",
      "the negative index of t is -4\n",
      "the negative index of h is -3\n",
      "the negative index of o is -2\n",
      "the negative index of n is -1\n"
     ]
    }
   ],
   "source": [
    "string1='python'\n",
    "for i in range(-len(string1),0):\n",
    "    print(\"the negative index of {} is {}\".format(string1[i],i))"
   ]
  },
  {
   "cell_type": "code",
   "execution_count": 11,
   "id": "0eeb7c52",
   "metadata": {},
   "outputs": [
    {
     "name": "stdout",
     "output_type": "stream",
     "text": [
      "the negative index of p is -6\n",
      "the negative index of y is -5\n",
      "the negative index of t is -4\n",
      "the negative index of h is -3\n",
      "the negative index of o is -2\n",
      "the negative index of n is -1\n"
     ]
    }
   ],
   "source": [
    "string1='python'\n",
    "for i in range(len(string1)):\n",
    "    print(\"the negative index of {} is {}\".format(string1[i],i-6))"
   ]
  },
  {
   "cell_type": "code",
   "execution_count": 12,
   "id": "082a4380",
   "metadata": {},
   "outputs": [
    {
     "name": "stdout",
     "output_type": "stream",
     "text": [
      "the postive index is 0 and negative index is p for -6\n",
      "the postive index is 1 and negative index is y for -5\n",
      "the postive index is 2 and negative index is t for -4\n",
      "the postive index is 3 and negative index is h for -3\n",
      "the postive index is 4 and negative index is o for -2\n",
      "the postive index is 5 and negative index is n for -1\n"
     ]
    }
   ],
   "source": [
    "string1='python'\n",
    "for i in range(len(string1)):\n",
    "    print(\"the postive index is {} and negative index is {} for {}\".format(i,string1[i],i-6))"
   ]
  },
  {
   "cell_type": "code",
   "execution_count": 13,
   "id": "d61e26fb",
   "metadata": {},
   "outputs": [
    {
     "name": "stdout",
     "output_type": "stream",
     "text": [
      "the negative index of p is 0\n",
      "the negative index of y is 1\n",
      "the negative index of t is 2\n",
      "the negative index of h is 3\n",
      "the negative index of o is 4\n",
      "the negative index of n is 5\n",
      "the negative index of p is -6\n",
      "the negative index of y is -5\n",
      "the negative index of t is -4\n",
      "the negative index of h is -3\n",
      "the negative index of o is -2\n",
      "the negative index of n is -1\n",
      "the postive index is 6 and negative index is p for 0\n",
      "the postive index is 7 and negative index is y for 1\n",
      "the postive index is 8 and negative index is t for 2\n",
      "the postive index is 9 and negative index is h for 3\n",
      "the postive index is 10 and negative index is o for 4\n",
      "the postive index is 11 and negative index is n for 5\n"
     ]
    }
   ],
   "source": [
    "for i in range(-len(string1),0):\n",
    "    print(\"the negative index of {} is {}\".format(string1[i],i+6))\n",
    "    \n",
    "    \n",
    "for i in range(-len(string1),0):\n",
    "    print(\"the negative index of {} is {}\".format(string1[i],i))\n",
    "    \n",
    "for i in range(len(string1)):\n",
    "    print(\"the postive index is {} and negative index is {} for {}\".format(i+6,string1[i],i))    "
   ]
  },
  {
   "cell_type": "code",
   "execution_count": 14,
   "id": "b789ddc6",
   "metadata": {},
   "outputs": [
    {
     "name": "stdout",
     "output_type": "stream",
     "text": [
      "-6 0\n",
      "-5 1\n",
      "-4 2\n",
      "-3 3\n",
      "-2 4\n",
      "-1 5\n"
     ]
    }
   ],
   "source": [
    "for i in range(-len(string1),0):\n",
    "    print(i,i+6)"
   ]
  },
  {
   "cell_type": "code",
   "execution_count": 15,
   "id": "25df1be4",
   "metadata": {},
   "outputs": [
    {
     "name": "stdout",
     "output_type": "stream",
     "text": [
      "0\n",
      "1\n",
      "2\n",
      "3\n",
      "4\n",
      "5\n"
     ]
    }
   ],
   "source": [
    "i=0\n",
    "while i<len(string1):\n",
    "    print(i)\n",
    "    i=i+1"
   ]
  },
  {
   "cell_type": "code",
   "execution_count": 16,
   "id": "df320de8",
   "metadata": {},
   "outputs": [
    {
     "name": "stdout",
     "output_type": "stream",
     "text": [
      "the postive index is 0 and negative index is -6 for p\n",
      "the postive index is 1 and negative index is -5 for y\n",
      "the postive index is 2 and negative index is -4 for t\n",
      "the postive index is 3 and negative index is -3 for h\n",
      "the postive index is 4 and negative index is -2 for o\n",
      "the postive index is 5 and negative index is -1 for n\n"
     ]
    }
   ],
   "source": [
    "i=0\n",
    "while i<len(string1):\n",
    "    print(\"the postive index is {} and negative index is {} for {}\".format(i,i-6,string1[i])) \n",
    "    i=i+1"
   ]
  },
  {
   "cell_type": "code",
   "execution_count": 22,
   "id": "5c041d9e",
   "metadata": {},
   "outputs": [
    {
     "name": "stdout",
     "output_type": "stream",
     "text": [
      "2\n"
     ]
    }
   ],
   "source": [
    "string1='hai how are you'\n",
    "count=0\n",
    "for i in string1:\n",
    "    if i=='a':\n",
    "        count=count+1\n",
    "print(count)    "
   ]
  },
  {
   "cell_type": "code",
   "execution_count": 23,
   "id": "4a0f7218",
   "metadata": {},
   "outputs": [
    {
     "name": "stdout",
     "output_type": "stream",
     "text": [
      "2\n"
     ]
    }
   ],
   "source": [
    "string1='hai how are you'\n",
    "count=0\n",
    "for i in range(len(string1)):\n",
    "    if string1[i]=='a':\n",
    "        count=count+1\n",
    "print(count)    "
   ]
  },
  {
   "cell_type": "markdown",
   "id": "10684610",
   "metadata": {},
   "source": [
    "# Mutable and immutable concept\n",
    "### muatble ===== we can change\n",
    "### immutable ==== we can not change the value by using index opeation\n",
    "\n",
    "## string are immutable"
   ]
  },
  {
   "cell_type": "code",
   "execution_count": 25,
   "id": "2b7756ae",
   "metadata": {},
   "outputs": [
    {
     "ename": "NameError",
     "evalue": "name 'string' is not defined",
     "output_type": "error",
     "traceback": [
      "\u001b[1;31m---------------------------------------------------------------------------\u001b[0m",
      "\u001b[1;31mNameError\u001b[0m                                 Traceback (most recent call last)",
      "Input \u001b[1;32mIn [25]\u001b[0m, in \u001b[0;36m<cell line: 4>\u001b[1;34m()\u001b[0m\n\u001b[0;32m      1\u001b[0m string1\u001b[38;5;241m=\u001b[39m\u001b[38;5;124m'\u001b[39m\u001b[38;5;124mpython\u001b[39m\u001b[38;5;124m'\u001b[39m\n\u001b[0;32m      2\u001b[0m \u001b[38;5;66;03m# I want change 'p' ==== 'P'\u001b[39;00m\n\u001b[0;32m      3\u001b[0m \u001b[38;5;66;03m# o/p: 'python'\u001b[39;00m\n\u001b[1;32m----> 4\u001b[0m \u001b[43mstring\u001b[49m[\u001b[38;5;241m0\u001b[39m]\u001b[38;5;241m=\u001b[39m\u001b[38;5;124m'\u001b[39m\u001b[38;5;124mP\u001b[39m\u001b[38;5;124m'\u001b[39m\n",
      "\u001b[1;31mNameError\u001b[0m: name 'string' is not defined"
     ]
    }
   ],
   "source": [
    "string1='python'\n",
    "# I want change 'p' ==== 'P'\n",
    "# o/p: 'python'\n",
    "string[0]='P'"
   ]
  },
  {
   "cell_type": "code",
   "execution_count": 27,
   "id": "065967d1",
   "metadata": {},
   "outputs": [],
   "source": [
    "# string is a immutable"
   ]
  },
  {
   "cell_type": "code",
   "execution_count": 28,
   "id": "1068edb6",
   "metadata": {},
   "outputs": [
    {
     "data": {
      "text/plain": [
       "[1000, 200, 300]"
      ]
     },
     "execution_count": 28,
     "metadata": {},
     "output_type": "execute_result"
    }
   ],
   "source": [
    "list1=[100,200,300]\n",
    "list1[0]=1000\n",
    "list1\n"
   ]
  },
  {
   "cell_type": "code",
   "execution_count": 29,
   "id": "507bd9eb",
   "metadata": {},
   "outputs": [],
   "source": [
    "# list are mutable"
   ]
  },
  {
   "cell_type": "markdown",
   "id": "4f4866fa",
   "metadata": {},
   "source": [
    "# slice"
   ]
  },
  {
   "cell_type": "code",
   "execution_count": null,
   "id": "4c2fad2e",
   "metadata": {},
   "outputs": [],
   "source": [
    "h a i   h o w   a r e     y  o  u\n",
    "0 1 2 3 4 5 6 7 8 9 10 11 12 13 14"
   ]
  },
  {
   "cell_type": "code",
   "execution_count": 31,
   "id": "535ac022",
   "metadata": {},
   "outputs": [
    {
     "data": {
      "text/plain": [
       "'i how ar'"
      ]
     },
     "execution_count": 31,
     "metadata": {},
     "output_type": "execute_result"
    }
   ],
   "source": [
    "string1='hai how are you'\n",
    "string1[2:10]\n",
    "# start=2\n",
    "# stop=10-1=9\n",
    "# positive"
   ]
  },
  {
   "cell_type": "code",
   "execution_count": 32,
   "id": "f573deb2",
   "metadata": {},
   "outputs": [
    {
     "data": {
      "text/plain": [
       "'ioa'"
      ]
     },
     "execution_count": 32,
     "metadata": {},
     "output_type": "execute_result"
    }
   ],
   "source": [
    "string1='hai how are you'\n",
    "string1[2:10:3]\n",
    "# start=2\n",
    "# dir=+ step=3\n",
    "# stop=10-1=9\n",
    "# 2 5 8"
   ]
  },
  {
   "cell_type": "code",
   "execution_count": 34,
   "id": "4c0a706a",
   "metadata": {},
   "outputs": [
    {
     "data": {
      "text/plain": [
       "'hai how are you'"
      ]
     },
     "execution_count": 34,
     "metadata": {},
     "output_type": "execute_result"
    }
   ],
   "source": [
    "string1[:]\n",
    "\n",
    "# nothing mentioned means take start and last letter"
   ]
  },
  {
   "cell_type": "code",
   "execution_count": 35,
   "id": "74c44244",
   "metadata": {},
   "outputs": [
    {
     "data": {
      "text/plain": [
       "'hai how are you'"
      ]
     },
     "execution_count": 35,
     "metadata": {},
     "output_type": "execute_result"
    }
   ],
   "source": [
    "string1[::]\n",
    "# start=0\n",
    "# stop= Last Letter len(string1)\n",
    "# step= +1"
   ]
  },
  {
   "cell_type": "code",
   "execution_count": 37,
   "id": "992a3b0c",
   "metadata": {},
   "outputs": [
    {
     "data": {
      "text/plain": [
       "''"
      ]
     },
     "execution_count": 37,
     "metadata": {},
     "output_type": "execute_result"
    }
   ],
   "source": [
    "string1[2:10:-3]"
   ]
  },
  {
   "cell_type": "code",
   "execution_count": 40,
   "id": "2f7d2656",
   "metadata": {},
   "outputs": [],
   "source": [
    "for i in range (2,10,-3):\n",
    "    print(i)"
   ]
  },
  {
   "cell_type": "code",
   "execution_count": null,
   "id": "2614c0b9",
   "metadata": {},
   "outputs": [],
   "source": [
    "-15 -14 -13 -12 -11 -10 -9  -8  -7 -6 -5 -4 -3  -2  -1 \n",
    "h   a    i       h   o   w      a   r  e     y   o   u\n",
    "0   1    2    3  4   5   6   7  8   9  10 11 12  13  14"
   ]
  },
  {
   "cell_type": "code",
   "execution_count": 41,
   "id": "576073ec",
   "metadata": {},
   "outputs": [
    {
     "data": {
      "text/plain": [
       "'ihwaey'"
      ]
     },
     "execution_count": 41,
     "metadata": {},
     "output_type": "execute_result"
    }
   ],
   "source": [
    "string1[2:14:2]"
   ]
  },
  {
   "cell_type": "code",
   "execution_count": 43,
   "id": "532bd044",
   "metadata": {},
   "outputs": [
    {
     "name": "stdout",
     "output_type": "stream",
     "text": [
      "2 0 -2 -4 -6 -8 -10 -12 "
     ]
    }
   ],
   "source": [
    "for i in range(2,-14,-2):\n",
    "    print(i,end=' ')"
   ]
  },
  {
   "cell_type": "code",
   "execution_count": 44,
   "id": "a64b3e17",
   "metadata": {},
   "outputs": [
    {
     "data": {
      "text/plain": [
       "'i'"
      ]
     },
     "execution_count": 44,
     "metadata": {},
     "output_type": "execute_result"
    }
   ],
   "source": [
    "string1[2:-14:-2]"
   ]
  },
  {
   "cell_type": "markdown",
   "id": "aea6f554",
   "metadata": {},
   "source": [
    "**strings methods**"
   ]
  },
  {
   "cell_type": "code",
   "execution_count": null,
   "id": "7334e54d",
   "metadata": {},
   "outputs": [],
   "source": [
    "import <package_name>\n",
    "dir(<package_name>)\n",
    "help(<package_name>.<method_name>)"
   ]
  },
  {
   "cell_type": "code",
   "execution_count": 46,
   "id": "ffe1039b",
   "metadata": {},
   "outputs": [
    {
     "data": {
      "text/plain": [
       "['__add__',\n",
       " '__class__',\n",
       " '__contains__',\n",
       " '__delattr__',\n",
       " '__dir__',\n",
       " '__doc__',\n",
       " '__eq__',\n",
       " '__format__',\n",
       " '__ge__',\n",
       " '__getattribute__',\n",
       " '__getitem__',\n",
       " '__getnewargs__',\n",
       " '__gt__',\n",
       " '__hash__',\n",
       " '__init__',\n",
       " '__init_subclass__',\n",
       " '__iter__',\n",
       " '__le__',\n",
       " '__len__',\n",
       " '__lt__',\n",
       " '__mod__',\n",
       " '__mul__',\n",
       " '__ne__',\n",
       " '__new__',\n",
       " '__reduce__',\n",
       " '__reduce_ex__',\n",
       " '__repr__',\n",
       " '__rmod__',\n",
       " '__rmul__',\n",
       " '__setattr__',\n",
       " '__sizeof__',\n",
       " '__str__',\n",
       " '__subclasshook__',\n",
       " 'capitalize',\n",
       " 'casefold',\n",
       " 'center',\n",
       " 'count',\n",
       " 'encode',\n",
       " 'endswith',\n",
       " 'expandtabs',\n",
       " 'find',\n",
       " 'format',\n",
       " 'format_map',\n",
       " 'index',\n",
       " 'isalnum',\n",
       " 'isalpha',\n",
       " 'isascii',\n",
       " 'isdecimal',\n",
       " 'isdigit',\n",
       " 'isidentifier',\n",
       " 'islower',\n",
       " 'isnumeric',\n",
       " 'isprintable',\n",
       " 'isspace',\n",
       " 'istitle',\n",
       " 'isupper',\n",
       " 'join',\n",
       " 'ljust',\n",
       " 'lower',\n",
       " 'lstrip',\n",
       " 'maketrans',\n",
       " 'partition',\n",
       " 'removeprefix',\n",
       " 'removesuffix',\n",
       " 'replace',\n",
       " 'rfind',\n",
       " 'rindex',\n",
       " 'rjust',\n",
       " 'rpartition',\n",
       " 'rsplit',\n",
       " 'rstrip',\n",
       " 'split',\n",
       " 'splitlines',\n",
       " 'startswith',\n",
       " 'strip',\n",
       " 'swapcase',\n",
       " 'title',\n",
       " 'translate',\n",
       " 'upper',\n",
       " 'zfill']"
      ]
     },
     "execution_count": 46,
     "metadata": {},
     "output_type": "execute_result"
    }
   ],
   "source": [
    "dir('')"
   ]
  },
  {
   "cell_type": "markdown",
   "id": "bda0a830",
   "metadata": {},
   "source": [
    "$capitalize$"
   ]
  },
  {
   "cell_type": "code",
   "execution_count": 50,
   "id": "c06d8390",
   "metadata": {},
   "outputs": [
    {
     "name": "stdout",
     "output_type": "stream",
     "text": [
      "Help on built-in function capitalize:\n",
      "\n",
      "capitalize() method of builtins.str instance\n",
      "    Return a capitalized version of the string.\n",
      "    \n",
      "    More specifically, make the first character have upper case and the rest lower\n",
      "    case.\n",
      "\n"
     ]
    }
   ],
   "source": [
    "string1='welcome'\n",
    "help(string1.capitalize)"
   ]
  },
  {
   "cell_type": "code",
   "execution_count": 51,
   "id": "bcf4dbfb",
   "metadata": {},
   "outputs": [
    {
     "data": {
      "text/plain": [
       "'Welcome'"
      ]
     },
     "execution_count": 51,
     "metadata": {},
     "output_type": "execute_result"
    }
   ],
   "source": [
    "string1='welcome'\n",
    "string1.capitalize()"
   ]
  },
  {
   "cell_type": "markdown",
   "id": "f985f81a",
   "metadata": {},
   "source": [
    "$upper$"
   ]
  },
  {
   "cell_type": "code",
   "execution_count": 54,
   "id": "7d41187d",
   "metadata": {},
   "outputs": [
    {
     "data": {
      "text/plain": [
       "'WELCOME'"
      ]
     },
     "execution_count": 54,
     "metadata": {},
     "output_type": "execute_result"
    }
   ],
   "source": [
    "string1.upper()"
   ]
  },
  {
   "cell_type": "code",
   "execution_count": 55,
   "id": "13eaf9ea",
   "metadata": {},
   "outputs": [
    {
     "data": {
      "text/plain": [
       "'welcome'"
      ]
     },
     "execution_count": 55,
     "metadata": {},
     "output_type": "execute_result"
    }
   ],
   "source": [
    "string1.lower()"
   ]
  },
  {
   "cell_type": "code",
   "execution_count": 57,
   "id": "1944b320",
   "metadata": {},
   "outputs": [],
   "source": [
    "string1='hai how are you'\n",
    "# how many 'a' s are there"
   ]
  },
  {
   "cell_type": "code",
   "execution_count": 58,
   "id": "7034fc38",
   "metadata": {},
   "outputs": [
    {
     "data": {
      "text/plain": [
       "2"
      ]
     },
     "execution_count": 58,
     "metadata": {},
     "output_type": "execute_result"
    }
   ],
   "source": [
    "string1.count('a')"
   ]
  },
  {
   "cell_type": "code",
   "execution_count": null,
   "id": "32608ed1",
   "metadata": {},
   "outputs": [],
   "source": [
    "count=0\n",
    "for i in string1:\n",
    "    if i==a:\n",
    "        count=count+1"
   ]
  },
  {
   "cell_type": "code",
   "execution_count": 59,
   "id": "68bd2243",
   "metadata": {},
   "outputs": [],
   "source": [
    "string1='welcome'\n",
    "# output: 'welcome'\n",
    "# idea:\n",
    "# str1=we\n",
    "# str2=come\n",
    "# index\n",
    "# slice\n",
    "# concatenation= str1+'L'+str2"
   ]
  },
  {
   "cell_type": "code",
   "execution_count": null,
   "id": "bcd2e16c",
   "metadata": {},
   "outputs": [],
   "source": [
    "string1='welcome'\n",
    "string1[:2]\n",
    "string1[3:]\n",
    "str1+'L'+str2"
   ]
  }
 ],
 "metadata": {
  "kernelspec": {
   "display_name": "Python 3 (ipykernel)",
   "language": "python",
   "name": "python3"
  },
  "language_info": {
   "codemirror_mode": {
    "name": "ipython",
    "version": 3
   },
   "file_extension": ".py",
   "mimetype": "text/x-python",
   "name": "python",
   "nbconvert_exporter": "python",
   "pygments_lexer": "ipython3",
   "version": "3.9.12"
  }
 },
 "nbformat": 4,
 "nbformat_minor": 5
}
