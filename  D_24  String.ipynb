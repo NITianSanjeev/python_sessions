{
 "cells": [
  {
   "cell_type": "markdown",
   "id": "569ba4e9",
   "metadata": {},
   "source": [
    "how to read the python"
   ]
  },
  {
   "cell_type": "code",
   "execution_count": 1,
   "id": "0a419cd7",
   "metadata": {},
   "outputs": [
    {
     "data": {
      "text/plain": [
       "'python'"
      ]
     },
     "execution_count": 1,
     "metadata": {},
     "output_type": "execute_result"
    }
   ],
   "source": [
    "string1='python' \n",
    "string1"
   ]
  },
  {
   "cell_type": "code",
   "execution_count": 2,
   "id": "43455181",
   "metadata": {},
   "outputs": [
    {
     "data": {
      "text/plain": [
       "'python'"
      ]
     },
     "execution_count": 2,
     "metadata": {},
     "output_type": "execute_result"
    }
   ],
   "source": [
    "string2=\"python\"\n",
    "string2"
   ]
  },
  {
   "cell_type": "code",
   "execution_count": 3,
   "id": "328ba904",
   "metadata": {},
   "outputs": [],
   "source": [
    "#### Triple quotes\n",
    "\n",
    "#Doc string is used to say some information about your python code"
   ]
  },
  {
   "cell_type": "code",
   "execution_count": null,
   "id": "854e22ed",
   "metadata": {},
   "outputs": [],
   "source": [
    "\"\"\"\"\"\"\n",
    "im creating a hello world function\n",
    "arguments: None\n",
    "return: None\n",
    "\"\"\"\n",
    "def hello():\n",
    "    print(\"good morning\")\n"
   ]
  },
  {
   "cell_type": "code",
   "execution_count": null,
   "id": "e12d9f77",
   "metadata": {},
   "outputs": [],
   "source": [
    "'hello python' # I want highlite python"
   ]
  },
  {
   "cell_type": "code",
   "execution_count": 4,
   "id": "d7f10859",
   "metadata": {},
   "outputs": [
    {
     "name": "stdout",
     "output_type": "stream",
     "text": [
      "hello \"python\"\n"
     ]
    }
   ],
   "source": [
    "string3='hello \"python\"'\n",
    "print(string3)"
   ]
  },
  {
   "cell_type": "code",
   "execution_count": 5,
   "id": "007fa0f9",
   "metadata": {},
   "outputs": [
    {
     "name": "stdout",
     "output_type": "stream",
     "text": [
      "hello 'python'\n"
     ]
    }
   ],
   "source": [
    "string4=\"hello 'python'\"\n",
    "print(string4)"
   ]
  },
  {
   "cell_type": "markdown",
   "id": "ad4b1473",
   "metadata": {},
   "source": [
    "- type \n",
    "- len\n",
    "- max \n",
    "- min"
   ]
  },
  {
   "cell_type": "markdown",
   "id": "fd1e969a",
   "metadata": {},
   "source": [
    "type:"
   ]
  },
  {
   "cell_type": "code",
   "execution_count": 6,
   "id": "e4a74517",
   "metadata": {},
   "outputs": [
    {
     "data": {
      "text/plain": [
       "'python'"
      ]
     },
     "execution_count": 6,
     "metadata": {},
     "output_type": "execute_result"
    }
   ],
   "source": [
    "string1"
   ]
  },
  {
   "cell_type": "code",
   "execution_count": 7,
   "id": "cda12149",
   "metadata": {},
   "outputs": [
    {
     "data": {
      "text/plain": [
       "str"
      ]
     },
     "execution_count": 7,
     "metadata": {},
     "output_type": "execute_result"
    }
   ],
   "source": [
    "type(string1)"
   ]
  },
  {
   "cell_type": "markdown",
   "id": "3448138b",
   "metadata": {},
   "source": [
    "len:"
   ]
  },
  {
   "cell_type": "code",
   "execution_count": 8,
   "id": "54150fd4",
   "metadata": {},
   "outputs": [
    {
     "data": {
      "text/plain": [
       "6"
      ]
     },
     "execution_count": 8,
     "metadata": {},
     "output_type": "execute_result"
    }
   ],
   "source": [
    "len(string1)"
   ]
  },
  {
   "cell_type": "markdown",
   "id": "64762fcf",
   "metadata": {},
   "source": [
    "$max$-$min$\n"
   ]
  },
  {
   "cell_type": "code",
   "execution_count": 9,
   "id": "647e6443",
   "metadata": {},
   "outputs": [
    {
     "data": {
      "text/plain": [
       "'p'"
      ]
     },
     "execution_count": 9,
     "metadata": {},
     "output_type": "execute_result"
    }
   ],
   "source": [
    "string1='pP'\n",
    "max(string1)     # ASCII\n",
    "                 # 'A': 65       'a':97"
   ]
  },
  {
   "cell_type": "markdown",
   "id": "6a033121",
   "metadata": {},
   "source": [
    "$ord$-$chr$\n"
   ]
  },
  {
   "cell_type": "code",
   "execution_count": 10,
   "id": "c34e5491",
   "metadata": {},
   "outputs": [
    {
     "data": {
      "text/plain": [
       "112"
      ]
     },
     "execution_count": 10,
     "metadata": {},
     "output_type": "execute_result"
    }
   ],
   "source": [
    "ord('p') # It will provide ascii value of char"
   ]
  },
  {
   "cell_type": "code",
   "execution_count": 11,
   "id": "0e822c02",
   "metadata": {},
   "outputs": [
    {
     "data": {
      "text/plain": [
       "80"
      ]
     },
     "execution_count": 11,
     "metadata": {},
     "output_type": "execute_result"
    }
   ],
   "source": [
    "ord('P')"
   ]
  },
  {
   "cell_type": "code",
   "execution_count": 12,
   "id": "1d0eedcb",
   "metadata": {},
   "outputs": [
    {
     "data": {
      "text/plain": [
       "('y', 'h')"
      ]
     },
     "execution_count": 12,
     "metadata": {},
     "output_type": "execute_result"
    }
   ],
   "source": [
    "string1='python'\n",
    "max(string1),min(string1)"
   ]
  },
  {
   "cell_type": "code",
   "execution_count": 13,
   "id": "c357c284",
   "metadata": {},
   "outputs": [
    {
     "data": {
      "text/plain": [
       "(112, 121, 116, 104, 111, 110)"
      ]
     },
     "execution_count": 13,
     "metadata": {},
     "output_type": "execute_result"
    }
   ],
   "source": [
    "ord('p'),ord('y'),ord('t'),ord('h'),ord('o'),ord('n')"
   ]
  },
  {
   "cell_type": "code",
   "execution_count": 14,
   "id": "f4e435de",
   "metadata": {},
   "outputs": [
    {
     "data": {
      "text/plain": [
       "('p', 'y', 't', 'h', 'o', 'n')"
      ]
     },
     "execution_count": 14,
     "metadata": {},
     "output_type": "execute_result"
    }
   ],
   "source": [
    "chr(112),chr(121),chr(116),chr(104),chr(111),chr(110)"
   ]
  },
  {
   "cell_type": "code",
   "execution_count": 15,
   "id": "4f0cb42b",
   "metadata": {},
   "outputs": [
    {
     "name": "stdout",
     "output_type": "stream",
     "text": [
      "0\n",
      "1\n",
      "2\n",
      "3\n",
      "4\n",
      "5\n"
     ]
    }
   ],
   "source": [
    "for i in range(len('python')):# range ====math\n",
    "    print(i)\n"
   ]
  },
  {
   "cell_type": "code",
   "execution_count": 16,
   "id": "895a4c8c",
   "metadata": {},
   "outputs": [],
   "source": [
    "# I want print p y t h o n"
   ]
  },
  {
   "cell_type": "markdown",
   "id": "c2932d97",
   "metadata": {},
   "source": [
    "in"
   ]
  },
  {
   "cell_type": "code",
   "execution_count": 17,
   "id": "4872ff98",
   "metadata": {},
   "outputs": [
    {
     "data": {
      "text/plain": [
       "True"
      ]
     },
     "execution_count": 17,
     "metadata": {},
     "output_type": "execute_result"
    }
   ],
   "source": [
    "string1='python'\n",
    "\n",
    "'p' in string1\n",
    "'y' in string1\n",
    "'t' in string1\n",
    "'h' in string1\n",
    "'o' in string1\n",
    "'n' in string1"
   ]
  },
  {
   "cell_type": "code",
   "execution_count": 18,
   "id": "4fe2c399",
   "metadata": {},
   "outputs": [
    {
     "name": "stdout",
     "output_type": "stream",
     "text": [
      "p\n",
      "y\n",
      "t\n",
      "h\n",
      "o\n",
      "n\n"
     ]
    }
   ],
   "source": [
    "for i in string1:\n",
    "    print(i)"
   ]
  },
  {
   "cell_type": "markdown",
   "id": "bd6e29d1",
   "metadata": {},
   "source": [
    "- range() : you need to provide number inside the range\n",
    "- in : is use only for string"
   ]
  },
  {
   "cell_type": "markdown",
   "id": "7a674f8b",
   "metadata": {},
   "source": [
    "- if you print the letters using the loop go for in operator"
   ]
  },
  {
   "cell_type": "code",
   "execution_count": 19,
   "id": "5cbe0498",
   "metadata": {},
   "outputs": [
    {
     "name": "stdout",
     "output_type": "stream",
     "text": [
      "112\n",
      "121\n",
      "116\n",
      "104\n",
      "111\n",
      "110\n",
      "110\n"
     ]
    }
   ],
   "source": [
    "print(ord('p'))\n",
    "print(ord('y'))\n",
    "print(ord('t'))\n",
    "print(ord('h'))\n",
    "print(ord('o'))\n",
    "print(ord('n'))\n",
    "\n",
    "print(ord(i))"
   ]
  },
  {
   "cell_type": "code",
   "execution_count": 20,
   "id": "b9eec5ff",
   "metadata": {},
   "outputs": [
    {
     "name": "stdout",
     "output_type": "stream",
     "text": [
      "the ascii value of p is 112\n",
      "the ascii value of y is 121\n",
      "the ascii value of t is 116\n",
      "the ascii value of h is 104\n",
      "the ascii value of o is 111\n",
      "the ascii value of n is 110\n"
     ]
    }
   ],
   "source": [
    "for i in string1:\n",
    "    print(\"the ascii value of {} is {}\".format(i,ord(i)))"
   ]
  },
  {
   "cell_type": "code",
   "execution_count": 21,
   "id": "01a12ac3",
   "metadata": {},
   "outputs": [
    {
     "name": "stdout",
     "output_type": "stream",
     "text": [
      "the ascii value of A is 65\n",
      "the ascii value of B is 66\n",
      "the ascii value of C is 67\n",
      "the ascii value of D is 68\n",
      "the ascii value of E is 69\n",
      "the ascii value of F is 70\n",
      "the ascii value of G is 71\n",
      "the ascii value of H is 72\n",
      "the ascii value of I is 73\n",
      "the ascii value of J is 74\n",
      "the ascii value of K is 75\n",
      "the ascii value of L is 76\n",
      "the ascii value of M is 77\n",
      "the ascii value of N is 78\n",
      "the ascii value of O is 79\n",
      "the ascii value of P is 80\n",
      "the ascii value of Q is 81\n",
      "the ascii value of R is 82\n",
      "the ascii value of S is 83\n",
      "the ascii value of T is 84\n",
      "the ascii value of W is 87\n",
      "the ascii value of X is 88\n",
      "the ascii value of Y is 89\n",
      "the ascii value of Z is 90\n"
     ]
    }
   ],
   "source": [
    "for i in 'ABCDEFGHIJKLMNOPQRSTWXYZ':\n",
    "    print(\"the ascii value of {} is {}\".format(i,ord(i)))"
   ]
  },
  {
   "cell_type": "code",
   "execution_count": 22,
   "id": "eeb1cd8d",
   "metadata": {},
   "outputs": [],
   "source": [
    "# package_name: string\n",
    "import string"
   ]
  },
  {
   "cell_type": "code",
   "execution_count": 23,
   "id": "2d559f5f",
   "metadata": {},
   "outputs": [
    {
     "data": {
      "text/plain": [
       "['Formatter',\n",
       " 'Template',\n",
       " '_ChainMap',\n",
       " '__all__',\n",
       " '__builtins__',\n",
       " '__cached__',\n",
       " '__doc__',\n",
       " '__file__',\n",
       " '__loader__',\n",
       " '__name__',\n",
       " '__package__',\n",
       " '__spec__',\n",
       " '_re',\n",
       " '_sentinel_dict',\n",
       " '_string',\n",
       " 'ascii_letters',\n",
       " 'ascii_lowercase',\n",
       " 'ascii_uppercase',\n",
       " 'capwords',\n",
       " 'digits',\n",
       " 'hexdigits',\n",
       " 'octdigits',\n",
       " 'printable',\n",
       " 'punctuation',\n",
       " 'whitespace']"
      ]
     },
     "execution_count": 23,
     "metadata": {},
     "output_type": "execute_result"
    }
   ],
   "source": [
    "dir(string)"
   ]
  },
  {
   "cell_type": "code",
   "execution_count": 24,
   "id": "a8e4c80f",
   "metadata": {},
   "outputs": [
    {
     "data": {
      "text/plain": [
       "'ABCDEFGHIJKLMNOPQRSTUVWXYZ'"
      ]
     },
     "execution_count": 24,
     "metadata": {},
     "output_type": "execute_result"
    }
   ],
   "source": [
    "# see the output of : ascii_uppercase\n",
    "string.ascii_uppercase"
   ]
  },
  {
   "cell_type": "code",
   "execution_count": 25,
   "id": "5e08271d",
   "metadata": {},
   "outputs": [
    {
     "name": "stdout",
     "output_type": "stream",
     "text": [
      "the ascii value of A is 65\n",
      "the ascii value of B is 66\n",
      "the ascii value of C is 67\n",
      "the ascii value of D is 68\n",
      "the ascii value of E is 69\n",
      "the ascii value of F is 70\n",
      "the ascii value of G is 71\n",
      "the ascii value of H is 72\n",
      "the ascii value of I is 73\n",
      "the ascii value of J is 74\n",
      "the ascii value of K is 75\n",
      "the ascii value of L is 76\n",
      "the ascii value of M is 77\n",
      "the ascii value of N is 78\n",
      "the ascii value of O is 79\n",
      "the ascii value of P is 80\n",
      "the ascii value of Q is 81\n",
      "the ascii value of R is 82\n",
      "the ascii value of S is 83\n",
      "the ascii value of T is 84\n",
      "the ascii value of U is 85\n",
      "the ascii value of V is 86\n",
      "the ascii value of W is 87\n",
      "the ascii value of X is 88\n",
      "the ascii value of Y is 89\n",
      "the ascii value of Z is 90\n"
     ]
    }
   ],
   "source": [
    "for i in string.ascii_uppercase:\n",
    "    print(\"the ascii value of {} is {}\".format(i,ord(i)))"
   ]
  },
  {
   "cell_type": "code",
   "execution_count": 26,
   "id": "e7d95653",
   "metadata": {},
   "outputs": [
    {
     "name": "stdout",
     "output_type": "stream",
     "text": [
      "the ascii value of a is 97\n",
      "the ascii value of b is 98\n",
      "the ascii value of c is 99\n",
      "the ascii value of d is 100\n",
      "the ascii value of e is 101\n",
      "the ascii value of f is 102\n",
      "the ascii value of g is 103\n",
      "the ascii value of h is 104\n",
      "the ascii value of i is 105\n",
      "the ascii value of j is 106\n",
      "the ascii value of k is 107\n",
      "the ascii value of l is 108\n",
      "the ascii value of m is 109\n",
      "the ascii value of n is 110\n",
      "the ascii value of o is 111\n",
      "the ascii value of p is 112\n",
      "the ascii value of q is 113\n",
      "the ascii value of r is 114\n",
      "the ascii value of s is 115\n",
      "the ascii value of t is 116\n",
      "the ascii value of u is 117\n",
      "the ascii value of v is 118\n",
      "the ascii value of w is 119\n",
      "the ascii value of x is 120\n",
      "the ascii value of y is 121\n",
      "the ascii value of z is 122\n"
     ]
    }
   ],
   "source": [
    "for i in string.ascii_lowercase:\n",
    "    print(\"the ascii value of {} is {}\".format(i,ord(i)))"
   ]
  },
  {
   "cell_type": "code",
   "execution_count": 27,
   "id": "b23c8258",
   "metadata": {},
   "outputs": [
    {
     "name": "stdout",
     "output_type": "stream",
     "text": [
      "the ascii value of ! is 33\n",
      "the ascii value of \" is 34\n",
      "the ascii value of # is 35\n",
      "the ascii value of $ is 36\n",
      "the ascii value of % is 37\n",
      "the ascii value of & is 38\n",
      "the ascii value of ' is 39\n",
      "the ascii value of ( is 40\n",
      "the ascii value of ) is 41\n",
      "the ascii value of * is 42\n",
      "the ascii value of + is 43\n",
      "the ascii value of , is 44\n",
      "the ascii value of - is 45\n",
      "the ascii value of . is 46\n",
      "the ascii value of / is 47\n",
      "the ascii value of : is 58\n",
      "the ascii value of ; is 59\n",
      "the ascii value of < is 60\n",
      "the ascii value of = is 61\n",
      "the ascii value of > is 62\n",
      "the ascii value of ? is 63\n",
      "the ascii value of @ is 64\n",
      "the ascii value of [ is 91\n",
      "the ascii value of \\ is 92\n",
      "the ascii value of ] is 93\n",
      "the ascii value of ^ is 94\n",
      "the ascii value of _ is 95\n",
      "the ascii value of ` is 96\n",
      "the ascii value of { is 123\n",
      "the ascii value of | is 124\n",
      "the ascii value of } is 125\n",
      "the ascii value of ~ is 126\n"
     ]
    }
   ],
   "source": [
    "for i in string.punctuation:\n",
    "    print(\"the ascii value of {} is {}\".format(i,ord(i)))"
   ]
  },
  {
   "cell_type": "code",
   "execution_count": 28,
   "id": "c51a753b",
   "metadata": {},
   "outputs": [
    {
     "name": "stdout",
     "output_type": "stream",
     "text": [
      "\u0001\n",
      "\u0002\n",
      "\u0003\n",
      "\u0004\n",
      "\u0005\n",
      "\u0006\n",
      "\u0007\n",
      "\b\n",
      "\t\n",
      "\n",
      "\n",
      "\u000b",
      "\n",
      "\f",
      "\n",
      "\r\n",
      "\u000e\n",
      "\u000f\n",
      "\u0010\n",
      "\u0011\n",
      "\u0012\n",
      "\u0013\n",
      "\u0014\n",
      "\u0015\n",
      "\u0016\n",
      "\u0017\n",
      "\u0018\n",
      "\u0019\n",
      "\u001a\n",
      "\u001b\n",
      "\u001c",
      "\n",
      "\u001d",
      "\n",
      "\u001e",
      "\n",
      "\u001f\n",
      " \n",
      "!\n",
      "\"\n",
      "#\n",
      "$\n",
      "%\n",
      "&\n",
      "'\n",
      "(\n",
      ")\n",
      "*\n",
      "+\n",
      ",\n",
      "-\n",
      ".\n",
      "/\n",
      "0\n",
      "1\n"
     ]
    }
   ],
   "source": [
    "for i in range(1,50):\n",
    "    print(chr(i))"
   ]
  },
  {
   "cell_type": "code",
   "execution_count": 29,
   "id": "61fa3986",
   "metadata": {},
   "outputs": [
    {
     "name": "stdout",
     "output_type": "stream",
     "text": [
      "33 !\n",
      "34 \"\n",
      "35 #\n",
      "36 $\n",
      "37 %\n",
      "38 &\n",
      "39 '\n",
      "40 (\n",
      "41 )\n",
      "42 *\n",
      "43 +\n",
      "44 ,\n",
      "45 -\n",
      "46 .\n",
      "47 /\n",
      "48 0\n",
      "49 1\n",
      "50 2\n",
      "51 3\n",
      "52 4\n",
      "53 5\n",
      "54 6\n",
      "55 7\n",
      "56 8\n",
      "57 9\n",
      "58 :\n",
      "59 ;\n",
      "60 <\n",
      "61 =\n",
      "62 >\n",
      "63 ?\n",
      "64 @\n",
      "65 A\n",
      "66 B\n",
      "67 C\n",
      "68 D\n",
      "69 E\n",
      "70 F\n",
      "71 G\n",
      "72 H\n",
      "73 I\n",
      "74 J\n",
      "75 K\n",
      "76 L\n",
      "77 M\n",
      "78 N\n",
      "79 O\n",
      "80 P\n",
      "81 Q\n",
      "82 R\n",
      "83 S\n",
      "84 T\n",
      "85 U\n",
      "86 V\n",
      "87 W\n",
      "88 X\n",
      "89 Y\n",
      "90 Z\n",
      "91 [\n",
      "92 \\\n",
      "93 ]\n",
      "94 ^\n",
      "95 _\n",
      "96 `\n",
      "97 a\n",
      "98 b\n",
      "99 c\n",
      "100 d\n",
      "101 e\n",
      "102 f\n",
      "103 g\n",
      "104 h\n",
      "105 i\n",
      "106 j\n",
      "107 k\n",
      "108 l\n",
      "109 m\n",
      "110 n\n",
      "111 o\n",
      "112 p\n",
      "113 q\n",
      "114 r\n",
      "115 s\n",
      "116 t\n",
      "117 u\n",
      "118 v\n",
      "119 w\n",
      "120 x\n",
      "121 y\n",
      "122 z\n",
      "123 {\n",
      "124 |\n",
      "125 }\n",
      "126 ~\n"
     ]
    }
   ],
   "source": [
    "for i in range(33,127):\n",
    "    print(i,chr(i))\n",
    "    \n",
    "# start with 33\n",
    "# end with 126\n",
    "# ascii:"
   ]
  },
  {
   "cell_type": "code",
   "execution_count": 30,
   "id": "b799682b",
   "metadata": {},
   "outputs": [
    {
     "data": {
      "text/plain": [
       "'0123456789abcdefghijklmnopqrstuvwxyzABCDEFGHIJKLMNOPQRSTUVWXYZ!\"#$%&\\'()*+,-./:;<=>?@[\\\\]^_`{|}~ \\t\\n\\r\\x0b\\x0c'"
      ]
     },
     "execution_count": 30,
     "metadata": {},
     "output_type": "execute_result"
    }
   ],
   "source": [
    "string.printable\n",
    "\n",
    "# digts\n",
    "# Lower\n",
    "# upp\n",
    "# punct"
   ]
  },
  {
   "cell_type": "code",
   "execution_count": 31,
   "id": "0ae75bd3",
   "metadata": {},
   "outputs": [],
   "source": [
    "# WAP ask the user find the number of 'a' Letters in a given string\n",
    "# string='hai how are you and how do you do'\n",
    "# ans:3\n",
    "\n",
    "# count=0\n",
    "# first iterate the string using in and for loop\n",
    "# print each Letter === > i\n",
    "# apply the if condition   i=='a'\n",
    "#                          count+=1"
   ]
  },
  {
   "cell_type": "code",
   "execution_count": 32,
   "id": "8fba3f2f",
   "metadata": {},
   "outputs": [
    {
     "name": "stdout",
     "output_type": "stream",
     "text": [
      "3\n"
     ]
    }
   ],
   "source": [
    "string='hai how are you and how do you do'\n",
    "count=0\n",
    "for i in string:\n",
    "   # print(i)\n",
    "    if i=='a':\n",
    "        count=count+1\n",
    "        \n",
    "print(count)        \n",
    "        "
   ]
  },
  {
   "cell_type": "code",
   "execution_count": 33,
   "id": "d7936445",
   "metadata": {},
   "outputs": [
    {
     "name": "stdout",
     "output_type": "stream",
     "text": [
      "7\n"
     ]
    }
   ],
   "source": [
    "# WAP count the number of vowel in a given string\n",
    "# string='hai how are you'\n",
    "# 7\n",
    "\n",
    "string='hai how are you'\n",
    "count=0\n",
    "for i in string:\n",
    "    if i in 'aeiou':\n",
    "        count=count+1\n",
    "        \n",
    "print(count)        \n"
   ]
  },
  {
   "cell_type": "code",
   "execution_count": 34,
   "id": "5a3b8a56",
   "metadata": {},
   "outputs": [
    {
     "name": "stdout",
     "output_type": "stream",
     "text": [
      "python\n"
     ]
    }
   ],
   "source": [
    "# WAP count the number of unique vowels in given string\n",
    "# and:5\n",
    "\n",
    "string1=''\n",
    "for i in 'python':\n",
    "    string1=string1+i\n",
    "    \n",
    "print(string1)"
   ]
  },
  {
   "cell_type": "code",
   "execution_count": 35,
   "id": "0e22ead3",
   "metadata": {},
   "outputs": [
    {
     "name": "stdout",
     "output_type": "stream",
     "text": [
      "7\n"
     ]
    }
   ],
   "source": [
    "string='hai how are you'\n",
    "str1=''\n",
    "count=0\n",
    "for i in string:\n",
    "    if i in 'aeiou':\n",
    "        count=count+1\n",
    "        \n",
    "print(count)        "
   ]
  },
  {
   "cell_type": "markdown",
   "id": "760a8fb6",
   "metadata": {},
   "source": [
    "# concatenation"
   ]
  },
  {
   "cell_type": "code",
   "execution_count": 36,
   "id": "54f9e222",
   "metadata": {},
   "outputs": [
    {
     "data": {
      "text/plain": [
       "'haihow'"
      ]
     },
     "execution_count": 36,
     "metadata": {},
     "output_type": "execute_result"
    }
   ],
   "source": [
    "str1='hai'\n",
    "str2='how'\n",
    "str1+str2"
   ]
  },
  {
   "cell_type": "code",
   "execution_count": 37,
   "id": "2f354188",
   "metadata": {},
   "outputs": [
    {
     "ename": "TypeError",
     "evalue": "unsupported operand type(s) for -: 'str' and 'str'",
     "output_type": "error",
     "traceback": [
      "\u001b[1;31m---------------------------------------------------------------------------\u001b[0m",
      "\u001b[1;31mTypeError\u001b[0m                                 Traceback (most recent call last)",
      "Input \u001b[1;32mIn [37]\u001b[0m, in \u001b[0;36m<cell line: 1>\u001b[1;34m()\u001b[0m\n\u001b[1;32m----> 1\u001b[0m \u001b[43mstr1\u001b[49m\u001b[38;5;241;43m-\u001b[39;49m\u001b[43mstr2\u001b[49m\n\u001b[0;32m      2\u001b[0m str1\u001b[38;5;241m*\u001b[39mstr2\n\u001b[0;32m      3\u001b[0m str1\u001b[38;5;241m/\u001b[39mstr2\n",
      "\u001b[1;31mTypeError\u001b[0m: unsupported operand type(s) for -: 'str' and 'str'"
     ]
    }
   ],
   "source": [
    "str1-str2\n",
    "str1*str2\n",
    "str1/str2"
   ]
  },
  {
   "cell_type": "code",
   "execution_count": null,
   "id": "11ced267",
   "metadata": {},
   "outputs": [],
   "source": [
    "3*str1"
   ]
  },
  {
   "cell_type": "code",
   "execution_count": null,
   "id": "7e3c102a",
   "metadata": {},
   "outputs": [],
   "source": [
    "str1+str1+str1"
   ]
  },
  {
   "cell_type": "markdown",
   "id": "82babd4b",
   "metadata": {},
   "source": [
    "# index"
   ]
  },
  {
   "cell_type": "code",
   "execution_count": 38,
   "id": "d28cd187",
   "metadata": {},
   "outputs": [],
   "source": [
    "string1='python' # 6 letter\n"
   ]
  },
  {
   "cell_type": "code",
   "execution_count": 43,
   "id": "71005a28",
   "metadata": {},
   "outputs": [
    {
     "ename": "SyntaxError",
     "evalue": "invalid syntax (2024787582.py, line 1)",
     "output_type": "error",
     "traceback": [
      "\u001b[1;36m  Input \u001b[1;32mIn [43]\u001b[1;36m\u001b[0m\n\u001b[1;33m    p  y  t  h  o  n\u001b[0m\n\u001b[1;37m       ^\u001b[0m\n\u001b[1;31mSyntaxError\u001b[0m\u001b[1;31m:\u001b[0m invalid syntax\n"
     ]
    }
   ],
   "source": [
    "p  y  t  h  o  n\n",
    "0  1  2  3  4  5"
   ]
  },
  {
   "cell_type": "code",
   "execution_count": 40,
   "id": "fb1c36f5",
   "metadata": {},
   "outputs": [
    {
     "data": {
      "text/plain": [
       "('p', 'y', 't', 'h', 'o', 'n')"
      ]
     },
     "execution_count": 40,
     "metadata": {},
     "output_type": "execute_result"
    }
   ],
   "source": [
    "string1[0],string1[1],string1[2],string1[3],string1[4],string1[5]"
   ]
  },
  {
   "cell_type": "code",
   "execution_count": 44,
   "id": "608f1e31",
   "metadata": {},
   "outputs": [
    {
     "name": "stdout",
     "output_type": "stream",
     "text": [
      "p\n",
      "y\n",
      "t\n",
      "h\n",
      "o\n"
     ]
    }
   ],
   "source": [
    "for i in range(5):\n",
    "    print(string1[i])\n",
    "    \n",
    "#i=0 ====== string1[0]====='p' \n",
    "#i=1 ====== string1[1]====='y'\n",
    "\n",
    "# i ===== will give index\n",
    "# string[i] ===== Letter\n",
    "    "
   ]
  },
  {
   "cell_type": "code",
   "execution_count": 49,
   "id": "df012fc8",
   "metadata": {},
   "outputs": [
    {
     "name": "stdout",
     "output_type": "stream",
     "text": [
      "p\n",
      "y\n",
      "t\n",
      "h\n",
      "o\n",
      "n\n"
     ]
    }
   ],
   "source": [
    "string1='python'\n",
    "\n",
    "# i want to print Letters using in operator\n",
    "# i want to print Letters using range operator\n",
    "for i in string1:\n",
    "    print(i)\n",
    "    \n",
    "\n"
   ]
  },
  {
   "cell_type": "code",
   "execution_count": 50,
   "id": "d350ac1c",
   "metadata": {},
   "outputs": [
    {
     "name": "stdout",
     "output_type": "stream",
     "text": [
      "0 p\n",
      "1 y\n",
      "2 t\n",
      "3 h\n",
      "4 o\n",
      "5 n\n"
     ]
    }
   ],
   "source": [
    "for i in range(len(string1)):\n",
    "    print(i,string1[i])\n"
   ]
  },
  {
   "cell_type": "code",
   "execution_count": null,
   "id": "a70f61f3",
   "metadata": {},
   "outputs": [],
   "source": []
  }
 ],
 "metadata": {
  "kernelspec": {
   "display_name": "Python 3 (ipykernel)",
   "language": "python",
   "name": "python3"
  },
  "language_info": {
   "codemirror_mode": {
    "name": "ipython",
    "version": 3
   },
   "file_extension": ".py",
   "mimetype": "text/x-python",
   "name": "python",
   "nbconvert_exporter": "python",
   "pygments_lexer": "ipython3",
   "version": "3.9.12"
  }
 },
 "nbformat": 4,
 "nbformat_minor": 5
}
