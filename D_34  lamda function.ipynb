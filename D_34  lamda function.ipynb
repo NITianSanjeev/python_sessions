{
 "cells": [
  {
   "cell_type": "code",
   "execution_count": 4,
   "id": "2c9f32af",
   "metadata": {},
   "outputs": [],
   "source": [
    "# create basic function"
   ]
  },
  {
   "cell_type": "markdown",
   "id": "09abcced",
   "metadata": {},
   "source": [
    "## one arguments"
   ]
  },
  {
   "cell_type": "code",
   "execution_count": 5,
   "id": "bf7086ef",
   "metadata": {},
   "outputs": [
    {
     "data": {
      "text/plain": [
       "30"
      ]
     },
     "execution_count": 5,
     "metadata": {},
     "output_type": "execute_result"
    }
   ],
   "source": [
    "def add(x):\n",
    "    return(x+10)\n",
    "\n",
    "add(20)"
   ]
  },
  {
   "cell_type": "code",
   "execution_count": 8,
   "id": "15b6c75b",
   "metadata": {},
   "outputs": [
    {
     "data": {
      "text/plain": [
       "30"
      ]
     },
     "execution_count": 8,
     "metadata": {},
     "output_type": "execute_result"
    }
   ],
   "source": [
    "def add(x):\n",
    "    summ=x+10\n",
    "    return(summ)\n",
    "\n",
    "add(20)"
   ]
  },
  {
   "cell_type": "code",
   "execution_count": 9,
   "id": "7187005e",
   "metadata": {},
   "outputs": [
    {
     "data": {
      "text/plain": [
       "30"
      ]
     },
     "execution_count": 9,
     "metadata": {},
     "output_type": "execute_result"
    }
   ],
   "source": [
    "def add(x):\n",
    "    return(x+10)\n",
    "\n",
    "add(20)\n",
    "\n",
    "# how many argument are present?  x\n",
    "# what you are returning?   x+10\n",
    "\n",
    "# format: lambda <argument>:<output>"
   ]
  },
  {
   "cell_type": "code",
   "execution_count": 10,
   "id": "4861cae7",
   "metadata": {},
   "outputs": [
    {
     "data": {
      "text/plain": [
       "30"
      ]
     },
     "execution_count": 10,
     "metadata": {},
     "output_type": "execute_result"
    }
   ],
   "source": [
    "add=lambda x:x+10\n",
    "add(20)"
   ]
  },
  {
   "cell_type": "code",
   "execution_count": null,
   "id": "0e56cdd0",
   "metadata": {},
   "outputs": [],
   "source": [
    "def square(x):\n",
    "    return(x*x)"
   ]
  },
  {
   "cell_type": "code",
   "execution_count": 13,
   "id": "ce0da757",
   "metadata": {},
   "outputs": [
    {
     "data": {
      "text/plain": [
       "25"
      ]
     },
     "execution_count": 13,
     "metadata": {},
     "output_type": "execute_result"
    }
   ],
   "source": [
    "square=lambda a:a*a\n",
    "square(5)"
   ]
  },
  {
   "cell_type": "code",
   "execution_count": null,
   "id": "097ffd3d",
   "metadata": {},
   "outputs": [],
   "source": [
    "def cube(x):\n",
    "    return(x*x*x)"
   ]
  },
  {
   "cell_type": "code",
   "execution_count": 15,
   "id": "4839314f",
   "metadata": {},
   "outputs": [
    {
     "data": {
      "text/plain": [
       "27000"
      ]
     },
     "execution_count": 15,
     "metadata": {},
     "output_type": "execute_result"
    }
   ],
   "source": [
    "cube=lambda a:a*a*a\n",
    "cube(30)"
   ]
  },
  {
   "cell_type": "markdown",
   "id": "a4d1824e",
   "metadata": {},
   "source": [
    "## two argument"
   ]
  },
  {
   "cell_type": "code",
   "execution_count": 17,
   "id": "49209360",
   "metadata": {},
   "outputs": [
    {
     "data": {
      "text/plain": [
       "50"
      ]
     },
     "execution_count": 17,
     "metadata": {},
     "output_type": "execute_result"
    }
   ],
   "source": [
    "def add(a,b):\n",
    "    return(a+b)\n",
    "\n",
    "add(20,30)\n",
    "\n",
    "# how many argument are present?  a,b\n",
    "# what you are returning?   a+b\n",
    "\n",
    "# format: lambda <arg1>,<arg2>:<output>"
   ]
  },
  {
   "cell_type": "code",
   "execution_count": 18,
   "id": "abbcfd0e",
   "metadata": {},
   "outputs": [
    {
     "data": {
      "text/plain": [
       "50"
      ]
     },
     "execution_count": 18,
     "metadata": {},
     "output_type": "execute_result"
    }
   ],
   "source": [
    "add=lambda a,b:a+b\n",
    "add(20,30)"
   ]
  },
  {
   "cell_type": "code",
   "execution_count": 20,
   "id": "cc85b0a4",
   "metadata": {},
   "outputs": [
    {
     "data": {
      "text/plain": [
       "5.0"
      ]
     },
     "execution_count": 20,
     "metadata": {},
     "output_type": "execute_result"
    }
   ],
   "source": [
    "# implement average of 3 numbers using lambda\n",
    "avrg=lambda a,b,c:(a+b+c)/3\n",
    "avrg(5,5,5)"
   ]
  },
  {
   "cell_type": "code",
   "execution_count": 22,
   "id": "1ed013cc",
   "metadata": {},
   "outputs": [
    {
     "data": {
      "text/plain": [
       "26.67"
      ]
     },
     "execution_count": 22,
     "metadata": {},
     "output_type": "execute_result"
    }
   ],
   "source": [
    "# implement average make c as default parameter\n",
    "\n",
    "avrg=lambda a,b,c=30:round((a+b+c)/3,2)\n",
    "avrg(20,30)"
   ]
  },
  {
   "cell_type": "markdown",
   "id": "2255cbda",
   "metadata": {},
   "source": [
    "## if-else"
   ]
  },
  {
   "cell_type": "code",
   "execution_count": 26,
   "id": "c53138c3",
   "metadata": {},
   "outputs": [
    {
     "data": {
      "text/plain": [
       "200"
      ]
     },
     "execution_count": 26,
     "metadata": {},
     "output_type": "execute_result"
    }
   ],
   "source": [
    "# create a function for finding greater number bbetween two numbers\n",
    "\n",
    "def greater(n1,n2):\n",
    "        if n1>n2:\n",
    "            return(n1)\n",
    "        else:\n",
    "            return(n2)\n",
    "        \n",
    "greater(100,200)        \n",
    "    "
   ]
  },
  {
   "cell_type": "code",
   "execution_count": 28,
   "id": "2566109f",
   "metadata": {},
   "outputs": [],
   "source": [
    "l1=[]\n",
    "def greater(n1,n2):\n",
    "        if n1>n2:\n",
    "            l1.append(n1)\n",
    "        else:\n",
    "            l1.append(n2)\n",
    "        \n",
    "greater(100,200)        \n",
    "    "
   ]
  },
  {
   "cell_type": "code",
   "execution_count": 29,
   "id": "c857c116",
   "metadata": {},
   "outputs": [
    {
     "data": {
      "text/plain": [
       "[200]"
      ]
     },
     "execution_count": 29,
     "metadata": {},
     "output_type": "execute_result"
    }
   ],
   "source": [
    "l1=[<if_output> <if_condition> else <else_op> <loop>]"
   ]
  },
  {
   "cell_type": "code",
   "execution_count": 30,
   "id": "45f72453",
   "metadata": {},
   "outputs": [],
   "source": [
    "def greater(n1,n2):\n",
    "        if n1>n2:\n",
    "            return(n1)\n",
    "        else:\n",
    "            return(n2)\n",
    "        \n",
    "greater(100,200)  \n",
    "\n",
    "# format: \n",
    "\n",
    "# lambda <arg1>,<arg2>: <if_output> <if_condition> else <else_output>"
   ]
  },
  {
   "cell_type": "code",
   "execution_count": 31,
   "id": "17fa3197",
   "metadata": {},
   "outputs": [
    {
     "data": {
      "text/plain": [
       "8"
      ]
     },
     "execution_count": 31,
     "metadata": {},
     "output_type": "execute_result"
    }
   ],
   "source": [
    "greater=lambda a,b: (a if a>b else b)\n",
    "greater(8,3)"
   ]
  },
  {
   "cell_type": "markdown",
   "id": "9f110a89",
   "metadata": {},
   "source": [
    "- lambad function is nothing but create a function\n",
    "\n",
    "- one argument\n",
    "\n",
    "- multipule arguments\n",
    "\n",
    "- if else condition\n",
    "\n",
    "- if else condition same like list compehension"
   ]
  },
  {
   "cell_type": "code",
   "execution_count": 34,
   "id": "1fbb93e6",
   "metadata": {},
   "outputs": [
    {
     "name": "stdout",
     "output_type": "stream",
     "text": [
      "['Hyd', 'Mumbai', 'Chennai']\n"
     ]
    },
    {
     "data": {
      "text/plain": [
       "['Hyd', 'Mumbai', 'Chennai']"
      ]
     },
     "execution_count": 34,
     "metadata": {},
     "output_type": "execute_result"
    }
   ],
   "source": [
    "list1=['hyd','mumbai','chennai']\n",
    "\n",
    "# output: ['Hyd','Mumbai','chennai']\n",
    "\n",
    "# M-1: use append method\n",
    "\n",
    "list2=[]\n",
    "for i in list1:\n",
    "    list2.append(i.capitalize())\n",
    "    \n",
    "print(list2)    \n",
    "\n",
    "# M-2: use list comprhension\n",
    "\n",
    "[i.capitalize() for i in list1]\n",
    "\n",
    "# M-3 make a lambda function"
   ]
  },
  {
   "cell_type": "code",
   "execution_count": null,
   "id": "36c36965",
   "metadata": {},
   "outputs": [],
   "source": [
    "lambda <arguments>: <output>,<iterator>"
   ]
  },
  {
   "cell_type": "code",
   "execution_count": 36,
   "id": "6868ee31",
   "metadata": {},
   "outputs": [],
   "source": [
    "# Whenever you use iterations\n",
    "\n",
    "# iteration: somthing can be iterbale/ you can print using for loop\n",
    "\n",
    "# list , string , tuple , dictionary\n",
    "\n"
   ]
  },
  {
   "cell_type": "code",
   "execution_count": null,
   "id": "3a437a00",
   "metadata": {},
   "outputs": [],
   "source": [
    "lambda <arguments>: <output>,<iterator>\n",
    "\n",
    "[i.capitalize() for i in list1]\n"
   ]
  },
  {
   "cell_type": "code",
   "execution_count": 38,
   "id": "e36d5eff",
   "metadata": {},
   "outputs": [
    {
     "data": {
      "text/plain": [
       "(<function __main__.<lambda>(i)>, ['hyd', 'mumbai', 'chennai'])"
      ]
     },
     "execution_count": 38,
     "metadata": {},
     "output_type": "execute_result"
    }
   ],
   "source": [
    "list1=['hyd','mumbai','chennai']\n",
    "lambda i:i.capitalize(),list1"
   ]
  },
  {
   "cell_type": "code",
   "execution_count": null,
   "id": "ad5854c0",
   "metadata": {},
   "outputs": [],
   "source": [
    "lambda <arg>:<output>"
   ]
  },
  {
   "cell_type": "code",
   "execution_count": null,
   "id": "25331e84",
   "metadata": {},
   "outputs": [],
   "source": [
    "- next thing is map input and output"
   ]
  },
  {
   "cell_type": "code",
   "execution_count": 39,
   "id": "ed748bd5",
   "metadata": {},
   "outputs": [
    {
     "data": {
      "text/plain": [
       "<map at 0x196cd9fc160>"
      ]
     },
     "execution_count": 39,
     "metadata": {},
     "output_type": "execute_result"
    }
   ],
   "source": [
    "list1=['hyd','mumbai','chennai']\n",
    "map(lambda i:i.capitalize(),list1)"
   ]
  },
  {
   "cell_type": "code",
   "execution_count": null,
   "id": "ba8b3c53",
   "metadata": {},
   "outputs": [],
   "source": [
    "- store the output"
   ]
  },
  {
   "cell_type": "code",
   "execution_count": 40,
   "id": "39938ff9",
   "metadata": {},
   "outputs": [
    {
     "data": {
      "text/plain": [
       "['Hyd', 'Mumbai', 'Chennai']"
      ]
     },
     "execution_count": 40,
     "metadata": {},
     "output_type": "execute_result"
    }
   ],
   "source": [
    "list(map(lambda i:i.capitalize(),list1))"
   ]
  },
  {
   "cell_type": "markdown",
   "id": "0d3cf693",
   "metadata": {},
   "source": [
    "- first make a lambda function\n",
    "\n",
    "- second add your iterator\n",
    "\n",
    "- map both function and iterator\n",
    "\n",
    "- save the result in a list"
   ]
  },
  {
   "cell_type": "code",
   "execution_count": 41,
   "id": "a90ac188",
   "metadata": {},
   "outputs": [
    {
     "data": {
      "text/plain": [
       "['Hyd', 'Mumbai', 'Chennai']"
      ]
     },
     "execution_count": 41,
     "metadata": {},
     "output_type": "execute_result"
    }
   ],
   "source": [
    "list1=['hyd','mumbai','chennai']\n",
    "lambda i:i.capitalize(),list1\n",
    "map(lambda i:i.capitalize(),list1)\n",
    "list(map(lambda i:i.capitalize(),list1))"
   ]
  },
  {
   "cell_type": "code",
   "execution_count": 42,
   "id": "018a3d37",
   "metadata": {},
   "outputs": [
    {
     "data": {
      "text/plain": [
       "(<function __main__.<lambda>(i)>, [1, 2, 3, 4, 5])"
      ]
     },
     "execution_count": 42,
     "metadata": {},
     "output_type": "execute_result"
    }
   ],
   "source": [
    "list1=[1,2,3,4,5]\n",
    "# [1,4,9,16,25]\n",
    "lambda i:i*i,list1"
   ]
  },
  {
   "cell_type": "code",
   "execution_count": 44,
   "id": "60ceca8a",
   "metadata": {},
   "outputs": [
    {
     "data": {
      "text/plain": [
       "[1, 4, 9, 16, 25]"
      ]
     },
     "execution_count": 44,
     "metadata": {},
     "output_type": "execute_result"
    }
   ],
   "source": [
    "list(map(lambda i:i*i,list1))"
   ]
  },
  {
   "cell_type": "code",
   "execution_count": 45,
   "id": "e43b39be",
   "metadata": {},
   "outputs": [
    {
     "name": "stdout",
     "output_type": "stream",
     "text": [
      "12\n",
      "24\n",
      "36\n"
     ]
    }
   ],
   "source": [
    "list1=[1,2,3]\n",
    "list2=[11,22,33]\n",
    "\n",
    "# [12,24,36]\n",
    "\n",
    "for i,j in zip(list1,list2):\n",
    "    print(i+j)"
   ]
  },
  {
   "cell_type": "code",
   "execution_count": 46,
   "id": "74461812",
   "metadata": {},
   "outputs": [
    {
     "data": {
      "text/plain": [
       "[12, 24, 36]"
      ]
     },
     "execution_count": 46,
     "metadata": {},
     "output_type": "execute_result"
    }
   ],
   "source": [
    "list(map(lambda i,j:i+j,list1,list2))"
   ]
  },
  {
   "cell_type": "code",
   "execution_count": 47,
   "id": "4daea5b9",
   "metadata": {},
   "outputs": [
    {
     "name": "stdout",
     "output_type": "stream",
     "text": [
      "['h#d', 'mum#bai']\n"
     ]
    }
   ],
   "source": [
    "list1=['h#d','mum#bai','chennai']\n",
    "#['h#d','mum#bai']\n",
    "list2=[]\n",
    "for i in list1:\n",
    "    if '#' in i:\n",
    "        list2.append(i)\n",
    "print(list2)        "
   ]
  },
  {
   "cell_type": "code",
   "execution_count": 49,
   "id": "76a475c9",
   "metadata": {},
   "outputs": [
    {
     "data": {
      "text/plain": [
       "['h#d', 'mum#bai']"
      ]
     },
     "execution_count": 49,
     "metadata": {},
     "output_type": "execute_result"
    }
   ],
   "source": [
    " [i for i in list1 if '#' in i]"
   ]
  },
  {
   "cell_type": "code",
   "execution_count": null,
   "id": "47784c0f",
   "metadata": {},
   "outputs": [],
   "source": [
    "#lambda <argument>:<condition>,<iterator>"
   ]
  },
  {
   "cell_type": "code",
   "execution_count": 51,
   "id": "eb84af12",
   "metadata": {},
   "outputs": [
    {
     "data": {
      "text/plain": [
       "[True, True, False]"
      ]
     },
     "execution_count": 51,
     "metadata": {},
     "output_type": "execute_result"
    }
   ],
   "source": [
    "list1=['h#d','mum#bai','chennai']\n",
    "list(map(lambda i: '#' in i,list1))"
   ]
  },
  {
   "cell_type": "code",
   "execution_count": 52,
   "id": "28fb8431",
   "metadata": {},
   "outputs": [
    {
     "data": {
      "text/plain": [
       "['h#d', 'mum#bai']"
      ]
     },
     "execution_count": 52,
     "metadata": {},
     "output_type": "execute_result"
    }
   ],
   "source": [
    "list1=['h#d','mum#bai','chennai']\n",
    "list(filter(lambda i: '#' in i,list1))"
   ]
  },
  {
   "cell_type": "code",
   "execution_count": 1,
   "id": "6329364e",
   "metadata": {},
   "outputs": [
    {
     "data": {
      "text/plain": [
       "True"
      ]
     },
     "execution_count": 1,
     "metadata": {},
     "output_type": "execute_result"
    }
   ],
   "source": [
    "list1=['h#d','mum#bai','chennai']\n",
    "'#' in 'h#d'  # '#' in i\n",
    "'#' in 'mum#bai'"
   ]
  },
  {
   "cell_type": "code",
   "execution_count": null,
   "id": "fe221a7f",
   "metadata": {},
   "outputs": [],
   "source": []
  },
  {
   "cell_type": "markdown",
   "id": "5e879560",
   "metadata": {},
   "source": [
    "#  file handiling session"
   ]
  },
  {
   "cell_type": "markdown",
   "id": "374b9b48",
   "metadata": {},
   "source": [
    "whenever you want to read any file\n",
    "\n",
    "- .text\n",
    "\n",
    "- .csv   (comma separated value)\n",
    "\n",
    "- .xlsx\n",
    "\n",
    "- .json  (dictionary format)\n",
    "\n",
    "- .xml    (IOT data)\n",
    "\n",
    "- .parquet  (encoded file)\n",
    "\n",
    "- .delta    (encoded file)\n",
    "\n",
    "- .pdf\n",
    "\n",
    "- .jpg\n",
    "\n",
    "- .png\n"
   ]
  },
  {
   "cell_type": "markdown",
   "id": "e4d7a986",
   "metadata": {},
   "source": [
    "- whare is your file located: \n",
    "\n",
    "- what is your file name\n",
    "\n",
    "- what is the type of file (extention)"
   ]
  },
  {
   "cell_type": "code",
   "execution_count": null,
   "id": "f912e302",
   "metadata": {},
   "outputs": [],
   "source": [
    "C:\\Users\\sony\\Downloads\n",
    "    \n",
    "example (1)\n",
    "\n",
    "(.pdf)"
   ]
  },
  {
   "cell_type": "code",
   "execution_count": null,
   "id": "1804f1d3",
   "metadata": {},
   "outputs": [],
   "source": [
    "file_location=\"C:\\Users\\sony\\Downloads\"\n",
    "\n",
    "file_name= example (1)\n",
    "\n",
    "extention=\".pdf\""
   ]
  },
  {
   "cell_type": "code",
   "execution_count": null,
   "id": "e5496fef",
   "metadata": {},
   "outputs": [],
   "source": [
    "file_location+file_name+extenction"
   ]
  },
  {
   "cell_type": "code",
   "execution_count": 6,
   "id": "b4c8bd9c",
   "metadata": {},
   "outputs": [
    {
     "ename": "SyntaxError",
     "evalue": "(unicode error) 'unicodeescape' codec can't decode bytes in position 2-3: truncated \\UXXXXXXXX escape (2211670317.py, line 1)",
     "output_type": "error",
     "traceback": [
      "\u001b[1;36m  Input \u001b[1;32mIn [6]\u001b[1;36m\u001b[0m\n\u001b[1;33m    \"C:\\Users\\sony\\Downloads\"+example (1)+\".text\"\u001b[0m\n\u001b[1;37m                             ^\u001b[0m\n\u001b[1;31mSyntaxError\u001b[0m\u001b[1;31m:\u001b[0m (unicode error) 'unicodeescape' codec can't decode bytes in position 2-3: truncated \\UXXXXXXXX escape\n"
     ]
    }
   ],
   "source": [
    "\"C:\\Users\\sony\\Downloads\"+example (1)+\".pdf\""
   ]
  },
  {
   "cell_type": "code",
   "execution_count": null,
   "id": "a002e487",
   "metadata": {},
   "outputs": [],
   "source": [
    "- unicode error : single slash\n",
    "    \n",
    "- in  order to read the file, we need provide '\\\\'   "
   ]
  },
  {
   "cell_type": "code",
   "execution_count": 11,
   "id": "1738e9f4",
   "metadata": {},
   "outputs": [
    {
     "data": {
      "text/plain": [
       "'C:\\\\Users\\\\sony\\\\Downloads\\\\example (1).pdf'"
      ]
     },
     "execution_count": 11,
     "metadata": {},
     "output_type": "execute_result"
    }
   ],
   "source": [
    "\"C:\\\\Users\\\\sony\\\\Downloads\\\\example (1).pdf\""
   ]
  },
  {
   "cell_type": "code",
   "execution_count": 15,
   "id": "c776f65d",
   "metadata": {},
   "outputs": [
    {
     "data": {
      "text/plain": [
       "'C:\\\\Users\\\\sony\\\\Downloads\\\\example (1).pdf'"
      ]
     },
     "execution_count": 15,
     "metadata": {},
     "output_type": "execute_result"
    }
   ],
   "source": [
    "file_path=\"C:\\\\Users\\\\sony\\\\Downloads\\\\example (1).pdf\"\n",
    "file_path"
   ]
  },
  {
   "cell_type": "code",
   "execution_count": 16,
   "id": "a6659a33",
   "metadata": {},
   "outputs": [
    {
     "data": {
      "text/plain": [
       "<_io.TextIOWrapper name='C:\\\\Users\\\\sony\\\\Downloads\\\\example (1).pdf' mode='r' encoding='utf-8'>"
      ]
     },
     "execution_count": 16,
     "metadata": {},
     "output_type": "execute_result"
    }
   ],
   "source": [
    "open(file_path,encoding='utf-8')\n",
    "\n",
    "# mode: read: r/write:w\n",
    "# encoding: cp1252/utf-8"
   ]
  },
  {
   "cell_type": "markdown",
   "id": "cb9f355d",
   "metadata": {},
   "source": [
    "- whenever any file has spl charcters it will not read\n",
    "\n",
    "- that time you need to provide encoding value\n",
    "\n",
    "- different encoding files has different encoding method\n",
    "\n",
    "- 'utf-8'/'cp-1252'"
   ]
  },
  {
   "cell_type": "code",
   "execution_count": 24,
   "id": "d1024f5c",
   "metadata": {},
   "outputs": [
    {
     "ename": "UnicodeDecodeError",
     "evalue": "'utf-8' codec can't decode byte 0xc7 in position 10: invalid continuation byte",
     "output_type": "error",
     "traceback": [
      "\u001b[1;31m---------------------------------------------------------------------------\u001b[0m",
      "\u001b[1;31mUnicodeDecodeError\u001b[0m                        Traceback (most recent call last)",
      "Input \u001b[1;32mIn [24]\u001b[0m, in \u001b[0;36m<cell line: 3>\u001b[1;34m()\u001b[0m\n\u001b[0;32m      1\u001b[0m file_path\u001b[38;5;241m=\u001b[39m\u001b[38;5;124m\"\u001b[39m\u001b[38;5;124mC:\u001b[39m\u001b[38;5;130;01m\\\\\u001b[39;00m\u001b[38;5;124mUsers\u001b[39m\u001b[38;5;130;01m\\\\\u001b[39;00m\u001b[38;5;124msony\u001b[39m\u001b[38;5;130;01m\\\\\u001b[39;00m\u001b[38;5;124mDownloads\u001b[39m\u001b[38;5;130;01m\\\\\u001b[39;00m\u001b[38;5;124mexample (1).pdf\u001b[39m\u001b[38;5;124m\"\u001b[39m\n\u001b[0;32m      2\u001b[0m file\u001b[38;5;241m=\u001b[39m\u001b[38;5;28mopen\u001b[39m(file_path,encoding\u001b[38;5;241m=\u001b[39m\u001b[38;5;124m'\u001b[39m\u001b[38;5;124mutf-8-sig\u001b[39m\u001b[38;5;124m'\u001b[39m)\n\u001b[1;32m----> 3\u001b[0m \u001b[38;5;28mprint\u001b[39m(\u001b[43mfile\u001b[49m\u001b[38;5;241;43m.\u001b[39;49m\u001b[43mread\u001b[49m\u001b[43m(\u001b[49m\u001b[43m)\u001b[49m)\n",
      "File \u001b[1;32m~\\anaconda3\\lib\\codecs.py:322\u001b[0m, in \u001b[0;36mBufferedIncrementalDecoder.decode\u001b[1;34m(self, input, final)\u001b[0m\n\u001b[0;32m    319\u001b[0m \u001b[38;5;28;01mdef\u001b[39;00m \u001b[38;5;21mdecode\u001b[39m(\u001b[38;5;28mself\u001b[39m, \u001b[38;5;28minput\u001b[39m, final\u001b[38;5;241m=\u001b[39m\u001b[38;5;28;01mFalse\u001b[39;00m):\n\u001b[0;32m    320\u001b[0m     \u001b[38;5;66;03m# decode input (taking the buffer into account)\u001b[39;00m\n\u001b[0;32m    321\u001b[0m     data \u001b[38;5;241m=\u001b[39m \u001b[38;5;28mself\u001b[39m\u001b[38;5;241m.\u001b[39mbuffer \u001b[38;5;241m+\u001b[39m \u001b[38;5;28minput\u001b[39m\n\u001b[1;32m--> 322\u001b[0m     (result, consumed) \u001b[38;5;241m=\u001b[39m \u001b[38;5;28;43mself\u001b[39;49m\u001b[38;5;241;43m.\u001b[39;49m\u001b[43m_buffer_decode\u001b[49m\u001b[43m(\u001b[49m\u001b[43mdata\u001b[49m\u001b[43m,\u001b[49m\u001b[43m \u001b[49m\u001b[38;5;28;43mself\u001b[39;49m\u001b[38;5;241;43m.\u001b[39;49m\u001b[43merrors\u001b[49m\u001b[43m,\u001b[49m\u001b[43m \u001b[49m\u001b[43mfinal\u001b[49m\u001b[43m)\u001b[49m\n\u001b[0;32m    323\u001b[0m     \u001b[38;5;66;03m# keep undecoded input until the next call\u001b[39;00m\n\u001b[0;32m    324\u001b[0m     \u001b[38;5;28mself\u001b[39m\u001b[38;5;241m.\u001b[39mbuffer \u001b[38;5;241m=\u001b[39m data[consumed:]\n",
      "File \u001b[1;32m~\\anaconda3\\lib\\encodings\\utf_8_sig.py:69\u001b[0m, in \u001b[0;36mIncrementalDecoder._buffer_decode\u001b[1;34m(self, input, errors, final)\u001b[0m\n\u001b[0;32m     66\u001b[0m             (output, consumed) \u001b[38;5;241m=\u001b[39m \\\n\u001b[0;32m     67\u001b[0m                codecs\u001b[38;5;241m.\u001b[39mutf_8_decode(\u001b[38;5;28minput\u001b[39m[\u001b[38;5;241m3\u001b[39m:], errors, final)\n\u001b[0;32m     68\u001b[0m             \u001b[38;5;28;01mreturn\u001b[39;00m (output, consumed\u001b[38;5;241m+\u001b[39m\u001b[38;5;241m3\u001b[39m)\n\u001b[1;32m---> 69\u001b[0m \u001b[38;5;28;01mreturn\u001b[39;00m \u001b[43mcodecs\u001b[49m\u001b[38;5;241;43m.\u001b[39;49m\u001b[43mutf_8_decode\u001b[49m\u001b[43m(\u001b[49m\u001b[38;5;28;43minput\u001b[39;49m\u001b[43m,\u001b[49m\u001b[43m \u001b[49m\u001b[43merrors\u001b[49m\u001b[43m,\u001b[49m\u001b[43m \u001b[49m\u001b[43mfinal\u001b[49m\u001b[43m)\u001b[49m\n",
      "\u001b[1;31mUnicodeDecodeError\u001b[0m: 'utf-8' codec can't decode byte 0xc7 in position 10: invalid continuation byte"
     ]
    }
   ],
   "source": [
    "file_path=\"C:\\\\Users\\\\sony\\\\Downloads\\\\example (1).pdf\"\n",
    "file=open(file_path,encoding='utf-8')\n",
    "print(file.read())\n",
    "\n",
    "# \\n: new line\n",
    "# \\t: tab"
   ]
  },
  {
   "cell_type": "code",
   "execution_count": null,
   "id": "7f4f9713",
   "metadata": {},
   "outputs": [],
   "source": []
  }
 ],
 "metadata": {
  "kernelspec": {
   "display_name": "Python 3 (ipykernel)",
   "language": "python",
   "name": "python3"
  },
  "language_info": {
   "codemirror_mode": {
    "name": "ipython",
    "version": 3
   },
   "file_extension": ".py",
   "mimetype": "text/x-python",
   "name": "python",
   "nbconvert_exporter": "python",
   "pygments_lexer": "ipython3",
   "version": "3.9.12"
  }
 },
 "nbformat": 4,
 "nbformat_minor": 5
}
