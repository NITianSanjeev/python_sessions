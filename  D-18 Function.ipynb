{
 "cells": [
  {
   "cell_type": "code",
   "execution_count": 3,
   "id": "ea963df6",
   "metadata": {},
   "outputs": [],
   "source": [
    "# WAP ask the user find area of circle\n",
    "# formula: pi*radius*radius\n",
    "# import math , math.pi\n",
    "# Basic method\n",
    "# without arguments\n",
    "# with arguments\n",
    "# Default arguments"
   ]
  },
  {
   "cell_type": "code",
   "execution_count": 7,
   "id": "269ccd88",
   "metadata": {},
   "outputs": [
    {
     "name": "stdout",
     "output_type": "stream",
     "text": [
      "enter the radius20\n",
      "The area of circle is: 1256.64\n"
     ]
    },
    {
     "data": {
      "text/plain": [
       "1256.64"
      ]
     },
     "execution_count": 7,
     "metadata": {},
     "output_type": "execute_result"
    }
   ],
   "source": [
    "import math\n",
    "pii=math.pi\n",
    "r=eval(input(\"enter the radius\"))\n",
    "area=round(pii*r*r,2)\n",
    "print(\"The area of circle is:\",area)\n"
   ]
  },
  {
   "cell_type": "code",
   "execution_count": 8,
   "id": "21938707",
   "metadata": {},
   "outputs": [
    {
     "name": "stdout",
     "output_type": "stream",
     "text": [
      "enter the radius20\n",
      "The area of circle is: 1256.64\n"
     ]
    }
   ],
   "source": [
    "#M-1: with arguments\n",
    "import math\n",
    "def area_of_circle():\n",
    "    pii=math.pi\n",
    "    r=eval(input(\"enter the radius\"))\n",
    "    area=round(pii*r*r,2)\n",
    "    print(\"The area of circle is:\",area)\n",
    "area_of_circle()"
   ]
  },
  {
   "cell_type": "code",
   "execution_count": 12,
   "id": "ecf07d9f",
   "metadata": {},
   "outputs": [
    {
     "name": "stdout",
     "output_type": "stream",
     "text": [
      "The area of circle is: 1256.64\n"
     ]
    }
   ],
   "source": [
    "#M-2: without arguments\n",
    "import math\n",
    "def area_of_circle(r):\n",
    "    pii=math.pi\n",
    "    area=round(pii*r*r,2)\n",
    "    print(\"The area of circle is:\",area)\n",
    "    \n",
    "area_of_circle(20)\n"
   ]
  },
  {
   "cell_type": "code",
   "execution_count": 13,
   "id": "895dbbd7",
   "metadata": {},
   "outputs": [
    {
     "name": "stdout",
     "output_type": "stream",
     "text": [
      "enter radius20\n",
      "The area of circle is: 1256.64\n"
     ]
    }
   ],
   "source": [
    "#M-3: keyboard pass\n",
    "# you need to provide argument value before call the function anywhere\n",
    "\n",
    "import math\n",
    "def area_of_circle(r):\n",
    "    pii=math.pi\n",
    "    area=round(pii*r*r,2)\n",
    "    print(\"The area of circle is:\",area)\n",
    "r=eval(input(\"enter radius\"))    \n",
    "area_of_circle(20)\n"
   ]
  },
  {
   "cell_type": "code",
   "execution_count": 1,
   "id": "887ccef2",
   "metadata": {},
   "outputs": [
    {
     "name": "stdout",
     "output_type": "stream",
     "text": [
      "enter radius20\n",
      "The area of circle is: 1256.64\n"
     ]
    }
   ],
   "source": [
    "import math\n",
    "def area_of_circle(r):\n",
    "    pii=math.pi\n",
    "    area=round(pii*r*r,2)\n",
    "    print(\"The area of circle is:\",area)\n",
    "    \n",
    "area_of_circle(eval(input(\"enter radius\")))\n"
   ]
  },
  {
   "cell_type": "code",
   "execution_count": 2,
   "id": "fad009ac",
   "metadata": {},
   "outputs": [
    {
     "name": "stdout",
     "output_type": "stream",
     "text": [
      "The area of circle is: 1256.64\n"
     ]
    }
   ],
   "source": [
    "#M_4: Default arguments\n",
    "\n",
    "import math\n",
    "def area_of_circle(pii,r=20):\n",
    "    pii=math.pi\n",
    "    area=round(pii*r*r,2)\n",
    "    print(\"The area of circle is:\",area)\n",
    "    \n",
    "area_of_circle(3.14)"
   ]
  },
  {
   "cell_type": "markdown",
   "id": "b60b9060",
   "metadata": {},
   "source": [
    "**Return**"
   ]
  },
  {
   "cell_type": "code",
   "execution_count": 4,
   "id": "3242ef75",
   "metadata": {},
   "outputs": [],
   "source": [
    "import math\n",
    "def area_of_circul():\n",
    "    pii=math.pi\n",
    "    r=eval(input(\"enter the radius\"))\n",
    "    area1=round(pii*r*r,2)\n",
    "    print(\"The area of circul is:\",area1)\n",
    "    return(area1)"
   ]
  },
  {
   "cell_type": "code",
   "execution_count": 5,
   "id": "974688f6",
   "metadata": {},
   "outputs": [
    {
     "name": "stdout",
     "output_type": "stream",
     "text": [
      "enter the radius20\n",
      "The area of circul is: 1256.64\n"
     ]
    }
   ],
   "source": [
    "Area=area_of_circul()"
   ]
  },
  {
   "cell_type": "code",
   "execution_count": 19,
   "id": "e0294f63",
   "metadata": {},
   "outputs": [],
   "source": [
    "import math\n",
    "def area_of_circul():\n",
    "    pii=math.pi\n",
    "    r=eval(input(\"enter the radius\"))\n",
    "    area1=round(pii*r*r,2)\n",
    "    print(\"The area of circul is:\",area1)\n",
    "    return(area1,pii)"
   ]
  },
  {
   "cell_type": "code",
   "execution_count": 20,
   "id": "e8aa74cf",
   "metadata": {},
   "outputs": [
    {
     "name": "stdout",
     "output_type": "stream",
     "text": [
      "enter the radius20\n",
      "The area of circul is: 1256.64\n"
     ]
    }
   ],
   "source": [
    "Area,Pi=area_of_circul()\n",
    "\n",
    "# area_of_circle() will return two value\n",
    "# area1,pii\n",
    "# area1 will store in a variable: Area\n",
    "# pii will store in a variable: Pi"
   ]
  },
  {
   "cell_type": "code",
   "execution_count": 21,
   "id": "a5c33f5f",
   "metadata": {},
   "outputs": [
    {
     "data": {
      "text/plain": [
       "1256.64"
      ]
     },
     "execution_count": 21,
     "metadata": {},
     "output_type": "execute_result"
    }
   ],
   "source": [
    "Area"
   ]
  },
  {
   "cell_type": "code",
   "execution_count": 22,
   "id": "fafe44a9",
   "metadata": {},
   "outputs": [
    {
     "data": {
      "text/plain": [
       "3.141592653589793"
      ]
     },
     "execution_count": 22,
     "metadata": {},
     "output_type": "execute_result"
    }
   ],
   "source": [
    "Pi"
   ]
  },
  {
   "cell_type": "code",
   "execution_count": 23,
   "id": "1497b0f1",
   "metadata": {},
   "outputs": [
    {
     "name": "stdout",
     "output_type": "stream",
     "text": [
      "enter the radius20\n",
      "The area of circul is: 1256.64\n",
      "1256.64\n",
      "3.141592653589793\n"
     ]
    }
   ],
   "source": [
    "import math\n",
    "def area_of_circul():\n",
    "    pii=math.pi\n",
    "    r=eval(input(\"enter the radius\"))\n",
    "    area1=round(pii*r*r,2)\n",
    "    print(\"The area of circul is:\",area1)\n",
    "    return(area1,pii)\n",
    "Area,Pi=area_of_circul()\n",
    "print(Area)\n",
    "print(Pi)"
   ]
  },
  {
   "cell_type": "code",
   "execution_count": 24,
   "id": "d19988b4",
   "metadata": {},
   "outputs": [],
   "source": [
    "# ask the user enter 3 numbers\n",
    "# find the sum and average\n",
    "# Return the average value and sum both"
   ]
  },
  {
   "cell_type": "code",
   "execution_count": 27,
   "id": "dda939c8",
   "metadata": {},
   "outputs": [
    {
     "name": "stdout",
     "output_type": "stream",
     "text": [
      "sum: 90\n",
      "avg: 30.0\n",
      "addition is: 90 average is: 30.0\n"
     ]
    }
   ],
   "source": [
    "def sum_avg(n1,n2,n3):\n",
    "    summ=n1+n2+n3\n",
    "    avg=summ/3\n",
    "    print('sum:',summ)\n",
    "    print('avg:',avg)\n",
    "    return(summ,avg)\n",
    "\n",
    "addition,average=sum_avg(20,30,40) \n",
    "\n",
    "# sum_avg(20,30,40) is returning two value\n",
    "# summ and avg\n",
    "# summ we are saving in a variable: addition\n",
    "# avg we are saving in a variable: average\n",
    "print(\"addition is:\",addition,'average is:',average)"
   ]
  },
  {
   "cell_type": "code",
   "execution_count": 28,
   "id": "d0d73df6",
   "metadata": {},
   "outputs": [],
   "source": [
    "# Find the biggest number of 3 number \n",
    "# take three numbers\n",
    "# and find the biggest number \n",
    "# Return that number \n",
    "\n",
    "# if num1>num2 and num1>num3 : num1\n",
    "# elif num2>num3: num2\n",
    "# else: num3\n",
    "\n",
    "# first write the normal code \n",
    "# then create the function \n",
    "# return the value\n"
   ]
  },
  {
   "cell_type": "code",
   "execution_count": 33,
   "id": "14c322f8",
   "metadata": {},
   "outputs": [
    {
     "name": "stdout",
     "output_type": "stream",
     "text": [
      "200 is greater\n",
      "200\n"
     ]
    }
   ],
   "source": [
    "def greater(n1,n2,n3):\n",
    "    if n1>n2 and n1>n3:\n",
    "        print(\"{} is greater\".format(n1))\n",
    "        return(n1)\n",
    "    elif n2>n3:\n",
    "        print(\"{} is greater\".format(n2))\n",
    "        return(n2)\n",
    "    else: \n",
    "        print(\"{} is greater\".format(n3))\n",
    "        return(n3)\n",
    "        \n",
    "Greater=greater(20,200,10)  \n",
    "print(Greater)"
   ]
  },
  {
   "cell_type": "code",
   "execution_count": 40,
   "id": "15cbd1aa",
   "metadata": {},
   "outputs": [
    {
     "name": "stdout",
     "output_type": "stream",
     "text": [
      "50 600 -10 0.67\n"
     ]
    }
   ],
   "source": [
    "def add(a,b):\n",
    "    return(a+b)\n",
    "\n",
    "# mul\n",
    "def mul(a,b):\n",
    "    return(a*b)\n",
    "\n",
    "# sub\n",
    "def sub(a,b):\n",
    "    return(a-b)\n",
    "# div\n",
    "def  div(a,b):\n",
    "    return(a/b)\n",
    "\n",
    "val_add=add(20,30)\n",
    "val_mul=mul(20,30)\n",
    "val_sub=sub(20,30)\n",
    "val_div=div(20,30)\n",
    "print(val_add,val_mul,val_sub,round(val_div,2))"
   ]
  },
  {
   "cell_type": "code",
   "execution_count": 41,
   "id": "11347ff5",
   "metadata": {},
   "outputs": [
    {
     "name": "stdout",
     "output_type": "stream",
     "text": [
      "50 -10 600 0.67\n"
     ]
    }
   ],
   "source": [
    "def aggregation(a,b):\n",
    "    return(a+b,a-b,a*b,a/b)\n",
    "\n",
    "add,sub,mul,div=aggregation(20,30)\n",
    "print(add,sub,mul,round(div,2))"
   ]
  },
  {
   "cell_type": "code",
   "execution_count": null,
   "id": "bd304d1b",
   "metadata": {},
   "outputs": [],
   "source": []
  }
 ],
 "metadata": {
  "kernelspec": {
   "display_name": "Python 3 (ipykernel)",
   "language": "python",
   "name": "python3"
  },
  "language_info": {
   "codemirror_mode": {
    "name": "ipython",
    "version": 3
   },
   "file_extension": ".py",
   "mimetype": "text/x-python",
   "name": "python",
   "nbconvert_exporter": "python",
   "pygments_lexer": "ipython3",
   "version": "3.9.12"
  }
 },
 "nbformat": 4,
 "nbformat_minor": 5
}
