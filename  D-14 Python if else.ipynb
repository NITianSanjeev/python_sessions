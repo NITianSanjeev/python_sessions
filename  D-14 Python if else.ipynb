{
 "cells": [
  {
   "cell_type": "code",
   "execution_count": 4,
   "id": "766253f7",
   "metadata": {},
   "outputs": [
    {
     "name": "stdout",
     "output_type": "stream",
     "text": [
      "won\n"
     ]
    }
   ],
   "source": [
    "name='python' # python is save in a variable 'name'\n",
    "if name=='python' : # is the name really equal to python if true\n",
    "    print('won')"
   ]
  },
  {
   "cell_type": "code",
   "execution_count": 5,
   "id": "f24b5e2b",
   "metadata": {},
   "outputs": [
    {
     "name": "stdout",
     "output_type": "stream",
     "text": [
      "lost\n"
     ]
    }
   ],
   "source": [
    "name='python'\n",
    "if name=='py':  # false: np\n",
    "    print('won')\n",
    "else:\n",
    "    print('lost')\n",
    "    \n",
    "    "
   ]
  },
  {
   "cell_type": "code",
   "execution_count": 8,
   "id": "6b9fb662",
   "metadata": {},
   "outputs": [
    {
     "name": "stdout",
     "output_type": "stream",
     "text": [
      "hello\n",
      "10\n",
      "enter a number1:50\n",
      "enter a number2:20\n",
      "thiS is false case\n",
      "we are doing multiplication\n",
      "The multiplication of 50 and 20 is:1000\n",
      "sutraction: 30\n",
      "great!\n"
     ]
    }
   ],
   "source": [
    "print('hello')\n",
    "print(10)\n",
    "num1=eval(input(\"enter a number1:\"))\n",
    "num2=eval(input(\"enter a number2:\"))\n",
    "if num1==num2:\n",
    "    print(\"this is a true case\")\n",
    "    print(\"we are doing addition operation\")\n",
    "    print(\"The addition of {} and {} is:\".format(num1,num2,num1*num2))\n",
    "    \n",
    "else:\n",
    "    print(\"thiS is false case\")\n",
    "    print(\"we are doing multiplication\")\n",
    "    print(\"The multiplication of {} and {} is:{}\".format(num1,num2,num1*num2))\n",
    "          \n",
    "subtraction=num1-num2\n",
    "print('sutraction:' ,subtraction) \n",
    "print(\"great!\")          \n",
    "\n"
   ]
  },
  {
   "cell_type": "code",
   "execution_count": 10,
   "id": "1d43f9aa",
   "metadata": {},
   "outputs": [
    {
     "name": "stdout",
     "output_type": "stream",
     "text": [
      "enter the number: 55\n",
      "The 55 is odd number\n"
     ]
    }
   ],
   "source": [
    "num1=eval(input(\"enter the number: \"))  #55\n",
    "if(num1%2==0):\n",
    "    print(\"The {} is even number\".format(num1))\n",
    "else:\n",
    "    print(\"The {} is odd number\".format(num1))"
   ]
  },
  {
   "cell_type": "code",
   "execution_count": 16,
   "id": "d9665140",
   "metadata": {},
   "outputs": [
    {
     "name": "stdout",
     "output_type": "stream",
     "text": [
      "enter the number: python\n",
      "name 'python' is not defined\n"
     ]
    }
   ],
   "source": [
    "try:\n",
    "    num1=eval(input(\"enter the number: \"))  #55\n",
    "    if(num1%2==0):\n",
    "        print(\"The {} is even number\".format(num1))\n",
    "    else:\n",
    "        print(\"The {} is odd number\".format(num1))\n",
    "    \n",
    "except Exception as e:\n",
    "    print(e)"
   ]
  },
  {
   "cell_type": "code",
   "execution_count": 23,
   "id": "2f441691",
   "metadata": {},
   "outputs": [
    {
     "name": "stdout",
     "output_type": "stream",
     "text": [
      "enter the number: 20\n",
      "The 20 is odd number\n"
     ]
    }
   ],
   "source": [
    "num1=eval(input(\"enter the number: \"))  \n",
    "if(num1%2!=0):\n",
    "    print(\"The {} is even number\".format(num1))\n",
    "else:\n",
    "    print(\"The {} is odd number\".format(num1))"
   ]
  },
  {
   "cell_type": "code",
   "execution_count": 25,
   "id": "671a92f8",
   "metadata": {},
   "outputs": [
    {
     "name": "stdout",
     "output_type": "stream",
     "text": [
      "the 19  is odd number\n"
     ]
    }
   ],
   "source": [
    "# wap get a rrandom number between 1 to 50\n",
    "# and check it is an even number or odd number\n",
    "\n",
    "import random\n",
    "num1=random.randint(1,50)\n",
    "\n",
    "if (num1%2!=0):\n",
    "    print(\"the {}  is odd number\".format(num1))\n",
    "else:\n",
    "    print(\"the {} is even number\".format(num1))\n",
    "    \n"
   ]
  },
  {
   "cell_type": "code",
   "execution_count": 2,
   "id": "da627165",
   "metadata": {},
   "outputs": [
    {
     "name": "stdout",
     "output_type": "stream",
     "text": [
      "you lost because 120 is between 10 and 99.\n"
     ]
    }
   ],
   "source": [
    "# wap get a random number between 1 to 200\n",
    "# print you won, if number betweeen  10 to 99\n",
    "# otherwise print you lost\n",
    "\n",
    "\n",
    "import random\n",
    "try:\n",
    "    num= random.randint(1,200)\n",
    "    if (num>=10 and num<=99):\n",
    "        print(\"you won because {} is between 10 and 99.\".format(num))\n",
    "    else:\n",
    "        print(\"you lost because {} is between 10 and 99.\".format(num))\n",
    "        \n",
    "except Exception as error:\n",
    "    print(error)"
   ]
  },
  {
   "cell_type": "code",
   "execution_count": 3,
   "id": "63b4324c",
   "metadata": {},
   "outputs": [
    {
     "name": "stdout",
     "output_type": "stream",
     "text": [
      "you lost because 193 is between 10 and 99.\n"
     ]
    }
   ],
   "source": [
    "import random\n",
    "try:\n",
    "    num= random.randint(1,200)\n",
    "    if (10<num<99):\n",
    "        print(\"you won because {} is between 10 and 99.\".format(num))\n",
    "    else:\n",
    "        print(\"you lost because {} is between 10 and 99.\".format(num))\n",
    "        \n",
    "except Exception as error:\n",
    "    print(error)"
   ]
  },
  {
   "cell_type": "code",
   "execution_count": 4,
   "id": "f6b5572d",
   "metadata": {},
   "outputs": [
    {
     "data": {
      "text/plain": [
       "True"
      ]
     },
     "execution_count": 4,
     "metadata": {},
     "output_type": "execute_result"
    }
   ],
   "source": [
    "10<20<99"
   ]
  },
  {
   "cell_type": "code",
   "execution_count": 5,
   "id": "680fe731",
   "metadata": {},
   "outputs": [
    {
     "data": {
      "text/plain": [
       "False"
      ]
     },
     "execution_count": 5,
     "metadata": {},
     "output_type": "execute_result"
    }
   ],
   "source": [
    "10<120<99"
   ]
  },
  {
   "cell_type": "code",
   "execution_count": 8,
   "id": "b7ed9607",
   "metadata": {},
   "outputs": [
    {
     "name": "stdout",
     "output_type": "stream",
     "text": [
      "enter a number: 52\n",
      "it is positive number\n"
     ]
    }
   ],
   "source": [
    "# WAP ask the user and enter a number\n",
    "# if number >=0 print it is a positive number\n",
    "# otherwise print it iS a negative number \n",
    "\n",
    "num=eval(input(\"enter a number: \"))\n",
    "if num>=0:\n",
    "    print(\"it is positive number\")\n",
    "else:\n",
    "    print(\"it iS negative number\")"
   ]
  },
  {
   "cell_type": "code",
   "execution_count": 9,
   "id": "f6d1e66d",
   "metadata": {},
   "outputs": [],
   "source": [
    "# con-1: >0 =====positive  if <condition>:\n",
    "# con-2: <0 =====negative  elif <con>:\n",
    "# con-3: =0 =====zero      else:\n",
    "\n",
    "# two conditions: if-else\n",
    "# > two conditions: if-elif-else"
   ]
  },
  {
   "cell_type": "code",
   "execution_count": 13,
   "id": "9050472a",
   "metadata": {},
   "outputs": [
    {
     "name": "stdout",
     "output_type": "stream",
     "text": [
      "enter a number: -5\n",
      "The given number -5 is negative.\n"
     ]
    }
   ],
   "source": [
    "num2=eval(input(\"enter a number: \"))\n",
    "if num2>0:\n",
    "    print(\"The given number {} is positive.\".format(num2))\n",
    "elif num2<0:\n",
    "    print(\"The given number {} is negative.\".format(num2))\n",
    "else:\n",
    "    print(\"The given number {} is zero.\".format(num2))"
   ]
  },
  {
   "cell_type": "code",
   "execution_count": null,
   "id": "e6f2aaac",
   "metadata": {},
   "outputs": [],
   "source": [
    "# WAP ask the user enter percentage of marks\n",
    "# if per>90 print A\n",
    "# if per between 70 to 90 print B\n",
    "# if per between 50 to 70 print c\n",
    "# otherwise print D\n",
    "# if -elif-elif-else"
   ]
  },
  {
   "cell_type": "code",
   "execution_count": 14,
   "id": "44739c30",
   "metadata": {},
   "outputs": [
    {
     "name": "stdout",
     "output_type": "stream",
     "text": [
      "Enter a percentage: 20\n",
      "Grade D\n"
     ]
    }
   ],
   "source": [
    "per=eval(input(\"Enter a percentage: \"))\n",
    "if per>90:\n",
    "    print(\"Grade A\")\n",
    "elif 70<per<90:\n",
    "    print(\"Grade B\")\n",
    "elif 50<per<70:\n",
    "    print(\"Grade c\")\n",
    "else:\n",
    "    print(\"Grade D\")\n",
    "    \n",
    "    \n",
    "    "
   ]
  },
  {
   "cell_type": "code",
   "execution_count": 15,
   "id": "713f869c",
   "metadata": {},
   "outputs": [
    {
     "name": "stdout",
     "output_type": "stream",
     "text": [
      "Enter a percentage: 49\n",
      "Grade D\n"
     ]
    }
   ],
   "source": [
    "per=eval(input(\"Enter a percentage: \"))\n",
    "if per>90:\n",
    "    print(\"Grade A\")\n",
    "elif per>=70:\n",
    "    print(\"Grade B\")\n",
    "elif per>=50:\n",
    "    print(\"Grade c\")\n",
    "else:\n",
    "    print(\"Grade D\")"
   ]
  },
  {
   "cell_type": "code",
   "execution_count": 16,
   "id": "a04578ff",
   "metadata": {},
   "outputs": [],
   "source": [
    "# WAP ask the user enter age\n",
    "# if age > 60 print(sc)\n",
    "# if age between 45 to 60 (aged)\n",
    "# if age between 30 to 45 (MA)\n",
    "# if age between 20 to 30 (young)\n",
    "# if age between 13 to 20 (Teenage)\n",
    "# otherwise child\n",
    "\n",
    "# if-elif-elif-elif-elif-else"
   ]
  },
  {
   "cell_type": "code",
   "execution_count": 19,
   "id": "8c5c50eb",
   "metadata": {},
   "outputs": [
    {
     "name": "stdout",
     "output_type": "stream",
     "text": [
      "Enter a age: 50\n",
      "This is aged\n"
     ]
    }
   ],
   "source": [
    "age=eval(input(\"Enter a age: \"))\n",
    "if age>60:\n",
    "    print(\"This is sc\")\n",
    "elif 45<age<60:\n",
    "    print(\"This is aged\")\n",
    "elif 30<age<45:\n",
    "    print(\"This is Middle age\")\n",
    "elif 20<age<30:\n",
    "    print(\"This is young\")\n",
    "elif 13<age<20:\n",
    "    print(\"This is teenage\")\n",
    "else:\n",
    "    print(\"This is child\")"
   ]
  },
  {
   "cell_type": "code",
   "execution_count": null,
   "id": "f5113d61",
   "metadata": {},
   "outputs": [],
   "source": []
  }
 ],
 "metadata": {
  "kernelspec": {
   "display_name": "Python 3 (ipykernel)",
   "language": "python",
   "name": "python3"
  },
  "language_info": {
   "codemirror_mode": {
    "name": "ipython",
    "version": 3
   },
   "file_extension": ".py",
   "mimetype": "text/x-python",
   "name": "python",
   "nbconvert_exporter": "python",
   "pygments_lexer": "ipython3",
   "version": "3.9.12"
  }
 },
 "nbformat": 4,
 "nbformat_minor": 5
}
