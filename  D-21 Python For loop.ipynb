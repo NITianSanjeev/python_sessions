{
 "cells": [
  {
   "cell_type": "code",
   "execution_count": 2,
   "id": "9e2b6f7d",
   "metadata": {},
   "outputs": [
    {
     "name": "stdout",
     "output_type": "stream",
     "text": [
      "0+1 is:\n",
      "1\n",
      "1+2 is:\n",
      "3\n",
      "3+3 is:\n",
      "6\n",
      "6+4 is:\n",
      "10\n",
      "10+5 is:\n",
      "15\n",
      "15+6 is:\n",
      "21\n",
      "21+7 is:\n",
      "28\n",
      "28+8 is:\n",
      "36\n",
      "36+9 is:\n",
      "45\n",
      "45+10 is:\n",
      "55\n"
     ]
    }
   ],
   "source": [
    "# WAP ask the user get the sum of 10 natural number\n",
    "#  1+2+3+4+5+6+7+8+9+10=55\n",
    "summ=0\n",
    "for i in range (1,11):\n",
    "    print(\"{}+{} is:\".format(summ,i))\n",
    "    summ=summ+i\n",
    "    print(summ)\n",
    "    "
   ]
  },
  {
   "cell_type": "code",
   "execution_count": 3,
   "id": "b7a55258",
   "metadata": {},
   "outputs": [
    {
     "name": "stdout",
     "output_type": "stream",
     "text": [
      "0\n",
      "1\n",
      "2\n",
      "3\n",
      "4\n",
      "5\n",
      "6\n",
      "7\n",
      "8\n",
      "9\n"
     ]
    },
    {
     "data": {
      "text/plain": [
       "9"
      ]
     },
     "execution_count": 3,
     "metadata": {},
     "output_type": "execute_result"
    }
   ],
   "source": [
    "for i in range(10):\n",
    "    num=i\n",
    "    print(i)\n",
    "    \n",
    "num    "
   ]
  },
  {
   "cell_type": "markdown",
   "id": "e5c81fa2",
   "metadata": {},
   "source": [
    "- whenever if you want implement counter program\n",
    "- summ program\n",
    "- initialize the variable with zero\n",
    "- like: summ=0 or count=0\n",
    "- inside the loop based on the problem updates the variable\n",
    "- like: summ=summ+i or count=count+i\n",
    "-     : summ+i      or count+i    "
   ]
  },
  {
   "cell_type": "code",
   "execution_count": null,
   "id": "6d235332",
   "metadata": {},
   "outputs": [],
   "source": [
    "# WAP ask the user print the given number is even or odd\n",
    "# you need to take the number between randomly between 10 to 30\n",
    "# this process you need to 5 times\n",
    "\n",
    "# create a for loop to 5 times\n",
    "# every time get the random number \n",
    "# finally apply if-else : it is even or odd\n",
    "\n",
    "# Improvise this problem\n",
    "# By count the number of even and number odds you are getting"
   ]
  },
  {
   "cell_type": "code",
   "execution_count": 4,
   "id": "401d30bd",
   "metadata": {},
   "outputs": [
    {
     "name": "stdout",
     "output_type": "stream",
     "text": [
      "when is odd: 0\n",
      "The given 11 is odd\n",
      "when is odd: 1\n",
      "The given 13 is odd\n",
      "when is odd: 2\n",
      "The given 25 is odd\n",
      "when is odd: 3\n",
      "The given 27 is odd\n",
      "when is odd: 4\n",
      "The given 23 is odd\n",
      "0 5\n"
     ]
    }
   ],
   "source": [
    "even_count=0\n",
    "odd_count=0\n",
    "import random\n",
    "for i in range(5):\n",
    "    num= random.randint(10,30)\n",
    "    if num%2==0:\n",
    "        print('when is even:',i)\n",
    "        print(\"The given {} is even\".format(num))\n",
    "        even_count=even_count+1\n",
    "    else:\n",
    "        print('when is odd:',i)\n",
    "        print(\"The given {} is odd\".format(num))\n",
    "        odd_count=odd_count+1\n",
    "        \n",
    "print(even_count,odd_count)        \n",
    "        \n",
    "    "
   ]
  },
  {
   "cell_type": "code",
   "execution_count": 5,
   "id": "dcc8dc0a",
   "metadata": {},
   "outputs": [
    {
     "name": "stdout",
     "output_type": "stream",
     "text": [
      "79\n",
      "63\n",
      "69\n",
      "the number of value more than 50 is: 3\n"
     ]
    }
   ],
   "source": [
    "# WAP ask the user take a random number between 1 to 99\n",
    "# iterate the loop 10 times \n",
    "# count how many times a number is coming and greaTer than 50\n",
    "\n",
    "import random \n",
    "count=0\n",
    "for i in range (10):\n",
    "    num=random.randint(1,99)\n",
    "    if num>50:\n",
    "        print(num)\n",
    "        count=count+1\n",
    "        \n",
    "print(\"the number of value more than 50 is:\",count)        "
   ]
  },
  {
   "cell_type": "code",
   "execution_count": 6,
   "id": "72b809fc",
   "metadata": {},
   "outputs": [
    {
     "name": "stdout",
     "output_type": "stream",
     "text": [
      "enter which number divsiors want to know: 10\n",
      "10 is divisible by 1\n",
      "10 is divisible by 2\n",
      "10 is divisible by 5\n",
      "10 is divisible by 10\n",
      "The number of divisors are: 4\n",
      "The number of non divisors count is: 6\n"
     ]
    }
   ],
   "source": [
    "# Number of divisiors program\n",
    "# 10 is divisible by what numbers\n",
    "# 10/1 10/2 10/3 10/4 10/5 10/6 10/7 10/8 10/9 10/10 10/11\n",
    "# (num/i)%2==0\n",
    "# 5 division : 1 to 5\n",
    "\n",
    "d_count=0\n",
    "nd_count=0\n",
    "num=eval(input(\"enter which number divsiors want to know: \"))\n",
    "for i in range(1,num+1):\n",
    "    if num%i==0:\n",
    "        print(\"{} is divisible by {}\".format(num,i))\n",
    "        d_count=d_count+1\n",
    "        \n",
    "    else:\n",
    "        nd_count=nd_count+1\n",
    "        \n",
    "print(\"The number of divisors are:\",d_count)\n",
    "print(\"The number of non divisors count is:\",nd_count)"
   ]
  },
  {
   "cell_type": "code",
   "execution_count": 10,
   "id": "c019debb",
   "metadata": {},
   "outputs": [
    {
     "name": "stdout",
     "output_type": "stream",
     "text": [
      "enter which number divsiors want to know: 10\n",
      "10 is divisible by 1\n",
      "10 is divisible by 2\n",
      "10 is divisible by 5\n",
      "10 is divisible by 10\n",
      "4 6\n"
     ]
    }
   ],
   "source": [
    "\n",
    "num=eval(input(\"enter which number divsiors want to know: \"))\n",
    "\n",
    "def counter():\n",
    "    d_count=0\n",
    "    nd_count=0\n",
    "    for i in range(1,num+1):\n",
    "        if num%i==0:\n",
    "            print(\"{} is divisible by {}\".format(num,i))\n",
    "            d_count=d_count+1\n",
    "\n",
    "        else:\n",
    "            nd_count=nd_count+1\n",
    "    return(d_count,nd_count)  \n",
    "    \n",
    "val1,val2=counter()\n",
    "print(val1,val2)"
   ]
  },
  {
   "cell_type": "code",
   "execution_count": 18,
   "id": "a942df33",
   "metadata": {},
   "outputs": [],
   "source": [
    "#def counter2():\n",
    "     #=========\n",
    "    #==========\n",
    "    #return()"
   ]
  },
  {
   "cell_type": "code",
   "execution_count": 25,
   "id": "19f39b0d",
   "metadata": {},
   "outputs": [
    {
     "name": "stdout",
     "output_type": "stream",
     "text": [
      "10 is divisible by 5\n"
     ]
    },
    {
     "data": {
      "text/plain": [
       "(1, 0)"
      ]
     },
     "execution_count": 25,
     "metadata": {},
     "output_type": "execute_result"
    }
   ],
   "source": [
    "def condition(num,i,d_count,nd_count):\n",
    "        if num%i==0:\n",
    "            print(\"{} is divisible by {}\".format(num,i))\n",
    "            d_count=d_count+1\n",
    "\n",
    "        else:\n",
    "            nd_count=nd_count+1\n",
    "            \n",
    "        return(d_count,nd_count) \n",
    "condition(10,5,0,0)"
   ]
  },
  {
   "cell_type": "code",
   "execution_count": 19,
   "id": "ec32ffac",
   "metadata": {},
   "outputs": [
    {
     "name": "stdout",
     "output_type": "stream",
     "text": [
      "enter which number divsiors want to know: 10\n",
      "10 is divisible by 1\n",
      "10 is divisible by 2\n",
      "10 is divisible by 5\n",
      "10 is divisible by 10\n",
      "4 6\n"
     ]
    }
   ],
   "source": [
    "def counter2():\n",
    "    d_count=0\n",
    "    nd_count=0\n",
    "    num=eval(input(\"enter which number divsiors want to know: \"))\n",
    "    for i in range(1,num+1):\n",
    "        if num%i==0:\n",
    "            print(\"{} is divisible by {}\".format(num,i))\n",
    "            d_count=d_count+1\n",
    "\n",
    "        else:\n",
    "            nd_count=nd_count+1\n",
    "    return(d_count,nd_count)  \n",
    "    \n",
    "val1,val2=counter2()\n",
    "print(val1,val2)"
   ]
  },
  {
   "cell_type": "code",
   "execution_count": 20,
   "id": "f6058e8d",
   "metadata": {},
   "outputs": [
    {
     "name": "stdout",
     "output_type": "stream",
     "text": [
      "10 is divisible by 1\n",
      "10 is divisible by 2\n",
      "10 is divisible by 5\n",
      "10 is divisible by 10\n"
     ]
    }
   ],
   "source": [
    "for i in range(1,num+1):\n",
    "        if num%i==0:\n",
    "            print(\"{} is divisible by {}\".format(num,i))\n",
    "            d_count=d_count+1\n",
    "\n",
    "        else:\n",
    "            nd_count=nd_count+1"
   ]
  },
  {
   "cell_type": "markdown",
   "id": "5fb31449",
   "metadata": {},
   "source": [
    "- whenever if you want implement counter program\n",
    "- intialise counter inside the function only"
   ]
  },
  {
   "cell_type": "code",
   "execution_count": 21,
   "id": "79b1f5a7",
   "metadata": {},
   "outputs": [],
   "source": [
    "def condition(num,d_count,nd_count,i):\n",
    "    for i in range(1,num+1):\n",
    "        if num%i==0:\n",
    "            print(\"{} is divisible by {}\".format(num,i))\n",
    "            d_count=d_count+1\n",
    "\n",
    "        else:\n",
    "            nd_count=nd_count+1\n",
    "        return(d_count,nd_count)    "
   ]
  },
  {
   "cell_type": "code",
   "execution_count": 28,
   "id": "64134b25",
   "metadata": {},
   "outputs": [
    {
     "name": "stdout",
     "output_type": "stream",
     "text": [
      "enter which number divsiors want to know: 10\n",
      "10 is divisible by 1\n",
      "10 is divisible by 2\n",
      "10 is divisible by 5\n",
      "10 is divisible by 10\n",
      "4 6\n"
     ]
    }
   ],
   "source": [
    "def counter2():\n",
    "    d_count=0\n",
    "    nd_count=0\n",
    "    num=eval(input(\"enter which number divsiors want to know: \"))\n",
    "    for i in range(1,num+1):\n",
    "        d_count,nd_count=condition(num,i,d_count,nd_count,)\n",
    "        \n",
    "    return(d_count,nd_count)  \n",
    "    \n",
    "val1,val2=counter2()\n",
    "print(val1,val2)"
   ]
  },
  {
   "cell_type": "code",
   "execution_count": 29,
   "id": "3c08dbc2",
   "metadata": {},
   "outputs": [
    {
     "name": "stdout",
     "output_type": "stream",
     "text": [
      "enter which number divsiors want to know: 10\n",
      "10 is divisible by 1\n",
      "10 is divisible by 1\n",
      "10 is divisible by 1\n",
      "10 is divisible by 1\n",
      "10 is divisible by 1\n",
      "10 is divisible by 1\n",
      "10 is divisible by 1\n",
      "10 is divisible by 1\n",
      "10 is divisible by 1\n",
      "10 is divisible by 1\n",
      "11 10\n"
     ]
    }
   ],
   "source": [
    "def condition(num,d_count,nd_count,i):\n",
    "    for i in range(1,num+1):\n",
    "        if num%i==0:\n",
    "            print(\"{} is divisible by {}\".format(num,i))\n",
    "            d_count=d_count+1\n",
    "\n",
    "        else:\n",
    "            nd_count=nd_count+1\n",
    "        return(d_count,nd_count)\n",
    "    \n",
    "    \n",
    "def counter2():\n",
    "    d_count=0\n",
    "    nd_count=0\n",
    "    num=eval(input(\"enter which number divsiors want to know: \"))\n",
    "    for i in range(1,num+1):\n",
    "        d_count,nd_count=condition(num,i,d_count,nd_count,)\n",
    "        \n",
    "    return(d_count,nd_count)  \n",
    "    \n",
    "val1,val2=counter2()\n",
    "print(val1,val2)    "
   ]
  },
  {
   "cell_type": "code",
   "execution_count": null,
   "id": "284f5a31",
   "metadata": {},
   "outputs": [],
   "source": []
  }
 ],
 "metadata": {
  "kernelspec": {
   "display_name": "Python 3 (ipykernel)",
   "language": "python",
   "name": "python3"
  },
  "language_info": {
   "codemirror_mode": {
    "name": "ipython",
    "version": 3
   },
   "file_extension": ".py",
   "mimetype": "text/x-python",
   "name": "python",
   "nbconvert_exporter": "python",
   "pygments_lexer": "ipython3",
   "version": "3.9.12"
  }
 },
 "nbformat": 4,
 "nbformat_minor": 5
}
