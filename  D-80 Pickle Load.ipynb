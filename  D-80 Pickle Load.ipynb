{
 "cells": [
  {
   "cell_type": "code",
   "execution_count": 2,
   "id": "d9cb65d6",
   "metadata": {},
   "outputs": [],
   "source": [
    "import numpy as np\n",
    "import pandas as pd\n",
    "import matplotlib.pyplot as plt\n",
    "import seaborn as sns\n",
    "import warnings\n",
    "warnings.filterwarnings('ignore')"
   ]
  },
  {
   "cell_type": "markdown",
   "id": "2adab683",
   "metadata": {},
   "source": [
    "### Step-2:\n",
    "\n",
    "#### Read The Data"
   ]
  },
  {
   "cell_type": "code",
   "execution_count": 3,
   "id": "07d9dc44",
   "metadata": {},
   "outputs": [],
   "source": [
    "df = pd.read_csv(\"C:\\\\Users\\\\sony\\\\ DATA SCIENCE  NARESH IT\\\\winequality_red.csv\")"
   ]
  },
  {
   "cell_type": "code",
   "execution_count": 4,
   "id": "60e742f3",
   "metadata": {},
   "outputs": [],
   "source": [
    "import pickle"
   ]
  },
  {
   "cell_type": "code",
   "execution_count": 5,
   "id": "e4cde0f1",
   "metadata": {},
   "outputs": [],
   "source": [
    "saved_model=pickle.load(open('linear_wine_model.pkl','rb'))"
   ]
  },
  {
   "cell_type": "code",
   "execution_count": 6,
   "id": "7ae47cc0",
   "metadata": {},
   "outputs": [
    {
     "data": {
      "text/plain": [
       "LinearRegression()"
      ]
     },
     "execution_count": 6,
     "metadata": {},
     "output_type": "execute_result"
    }
   ],
   "source": [
    "saved_model"
   ]
  },
  {
   "cell_type": "code",
   "execution_count": 7,
   "id": "4b064e6a",
   "metadata": {},
   "outputs": [
    {
     "data": {
      "text/plain": [
       "array([-127.28910297])"
      ]
     },
     "execution_count": 7,
     "metadata": {},
     "output_type": "execute_result"
    }
   ],
   "source": [
    "saved_model.predict([[1,2,3,4,5,6,7,8,9,10,11]])"
   ]
  },
  {
   "cell_type": "code",
   "execution_count": null,
   "id": "aa3b0248",
   "metadata": {},
   "outputs": [],
   "source": [
    "# Dump : 'wb' write bytes\n",
    "# Load : 'rb' read bytes\n",
    "# encode format : bytes\n",
    "\n",
    "# Original model name: LR\n",
    "# You save in local by pickle\n",
    "# linear_wine_model.pkl\n",
    "\n",
    "pickle.dump(LR,open('linear_wine_model.pkl','wb'))\n",
    "saved_model=pickle.load(open('linear_wine_model.pkl','rb'))"
   ]
  }
 ],
 "metadata": {
  "kernelspec": {
   "display_name": "Python 3 (ipykernel)",
   "language": "python",
   "name": "python3"
  },
  "language_info": {
   "codemirror_mode": {
    "name": "ipython",
    "version": 3
   },
   "file_extension": ".py",
   "mimetype": "text/x-python",
   "name": "python",
   "nbconvert_exporter": "python",
   "pygments_lexer": "ipython3",
   "version": "3.9.12"
  }
 },
 "nbformat": 4,
 "nbformat_minor": 5
}
