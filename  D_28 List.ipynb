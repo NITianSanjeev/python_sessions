{
 "cells": [
  {
   "cell_type": "code",
   "execution_count": 18,
   "id": "c1810c61",
   "metadata": {},
   "outputs": [
    {
     "data": {
      "text/plain": [
       "[1, 2, 3, 4]"
      ]
     },
     "execution_count": 18,
     "metadata": {},
     "output_type": "execute_result"
    }
   ],
   "source": [
    "list1=[1,2,3,4]\n",
    "list1"
   ]
  },
  {
   "cell_type": "code",
   "execution_count": 19,
   "id": "b42707fe",
   "metadata": {},
   "outputs": [
    {
     "data": {
      "text/plain": [
       "['a', 'b', 'c', 'd']"
      ]
     },
     "execution_count": 19,
     "metadata": {},
     "output_type": "execute_result"
    }
   ],
   "source": [
    "list2=['a','b','c','d']\n",
    "list2"
   ]
  },
  {
   "cell_type": "code",
   "execution_count": 20,
   "id": "428fb54d",
   "metadata": {},
   "outputs": [
    {
     "data": {
      "text/plain": [
       "[1, 2, 3, 4, 'A', 'B', 'c']"
      ]
     },
     "execution_count": 20,
     "metadata": {},
     "output_type": "execute_result"
    }
   ],
   "source": [
    "list3=[1,2,3,4,'A','B','c']\n",
    "list3"
   ]
  },
  {
   "cell_type": "code",
   "execution_count": 21,
   "id": "8174cb78",
   "metadata": {},
   "outputs": [
    {
     "data": {
      "text/plain": [
       "[1, 'apple', 2, (10+20j)]"
      ]
     },
     "execution_count": 21,
     "metadata": {},
     "output_type": "execute_result"
    }
   ],
   "source": [
    "list4=[1,'apple',2,10+20j]\n",
    "list4"
   ]
  },
  {
   "cell_type": "markdown",
   "id": "d035b54a",
   "metadata": {},
   "source": [
    "- list is a array of elements\n",
    "- list elements heterogeneous(different) data types are allowed\n",
    "- duplicates are allowed\n",
    "- lists in lists also works"
   ]
  },
  {
   "cell_type": "code",
   "execution_count": 22,
   "id": "897d41e4",
   "metadata": {},
   "outputs": [
    {
     "data": {
      "text/plain": [
       "[100, 100, 100]"
      ]
     },
     "execution_count": 22,
     "metadata": {},
     "output_type": "execute_result"
    }
   ],
   "source": [
    "list5=[100,100,100]\n",
    "list5"
   ]
  },
  {
   "cell_type": "markdown",
   "id": "7a75910c",
   "metadata": {},
   "source": [
    "## list"
   ]
  },
  {
   "cell_type": "code",
   "execution_count": 23,
   "id": "4d882dd9",
   "metadata": {},
   "outputs": [
    {
     "data": {
      "text/plain": [
       "list"
      ]
     },
     "execution_count": 23,
     "metadata": {},
     "output_type": "execute_result"
    }
   ],
   "source": [
    "type(list3)\n"
   ]
  },
  {
   "cell_type": "markdown",
   "id": "f023b82a",
   "metadata": {},
   "source": [
    "## max"
   ]
  },
  {
   "cell_type": "code",
   "execution_count": 24,
   "id": "21868991",
   "metadata": {},
   "outputs": [
    {
     "data": {
      "text/plain": [
       "[1, 2, 3, 4]"
      ]
     },
     "execution_count": 24,
     "metadata": {},
     "output_type": "execute_result"
    }
   ],
   "source": [
    "list1"
   ]
  },
  {
   "cell_type": "code",
   "execution_count": 25,
   "id": "eae43e55",
   "metadata": {},
   "outputs": [
    {
     "data": {
      "text/plain": [
       "['a', 'b', 'c', 'd']"
      ]
     },
     "execution_count": 25,
     "metadata": {},
     "output_type": "execute_result"
    }
   ],
   "source": [
    "list2"
   ]
  },
  {
   "cell_type": "code",
   "execution_count": 26,
   "id": "61be3046",
   "metadata": {},
   "outputs": [
    {
     "name": "stdout",
     "output_type": "stream",
     "text": [
      "4\n",
      "d\n"
     ]
    },
    {
     "ename": "TypeError",
     "evalue": "'>' not supported between instances of 'str' and 'int'",
     "output_type": "error",
     "traceback": [
      "\u001b[1;31m---------------------------------------------------------------------------\u001b[0m",
      "\u001b[1;31mTypeError\u001b[0m                                 Traceback (most recent call last)",
      "Input \u001b[1;32mIn [26]\u001b[0m, in \u001b[0;36m<cell line: 3>\u001b[1;34m()\u001b[0m\n\u001b[0;32m      1\u001b[0m \u001b[38;5;28mprint\u001b[39m(\u001b[38;5;28mmax\u001b[39m(list1)) \u001b[38;5;66;03m# 4\u001b[39;00m\n\u001b[0;32m      2\u001b[0m \u001b[38;5;28mprint\u001b[39m(\u001b[38;5;28mmax\u001b[39m(list2)) \u001b[38;5;66;03m# D ===== > ascii ord\u001b[39;00m\n\u001b[1;32m----> 3\u001b[0m \u001b[38;5;28mprint\u001b[39m(\u001b[38;5;28;43mmax\u001b[39;49m\u001b[43m(\u001b[49m\u001b[43mlist3\u001b[49m\u001b[43m)\u001b[49m)\n",
      "\u001b[1;31mTypeError\u001b[0m: '>' not supported between instances of 'str' and 'int'"
     ]
    }
   ],
   "source": [
    "print(max(list1)) # 4\n",
    "print(max(list2)) # D ===== > ascii ord\n",
    "print(max(list3)) # error we can't compare different data type"
   ]
  },
  {
   "cell_type": "code",
   "execution_count": 27,
   "id": "dceda577",
   "metadata": {},
   "outputs": [
    {
     "name": "stdout",
     "output_type": "stream",
     "text": [
      "1\n",
      "a\n"
     ]
    },
    {
     "ename": "TypeError",
     "evalue": "'<' not supported between instances of 'str' and 'int'",
     "output_type": "error",
     "traceback": [
      "\u001b[1;31m---------------------------------------------------------------------------\u001b[0m",
      "\u001b[1;31mTypeError\u001b[0m                                 Traceback (most recent call last)",
      "Input \u001b[1;32mIn [27]\u001b[0m, in \u001b[0;36m<cell line: 3>\u001b[1;34m()\u001b[0m\n\u001b[0;32m      1\u001b[0m \u001b[38;5;28mprint\u001b[39m(\u001b[38;5;28mmin\u001b[39m(list1))\n\u001b[0;32m      2\u001b[0m \u001b[38;5;28mprint\u001b[39m(\u001b[38;5;28mmin\u001b[39m(list2))\n\u001b[1;32m----> 3\u001b[0m \u001b[38;5;28mprint\u001b[39m(\u001b[38;5;28;43mmin\u001b[39;49m\u001b[43m(\u001b[49m\u001b[43mlist3\u001b[49m\u001b[43m)\u001b[49m)\n",
      "\u001b[1;31mTypeError\u001b[0m: '<' not supported between instances of 'str' and 'int'"
     ]
    }
   ],
   "source": [
    "print(min(list1))\n",
    "print(min(list2))\n",
    "print(min(list3))"
   ]
  },
  {
   "cell_type": "code",
   "execution_count": 28,
   "id": "193b900d",
   "metadata": {},
   "outputs": [
    {
     "name": "stdout",
     "output_type": "stream",
     "text": [
      "4\n",
      "4\n",
      "7\n"
     ]
    }
   ],
   "source": [
    "print(len(list1))\n",
    "print(len(list2))\n",
    "print(len(list3))"
   ]
  },
  {
   "cell_type": "markdown",
   "id": "4e075b86",
   "metadata": {},
   "source": [
    "$sum$"
   ]
  },
  {
   "cell_type": "code",
   "execution_count": 30,
   "id": "6a328044",
   "metadata": {},
   "outputs": [
    {
     "name": "stdout",
     "output_type": "stream",
     "text": [
      "[1, 2, 3, 4]\n",
      "10\n"
     ]
    }
   ],
   "source": [
    "print(list1)\n",
    "print(sum(list1))"
   ]
  },
  {
   "cell_type": "code",
   "execution_count": 31,
   "id": "07be738d",
   "metadata": {},
   "outputs": [
    {
     "name": "stdout",
     "output_type": "stream",
     "text": [
      "['a', 'b', 'c', 'd']\n"
     ]
    },
    {
     "ename": "TypeError",
     "evalue": "unsupported operand type(s) for +: 'int' and 'str'",
     "output_type": "error",
     "traceback": [
      "\u001b[1;31m---------------------------------------------------------------------------\u001b[0m",
      "\u001b[1;31mTypeError\u001b[0m                                 Traceback (most recent call last)",
      "Input \u001b[1;32mIn [31]\u001b[0m, in \u001b[0;36m<cell line: 2>\u001b[1;34m()\u001b[0m\n\u001b[0;32m      1\u001b[0m \u001b[38;5;28mprint\u001b[39m(list2)\n\u001b[1;32m----> 2\u001b[0m \u001b[38;5;28mprint\u001b[39m(\u001b[38;5;28;43msum\u001b[39;49m\u001b[43m(\u001b[49m\u001b[43mlist2\u001b[49m\u001b[43m)\u001b[49m)\n",
      "\u001b[1;31mTypeError\u001b[0m: unsupported operand type(s) for +: 'int' and 'str'"
     ]
    }
   ],
   "source": [
    "print(list2)\n",
    "print(sum(list2))"
   ]
  },
  {
   "cell_type": "markdown",
   "id": "89f54680",
   "metadata": {},
   "source": [
    "- sum\n",
    "- eval\n",
    "- range"
   ]
  },
  {
   "cell_type": "code",
   "execution_count": 32,
   "id": "161f661d",
   "metadata": {},
   "outputs": [
    {
     "data": {
      "text/plain": [
       "[1, 2, 3, 4]"
      ]
     },
     "execution_count": 32,
     "metadata": {},
     "output_type": "execute_result"
    }
   ],
   "source": [
    "list1"
   ]
  },
  {
   "cell_type": "code",
   "execution_count": 36,
   "id": "b315ff41",
   "metadata": {},
   "outputs": [
    {
     "ename": "NameError",
     "evalue": "name 'i' is not defined",
     "output_type": "error",
     "traceback": [
      "\u001b[1;31m---------------------------------------------------------------------------\u001b[0m",
      "\u001b[1;31mNameError\u001b[0m                                 Traceback (most recent call last)",
      "Input \u001b[1;32mIn [36]\u001b[0m, in \u001b[0;36m<cell line: 6>\u001b[1;34m()\u001b[0m\n\u001b[0;32m      3\u001b[0m \u001b[38;5;241m3\u001b[39m \u001b[38;5;129;01min\u001b[39;00m list1\n\u001b[0;32m      4\u001b[0m \u001b[38;5;241m4\u001b[39m \u001b[38;5;129;01min\u001b[39;00m list1\n\u001b[1;32m----> 6\u001b[0m \u001b[43mi\u001b[49m \u001b[38;5;129;01min\u001b[39;00m list1\n",
      "\u001b[1;31mNameError\u001b[0m: name 'i' is not defined"
     ]
    }
   ],
   "source": [
    "1 in list1\n",
    "2 in list1\n",
    "3 in list1\n",
    "4 in list1\n",
    "\n",
    "i in list1\n",
    "\n",
    "\n",
    "\n"
   ]
  },
  {
   "cell_type": "code",
   "execution_count": 37,
   "id": "c80ff7ad",
   "metadata": {},
   "outputs": [
    {
     "name": "stdout",
     "output_type": "stream",
     "text": [
      "1\n",
      "2\n",
      "3\n",
      "4\n"
     ]
    }
   ],
   "source": [
    "for i in list1:\n",
    "    print(i)"
   ]
  },
  {
   "cell_type": "markdown",
   "id": "ad01836d",
   "metadata": {},
   "source": [
    "$concatenation$"
   ]
  },
  {
   "cell_type": "code",
   "execution_count": 39,
   "id": "0db68559",
   "metadata": {},
   "outputs": [
    {
     "data": {
      "text/plain": [
       "[1, 2, 3, 4]"
      ]
     },
     "execution_count": 39,
     "metadata": {},
     "output_type": "execute_result"
    }
   ],
   "source": [
    "list1"
   ]
  },
  {
   "cell_type": "code",
   "execution_count": 40,
   "id": "938c601d",
   "metadata": {},
   "outputs": [
    {
     "data": {
      "text/plain": [
       "['a', 'b', 'c', 'd']"
      ]
     },
     "execution_count": 40,
     "metadata": {},
     "output_type": "execute_result"
    }
   ],
   "source": [
    "list2"
   ]
  },
  {
   "cell_type": "code",
   "execution_count": 41,
   "id": "a5257681",
   "metadata": {},
   "outputs": [
    {
     "name": "stdout",
     "output_type": "stream",
     "text": [
      "[1, 2, 3, 4, 'a', 'b', 'c', 'd']\n",
      "['a', 'b', 'c', 'd', 1, 2, 3, 4]\n"
     ]
    }
   ],
   "source": [
    "print(list1+list2)\n",
    "print(list2+list1)"
   ]
  },
  {
   "cell_type": "code",
   "execution_count": 42,
   "id": "49d17130",
   "metadata": {},
   "outputs": [
    {
     "data": {
      "text/plain": [
       "[1, 2, 3, 4, 'a', 'b', 'c', 'd']"
      ]
     },
     "execution_count": 42,
     "metadata": {},
     "output_type": "execute_result"
    }
   ],
   "source": [
    "new_list=list1+list2\n",
    "new_list"
   ]
  },
  {
   "cell_type": "code",
   "execution_count": 43,
   "id": "d06d3cbb",
   "metadata": {},
   "outputs": [
    {
     "data": {
      "text/plain": [
       "[1, 2, 3, 4, 1, 2, 3, 4, 1, 2, 3, 4]"
      ]
     },
     "execution_count": 43,
     "metadata": {},
     "output_type": "execute_result"
    }
   ],
   "source": [
    "list1*3  # list1+list1+list1"
   ]
  },
  {
   "cell_type": "code",
   "execution_count": null,
   "id": "c1c1667a",
   "metadata": {},
   "outputs": [],
   "source": [
    "list1-list2 # Fail\n",
    "list1*list2 # Fail\n",
    "list1/list2 # Fail\n",
    "\n",
    "# 'a'/'b'"
   ]
  },
  {
   "cell_type": "markdown",
   "id": "a079c5e4",
   "metadata": {},
   "source": [
    "$index$"
   ]
  },
  {
   "cell_type": "code",
   "execution_count": 45,
   "id": "27fcdbf6",
   "metadata": {},
   "outputs": [
    {
     "data": {
      "text/plain": [
       "[1, 2, 3, 4, 'A', 'B', 'c']"
      ]
     },
     "execution_count": 45,
     "metadata": {},
     "output_type": "execute_result"
    }
   ],
   "source": [
    "list3"
   ]
  },
  {
   "cell_type": "code",
   "execution_count": 47,
   "id": "2dc91996",
   "metadata": {},
   "outputs": [
    {
     "data": {
      "text/plain": [
       "(1, 2, 3, 4)"
      ]
     },
     "execution_count": 47,
     "metadata": {},
     "output_type": "execute_result"
    }
   ],
   "source": [
    "# Python index start with zero\n",
    "list3[0],list3[1],list3[2],list3[3]\n",
    "\n",
    "# list3[i]\n",
    "# i= 0 1 2 3"
   ]
  },
  {
   "cell_type": "code",
   "execution_count": null,
   "id": "9f2f9285",
   "metadata": {},
   "outputs": [],
   "source": [
    "list3[-1]\n",
    "\n",
    "-7 -6 -5 -4 -3 -2 -1 \n",
    "1  2  3  4   A  B  C  \n",
    "0  1  2  3   4  5  6"
   ]
  },
  {
   "cell_type": "code",
   "execution_count": 66,
   "id": "9784cc14",
   "metadata": {},
   "outputs": [
    {
     "name": "stdout",
     "output_type": "stream",
     "text": [
      "postive index is: 0 and negative index is -7: for an element 1\n",
      "postive index is: 1 and negative index is -6: for an element 2\n",
      "postive index is: 2 and negative index is -5: for an element 3\n",
      "postive index is: 3 and negative index is -4: for an element 4\n",
      "postive index is: 4 and negative index is -3: for an element A\n",
      "postive index is: 5 and negative index is -2: for an element B\n",
      "postive index is: 6 and negative index is -1: for an element c\n"
     ]
    }
   ],
   "source": [
    "for i in range(len(list3)):\n",
    "    print('postive index is: {} and negative index is {}: for an element {}'.format(i,i-len(list3),list3[i]))"
   ]
  },
  {
   "cell_type": "code",
   "execution_count": 51,
   "id": "04c49afa",
   "metadata": {},
   "outputs": [
    {
     "name": "stdout",
     "output_type": "stream",
     "text": [
      "0 1\n",
      "1 2\n",
      "2 3\n",
      "3 4\n",
      "4 A\n",
      "5 B\n",
      "6 c\n"
     ]
    }
   ],
   "source": [
    "for i in range(len(list3)):\n",
    "    print(i,list3[i])\n"
   ]
  },
  {
   "cell_type": "code",
   "execution_count": null,
   "id": "713eb111",
   "metadata": {},
   "outputs": [],
   "source": [
    "# WAP find the elements which are having len<3\n",
    "# List=['Apple','Ball','Cat','Ab','cd','Ef']\n",
    "\n",
    "# step-1: iterate the list using for loop\n",
    "# step-2: apply the if condition len(<element>)<3:\n",
    "# step-3:            print(element)\n"
   ]
  },
  {
   "cell_type": "code",
   "execution_count": 72,
   "id": "04c2950e",
   "metadata": {},
   "outputs": [
    {
     "name": "stdout",
     "output_type": "stream",
     "text": [
      "Ab\n",
      "cd\n",
      "Ef\n"
     ]
    }
   ],
   "source": [
    "list1=['Apple','Ball','cat','Ab','cd','Ef']\n",
    "for i in range(len(list1)):\n",
    "    \n",
    "    if len(list1[i])<3:\n",
    "        print(list1[i])\n",
    "        "
   ]
  },
  {
   "cell_type": "code",
   "execution_count": 71,
   "id": "3f07594a",
   "metadata": {},
   "outputs": [
    {
     "name": "stdout",
     "output_type": "stream",
     "text": [
      "Ab\n",
      "cd\n",
      "Ef\n"
     ]
    }
   ],
   "source": [
    "for i in list1:\n",
    "    if len(i)<3:\n",
    "        print(i)"
   ]
  },
  {
   "cell_type": "code",
   "execution_count": null,
   "id": "4a909f98",
   "metadata": {},
   "outputs": [],
   "source": [
    "# WAP find the elements which are having #\n",
    "# List=['App#e','B#ll','C#t','Ab','cd','Ef']\n",
    "\n",
    "# step-1: iterate the list using for loop\n",
    "# step-2: apply the if condition :\n",
    "# step-3:            print(element)\n"
   ]
  },
  {
   "cell_type": "code",
   "execution_count": 75,
   "id": "d7301f52",
   "metadata": {},
   "outputs": [
    {
     "name": "stdout",
     "output_type": "stream",
     "text": [
      "App#e\n",
      "B#ll\n",
      "C#t\n"
     ]
    }
   ],
   "source": [
    "list1=['App#e','B#ll','C#t','Ab','cd','Ef']\n",
    "for i in list1:\n",
    "    if '#' in i:\n",
    "        print(i)"
   ]
  },
  {
   "cell_type": "code",
   "execution_count": 78,
   "id": "81f06d67",
   "metadata": {},
   "outputs": [
    {
     "name": "stdout",
     "output_type": "stream",
     "text": [
      "3\n"
     ]
    }
   ],
   "source": [
    "list1=['App#e','B#ll','C#t','Ab','cd','Ef']\n",
    "count=0\n",
    "for i in list1:\n",
    "    if '#' in i:\n",
    "        count=count+1\n",
    "        \n",
    "print(count)        "
   ]
  },
  {
   "cell_type": "code",
   "execution_count": 79,
   "id": "df76d8bb",
   "metadata": {},
   "outputs": [
    {
     "data": {
      "text/plain": [
       "'Ball'"
      ]
     },
     "execution_count": 79,
     "metadata": {},
     "output_type": "execute_result"
    }
   ],
   "source": [
    "list1=[1,2,3,['Apple','Ball']]\n",
    "\n",
    "# retrieve the ball using index\n",
    "# In the given list how many elements are there: 4\n",
    "\n",
    "list1[3][1]\n",
    "\n",
    "\n",
    "\n"
   ]
  },
  {
   "cell_type": "code",
   "execution_count": 86,
   "id": "cb2ced16",
   "metadata": {},
   "outputs": [
    {
     "data": {
      "text/plain": [
       "'cherry'"
      ]
     },
     "execution_count": 86,
     "metadata": {},
     "output_type": "execute_result"
    }
   ],
   "source": [
    "list2=[[[[[[['cherry']]]]]]]\n",
    "list2[0][0][0][0][0][0][0]"
   ]
  },
  {
   "cell_type": "code",
   "execution_count": 87,
   "id": "ac7e95ff",
   "metadata": {},
   "outputs": [
    {
     "data": {
      "text/plain": [
       "'car'"
      ]
     },
     "execution_count": 87,
     "metadata": {},
     "output_type": "execute_result"
    }
   ],
   "source": [
    "list3=[[[['A','B',[[[1,2,3,['car']]]]]]]]\n",
    "# retrieve the car\n",
    "\n",
    "list3[0][0][0][2][0][0][3][0]"
   ]
  },
  {
   "cell_type": "markdown",
   "id": "e48bb5ae",
   "metadata": {},
   "source": [
    "$Mutable$"
   ]
  },
  {
   "cell_type": "code",
   "execution_count": 88,
   "id": "b159b11c",
   "metadata": {},
   "outputs": [
    {
     "ename": "TypeError",
     "evalue": "'str' object does not support item assignment",
     "output_type": "error",
     "traceback": [
      "\u001b[1;31m---------------------------------------------------------------------------\u001b[0m",
      "\u001b[1;31mTypeError\u001b[0m                                 Traceback (most recent call last)",
      "Input \u001b[1;32mIn [88]\u001b[0m, in \u001b[0;36m<cell line: 3>\u001b[1;34m()\u001b[0m\n\u001b[0;32m      1\u001b[0m string1\u001b[38;5;241m=\u001b[39m\u001b[38;5;124m'\u001b[39m\u001b[38;5;124mwelcome\u001b[39m\u001b[38;5;124m'\u001b[39m\n\u001b[0;32m      2\u001b[0m \u001b[38;5;66;03m# 'l' to 'L'\u001b[39;00m\n\u001b[1;32m----> 3\u001b[0m string1[\u001b[38;5;241m2\u001b[39m]\u001b[38;5;241m=\u001b[39m\u001b[38;5;124m'\u001b[39m\u001b[38;5;124mL\u001b[39m\u001b[38;5;124m'\u001b[39m\n",
      "\u001b[1;31mTypeError\u001b[0m: 'str' object does not support item assignment"
     ]
    }
   ],
   "source": [
    "string1='welcome'\n",
    "# 'l' to 'L'\n",
    "string1[2]='L'\n",
    "\n",
    "# Strings are immutable"
   ]
  },
  {
   "cell_type": "code",
   "execution_count": 89,
   "id": "310a49b8",
   "metadata": {},
   "outputs": [
    {
     "data": {
      "text/plain": [
       "[100, 'B', 'C']"
      ]
     },
     "execution_count": 89,
     "metadata": {},
     "output_type": "execute_result"
    }
   ],
   "source": [
    "list1=['A','B','C']\n",
    "list1[0]=100\n",
    "list1"
   ]
  },
  {
   "cell_type": "code",
   "execution_count": 90,
   "id": "957f5844",
   "metadata": {},
   "outputs": [],
   "source": [
    "# List are mutable"
   ]
  },
  {
   "cell_type": "markdown",
   "id": "63e8ac4b",
   "metadata": {},
   "source": [
    "$Slice$"
   ]
  },
  {
   "cell_type": "code",
   "execution_count": 94,
   "id": "6f2ca37c",
   "metadata": {},
   "outputs": [
    {
     "name": "stdout",
     "output_type": "stream",
     "text": [
      "[30, 'P', 'H', 'a']\n",
      "[]\n",
      "[]\n",
      "[30]\n",
      "['c']\n",
      "[]\n",
      "['c', 'N', 'T', 50]\n",
      "[]\n"
     ]
    }
   ],
   "source": [
    "list1=[10,20,30,40,50,'P','Y','T','H','o','N','a','b','c','D']\n",
    "\n",
    "print(list1[2:14:3]) # p\n",
    "print(list1[2:14:-3]) # np\n",
    "print(list1[2:-14:3])   # np\n",
    "print(list1[2:-14:-3])  # p\n",
    "print(list1[-2:14:3])   # p\n",
    "print(list1[-2:-14:3])  # np\n",
    "print(list1[-2:-14:-3])  # p\n",
    "print(list1[2:14:-3])    #np"
   ]
  },
  {
   "cell_type": "markdown",
   "id": "96b1dcb3",
   "metadata": {},
   "source": [
    "- Reading\n",
    "-Different way to provide elements\n",
    "-type/min/max/sum/len\n",
    "-in\n",
    "-concatenation\n",
    "-index\n",
    "-mutable\n",
    "-slice"
   ]
  },
  {
   "cell_type": "code",
   "execution_count": 95,
   "id": "35682bf3",
   "metadata": {},
   "outputs": [
    {
     "data": {
      "text/plain": [
       "['__add__',\n",
       " '__class__',\n",
       " '__class_getitem__',\n",
       " '__contains__',\n",
       " '__delattr__',\n",
       " '__delitem__',\n",
       " '__dir__',\n",
       " '__doc__',\n",
       " '__eq__',\n",
       " '__format__',\n",
       " '__ge__',\n",
       " '__getattribute__',\n",
       " '__getitem__',\n",
       " '__gt__',\n",
       " '__hash__',\n",
       " '__iadd__',\n",
       " '__imul__',\n",
       " '__init__',\n",
       " '__init_subclass__',\n",
       " '__iter__',\n",
       " '__le__',\n",
       " '__len__',\n",
       " '__lt__',\n",
       " '__mul__',\n",
       " '__ne__',\n",
       " '__new__',\n",
       " '__reduce__',\n",
       " '__reduce_ex__',\n",
       " '__repr__',\n",
       " '__reversed__',\n",
       " '__rmul__',\n",
       " '__setattr__',\n",
       " '__setitem__',\n",
       " '__sizeof__',\n",
       " '__str__',\n",
       " '__subclasshook__',\n",
       " 'append',\n",
       " 'clear',\n",
       " 'copy',\n",
       " 'count',\n",
       " 'extend',\n",
       " 'index',\n",
       " 'insert',\n",
       " 'pop',\n",
       " 'remove',\n",
       " 'reverse',\n",
       " 'sort']"
      ]
     },
     "execution_count": 95,
     "metadata": {},
     "output_type": "execute_result"
    }
   ],
   "source": [
    "dir([])"
   ]
  },
  {
   "cell_type": "markdown",
   "id": "0a2889b8",
   "metadata": {},
   "source": [
    "$clear$-$copy$"
   ]
  },
  {
   "cell_type": "code",
   "execution_count": 98,
   "id": "1227dfac",
   "metadata": {},
   "outputs": [
    {
     "name": "stdout",
     "output_type": "stream",
     "text": [
      "list1: []\n",
      "list2: [1, 2, 3, 4]\n"
     ]
    }
   ],
   "source": [
    "list1=[1,2,3,4]\n",
    "\n",
    "# I want any this elemen's in a list2\n",
    "list2=list1.copy()\n",
    "list2\n",
    "\n",
    "list1.clear()\n",
    "\n",
    "print('list1:',list1) #[]\n",
    "print('list2:',list2)  # [1,2,3,4]"
   ]
  },
  {
   "cell_type": "code",
   "execution_count": null,
   "id": "edbe8446",
   "metadata": {},
   "outputs": [],
   "source": []
  }
 ],
 "metadata": {
  "kernelspec": {
   "display_name": "Python 3 (ipykernel)",
   "language": "python",
   "name": "python3"
  },
  "language_info": {
   "codemirror_mode": {
    "name": "ipython",
    "version": 3
   },
   "file_extension": ".py",
   "mimetype": "text/x-python",
   "name": "python",
   "nbconvert_exporter": "python",
   "pygments_lexer": "ipython3",
   "version": "3.9.12"
  }
 },
 "nbformat": 4,
 "nbformat_minor": 5
}
