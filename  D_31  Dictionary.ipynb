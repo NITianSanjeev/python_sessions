{
 "cells": [
  {
   "cell_type": "code",
   "execution_count": 1,
   "id": "95b4c9c8",
   "metadata": {},
   "outputs": [],
   "source": [
    "list1=['Ram','Raheem','Robert']\n",
    "\n",
    "list2=[25,30,35]"
   ]
  },
  {
   "cell_type": "code",
   "execution_count": 2,
   "id": "90fc4d3d",
   "metadata": {},
   "outputs": [
    {
     "name": "stdout",
     "output_type": "stream",
     "text": [
      "Ram 25\n",
      "Raheem 30\n",
      "Robert 35\n"
     ]
    }
   ],
   "source": [
    "for i,j in zip(list1,list2):\n",
    "    print(i,j)\n"
   ]
  },
  {
   "cell_type": "code",
   "execution_count": 3,
   "id": "313a64b4",
   "metadata": {},
   "outputs": [],
   "source": [
    "#{key:value}"
   ]
  },
  {
   "cell_type": "code",
   "execution_count": 4,
   "id": "cd7d5c31",
   "metadata": {},
   "outputs": [
    {
     "data": {
      "text/plain": [
       "{'Ram': 25, 'Raheem': 30, 'Robert': 35}"
      ]
     },
     "execution_count": 4,
     "metadata": {},
     "output_type": "execute_result"
    }
   ],
   "source": [
    "d1={'Ram':25,'Raheem':30,'Robert':35}\n",
    "d1\n"
   ]
  },
  {
   "cell_type": "code",
   "execution_count": 5,
   "id": "a9ea3ffd",
   "metadata": {},
   "outputs": [
    {
     "data": {
      "text/plain": [
       "{25: 'Ram', 30: 'Raheem', 35: 'Robert'}"
      ]
     },
     "execution_count": 5,
     "metadata": {},
     "output_type": "execute_result"
    }
   ],
   "source": [
    "d2={25:'Ram',30:'Raheem',35:'Robert'}\n",
    "d2"
   ]
  },
  {
   "cell_type": "code",
   "execution_count": 6,
   "id": "ed981102",
   "metadata": {},
   "outputs": [
    {
     "data": {
      "text/plain": [
       "{'even': [2, 4, 6], 'odd': [3, 5, 7]}"
      ]
     },
     "execution_count": 6,
     "metadata": {},
     "output_type": "execute_result"
    }
   ],
   "source": [
    "d3={'even':[2,4,6],'odd':[3,5,7]}\n",
    "d3"
   ]
  },
  {
   "cell_type": "code",
   "execution_count": 7,
   "id": "98951f38",
   "metadata": {},
   "outputs": [
    {
     "ename": "TypeError",
     "evalue": "unhashable type: 'list'",
     "output_type": "error",
     "traceback": [
      "\u001b[1;31m---------------------------------------------------------------------------\u001b[0m",
      "\u001b[1;31mTypeError\u001b[0m                                 Traceback (most recent call last)",
      "Input \u001b[1;32mIn [7]\u001b[0m, in \u001b[0;36m<cell line: 1>\u001b[1;34m()\u001b[0m\n\u001b[1;32m----> 1\u001b[0m d4\u001b[38;5;241m=\u001b[39m{[\u001b[38;5;241m2\u001b[39m,\u001b[38;5;241m4\u001b[39m,\u001b[38;5;241m6\u001b[39m]:\u001b[38;5;124m'\u001b[39m\u001b[38;5;124meven\u001b[39m\u001b[38;5;124m'\u001b[39m,[\u001b[38;5;241m3\u001b[39m,\u001b[38;5;241m5\u001b[39m,\u001b[38;5;241m7\u001b[39m]:\u001b[38;5;124m'\u001b[39m\u001b[38;5;124modd\u001b[39m\u001b[38;5;124m'\u001b[39m}\n\u001b[0;32m      2\u001b[0m d4\n",
      "\u001b[1;31mTypeError\u001b[0m: unhashable type: 'list'"
     ]
    }
   ],
   "source": [
    "d4={[2,4,6]:'even',[3,5,7]:'odd'}\n",
    "d4"
   ]
  },
  {
   "cell_type": "code",
   "execution_count": null,
   "id": "2fb2f43c",
   "metadata": {},
   "outputs": [],
   "source": [
    "d4={(2,4,6):'even',(3,5,7):'odd'}\n",
    "d4"
   ]
  },
  {
   "cell_type": "code",
   "execution_count": null,
   "id": "4e7cb6aa",
   "metadata": {},
   "outputs": [],
   "source": [
    "# {'key':<{}>}\n",
    "d5={'item_list':{'fruits''Apple'}}\n",
    "d5"
   ]
  },
  {
   "cell_type": "code",
   "execution_count": null,
   "id": "3f310f41",
   "metadata": {},
   "outputs": [],
   "source": [
    "d6={{'fruits':'Apple'}:'item_list'}\n",
    "d6"
   ]
  },
  {
   "cell_type": "code",
   "execution_count": null,
   "id": "50bb9f95",
   "metadata": {},
   "outputs": [],
   "source": [
    "a=[1,2]\n",
    "b=(1,2)"
   ]
  },
  {
   "cell_type": "code",
   "execution_count": null,
   "id": "8ec988f6",
   "metadata": {},
   "outputs": [],
   "source": [
    "a,b=[1,2]\n",
    "c,d=(1,2)"
   ]
  },
  {
   "cell_type": "code",
   "execution_count": null,
   "id": "69faf2d7",
   "metadata": {},
   "outputs": [],
   "source": [
    "a"
   ]
  },
  {
   "cell_type": "code",
   "execution_count": null,
   "id": "1f927c3e",
   "metadata": {},
   "outputs": [],
   "source": [
    "b"
   ]
  },
  {
   "cell_type": "code",
   "execution_count": null,
   "id": "13700f43",
   "metadata": {},
   "outputs": [],
   "source": [
    "a=1,2\n",
    "a"
   ]
  },
  {
   "cell_type": "markdown",
   "id": "3bc02218",
   "metadata": {},
   "source": [
    "- Dictionary is a key:value pair\n",
    "- at values position you can take any data type\n",
    "- at keys position list and dictionary will fail\n",
    "- duplicate are nit allowed\n",
    "- If you will update a key value,latest value it will take"
   ]
  },
  {
   "cell_type": "code",
   "execution_count": null,
   "id": "35c85609",
   "metadata": {},
   "outputs": [],
   "source": [
    "d1={'A':1,'B':2,'A':1}\n",
    "d1"
   ]
  },
  {
   "cell_type": "code",
   "execution_count": null,
   "id": "d2482209",
   "metadata": {},
   "outputs": [],
   "source": [
    "d1={'A':1,'B':2,'A':3}\n",
    "d1"
   ]
  },
  {
   "cell_type": "markdown",
   "id": "e7bd03c5",
   "metadata": {},
   "source": [
    "- type"
   ]
  },
  {
   "cell_type": "code",
   "execution_count": null,
   "id": "abb1c347",
   "metadata": {},
   "outputs": [],
   "source": [
    "type(d1)"
   ]
  },
  {
   "cell_type": "markdown",
   "id": "3a785ed7",
   "metadata": {},
   "source": [
    "- str \n",
    "\n",
    "- list\n",
    "\n",
    "- dict\n",
    "\n",
    "- int\n",
    "\n",
    "- float\n",
    "\n",
    "- complex\n",
    "\n",
    "- tuple\n",
    "\n",
    "- set"
   ]
  },
  {
   "cell_type": "code",
   "execution_count": null,
   "id": "f17e0007",
   "metadata": {},
   "outputs": [],
   "source": [
    "d1={'Ram':25,'Raheem':30,'Robert':35}\n",
    "max(d1)\n",
    "\n",
    "# This max we are getting based on key or value"
   ]
  },
  {
   "cell_type": "code",
   "execution_count": null,
   "id": "283a2c21",
   "metadata": {},
   "outputs": [],
   "source": [
    "d1={'Ram':25,'Raheem':30,'Robert':3}\n",
    "max(d1)"
   ]
  },
  {
   "cell_type": "markdown",
   "id": "09ed48ed",
   "metadata": {},
   "source": [
    "- max and min value based on key only"
   ]
  },
  {
   "cell_type": "code",
   "execution_count": null,
   "id": "55b563d3",
   "metadata": {},
   "outputs": [],
   "source": [
    "d1={'Ram':25,'Raheem':30,'Robert':35}\n",
    "min(d1)"
   ]
  },
  {
   "cell_type": "code",
   "execution_count": null,
   "id": "9fbf56b2",
   "metadata": {},
   "outputs": [],
   "source": [
    "len(d1)"
   ]
  },
  {
   "cell_type": "code",
   "execution_count": null,
   "id": "a76ae90b",
   "metadata": {},
   "outputs": [],
   "source": [
    "sum(d1)"
   ]
  },
  {
   "cell_type": "code",
   "execution_count": null,
   "id": "0a4358df",
   "metadata": {},
   "outputs": [],
   "source": [
    "d2={1:2,3:4}\n",
    "sum(d2)"
   ]
  },
  {
   "cell_type": "code",
   "execution_count": null,
   "id": "d7afce86",
   "metadata": {},
   "outputs": [],
   "source": [
    "d2={100:'2' ,300:'4'}\n",
    "sum(d2)"
   ]
  },
  {
   "cell_type": "markdown",
   "id": "82fa4b6d",
   "metadata": {},
   "source": [
    "- if key has numeric then we can do sum"
   ]
  },
  {
   "cell_type": "markdown",
   "id": "96e9acd4",
   "metadata": {},
   "source": [
    "- type\n",
    "- len\n",
    "- max\n",
    "- min\n",
    "- sum"
   ]
  },
  {
   "cell_type": "markdown",
   "id": "9b30e010",
   "metadata": {},
   "source": [
    "## in"
   ]
  },
  {
   "cell_type": "code",
   "execution_count": null,
   "id": "3cb8bb7f",
   "metadata": {},
   "outputs": [],
   "source": [
    "d1={'Ram':25,\n",
    "    'Raheem':30,\n",
    "    'Robert':35}\n",
    "\n",
    "# 'Ram':25  in d1 fail\n",
    "# 'Ram' in d1  # works\n",
    "# 25 in d1    #fails"
   ]
  },
  {
   "cell_type": "code",
   "execution_count": null,
   "id": "965e3ea6",
   "metadata": {},
   "outputs": [],
   "source": [
    "for i in d1:\n",
    "    print(i)"
   ]
  },
  {
   "cell_type": "code",
   "execution_count": null,
   "id": "bfca3f59",
   "metadata": {},
   "outputs": [],
   "source": [
    "str1='apple'\n",
    "'a' in str1\n",
    "\n",
    "l1=[1,2,3]\n",
    "1 in l1\n",
    "\n",
    "for i in l1:\n",
    "    print(i)\n",
    "\n",
    "\n"
   ]
  },
  {
   "cell_type": "markdown",
   "id": "79eb82af",
   "metadata": {},
   "source": [
    "## index"
   ]
  },
  {
   "cell_type": "code",
   "execution_count": null,
   "id": "3df812a6",
   "metadata": {},
   "outputs": [],
   "source": [
    "l1=[10,20,30,40]\n",
    "l1[0]"
   ]
  },
  {
   "cell_type": "code",
   "execution_count": null,
   "id": "b820a3f5",
   "metadata": {},
   "outputs": [],
   "source": [
    "str1='apple'\n",
    "str1[0]"
   ]
  },
  {
   "cell_type": "code",
   "execution_count": null,
   "id": "e7b5a996",
   "metadata": {},
   "outputs": [],
   "source": [
    "d1={'Ram':25,\n",
    "    'Raheem':30,\n",
    "    'Robert':35}\n",
    "\n",
    "d1['Ram']\n",
    "\n",
    "# can we get values using for loop"
   ]
  },
  {
   "cell_type": "code",
   "execution_count": null,
   "id": "87a744e7",
   "metadata": {},
   "outputs": [],
   "source": [
    "for key in d1:\n",
    "    print(\"The age of {} is {}\".format(key,d1[key]))"
   ]
  },
  {
   "cell_type": "code",
   "execution_count": null,
   "id": "a3b08fac",
   "metadata": {},
   "outputs": [],
   "source": [
    "for i in range(len(l1)):\n",
    "    print(i,l1[i])"
   ]
  },
  {
   "cell_type": "code",
   "execution_count": null,
   "id": "28599caf",
   "metadata": {},
   "outputs": [],
   "source": [
    "for key in range(len(d1)):\n",
    "    print(key)\n",
    "    # print(\"The age of {} is {}\".format(key,d1[key])) # Not possible"
   ]
  },
  {
   "cell_type": "markdown",
   "id": "9a6b7ede",
   "metadata": {},
   "source": [
    "## Create a empty dictionary and update"
   ]
  },
  {
   "cell_type": "code",
   "execution_count": null,
   "id": "9dbd5f4d",
   "metadata": {},
   "outputs": [],
   "source": [
    "s=''\n",
    "for i in 'apple':\n",
    "    s=s+i\n",
    "    \n",
    "print(s)    \n",
    "    "
   ]
  },
  {
   "cell_type": "code",
   "execution_count": null,
   "id": "7fe86f56",
   "metadata": {},
   "outputs": [],
   "source": [
    "\n",
    "\n",
    "l=[]\n",
    "for i in range(10):\n",
    "    l.append(i)\n",
    "    \n",
    "l    "
   ]
  },
  {
   "cell_type": "code",
   "execution_count": null,
   "id": "7009eac4",
   "metadata": {},
   "outputs": [],
   "source": [
    "d1={}\n",
    "d1['fruite']='Apple'\n",
    "d1"
   ]
  },
  {
   "cell_type": "code",
   "execution_count": null,
   "id": "9f29abfc",
   "metadata": {},
   "outputs": [],
   "source": [
    "# Wap create a dictionary based on two list\n",
    "# name=['Ram','Raheem','Robert']\n",
    "# age=[25,30,35]\n",
    "# d1={'Ram':25,'Raheem':30,'Robert':35}\n",
    "\n"
   ]
  },
  {
   "cell_type": "code",
   "execution_count": null,
   "id": "9e59bf62",
   "metadata": {},
   "outputs": [],
   "source": [
    "names=['Ram','Raheem','Robert']\n",
    "age=[25,30,35]\n",
    "\n",
    "for i in range(len(names)):\n",
    "    print(i,names[i],age[i])"
   ]
  },
  {
   "cell_type": "code",
   "execution_count": null,
   "id": "8d62ed47",
   "metadata": {},
   "outputs": [],
   "source": [
    "names=['Ram','Raheem','Robert']\n",
    "age=[25,30,35]\n",
    "\n",
    "dict1={}\n",
    "\n",
    "for i in range(len(names)):\n",
    "    dict1[names[i]]=age[i]\n",
    "    \n",
    "dict1={names[i]:age[i] for i in range(len(names))} \n",
    "dict1\n",
    "\n",
    " "
   ]
  },
  {
   "cell_type": "code",
   "execution_count": null,
   "id": "b11cf675",
   "metadata": {},
   "outputs": [],
   "source": [
    "names=['Ram','Raheem','Robert']\n",
    "age=[25,30,35]\n",
    "\n",
    "dict1={}\n",
    "\n",
    "for i,j in zip(names,age):\n",
    "    dict1[i]=j  \n",
    "\n",
    "dict1={i:j for i,j in zip(names,age)}\n",
    "dict1"
   ]
  },
  {
   "cell_type": "code",
   "execution_count": 8,
   "id": "f20a91dd",
   "metadata": {},
   "outputs": [],
   "source": [
    "# WAP take 5 random numbers\n",
    "# and creat dictionary with even or odd\n",
    "\n",
    "# output: {'even':[20,22],'odd':[19,21,23]}\n",
    "\n",
    "# step-1: take empty dictionary\n",
    "# step-2: take two even and odd list\n",
    "# step-3: import random\n",
    "# step-4: for I in range (5):\n",
    "# step-5:    num=random.randint(a,b)\n",
    "# step-6:    if <even>:\n",
    "# step-7:    append the value in even list\n",
    "# step-8:    else:\n",
    "# step-9:        append the value in odd list\n",
    "# step-10: create dictinary"
   ]
  },
  {
   "cell_type": "code",
   "execution_count": null,
   "id": "4347c237",
   "metadata": {},
   "outputs": [],
   "source": [
    "dict1={}\n",
    "even=[20,22]\n",
    "odd=[19,21,23]\n",
    "import random\n",
    "for i in range(5):\n",
    "    \n"
   ]
  },
  {
   "cell_type": "code",
   "execution_count": 9,
   "id": "10cbe2f7",
   "metadata": {},
   "outputs": [],
   "source": [
    "import os"
   ]
  },
  {
   "cell_type": "code",
   "execution_count": 10,
   "id": "7d22e600",
   "metadata": {},
   "outputs": [
    {
     "data": {
      "text/plain": [
       "'C:\\\\Users\\\\sony\\\\ DATA SCIENCE  NARESH IT'"
      ]
     },
     "execution_count": 10,
     "metadata": {},
     "output_type": "execute_result"
    }
   ],
   "source": [
    "os.getcwd()"
   ]
  },
  {
   "cell_type": "code",
   "execution_count": null,
   "id": "ff2471b4",
   "metadata": {},
   "outputs": [],
   "source": []
  }
 ],
 "metadata": {
  "kernelspec": {
   "display_name": "Python 3 (ipykernel)",
   "language": "python",
   "name": "python3"
  },
  "language_info": {
   "codemirror_mode": {
    "name": "ipython",
    "version": 3
   },
   "file_extension": ".py",
   "mimetype": "text/x-python",
   "name": "python",
   "nbconvert_exporter": "python",
   "pygments_lexer": "ipython3",
   "version": "3.9.12"
  }
 },
 "nbformat": 4,
 "nbformat_minor": 5
}
