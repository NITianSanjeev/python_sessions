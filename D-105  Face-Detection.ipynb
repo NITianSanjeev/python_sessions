{
 "cells": [
  {
   "cell_type": "code",
   "execution_count": 2,
   "id": "3b757a9e",
   "metadata": {},
   "outputs": [],
   "source": [
    "#!pip install opencv-python"
   ]
  },
  {
   "cell_type": "markdown",
   "id": "eebbce02",
   "metadata": {},
   "source": [
    "## Haar cascade\n",
    "\n",
    "- It is an object detection method"
   ]
  },
  {
   "cell_type": "code",
   "execution_count": 3,
   "id": "eac3d11c",
   "metadata": {},
   "outputs": [],
   "source": [
    "import cv2\n",
    "import numpy as np\n",
    "import warnings \n",
    "warnings.simplefilter('ignore')"
   ]
  },
  {
   "cell_type": "markdown",
   "id": "c4689066",
   "metadata": {},
   "source": [
    "## Load and read the image"
   ]
  },
  {
   "cell_type": "code",
   "execution_count": 4,
   "id": "d9e779a2",
   "metadata": {},
   "outputs": [],
   "source": [
    "# load on the image using 'imread' specifying the path to image\n",
    "\n",
    "img=cv2.imread('C:\\\\Users\\\\sony\\\\ DATA SCIENCE  NARESH IT\\\\Modi.jpg',1)"
   ]
  },
  {
   "cell_type": "markdown",
   "id": "182683b9",
   "metadata": {},
   "source": [
    "## Lets take a closer look at how images are stored"
   ]
  },
  {
   "cell_type": "code",
   "execution_count": 5,
   "id": "cc3be054",
   "metadata": {},
   "outputs": [
    {
     "name": "stdout",
     "output_type": "stream",
     "text": [
      "[[[255 255 255]\n",
      "  [255 255 255]\n",
      "  [255 255 255]\n",
      "  ...\n",
      "  [255 255 255]\n",
      "  [255 255 255]\n",
      "  [255 255 255]]\n",
      "\n",
      " [[255 255 255]\n",
      "  [255 255 255]\n",
      "  [255 255 255]\n",
      "  ...\n",
      "  [255 255 255]\n",
      "  [255 255 255]\n",
      "  [255 255 255]]\n",
      "\n",
      " [[255 255 255]\n",
      "  [255 255 255]\n",
      "  [255 255 255]\n",
      "  ...\n",
      "  [255 255 255]\n",
      "  [255 255 255]\n",
      "  [255 255 255]]\n",
      "\n",
      " ...\n",
      "\n",
      " [[255 255 255]\n",
      "  [255 255 255]\n",
      "  [255 255 255]\n",
      "  ...\n",
      "  [255 255 255]\n",
      "  [255 255 255]\n",
      "  [255 255 255]]\n",
      "\n",
      " [[255 255 255]\n",
      "  [255 255 255]\n",
      "  [255 255 255]\n",
      "  ...\n",
      "  [255 255 255]\n",
      "  [255 255 255]\n",
      "  [255 255 255]]\n",
      "\n",
      " [[255 255 255]\n",
      "  [255 255 255]\n",
      "  [255 255 255]\n",
      "  ...\n",
      "  [255 255 255]\n",
      "  [255 255 255]\n",
      "  [255 255 255]]]\n"
     ]
    }
   ],
   "source": [
    "print(img)"
   ]
  },
  {
   "cell_type": "markdown",
   "id": "84ba9cea",
   "metadata": {},
   "source": [
    "## Shape give the dimension of the image array"
   ]
  },
  {
   "cell_type": "code",
   "execution_count": 6,
   "id": "d2528dff",
   "metadata": {},
   "outputs": [
    {
     "data": {
      "text/plain": [
       "(1358, 1500, 3)"
      ]
     },
     "execution_count": 6,
     "metadata": {},
     "output_type": "execute_result"
    }
   ],
   "source": [
    "img.shape\n",
    "\n",
    "# the 3d dimensions are 1358 pixel in height * 1500 pixel wide\n",
    "# 3 means that there are 3 RGB that makeup this image"
   ]
  },
  {
   "cell_type": "markdown",
   "id": "0e93cdb5",
   "metadata": {},
   "source": [
    "## Display the image"
   ]
  },
  {
   "cell_type": "code",
   "execution_count": 7,
   "id": "d74187f4",
   "metadata": {},
   "outputs": [],
   "source": [
    "# to display our image variable , we use imshow\n",
    "\n",
    "cv2.imshow('pm', img)\n",
    "\n",
    "\n",
    "# waitKey allow us to input information when a image window is open\n",
    "cv2.waitKey()\n",
    "\n",
    "# cv2.waitKey(2000) (time in milisecond)\n",
    "\n",
    "# this close all open window\n",
    "# failure to place this will cause your program to hang\n",
    "cv2.destroyAllWindows()"
   ]
  },
  {
   "cell_type": "code",
   "execution_count": 8,
   "id": "90bad196",
   "metadata": {},
   "outputs": [],
   "source": [
    "img= cv2.imread('C:\\\\Users\\\\sony\\\\ DATA SCIENCE  NARESH IT\\\\Modi.jpg')\n",
    "cv2.imshow('pm', img)\n",
    "cv2.waitKey()\n",
    "cv2.destroyAllWindows()"
   ]
  },
  {
   "cell_type": "markdown",
   "id": "c1a0444b",
   "metadata": {},
   "source": [
    "## Save the image"
   ]
  },
  {
   "cell_type": "code",
   "execution_count": 9,
   "id": "a4fc6dbb",
   "metadata": {},
   "outputs": [
    {
     "data": {
      "text/plain": [
       "True"
      ]
     },
     "execution_count": 9,
     "metadata": {},
     "output_type": "execute_result"
    }
   ],
   "source": [
    "cv2.imwrite('pm_modi.jpg', img)"
   ]
  },
  {
   "cell_type": "markdown",
   "id": "2be1814f",
   "metadata": {},
   "source": [
    "## Resize the image"
   ]
  },
  {
   "cell_type": "code",
   "execution_count": 10,
   "id": "a8ccdda5",
   "metadata": {},
   "outputs": [],
   "source": [
    "img= cv2.imread('C:\\\\Users\\\\sony\\\\ DATA SCIENCE  NARESH IT\\\\Modi.jpg')\n",
    "\n",
    "resize = cv2.resize(img,(500,500))\n",
    "\n",
    "grey = cv2.cvtColor(resize, cv2.COLOR_BGR2GRAY)\n",
    "\n",
    "cv2.imshow('modi image', grey)\n",
    "\n",
    "cv2.waitKey()\n",
    "\n",
    "cv2.destroyAllWindows()"
   ]
  },
  {
   "cell_type": "code",
   "execution_count": 11,
   "id": "a0518783",
   "metadata": {},
   "outputs": [
    {
     "data": {
      "text/plain": [
       "679.0"
      ]
     },
     "execution_count": 11,
     "metadata": {},
     "output_type": "execute_result"
    }
   ],
   "source": [
    "img.shape[0]*0.5"
   ]
  },
  {
   "cell_type": "code",
   "execution_count": 12,
   "id": "d7f381f9",
   "metadata": {},
   "outputs": [
    {
     "data": {
      "text/plain": [
       "750.0"
      ]
     },
     "execution_count": 12,
     "metadata": {},
     "output_type": "execute_result"
    }
   ],
   "source": [
    "img.shape[1]*0.5"
   ]
  },
  {
   "cell_type": "markdown",
   "id": "564a7be0",
   "metadata": {},
   "source": [
    "### face Detection Using HAAR Cascade Classifiers"
   ]
  },
  {
   "cell_type": "code",
   "execution_count": 13,
   "id": "4e8f9013",
   "metadata": {},
   "outputs": [],
   "source": [
    " # we point Open cv cascade classifier function to where our classifier \n",
    "face_classifier = cv2.CascadeClassifier('C:\\\\Users\\\\sony\\\\ DATA SCIENCE  NARESH IT\\\\haarcascade_frontalface_default.xml')\n",
    "\n",
    "# load our image and convert it to grayscale\n",
    "\n",
    "img= cv2.imread('C:\\\\Users\\\\sony\\\\ DATA SCIENCE  NARESH IT\\\\Modi.jpg')\n",
    "img = cv2.resize(img,(500,500))\n",
    "grey = cv2.cvtColor(img, cv2.COLOR_BGR2GRAY)\n",
    "\n",
    "# turning cascade classifier - detectMultiScale ( input image , scaler factor , min neighbors)\n",
    "faces = face_classifier.detectMultiScale(grey, 1.05,5)"
   ]
  },
  {
   "cell_type": "code",
   "execution_count": 14,
   "id": "dd9887a0",
   "metadata": {},
   "outputs": [
    {
     "name": "stdout",
     "output_type": "stream",
     "text": [
      "[[205  79 217 217]]\n"
     ]
    }
   ],
   "source": [
    "print(faces)"
   ]
  },
  {
   "cell_type": "code",
   "execution_count": 15,
   "id": "67fbbf0c",
   "metadata": {},
   "outputs": [
    {
     "ename": "AttributeError",
     "evalue": "module 'cv2' has no attribute 'destroyAllWindow'",
     "output_type": "error",
     "traceback": [
      "\u001b[1;31m---------------------------------------------------------------------------\u001b[0m",
      "\u001b[1;31mAttributeError\u001b[0m                            Traceback (most recent call last)",
      "Input \u001b[1;32mIn [15]\u001b[0m, in \u001b[0;36m<cell line: 24>\u001b[1;34m()\u001b[0m\n\u001b[0;32m     22\u001b[0m cv2\u001b[38;5;241m.\u001b[39mimshow(\u001b[38;5;124m'\u001b[39m\u001b[38;5;124mface detection\u001b[39m\u001b[38;5;124m'\u001b[39m, img)\n\u001b[0;32m     23\u001b[0m cv2\u001b[38;5;241m.\u001b[39mwaitKey()\n\u001b[1;32m---> 24\u001b[0m \u001b[43mcv2\u001b[49m\u001b[38;5;241;43m.\u001b[39;49m\u001b[43mdestroyAllWindow\u001b[49m()\n",
      "\u001b[1;31mAttributeError\u001b[0m: module 'cv2' has no attribute 'destroyAllWindow'"
     ]
    }
   ],
   "source": [
    "face_classifier = cv2.CascadeClassifier('C:\\\\Users\\\\sony\\\\ DATA SCIENCE  NARESH IT\\\\haarcascade_frontalface_default.xml')\n",
    "\n",
    "# load our image and convert it to grayscale\n",
    "\n",
    "img= cv2.imread('C:\\\\Users\\\\sony\\\\ DATA SCIENCE  NARESH IT\\\\Modi.jpg')\n",
    "img = cv2.resize(img,(500,500))\n",
    "grey = cv2.cvtColor(img, cv2.COLOR_BGR2GRAY)\n",
    "\n",
    "# turning cascade classifier - detectMultiScale ( input image , scaler factor , min neighbors)\n",
    "faces = face_classifier.detectMultiScale(grey, 1.05,5)\n",
    "\n",
    "# when no faces detected , face classifier returns and empty tuple \n",
    "\n",
    "if faces is ():\n",
    "    print('no face found')\n",
    "# we iterate through our faces array and draw rectangle\n",
    "# over each face in faces\n",
    "\n",
    "for (x,y,w,h) in faces:\n",
    "    cv2.rectangle(img, (x,y), (x+w,y+h), (0,255,100),1)\n",
    "    \n",
    "cv2.imshow('face detection', img)\n",
    "cv2.waitKey()\n",
    "cv2.destroyAllWindow()\n",
    "    "
   ]
  },
  {
   "cell_type": "markdown",
   "id": "96ab3464",
   "metadata": {},
   "source": [
    "## Face and eye detection"
   ]
  },
  {
   "cell_type": "code",
   "execution_count": 16,
   "id": "0b10dbba",
   "metadata": {},
   "outputs": [
    {
     "ename": "AttributeError",
     "evalue": "module 'cv2' has no attribute 'destroyAllWindow'",
     "output_type": "error",
     "traceback": [
      "\u001b[1;31m---------------------------------------------------------------------------\u001b[0m",
      "\u001b[1;31mAttributeError\u001b[0m                            Traceback (most recent call last)",
      "Input \u001b[1;32mIn [16]\u001b[0m, in \u001b[0;36m<cell line: 27>\u001b[1;34m()\u001b[0m\n\u001b[0;32m     25\u001b[0m cv2\u001b[38;5;241m.\u001b[39mimshow(\u001b[38;5;124m'\u001b[39m\u001b[38;5;124mface \u001b[39m\u001b[38;5;124m'\u001b[39m, img)\n\u001b[0;32m     26\u001b[0m cv2\u001b[38;5;241m.\u001b[39mwaitKey()\n\u001b[1;32m---> 27\u001b[0m \u001b[43mcv2\u001b[49m\u001b[38;5;241;43m.\u001b[39;49m\u001b[43mdestroyAllWindow\u001b[49m()\n",
      "\u001b[1;31mAttributeError\u001b[0m: module 'cv2' has no attribute 'destroyAllWindow'"
     ]
    }
   ],
   "source": [
    "face_classifier = cv2.CascadeClassifier('C:\\\\Users\\\\sony\\\\ DATA SCIENCE  NARESH IT\\\\haarcascade_frontalface_default.xml')\n",
    "eye_classifier = cv2.CascadeClassifier('C:\\\\Users\\\\sony\\\\ DATA SCIENCE  NARESH IT\\\\haarcascade_eye.xml')\n",
    "\n",
    "\n",
    "img= cv2.imread('C:\\\\Users\\\\sony\\\\ DATA SCIENCE  NARESH IT\\\\Modi.jpg')\n",
    "img = cv2.resize(img,(500,500))\n",
    "grey = cv2.cvtColor(img, cv2.COLOR_BGR2GRAY)  \n",
    "faces = face_classifier.detectMultiScale(grey, 1.03,5)\n",
    "\n",
    "# when no faces detected , face classifier returns and empty tuple \n",
    "\n",
    "if faces is ():\n",
    "    print('no face found')\n",
    "\n",
    "for (x,y,w,h) in faces:\n",
    "    cv2.rectangle(img, (x,y), (x+w,y+h), (0,255,100),2)\n",
    "    roi_grey = grey[y:y+h, x:x+w]\n",
    "    roi_color = img[y:y+h, x:x+w]\n",
    "    eyes = eye_classifier.detectMultiScale(roi_grey)\n",
    "    \n",
    "    for (ex,ey,ew,eh) in eyes:\n",
    "        cv2.rectangle(roi_color, (ex,ey), (ex+ew,ey+eh),(0,255,0),2)\n",
    "\n",
    "    \n",
    "cv2.imshow('face ', img)\n",
    "cv2.waitKey()\n",
    "cv2.destroyAllWindow()\n"
   ]
  },
  {
   "cell_type": "markdown",
   "id": "7aedcead",
   "metadata": {},
   "source": [
    "## Capture a video"
   ]
  },
  {
   "cell_type": "code",
   "execution_count": 1,
   "id": "38c5dc00",
   "metadata": {},
   "outputs": [
    {
     "ename": "NameError",
     "evalue": "name 'video' is not defined",
     "output_type": "error",
     "traceback": [
      "\u001b[1;31m---------------------------------------------------------------------------\u001b[0m",
      "\u001b[1;31mNameError\u001b[0m                                 Traceback (most recent call last)",
      "Input \u001b[1;32mIn [1]\u001b[0m, in \u001b[0;36m<cell line: 14>\u001b[1;34m()\u001b[0m\n\u001b[0;32m     10\u001b[0m     \u001b[38;5;28;01mif\u001b[39;00m cv2\u001b[38;5;241m.\u001b[39mwaitKey(\u001b[38;5;241m1\u001b[39m)\u001b[38;5;241m==\u001b[39m\u001b[38;5;28mord\u001b[39m(\u001b[38;5;124m'\u001b[39m\u001b[38;5;124mq\u001b[39m\u001b[38;5;124m'\u001b[39m):\n\u001b[0;32m     11\u001b[0m         \u001b[38;5;28;01mbreak\u001b[39;00m\n\u001b[1;32m---> 14\u001b[0m \u001b[43mvideo\u001b[49m\u001b[38;5;241m.\u001b[39mrelease()\n\u001b[0;32m     15\u001b[0m cv2\u001b[38;5;241m.\u001b[39mdestroyAllWindows()\n",
      "\u001b[1;31mNameError\u001b[0m: name 'video' is not defined"
     ]
    }
   ],
   "source": [
    "# doing some face recognigation with the webcam\n",
    "\n",
    "import cv2\n",
    "vedio =  cv2.VideoCapture(0) # 0--webcam\n",
    "\n",
    "while True:\n",
    "    check,frame = vedio.read()\n",
    "    gray = cv2.cvtColor(frame , cv2.COLOR_BGR2GRAY)\n",
    "    cv2.imshow('vedio', frame)\n",
    "    if cv2.waitKey(1)==ord('q'):\n",
    "        break\n",
    "        \n",
    "        \n",
    "video.release()\n",
    "cv2.destroyAllWindows()"
   ]
  },
  {
   "cell_type": "markdown",
   "id": "50fdf538",
   "metadata": {},
   "source": [
    " ## face & eye detection cascade classifiers"
   ]
  },
  {
   "cell_type": "code",
   "execution_count": null,
   "id": "5cf9cfbb",
   "metadata": {},
   "outputs": [],
   "source": [
    "\n",
    "import cv2\n",
    "face_classifier = cv2.CascadeClassifier('C:\\\\Users\\\\sony\\\\ DATA SCIENCE  NARESH IT\\\\haarcascade_frontalface_default.xml')\n",
    "eye_classifier = cv2.CascadeClassifier('C:\\\\Users\\\\sony\\\\ DATA SCIENCE  NARESH IT\\\\haarcascade_eye.xml')\n",
    "\n",
    "def detect( grey, frame):\n",
    "    faces = face_cascade.detectMultiScale(gray,1.3,5)\n",
    "    for (x,y,w,h) in faces:\n",
    "        cv2.rectangle(frame, (x,y),(x+w,y+h), (255,0,0),2)\n",
    "        roi_grey = grey[y:y+h, x:x+w]\n",
    "        roi_color = img[y:y+h, x:x+w]\n",
    "        eyes = eye_classifier.detectMultiScale(roi_grey, 1.1,3)\n",
    "        \n",
    "        for (ex,ey,ew,eh) in eyes:\n",
    "            cv2.rectangle(roi_color, (ex,ey), (ex+ew,ey+eh),(0,255,0),2)\n",
    "    return frame\n",
    "\n",
    "# doing some face recognition with the webcam\n",
    "\n",
    "vedio = cv2.VideoCapture(0)\n",
    "\n",
    "while True:\n",
    "    check,frame = vedio.read()\n",
    "    gray = cv2.cvtColor(frame , cv2.COLOR_BGR2GRAY)\n",
    "    cv2.imshow('vedio', gray)\n",
    "    canvas = detect(grey,frame)\n",
    "    \n",
    "    cv2.imshow('vedio', canvas)\n",
    "    if cv2.waitKey(1)==ord('q'):\n",
    "        break\n",
    "        \n",
    "        \n",
    "video.release()\n",
    "cv2.destroyAllWindows()        "
   ]
  },
  {
   "cell_type": "markdown",
   "id": "410b2262",
   "metadata": {},
   "source": [
    " ## pedistrian detection"
   ]
  },
  {
   "cell_type": "code",
   "execution_count": null,
   "id": "026ed009",
   "metadata": {},
   "outputs": [],
   "source": [
    "import cv2\n",
    "# create our body classifier\n",
    "body_classifier = cv2.CascadeClassifier('C:\\\\Users\\\\sony\\\\ DATA SCIENCE  NARESH IT\\\\haarcascade_fullbody.xml')\n",
    "\n",
    "# initiate video capture for video file\n",
    "\n",
    "cap = cv2.VideoCapture('C:\\\\Users\\\\sony\\\\ DATA SCIENCE  NARESH IT\\\\walking.avi')\n",
    "\n",
    "# loop once video is successfully loaded\n",
    "\n",
    "while cap.isOpened():\n",
    "    \n",
    "    # read first frame\n",
    "    check,frame = cap.read()\n",
    "    gray = cv2.cvtColor(frame , cv2.COLOR_BGR2GRAY) \n",
    "    # pass frame to our body classifier\n",
    "    \n",
    "    bodies = body_classifier.detectMultiScale(grey,1.2,3)\n",
    "    \n",
    "    # extract bounding boxes for any bodies\n",
    "    \n",
    "    for (x,y,w,h) in bodies:\n",
    "        cv2.rectangle(frame, (x,y),(x+w,y+h), (255,0,0),2)\n",
    "        cv2.imshow('pedestrian', frame)\n",
    "    \n",
    "    \n",
    "    if cv2.waitKey(1)==ord('q'):\n",
    "        break\n",
    "        \n",
    "        \n",
    "cap.release()\n",
    "cv2.destroyAllWindows() \n",
    "    "
   ]
  },
  {
   "cell_type": "code",
   "execution_count": null,
   "id": "152d86ec",
   "metadata": {},
   "outputs": [],
   "source": []
  }
 ],
 "metadata": {
  "kernelspec": {
   "display_name": "Python 3 (ipykernel)",
   "language": "python",
   "name": "python3"
  },
  "language_info": {
   "codemirror_mode": {
    "name": "ipython",
    "version": 3
   },
   "file_extension": ".py",
   "mimetype": "text/x-python",
   "name": "python",
   "nbconvert_exporter": "python",
   "pygments_lexer": "ipython3",
   "version": "3.9.12"
  }
 },
 "nbformat": 4,
 "nbformat_minor": 5
}
