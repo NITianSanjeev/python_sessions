{
 "cells": [
  {
   "cell_type": "code",
   "execution_count": 1,
   "id": "3d69add8",
   "metadata": {},
   "outputs": [],
   "source": [
    "# WAP ask the user enter number\n",
    "# and find the square of the number \n",
    "# M-1: write in normal way\n",
    "# M-2: write in function without argument\n",
    "# M-3: write in function with argument"
   ]
  },
  {
   "cell_type": "code",
   "execution_count": 2,
   "id": "f2b41bca",
   "metadata": {},
   "outputs": [
    {
     "name": "stdout",
     "output_type": "stream",
     "text": [
      "enter a number 5\n",
      "The square of 5 is 25 \n"
     ]
    }
   ],
   "source": [
    "number=eval(input(\"enter a number \"))\n",
    "print(\"The square of {} is {} \".format(number,number*number))"
   ]
  },
  {
   "cell_type": "code",
   "execution_count": 6,
   "id": "6bac71e9",
   "metadata": {},
   "outputs": [
    {
     "name": "stdout",
     "output_type": "stream",
     "text": [
      "enter a number 5\n",
      "The square of 5 is 25\n"
     ]
    }
   ],
   "source": [
    "def square():   # inside the bracket no arguments\n",
    "    number=eval(input(\"enter a number \"))\n",
    "    print(\"The square of {} is {}\".format(number,number*number))\n",
    "square()    \n",
    "    \n",
    " # How many variable are there inside the function: number   "
   ]
  },
  {
   "cell_type": "code",
   "execution_count": 7,
   "id": "646af580",
   "metadata": {},
   "outputs": [
    {
     "name": "stdout",
     "output_type": "stream",
     "text": [
      "The square of 5 is 25\n"
     ]
    }
   ],
   "source": [
    "def square(number):   \n",
    "    \n",
    "    print(\"The square of {} is {}\".format(number,number*number))\n",
    "    \n",
    "square(5)    "
   ]
  },
  {
   "cell_type": "code",
   "execution_count": 8,
   "id": "94715240",
   "metadata": {},
   "outputs": [],
   "source": [
    "# WAP ask there user\n",
    "# get one random number between 1 to 20\n",
    "# enter a number \n",
    "# compare two number\n",
    "# if both are same : print(\"you won\")\n",
    "# else:print(lost):\n",
    "\n",
    "#M-1: write in normal way\n",
    "#M-2: create a function without way\n",
    "#M-3: create a function with argument"
   ]
  },
  {
   "cell_type": "code",
   "execution_count": 11,
   "id": "a4282d23",
   "metadata": {},
   "outputs": [
    {
     "name": "stdout",
     "output_type": "stream",
     "text": [
      "enter a number:4\n",
      "you lost\n"
     ]
    }
   ],
   "source": [
    "# M-1:\n",
    "import random\n",
    "random_num=random.randint(1,20)\n",
    "num=eval(input(\"enter a number:\"))\n",
    "\n",
    "if random_num==num:\n",
    "    print(\"you won\")\n",
    "else:\n",
    "    print(\"you lost\")"
   ]
  },
  {
   "cell_type": "code",
   "execution_count": 14,
   "id": "e99c6031",
   "metadata": {},
   "outputs": [
    {
     "name": "stdout",
     "output_type": "stream",
     "text": [
      "enter a number:4\n",
      "you lost because random number is: 9\n"
     ]
    }
   ],
   "source": [
    "# M-2:\n",
    "import random\n",
    "def compare():\n",
    "    random_num=random.randint(1,20)\n",
    "    num=eval(input(\"enter a number:\"))\n",
    "\n",
    "    if random_num==num:\n",
    "        print(\"you won\")\n",
    "    else:\n",
    "        print(\"you lost because random number is:\",random_num)\n",
    "    \n",
    "compare()    "
   ]
  },
  {
   "cell_type": "code",
   "execution_count": 16,
   "id": "8ff9b7cf",
   "metadata": {},
   "outputs": [
    {
     "name": "stdout",
     "output_type": "stream",
     "text": [
      "you lost because random number is: 14\n"
     ]
    }
   ],
   "source": [
    "# M-3:\n",
    "import random\n",
    "def compare(num):\n",
    "    random_num=random.randint(1,20)\n",
    "\n",
    "    if random_num==num:\n",
    "        print(\"you won\")\n",
    "    else:\n",
    "        print(\"you lost because random number is:\",random_num)\n",
    "    \n",
    "compare(10)    "
   ]
  },
  {
   "cell_type": "code",
   "execution_count": null,
   "id": "f1089208",
   "metadata": {},
   "outputs": [],
   "source": [
    "# How to pass the value\n",
    "#1-direct pass\n",
    "#2-keyboard\n",
    "\n"
   ]
  },
  {
   "cell_type": "code",
   "execution_count": 17,
   "id": "6e120473",
   "metadata": {},
   "outputs": [
    {
     "name": "stdout",
     "output_type": "stream",
     "text": [
      "you lost because random number is: 4\n"
     ]
    }
   ],
   "source": [
    "#1- direct pass\n",
    "import random\n",
    "def compare(num):\n",
    "    random_num=random.randint(1,20)\n",
    "\n",
    "    if random_num==num:\n",
    "        print(\"you won\")\n",
    "    else:\n",
    "        print(\"you lost because random number is:\",random_num)\n",
    "    \n",
    "compare(10)    #direct pass"
   ]
  },
  {
   "cell_type": "code",
   "execution_count": 18,
   "id": "bdc65d51",
   "metadata": {},
   "outputs": [
    {
     "name": "stdout",
     "output_type": "stream",
     "text": [
      "enter a number4\n",
      "you lost because random number is: 20\n"
     ]
    }
   ],
   "source": [
    "#2-keyboard pass\n",
    "import random\n",
    "def compare(num):\n",
    "    random_num=random.randint(1,20)\n",
    "\n",
    "    if random_num==num:\n",
    "        print(\"you won\")\n",
    "    else:\n",
    "        print(\"you lost because random number is:\",random_num)\n",
    "    \n",
    "compare(eval(input(\"enter a number\")))    "
   ]
  },
  {
   "cell_type": "code",
   "execution_count": 19,
   "id": "367d8a2c",
   "metadata": {},
   "outputs": [],
   "source": [
    "# WAP ask the user enter salary\n",
    "#     ask the user enter tax percenntage\n",
    "#     calculate tax to pay"
   ]
  },
  {
   "cell_type": "code",
   "execution_count": 20,
   "id": "1127c312",
   "metadata": {},
   "outputs": [
    {
     "name": "stdout",
     "output_type": "stream",
     "text": [
      "The total tax is: 500.0\n"
     ]
    }
   ],
   "source": [
    "def tax_cal(salary,tax_per):\n",
    "    total_tax=salary*tax_per/100\n",
    "    print(\"The total tax is:\",total_tax)\n",
    "    \n",
    "tax_cal(10000,5)    \n"
   ]
  },
  {
   "cell_type": "code",
   "execution_count": 21,
   "id": "9306abd8",
   "metadata": {},
   "outputs": [
    {
     "name": "stdout",
     "output_type": "stream",
     "text": [
      "The total tax is: 500.0\n"
     ]
    }
   ],
   "source": [
    "# How do you pass the value\n",
    "def tax_cal(salary,tax_per):\n",
    "    total_tax=salary*tax_per/100\n",
    "    print(\"The total tax is:\",total_tax)\n",
    "    \n",
    "tax_cal(10000,5)    # Direct pass\n"
   ]
  },
  {
   "cell_type": "code",
   "execution_count": 23,
   "id": "e53ddc83",
   "metadata": {},
   "outputs": [
    {
     "name": "stdout",
     "output_type": "stream",
     "text": [
      "enter salary: 4000000\n",
      "enter tax percentage: 5\n",
      "The total tax is: 200000.0\n"
     ]
    }
   ],
   "source": [
    "def tax_cal(salary,tax_per):\n",
    "    total_tax=salary*tax_per/100\n",
    "    print(\"The total tax is:\",total_tax)\n",
    "    \n",
    "salary=eval(input(\"enter salary: \")) \n",
    "tax_per=eval(input(\"enter tax percentage: \"))\n",
    "    \n",
    "tax_cal(salary,tax_per)   # Keyword pass"
   ]
  },
  {
   "cell_type": "code",
   "execution_count": 24,
   "id": "c153fe53",
   "metadata": {},
   "outputs": [],
   "source": [
    "# Tax percentage is always=20\n",
    "# Fixed\n",
    "# default"
   ]
  },
  {
   "cell_type": "code",
   "execution_count": 25,
   "id": "26ea3788",
   "metadata": {},
   "outputs": [
    {
     "name": "stdout",
     "output_type": "stream",
     "text": [
      "The total tax is: 2000.0\n"
     ]
    }
   ],
   "source": [
    "def tax_cal(salary,tax_per=20):\n",
    "    total_tax=salary*tax_per/100\n",
    "    print(\"The total tax is:\",total_tax)\n",
    "    \n",
    "tax_cal(10000)    "
   ]
  },
  {
   "cell_type": "code",
   "execution_count": 28,
   "id": "ffef5245",
   "metadata": {},
   "outputs": [
    {
     "name": "stdout",
     "output_type": "stream",
     "text": [
      "The average is: 30.0\n"
     ]
    }
   ],
   "source": [
    "def avg(num1,num2,num3):\n",
    "    add=(num1+num2+num3)\n",
    "    avg=add/3\n",
    "    print(\"The average is:\",avg)\n",
    "    \n",
    "avg(20,30,40)    "
   ]
  },
  {
   "cell_type": "code",
   "execution_count": 30,
   "id": "bae27b27",
   "metadata": {},
   "outputs": [
    {
     "name": "stdout",
     "output_type": "stream",
     "text": [
      "num1: 20\n",
      "num2: 30\n",
      "num3: 50\n",
      "The average is: 33.333333333333336\n"
     ]
    }
   ],
   "source": [
    "def avg(num1,num2,num3=50):\n",
    "    print(\"num1:\",num1)\n",
    "    print(\"num2:\",num2)\n",
    "    print(\"num3:\",num3)\n",
    "    add=(num1+num2+num3)\n",
    "    avg=add/3\n",
    "    print(\"The average is:\",avg)\n",
    "    \n",
    "avg(20,30)   "
   ]
  },
  {
   "cell_type": "code",
   "execution_count": null,
   "id": "aab779e3",
   "metadata": {},
   "outputs": [],
   "source": []
  }
 ],
 "metadata": {
  "kernelspec": {
   "display_name": "Python 3 (ipykernel)",
   "language": "python",
   "name": "python3"
  },
  "language_info": {
   "codemirror_mode": {
    "name": "ipython",
    "version": 3
   },
   "file_extension": ".py",
   "mimetype": "text/x-python",
   "name": "python",
   "nbconvert_exporter": "python",
   "pygments_lexer": "ipython3",
   "version": "3.9.12"
  }
 },
 "nbformat": 4,
 "nbformat_minor": 5
}
