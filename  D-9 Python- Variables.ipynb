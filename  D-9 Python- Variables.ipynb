{
 "cells": [
  {
   "cell_type": "markdown",
   "id": "666413a5",
   "metadata": {},
   "source": [
    "## Variables:"
   ]
  },
  {
   "cell_type": "code",
   "execution_count": 1,
   "id": "8cb539ad",
   "metadata": {},
   "outputs": [
    {
     "data": {
      "text/plain": [
       "100"
      ]
     },
     "execution_count": 1,
     "metadata": {},
     "output_type": "execute_result"
    }
   ],
   "source": [
    "number=100  #100 value is stored in variable called number\n",
    "number      # so that number is variable"
   ]
  },
  {
   "cell_type": "code",
   "execution_count": 2,
   "id": "e5e485e6",
   "metadata": {},
   "outputs": [
    {
     "data": {
      "text/plain": [
       "200"
      ]
     },
     "execution_count": 2,
     "metadata": {},
     "output_type": "execute_result"
    }
   ],
   "source": [
    "number=200\n",
    "number"
   ]
  },
  {
   "cell_type": "code",
   "execution_count": 3,
   "id": "051d1438",
   "metadata": {},
   "outputs": [],
   "source": [
    "# so here first number has 100\n",
    "#         second number has 200\n",
    "# number is changing its value\n",
    "# that's why we are calling number as variable"
   ]
  },
  {
   "cell_type": "markdown",
   "id": "bd5fcc60",
   "metadata": {},
   "source": [
    "## Rules to define variables"
   ]
  },
  {
   "cell_type": "code",
   "execution_count": 4,
   "id": "f8da4520",
   "metadata": {},
   "outputs": [
    {
     "data": {
      "text/plain": [
       "300"
      ]
     },
     "execution_count": 4,
     "metadata": {},
     "output_type": "execute_result"
    }
   ],
   "source": [
    "# Upper case\n",
    "NUMBER=300\n",
    "NUMBER"
   ]
  },
  {
   "cell_type": "code",
   "execution_count": 5,
   "id": "e143f866",
   "metadata": {},
   "outputs": [
    {
     "data": {
      "text/plain": [
       "400"
      ]
     },
     "execution_count": 5,
     "metadata": {},
     "output_type": "execute_result"
    }
   ],
   "source": [
    "# lower case\n",
    "number=400\n",
    "number"
   ]
  },
  {
   "cell_type": "code",
   "execution_count": 6,
   "id": "a960abf0",
   "metadata": {},
   "outputs": [
    {
     "data": {
      "text/plain": [
       "500"
      ]
     },
     "execution_count": 6,
     "metadata": {},
     "output_type": "execute_result"
    }
   ],
   "source": [
    "# combination of upper case and lower case\n",
    "NUMber=500\n",
    "NUMber"
   ]
  },
  {
   "cell_type": "code",
   "execution_count": 7,
   "id": "b853f442",
   "metadata": {},
   "outputs": [
    {
     "data": {
      "text/plain": [
       "600"
      ]
     },
     "execution_count": 7,
     "metadata": {},
     "output_type": "execute_result"
    }
   ],
   "source": [
    "# Combination of Letters and numbers , numbers as suffix\n",
    "number123=600\n",
    "number123"
   ]
  },
  {
   "cell_type": "code",
   "execution_count": 8,
   "id": "c7b5277a",
   "metadata": {},
   "outputs": [
    {
     "ename": "SyntaxError",
     "evalue": "invalid syntax (1106185642.py, line 2)",
     "output_type": "error",
     "traceback": [
      "\u001b[1;36m  Input \u001b[1;32mIn [8]\u001b[1;36m\u001b[0m\n\u001b[1;33m    123number=700\u001b[0m\n\u001b[1;37m       ^\u001b[0m\n\u001b[1;31mSyntaxError\u001b[0m\u001b[1;31m:\u001b[0m invalid syntax\n"
     ]
    }
   ],
   "source": [
    "# combination of Letters and numbers, number as prefix\n",
    "123number=700\n",
    "123number"
   ]
  },
  {
   "cell_type": "code",
   "execution_count": 10,
   "id": "229bcf6f",
   "metadata": {},
   "outputs": [
    {
     "ename": "SyntaxError",
     "evalue": "invalid syntax (1051806080.py, line 3)",
     "output_type": "error",
     "traceback": [
      "\u001b[1;36m  Input \u001b[1;32mIn [10]\u001b[1;36m\u001b[0m\n\u001b[1;33m    number%\u001b[0m\n\u001b[1;37m           ^\u001b[0m\n\u001b[1;31mSyntaxError\u001b[0m\u001b[1;31m:\u001b[0m invalid syntax\n"
     ]
    }
   ],
   "source": [
    "# spl charcters\n",
    "number%=800\n",
    "number%"
   ]
  },
  {
   "cell_type": "code",
   "execution_count": 11,
   "id": "dab0255a",
   "metadata": {},
   "outputs": [
    {
     "data": {
      "text/plain": [
       "900"
      ]
     },
     "execution_count": 11,
     "metadata": {},
     "output_type": "execute_result"
    }
   ],
   "source": [
    "# Underscore\n",
    "number_=900\n",
    "number_"
   ]
  },
  {
   "cell_type": "code",
   "execution_count": 12,
   "id": "6443afca",
   "metadata": {},
   "outputs": [
    {
     "ename": "SyntaxError",
     "evalue": "invalid syntax (2858696603.py, line 2)",
     "output_type": "error",
     "traceback": [
      "\u001b[1;36m  Input \u001b[1;32mIn [12]\u001b[1;36m\u001b[0m\n\u001b[1;33m    if=500\u001b[0m\n\u001b[1;37m      ^\u001b[0m\n\u001b[1;31mSyntaxError\u001b[0m\u001b[1;31m:\u001b[0m invalid syntax\n"
     ]
    }
   ],
   "source": [
    "# Keywords\n",
    "if=500\n",
    "if"
   ]
  },
  {
   "cell_type": "code",
   "execution_count": 13,
   "id": "26f1782f",
   "metadata": {},
   "outputs": [
    {
     "data": {
      "text/plain": [
       "700"
      ]
     },
     "execution_count": 13,
     "metadata": {},
     "output_type": "execute_result"
    }
   ],
   "source": [
    "sum=700\n",
    "sum"
   ]
  },
  {
   "cell_type": "markdown",
   "id": "1fb30eee",
   "metadata": {},
   "source": [
    "### Note\n",
    "#### sum is a math operation it will works,but do not use as variable"
   ]
  },
  {
   "cell_type": "code",
   "execution_count": 14,
   "id": "48da788d",
   "metadata": {},
   "outputs": [
    {
     "ename": "SyntaxError",
     "evalue": "invalid syntax (2242041679.py, line 1)",
     "output_type": "error",
     "traceback": [
      "\u001b[1;36m  Input \u001b[1;32mIn [14]\u001b[1;36m\u001b[0m\n\u001b[1;33m    number one=700\u001b[0m\n\u001b[1;37m           ^\u001b[0m\n\u001b[1;31mSyntaxError\u001b[0m\u001b[1;31m:\u001b[0m invalid syntax\n"
     ]
    }
   ],
   "source": [
    "number one=700\n",
    "number one"
   ]
  },
  {
   "cell_type": "code",
   "execution_count": 15,
   "id": "e84f4ba3",
   "metadata": {},
   "outputs": [
    {
     "data": {
      "text/plain": [
       "700"
      ]
     },
     "execution_count": 15,
     "metadata": {},
     "output_type": "execute_result"
    }
   ],
   "source": [
    "number_one=700\n",
    "number_one"
   ]
  },
  {
   "cell_type": "code",
   "execution_count": 17,
   "id": "0bcf54f4",
   "metadata": {},
   "outputs": [
    {
     "data": {
      "text/plain": [
       "900"
      ]
     },
     "execution_count": 17,
     "metadata": {},
     "output_type": "execute_result"
    }
   ],
   "source": [
    "_=900\n",
    "_"
   ]
  },
  {
   "cell_type": "code",
   "execution_count": null,
   "id": "cb5e62e0",
   "metadata": {},
   "outputs": [],
   "source": [
    "#### Ba"
   ]
  }
 ],
 "metadata": {
  "kernelspec": {
   "display_name": "Python 3 (ipykernel)",
   "language": "python",
   "name": "python3"
  },
  "language_info": {
   "codemirror_mode": {
    "name": "ipython",
    "version": 3
   },
   "file_extension": ".py",
   "mimetype": "text/x-python",
   "name": "python",
   "nbconvert_exporter": "python",
   "pygments_lexer": "ipython3",
   "version": "3.9.12"
  }
 },
 "nbformat": 4,
 "nbformat_minor": 5
}
