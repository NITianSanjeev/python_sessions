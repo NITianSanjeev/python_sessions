{
 "cells": [
  {
   "cell_type": "code",
   "execution_count": 5,
   "id": "cafcde9e",
   "metadata": {},
   "outputs": [
    {
     "data": {
      "text/plain": [
       "'Hai How Are You'"
      ]
     },
     "execution_count": 5,
     "metadata": {},
     "output_type": "execute_result"
    }
   ],
   "source": [
    "s1='hai how are you'\n",
    "l=s1.split(' ')\n",
    "l1=[]\n",
    "for i in l:\n",
    "    l1.append(i.capitalize())\n",
    "' '.join(l1)  \n",
    "    "
   ]
  },
  {
   "cell_type": "code",
   "execution_count": 6,
   "id": "72913c84",
   "metadata": {},
   "outputs": [
    {
     "data": {
      "text/plain": [
       "['__class__',\n",
       " '__class_getitem__',\n",
       " '__contains__',\n",
       " '__delattr__',\n",
       " '__delitem__',\n",
       " '__dir__',\n",
       " '__doc__',\n",
       " '__eq__',\n",
       " '__format__',\n",
       " '__ge__',\n",
       " '__getattribute__',\n",
       " '__getitem__',\n",
       " '__gt__',\n",
       " '__hash__',\n",
       " '__init__',\n",
       " '__init_subclass__',\n",
       " '__ior__',\n",
       " '__iter__',\n",
       " '__le__',\n",
       " '__len__',\n",
       " '__lt__',\n",
       " '__ne__',\n",
       " '__new__',\n",
       " '__or__',\n",
       " '__reduce__',\n",
       " '__reduce_ex__',\n",
       " '__repr__',\n",
       " '__reversed__',\n",
       " '__ror__',\n",
       " '__setattr__',\n",
       " '__setitem__',\n",
       " '__sizeof__',\n",
       " '__str__',\n",
       " '__subclasshook__',\n",
       " 'clear',\n",
       " 'copy',\n",
       " 'fromkeys',\n",
       " 'get',\n",
       " 'items',\n",
       " 'keys',\n",
       " 'pop',\n",
       " 'popitem',\n",
       " 'setdefault',\n",
       " 'update',\n",
       " 'values']"
      ]
     },
     "execution_count": 6,
     "metadata": {},
     "output_type": "execute_result"
    }
   ],
   "source": [
    "dir({})"
   ]
  },
  {
   "cell_type": "markdown",
   "id": "6c77b70a",
   "metadata": {},
   "source": [
    "## clear and copy"
   ]
  },
  {
   "cell_type": "code",
   "execution_count": 7,
   "id": "679e7831",
   "metadata": {},
   "outputs": [],
   "source": [
    "# take one dictionary \n",
    "# take second dictionary \n",
    "# copy first dict into second\n",
    "# clear first dict\n",
    "# and print both"
   ]
  },
  {
   "cell_type": "code",
   "execution_count": 12,
   "id": "4a2aeacf",
   "metadata": {},
   "outputs": [
    {
     "name": "stdout",
     "output_type": "stream",
     "text": [
      "{}\n",
      "{'a': 20, 'b': 30, 'c': 40, 'd': 500}\n"
     ]
    }
   ],
   "source": [
    "d1= {'a':20,'b':30,'c':40,'d':500}\n",
    "d2=d1.copy()\n",
    "d1.clear()\n",
    "print(d1)     # {}\n",
    "print(d2)     #  {'a':20,'b':30,'c':40,'d':500}"
   ]
  },
  {
   "cell_type": "markdown",
   "id": "2c4be4d9",
   "metadata": {},
   "source": [
    "## pop-popitem-del"
   ]
  },
  {
   "cell_type": "markdown",
   "id": "dc34dc39",
   "metadata": {},
   "source": [
    "- what is pop\n",
    "\n",
    "       - pop is remove specify key\n",
    "       - return the value\n",
    "\n",
    "- what is popitem\n",
    "\n",
    "       - remove the last value default\n",
    "       \n",
    "       - return the pair\n",
    "\n",
    "- what is del\n",
    "\n",
    "        - del is a keyword\n",
    "        - it can delete an item by providing specific key"
   ]
  },
  {
   "cell_type": "markdown",
   "id": "878bf091",
   "metadata": {},
   "source": [
    "d2"
   ]
  },
  {
   "cell_type": "code",
   "execution_count": 14,
   "id": "0f0750e7",
   "metadata": {},
   "outputs": [
    {
     "data": {
      "text/plain": [
       "20"
      ]
     },
     "execution_count": 14,
     "metadata": {},
     "output_type": "execute_result"
    }
   ],
   "source": [
    "d2.pop('a')"
   ]
  },
  {
   "cell_type": "code",
   "execution_count": 15,
   "id": "6e7c834d",
   "metadata": {},
   "outputs": [
    {
     "data": {
      "text/plain": [
       "('d', 500)"
      ]
     },
     "execution_count": 15,
     "metadata": {},
     "output_type": "execute_result"
    }
   ],
   "source": [
    "d2.popitem()"
   ]
  },
  {
   "cell_type": "code",
   "execution_count": null,
   "id": "9b5e4234",
   "metadata": {},
   "outputs": [],
   "source": [
    "# del is a keyword\n",
    "del d2[]"
   ]
  },
  {
   "cell_type": "code",
   "execution_count": 17,
   "id": "47ce4709",
   "metadata": {},
   "outputs": [],
   "source": [
    "l1=[10,20,30,40,50]\n",
    "del l1[1]           # list is acces by index only"
   ]
  },
  {
   "cell_type": "code",
   "execution_count": 18,
   "id": "db916f5c",
   "metadata": {},
   "outputs": [
    {
     "data": {
      "text/plain": [
       "[10, 30, 40, 50]"
      ]
     },
     "execution_count": 18,
     "metadata": {},
     "output_type": "execute_result"
    }
   ],
   "source": [
    "l1"
   ]
  },
  {
   "cell_type": "code",
   "execution_count": 20,
   "id": "d5e8c791",
   "metadata": {},
   "outputs": [
    {
     "data": {
      "text/plain": [
       "{'b': 30, 'c': 40}"
      ]
     },
     "execution_count": 20,
     "metadata": {},
     "output_type": "execute_result"
    }
   ],
   "source": [
    "d2"
   ]
  },
  {
   "cell_type": "code",
   "execution_count": 22,
   "id": "34792df9",
   "metadata": {},
   "outputs": [],
   "source": [
    "del d2['c']\n"
   ]
  },
  {
   "cell_type": "code",
   "execution_count": 23,
   "id": "d5e29814",
   "metadata": {},
   "outputs": [
    {
     "data": {
      "text/plain": [
       "{'b': 30}"
      ]
     },
     "execution_count": 23,
     "metadata": {},
     "output_type": "execute_result"
    }
   ],
   "source": [
    "d2"
   ]
  },
  {
   "cell_type": "code",
   "execution_count": null,
   "id": "dec24d36",
   "metadata": {},
   "outputs": [],
   "source": [
    "d1={'a':1,'b':2,'c':3}\n",
    "\n",
    "######################################\n",
    "\n",
    "del d1['c']\n",
    "\n",
    "d1.pop('c')\n",
    "\n",
    "d1.popitem()\n",
    "\n",
    "###############################################\n",
    "\n",
    "del(d1)"
   ]
  },
  {
   "cell_type": "markdown",
   "id": "a5758470",
   "metadata": {},
   "source": [
    "- items /values /keys \n",
    "\n",
    "- if i provide two list you know how to make dict\n",
    "\n",
    "- if i provide dict,you know how to generate list\n",
    "\n",
    "- create an empty string/list/dictionary \n",
    "\n",
    "- counter \n",
    "\n",
    "- summ\n",
    "\n",
    "- function\n",
    "\n",
    "- pop/popitem/del\n",
    "\n",
    "- copy/clear"
   ]
  },
  {
   "cell_type": "markdown",
   "id": "9223b566",
   "metadata": {},
   "source": [
    "## fromkeys get"
   ]
  },
  {
   "cell_type": "code",
   "execution_count": 26,
   "id": "3cb85fda",
   "metadata": {},
   "outputs": [
    {
     "data": {
      "text/plain": [
       "30"
      ]
     },
     "execution_count": 26,
     "metadata": {},
     "output_type": "execute_result"
    }
   ],
   "source": [
    "d1 = {'a':20,'b':30,'c':40,'d':500}\n",
    "d1['b']"
   ]
  },
  {
   "cell_type": "code",
   "execution_count": 27,
   "id": "c722f993",
   "metadata": {},
   "outputs": [
    {
     "data": {
      "text/plain": [
       "30"
      ]
     },
     "execution_count": 27,
     "metadata": {},
     "output_type": "execute_result"
    }
   ],
   "source": [
    "d1.get('b')"
   ]
  },
  {
   "cell_type": "markdown",
   "id": "fbec4505",
   "metadata": {},
   "source": [
    "- how many ways we can do\n",
    "\n",
    "- what output it is returning\n",
    "\n",
    "- what is the difference \n",
    "\n",
    "- we can access the values providing key as index and key in get method\n",
    "\n",
    "- but if the key is not present in dictionary, key and index will give key error\n",
    "\n",
    "- get  method will not return anything and no error"
   ]
  },
  {
   "cell_type": "markdown",
   "id": "4ebdccc9",
   "metadata": {},
   "source": [
    "##  fromkeys"
   ]
  },
  {
   "cell_type": "markdown",
   "id": "081c3d56",
   "metadata": {},
   "source": [
    "- it creates a new dictionary\n",
    "\n",
    "- create a new dictionary  from the given sequence of elements\n",
    "\n",
    "- create new dictionary with iterable key "
   ]
  },
  {
   "cell_type": "code",
   "execution_count": 33,
   "id": "b9c22697",
   "metadata": {},
   "outputs": [
    {
     "data": {
      "text/plain": [
       "{'R': 25, 'a': 25, 'h': 25, 'e': 25, 'm': 25}"
      ]
     },
     "execution_count": 33,
     "metadata": {},
     "output_type": "execute_result"
    }
   ],
   "source": [
    "d2={}.fromkeys('Raheem',25)\n",
    "d2"
   ]
  },
  {
   "cell_type": "code",
   "execution_count": 32,
   "id": "5192ba0d",
   "metadata": {},
   "outputs": [
    {
     "data": {
      "text/plain": [
       "{'a': 20, 'b': 30, 'c': 40, 'd': 500}"
      ]
     },
     "execution_count": 32,
     "metadata": {},
     "output_type": "execute_result"
    }
   ],
   "source": [
    "d1"
   ]
  },
  {
   "cell_type": "code",
   "execution_count": 35,
   "id": "9a3ed530",
   "metadata": {},
   "outputs": [
    {
     "data": {
      "text/plain": [
       "'Sanjeev'"
      ]
     },
     "execution_count": 35,
     "metadata": {},
     "output_type": "execute_result"
    }
   ],
   "source": [
    "name='sanjeev'\n",
    "name.capitalize()"
   ]
  },
  {
   "cell_type": "code",
   "execution_count": 36,
   "id": "0c49962c",
   "metadata": {},
   "outputs": [],
   "source": [
    "name='sanjeev'\n",
    "new=name.capitalize()"
   ]
  },
  {
   "cell_type": "code",
   "execution_count": 37,
   "id": "7d4ecfd7",
   "metadata": {},
   "outputs": [
    {
     "data": {
      "text/plain": [
       "'Sanjeev'"
      ]
     },
     "execution_count": 37,
     "metadata": {},
     "output_type": "execute_result"
    }
   ],
   "source": [
    "new"
   ]
  },
  {
   "cell_type": "code",
   "execution_count": 38,
   "id": "e957f13b",
   "metadata": {},
   "outputs": [
    {
     "data": {
      "text/plain": [
       "{1: None, 3: None, 5: None, 'odd': None}"
      ]
     },
     "execution_count": 38,
     "metadata": {},
     "output_type": "execute_result"
    }
   ],
   "source": [
    "d3={}.fromkeys([1,3,5,'odd'])\n",
    "d3"
   ]
  },
  {
   "cell_type": "code",
   "execution_count": 39,
   "id": "a5695110",
   "metadata": {},
   "outputs": [
    {
     "name": "stdout",
     "output_type": "stream",
     "text": [
      "1\n",
      "3\n",
      "5\n"
     ]
    }
   ],
   "source": [
    "for i in [1,3,5]:\n",
    "    print(i)"
   ]
  },
  {
   "cell_type": "markdown",
   "id": "334e10f6",
   "metadata": {},
   "source": [
    "##  set as default"
   ]
  },
  {
   "cell_type": "markdown",
   "id": "5412c295",
   "metadata": {},
   "source": [
    "- return the value of key\n",
    "- if key is not present return default"
   ]
  },
  {
   "cell_type": "code",
   "execution_count": 53,
   "id": "ce1e6dc5",
   "metadata": {},
   "outputs": [
    {
     "data": {
      "text/plain": [
       "{'nareshit': 'Ds'}"
      ]
     },
     "execution_count": 53,
     "metadata": {},
     "output_type": "execute_result"
    }
   ],
   "source": [
    "d1={}\n",
    "d1.setdefault('nareshit','Ds')\n",
    "d1"
   ]
  },
  {
   "cell_type": "code",
   "execution_count": 51,
   "id": "cdaa5e20",
   "metadata": {},
   "outputs": [
    {
     "data": {
      "text/plain": [
       "{'nareshit': ['DS', 'MLops', 'DE'], 'city': None}"
      ]
     },
     "execution_count": 51,
     "metadata": {},
     "output_type": "execute_result"
    }
   ],
   "source": [
    "d1={}\n",
    "d1.setdefault('nareshit','Ds')\n",
    "d1.setdefault('city')\n",
    "d1.setdefault('nareshit',['DS','MLops','DE'])\n",
    "d1['nareshit']=['DS','MLops','DE']\n",
    "d1.setdefault('city','hyd')\n",
    "d1"
   ]
  },
  {
   "cell_type": "code",
   "execution_count": 41,
   "id": "5e813146",
   "metadata": {},
   "outputs": [
    {
     "ename": "KeyError",
     "evalue": "'City'",
     "output_type": "error",
     "traceback": [
      "\u001b[1;31m---------------------------------------------------------------------------\u001b[0m",
      "\u001b[1;31mKeyError\u001b[0m                                  Traceback (most recent call last)",
      "Input \u001b[1;32mIn [41]\u001b[0m, in \u001b[0;36m<cell line: 3>\u001b[1;34m()\u001b[0m\n\u001b[0;32m      1\u001b[0m d2\u001b[38;5;241m=\u001b[39m{}\n\u001b[0;32m      2\u001b[0m d2[\u001b[38;5;124m'\u001b[39m\u001b[38;5;124mNareshit\u001b[39m\u001b[38;5;124m'\u001b[39m]\u001b[38;5;241m=\u001b[39m\u001b[38;5;124m'\u001b[39m\u001b[38;5;124mDs\u001b[39m\u001b[38;5;124m'\u001b[39m\n\u001b[1;32m----> 3\u001b[0m \u001b[43md2\u001b[49m\u001b[43m[\u001b[49m\u001b[38;5;124;43m'\u001b[39;49m\u001b[38;5;124;43mCity\u001b[39;49m\u001b[38;5;124;43m'\u001b[39;49m\u001b[43m]\u001b[49m\n",
      "\u001b[1;31mKeyError\u001b[0m: 'City'"
     ]
    }
   ],
   "source": [
    "d2={}\n",
    "d2['Nareshit']='Ds'\n",
    "d2['City']"
   ]
  },
  {
   "cell_type": "markdown",
   "id": "21174565",
   "metadata": {},
   "source": [
    "## update"
   ]
  },
  {
   "cell_type": "code",
   "execution_count": 1,
   "id": "2c4e52ab",
   "metadata": {},
   "outputs": [],
   "source": [
    "# it inserts the particular items to the dictionary"
   ]
  },
  {
   "cell_type": "code",
   "execution_count": 10,
   "id": "c773d504",
   "metadata": {},
   "outputs": [
    {
     "name": "stdout",
     "output_type": "stream",
     "text": [
      "{'a': 1, 'b': 7, 'c': 5, 'd': 9}\n"
     ]
    }
   ],
   "source": [
    "d1 = {'a':1,'b':4,'c':5}\n",
    "d2 = {'b':7,'d':9}\n",
    "d1.update(d2)\n",
    "print(d1)"
   ]
  },
  {
   "cell_type": "code",
   "execution_count": 5,
   "id": "2e143a07",
   "metadata": {},
   "outputs": [
    {
     "data": {
      "text/plain": [
       "[1, 4, 5, 4, 9]"
      ]
     },
     "execution_count": 5,
     "metadata": {},
     "output_type": "execute_result"
    }
   ],
   "source": [
    "l1=[1,4,5]\n",
    "l2=[4,9]\n",
    "l1.extend(l2)\n",
    "l1"
   ]
  },
  {
   "cell_type": "code",
   "execution_count": 7,
   "id": "b7f4168d",
   "metadata": {},
   "outputs": [
    {
     "name": "stdout",
     "output_type": "stream",
     "text": [
      "{'b': 4, 'c': 5, 'a': 1}\n"
     ]
    }
   ],
   "source": [
    "d1 = {'a':1,'b':4,'c':5}\n",
    "d2 = {'b':7,'c':9}\n",
    "d2.update(d1)\n",
    "print(d2)"
   ]
  },
  {
   "cell_type": "markdown",
   "id": "4d817dd6",
   "metadata": {},
   "source": [
    "- update method will update a dictionary with elements from another dictionary.\n",
    "- It modified the dictionary"
   ]
  },
  {
   "cell_type": "code",
   "execution_count": 12,
   "id": "a313eb91",
   "metadata": {},
   "outputs": [
    {
     "data": {
      "text/plain": [
       "{1: 2, 2: 3}"
      ]
     },
     "execution_count": 12,
     "metadata": {},
     "output_type": "execute_result"
    }
   ],
   "source": [
    "t1=[(1,2),(2,3)]     #dict/iterable\n",
    "d1={}\n",
    "d1.update(t1)\n",
    "d1"
   ]
  },
  {
   "cell_type": "markdown",
   "id": "cbfd1fcf",
   "metadata": {},
   "source": [
    "- string\n",
    "\n",
    "- list\n",
    "\n",
    "- dictionary"
   ]
  },
  {
   "cell_type": "markdown",
   "id": "ac13c163",
   "metadata": {},
   "source": [
    "- tuple\n",
    "\n",
    "write an article on tuple"
   ]
  },
  {
   "cell_type": "markdown",
   "id": "3f6644d2",
   "metadata": {},
   "source": [
    "- how to read\n",
    "\n",
    "- type/max/min/len/sum\n",
    "\n",
    "- index/mutable\n",
    "\n",
    "- in/for\n",
    "\n",
    "- slice\n",
    "\n",
    "- methods\n",
    "\n",
    "\n"
   ]
  },
  {
   "cell_type": "code",
   "execution_count": null,
   "id": "a1eeef57",
   "metadata": {},
   "outputs": [],
   "source": []
  }
 ],
 "metadata": {
  "kernelspec": {
   "display_name": "Python 3 (ipykernel)",
   "language": "python",
   "name": "python3"
  },
  "language_info": {
   "codemirror_mode": {
    "name": "ipython",
    "version": 3
   },
   "file_extension": ".py",
   "mimetype": "text/x-python",
   "name": "python",
   "nbconvert_exporter": "python",
   "pygments_lexer": "ipython3",
   "version": "3.9.12"
  }
 },
 "nbformat": 4,
 "nbformat_minor": 5
}
