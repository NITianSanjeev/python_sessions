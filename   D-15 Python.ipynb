{
 "cells": [
  {
   "cell_type": "code",
   "execution_count": 1,
   "id": "0aab6d9c",
   "metadata": {},
   "outputs": [],
   "source": [
    "# WAP ask the user enter distance in km\n",
    "# if distance is more than 10 km : print charge is 100 rs\n",
    "# if distance is between 7 to 10km : print charge is 70 rs\n",
    "# if distance is between 4 to 7km : print charge is 40 rs\n",
    "# otherwise print charge is 30rs\n",
    "\n",
    "# total 4: if-elif-elif-else\n"
   ]
  },
  {
   "cell_type": "code",
   "execution_count": 2,
   "id": "4773fccd",
   "metadata": {},
   "outputs": [
    {
     "name": "stdout",
     "output_type": "stream",
     "text": [
      "enter distance in km: 50\n",
      "Total charge iS 100rs\n"
     ]
    }
   ],
   "source": [
    "dis=eval(input(\"enter distance in km: \"))\n",
    "if dis>10:\n",
    "    print(\"Total charge iS 100rs\")\n",
    "elif 7<dis<10:\n",
    "    print(\"Total charge iS 70rs\")\n",
    "elif 4<dis<7:\n",
    "    print(\"Total charge is 40rs\")\n",
    "else:\n",
    "    print(\"charge is 30rs\")\n",
    "    \n",
    "    "
   ]
  },
  {
   "cell_type": "code",
   "execution_count": 3,
   "id": "0333b721",
   "metadata": {},
   "outputs": [],
   "source": [
    "# WAP ask the user enter the salary\n",
    "# if salary greater than 10 lake:\n",
    "#     ask the user enter tax percentage : 10%\n",
    "#     print: the amount of tax paid: (salary*tax_per)/100\n",
    "# if salary between 7 lak to 10 lak \n",
    "#     ask th euser tax percentage: 5%\n",
    "#     print the amount of tax paid\n",
    "# if salary between 4 to 7 lakh\n",
    "#     ask the user enter the tax percentage:2.5%\n",
    "#     print the amount of tax paid\n",
    "# otherwise: print('no tax required' )\n",
    "# if-elif-elif-else"
   ]
  },
  {
   "cell_type": "code",
   "execution_count": 7,
   "id": "cd623887",
   "metadata": {},
   "outputs": [
    {
     "name": "stdout",
     "output_type": "stream",
     "text": [
      "enter salary: 5000000\n",
      "enter tax percentage: 10\n",
      "amount of tax paid: 500000.0\n"
     ]
    }
   ],
   "source": [
    "salary=eval(input(\"enter salary: \"))\n",
    "if salary>=1000000:\n",
    "    tax_per=eval(input(\"enter tax percentage: \"))\n",
    "    print(\"amount of tax paid:\",(salary*tax_per)/100)\n",
    "elif salary>=700000:\n",
    "    tax_per=eval(input(\"enter tax percentage: \"))\n",
    "    print(\"amount of tax paid:\",(salary*tax_per)/100)\n",
    "elif salary>=400000:\n",
    "    tax_per=eval(input(\"enter tax percentage: \"))\n",
    "    print(\"amount of tax paid:\",(salary*tax_per)/100)\n",
    "else:\n",
    "    print(\"no tax is required\")"
   ]
  },
  {
   "cell_type": "code",
   "execution_count": 8,
   "id": "a9d896d6",
   "metadata": {},
   "outputs": [],
   "source": [
    "# WAP ask the user enter which operation you need to perform\n",
    "#         operations are : addition/mul/sub/div : input()\n",
    "#  ask the user enter a number1= eval(input())\n",
    "#  ask the user enter a number2= eval(input())\n",
    "#  if the operation equal to addition\n",
    "#                 print(\"we are doing addition operation\")\n",
    "#                 print(\"the addition of num1 and num2 is \")\n",
    "#  if the operation equal to multiplition\n",
    "#                 print(\"we are doing multiplition operation\")\n",
    "#                 print(\"the multiplition of num1 and num2 is \")\n",
    "# if the operation equal to subtraction\n",
    "#                 print(\"we are doing subtraction operation\")\n",
    "#                  print(\"the subtraction of num1 and num2 is \")\n",
    "# if the operation equal to division\n",
    "#                 print(\"we are doing division operation\")\n",
    "#                 print(\"the division of num1 and num2 is \")\n",
    "# else: \n",
    "#     print(\"provide suitable operation\")\n",
    "# if----elif-----elif-----else"
   ]
  },
  {
   "cell_type": "code",
   "execution_count": 10,
   "id": "b3b27f6f",
   "metadata": {},
   "outputs": [
    {
     "name": "stdout",
     "output_type": "stream",
     "text": [
      "enter which operation want to perform12\n",
      "enter a number: 50\n",
      "enter a number: 23\n",
      "provide suitable operation\n"
     ]
    }
   ],
   "source": [
    "operation=input(\"enter which operation want to perform\")\n",
    "num1=eval(input(\"enter a number: \"))\n",
    "num2=eval(input(\"enter a number: \"))\n",
    "if operation=='addition':\n",
    "    print(\"we are performing addition operation\")\n",
    "    print(\"the addition of {} and {} is {}\".format(num1,num2,num1+num2))\n",
    "elif operation=='subtraction':\n",
    "    print(\"we are performing subtraction operation\")\n",
    "    print(\"the subtraction of {} and {} is {}\".format(num1,num2,num1-num2))   \n",
    "elif operation=='mul':\n",
    "    print(\"we are performing mul operation\")\n",
    "    print(\"the mul of {} and {} is {}\".format(num1,num2,num1*num2)) \n",
    "elif operation=='div':\n",
    "    print(\"we are performing div operation\")\n",
    "    print(\"the div of {} and {} is {}\".format(num1,num2,num1/num2))\n",
    "else:\n",
    "    print(\"provide suitable operation\")\n",
    "    \n",
    "    \n",
    "    \n",
    "    \n",
    "    "
   ]
  },
  {
   "cell_type": "markdown",
   "id": "41c83a95",
   "metadata": {},
   "source": [
    "# Nested if else"
   ]
  },
  {
   "cell_type": "code",
   "execution_count": 1,
   "id": "73496bfc",
   "metadata": {},
   "outputs": [],
   "source": [
    "# wap ask the user enter a number\n",
    "# if the number greater than zero\n",
    "#               if the number==0:\n",
    "#                   print('it is a zero number')\n",
    "#                else:\n",
    "#                  print(\"it is a positive number\")    "
   ]
  },
  {
   "cell_type": "code",
   "execution_count": 8,
   "id": "9041fbd0",
   "metadata": {},
   "outputs": [
    {
     "name": "stdout",
     "output_type": "stream",
     "text": [
      "enter a number: -60\n",
      "it is negative number\n"
     ]
    }
   ],
   "source": [
    "num=eval(input(\"enter a number: \"))\n",
    "if num>=0:\n",
    "    print(\"I want to check one more condition\")\n",
    "    if num==0:\n",
    "        print('it is a zero number')\n",
    "    else:\n",
    "         print(\"it is a positive number\")\n",
    "else:\n",
    "    print(\"it is negative number\")\n",
    "        "
   ]
  },
  {
   "cell_type": "code",
   "execution_count": 9,
   "id": "86abcc54",
   "metadata": {},
   "outputs": [],
   "source": [
    "# wap ask the user enter gender either male or female\n",
    "# if gender equal to male\n",
    "#              ask the user enter age\n",
    "#              if age>60: print(cs)\n",
    "#              if age between 30 to 60 print(middileaged man)\n",
    "#              if age between 20 to 30 : print(young boy)\n",
    "#              if age between 13 to 20 : print(Teenage boy)\n",
    "#              otherwise : print('boy') \n",
    "# else:\n",
    "\n",
    "#              ask the user enter age\n",
    "#              if age>60: print(cs)\n",
    "#              if age between 30 to 60 print(middileaged woman)\n",
    "#              if age between 20 to 30 : print(young girl)\n",
    "#              if age between 13 to 20 : print(Teenage girl)\n",
    "#              otherwise : print('girl')"
   ]
  },
  {
   "cell_type": "code",
   "execution_count": 25,
   "id": "c9c9e97a",
   "metadata": {},
   "outputs": [
    {
     "name": "stdout",
     "output_type": "stream",
     "text": [
      "enter gender either male or female : 25\n",
      " provide prober gender \n"
     ]
    }
   ],
   "source": [
    "try:\n",
    "    gender=input(\"enter gender either male or female : \")\n",
    "    if gender==\"male\":\n",
    "        age=eval(input(\"enter a age: \"))\n",
    "        if age>60:\n",
    "            print(\"cs\")\n",
    "        elif age>=30:\n",
    "            print(\"middle age man\")\n",
    "        elif age>=20:\n",
    "            print(\"young boy\")\n",
    "        elif age>=13:\n",
    "            print(\"teenage boy\")\n",
    "        else:\n",
    "            print('boy')\n",
    "            \n",
    "    elif gender=='female':\n",
    "        age=eval(input(\"enter a age: \"))\n",
    "        if age>60:\n",
    "            print(\"sc\")\n",
    "        elif age>=30:\n",
    "            print(\"middle age woman\")\n",
    "        elif age>=20:\n",
    "            print(\"young girl\")\n",
    "        elif age>=13:\n",
    "            print(\"teenage girl\")\n",
    "        else:\n",
    "            print(\"girl\")\n",
    "    else:\n",
    "        print(\" provide prober gender \")\n",
    "except Exception as e:\n",
    "    print(e)\n",
    "                   \n",
    "                    \n",
    "                    "
   ]
  },
  {
   "cell_type": "code",
   "execution_count": null,
   "id": "b027e4db",
   "metadata": {},
   "outputs": [],
   "source": [
    "# wap ask the user enter 3 numbers\n",
    "# find the biggest number"
   ]
  }
 ],
 "metadata": {
  "kernelspec": {
   "display_name": "Python 3 (ipykernel)",
   "language": "python",
   "name": "python3"
  },
  "language_info": {
   "codemirror_mode": {
    "name": "ipython",
    "version": 3
   },
   "file_extension": ".py",
   "mimetype": "text/x-python",
   "name": "python",
   "nbconvert_exporter": "python",
   "pygments_lexer": "ipython3",
   "version": "3.9.12"
  }
 },
 "nbformat": 4,
 "nbformat_minor": 5
}
