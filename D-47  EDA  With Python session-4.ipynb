{
 "cells": [
  {
   "cell_type": "code",
   "execution_count": 2,
   "id": "de281865",
   "metadata": {},
   "outputs": [],
   "source": [
    "import numpy as np\n",
    "import pandas as pd\n",
    "import matplotlib.pyplot as plt\n",
    "import seaborn as sns"
   ]
  },
  {
   "cell_type": "code",
   "execution_count": 12,
   "id": "ee8e3843",
   "metadata": {},
   "outputs": [],
   "source": [
    "file_path=\"C:\\\\Users\\sony\\\\ DATA SCIENCE  NARESH IT\\\\Visadataset.csv\"\n",
    "visa_df=pd.read_csv(file_path)"
   ]
  },
  {
   "cell_type": "code",
   "execution_count": 13,
   "id": "be3c23d8",
   "metadata": {},
   "outputs": [
    {
     "data": {
      "text/html": [
       "<div>\n",
       "<style scoped>\n",
       "    .dataframe tbody tr th:only-of-type {\n",
       "        vertical-align: middle;\n",
       "    }\n",
       "\n",
       "    .dataframe tbody tr th {\n",
       "        vertical-align: top;\n",
       "    }\n",
       "\n",
       "    .dataframe thead th {\n",
       "        text-align: right;\n",
       "    }\n",
       "</style>\n",
       "<table border=\"1\" class=\"dataframe\">\n",
       "  <thead>\n",
       "    <tr style=\"text-align: right;\">\n",
       "      <th></th>\n",
       "      <th>case_id</th>\n",
       "      <th>continent</th>\n",
       "      <th>education_of_employee</th>\n",
       "      <th>has_job_experience</th>\n",
       "      <th>requires_job_training</th>\n",
       "      <th>no_of_employees</th>\n",
       "      <th>yr_of_estab</th>\n",
       "      <th>region_of_employment</th>\n",
       "      <th>prevailing_wage</th>\n",
       "      <th>unit_of_wage</th>\n",
       "      <th>full_time_position</th>\n",
       "      <th>case_status</th>\n",
       "    </tr>\n",
       "  </thead>\n",
       "  <tbody>\n",
       "    <tr>\n",
       "      <th>0</th>\n",
       "      <td>EZYV01</td>\n",
       "      <td>Asia</td>\n",
       "      <td>High School</td>\n",
       "      <td>N</td>\n",
       "      <td>N</td>\n",
       "      <td>14513</td>\n",
       "      <td>2007</td>\n",
       "      <td>West</td>\n",
       "      <td>592.2029</td>\n",
       "      <td>Hour</td>\n",
       "      <td>Y</td>\n",
       "      <td>Denied</td>\n",
       "    </tr>\n",
       "    <tr>\n",
       "      <th>1</th>\n",
       "      <td>EZYV02</td>\n",
       "      <td>Asia</td>\n",
       "      <td>Master's</td>\n",
       "      <td>Y</td>\n",
       "      <td>N</td>\n",
       "      <td>2412</td>\n",
       "      <td>2002</td>\n",
       "      <td>Northeast</td>\n",
       "      <td>83425.6500</td>\n",
       "      <td>Year</td>\n",
       "      <td>Y</td>\n",
       "      <td>Certified</td>\n",
       "    </tr>\n",
       "  </tbody>\n",
       "</table>\n",
       "</div>"
      ],
      "text/plain": [
       "  case_id continent education_of_employee has_job_experience  \\\n",
       "0  EZYV01      Asia           High School                  N   \n",
       "1  EZYV02      Asia              Master's                  Y   \n",
       "\n",
       "  requires_job_training  no_of_employees  yr_of_estab region_of_employment  \\\n",
       "0                     N            14513         2007                 West   \n",
       "1                     N             2412         2002            Northeast   \n",
       "\n",
       "   prevailing_wage unit_of_wage full_time_position case_status  \n",
       "0         592.2029         Hour                  Y      Denied  \n",
       "1       83425.6500         Year                  Y   Certified  "
      ]
     },
     "execution_count": 13,
     "metadata": {},
     "output_type": "execute_result"
    }
   ],
   "source": [
    "visa_df.head(2)"
   ]
  },
  {
   "cell_type": "markdown",
   "id": "f3d88f77",
   "metadata": {},
   "source": [
    "# bar plot using seaborn"
   ]
  },
  {
   "cell_type": "code",
   "execution_count": 14,
   "id": "010d32c3",
   "metadata": {},
   "outputs": [],
   "source": [
    "# in order to draw chart we required frequency table\n",
    "# continent column\n",
    "# we created one more data frame\n",
    "# having each lable frequency\n",
    "# Asia  16k\n",
    "# africa\n",
    "\n",
    "# the above thinks are required , if you want to draw bar chart using matplotlib"
   ]
  },
  {
   "cell_type": "code",
   "execution_count": 15,
   "id": "97628c28",
   "metadata": {},
   "outputs": [],
   "source": [
    "# seaborn will take direcly the original column fROM original data frame"
   ]
  },
  {
   "cell_type": "markdown",
   "id": "e57abe11",
   "metadata": {},
   "source": [
    "- matplotlib bar chart requires 3 value\n",
    "\n",
    "- x axies :categorical column\n",
    "    \n",
    "- y axis : numerical column\n",
    "    \n",
    "- data name\n",
    "\n",
    "- from original data frame visadf , the original column is continent\n",
    "\n",
    "- we created another table which has labels and its count\n",
    "\n",
    "chols\tcounts\n",
    "0\t204\t6\n",
    "1\t197\t6\n",
    "2\t234\t6\n",
    "3\t269\t5\n",
    "4\t212\t5\n",
    "...\t...\t...\n",
    "147\t340\t1\n",
    "148\t160\t1\n",
    "149\t394\t1\n",
    "150\t184\t1\n",
    "151\t131\t1\n",
    "152 rows × 2 columns"
   ]
  },
  {
   "cell_type": "markdown",
   "id": "aa090b31",
   "metadata": {},
   "source": [
    "- seaborn requires 2 value\n",
    "\n",
    "- data : original dataframe\n",
    "    \n",
    "- x   : original column name    "
   ]
  },
  {
   "cell_type": "code",
   "execution_count": 16,
   "id": "38ae06d9",
   "metadata": {},
   "outputs": [
    {
     "data": {
      "text/plain": [
       "<AxesSubplot:xlabel='continent', ylabel='count'>"
      ]
     },
     "execution_count": 16,
     "metadata": {},
     "output_type": "execute_result"
    },
    {
     "data": {
      "image/png": "[encoded data removed]",
      "text/plain": [
       "<Figure size 432x288 with 1 Axes>"
      ]
     },
     "metadata": {
      "needs_background": "light"
     },
     "output_type": "display_data"
    }
   ],
   "source": [
    "import seaborn as sns\n",
    "sns.countplot(data=visa_df,x='continent')"
   ]
  },
  {
   "cell_type": "code",
   "execution_count": 17,
   "id": "8073c3b7",
   "metadata": {},
   "outputs": [
    {
     "data": {
      "text/plain": [
       "<AxesSubplot:xlabel='continent', ylabel='count'>"
      ]
     },
     "execution_count": 17,
     "metadata": {},
     "output_type": "execute_result"
    },
    {
     "data": {
      "image/png": "[encoded data removed]",
      "text/plain": [
       "<Figure size 432x288 with 1 Axes>"
      ]
     },
     "metadata": {
      "needs_background": "light"
     },
     "output_type": "display_data"
    }
   ],
   "source": [
    "import seaborn as sns\n",
    "labels=['Asia','Europe','North America','South America','Africa','Oceania']\n",
    "sns.countplot(data=visa_df,\n",
    "              x='continent',\n",
    "              order=labels)"
   ]
  },
  {
   "cell_type": "code",
   "execution_count": 21,
   "id": "9ffa8787",
   "metadata": {},
   "outputs": [],
   "source": [
    "keys=visa_df['continent'].value_counts().keys()"
   ]
  },
  {
   "cell_type": "code",
   "execution_count": 22,
   "id": "5421f83b",
   "metadata": {},
   "outputs": [
    {
     "data": {
      "text/plain": [
       "<AxesSubplot:xlabel='continent', ylabel='count'>"
      ]
     },
     "execution_count": 22,
     "metadata": {},
     "output_type": "execute_result"
    },
    {
     "data": {
      "image/png": "[encoded data removed]",
      "text/plain": [
       "<Figure size 432x288 with 1 Axes>"
      ]
     },
     "metadata": {
      "needs_background": "light"
     },
     "output_type": "display_data"
    }
   ],
   "source": [
    "import seaborn as sns\n",
    "labels=visa_df['continent'].value_counts().keys()\n",
    "sns.countplot(data=visa_df,\n",
    "              x='continent',\n",
    "              order=labels)"
   ]
  },
  {
   "cell_type": "code",
   "execution_count": 25,
   "id": "901fa70f",
   "metadata": {},
   "outputs": [
    {
     "data": {
      "image/png": "[encoded data removed]",
      "text/plain": [
       "<Figure size 720x360 with 1 Axes>"
      ]
     },
     "metadata": {
      "needs_background": "light"
     },
     "output_type": "display_data"
    }
   ],
   "source": [
    "import seaborn as sns\n",
    "labels=visa_df['continent'].value_counts().keys()\n",
    "plt.figure(figsize=(10,5))\n",
    "sns.countplot(data=visa_df,\n",
    "              x='continent',\n",
    "              order=labels)\n",
    "plt.title(\"Bar plot\")\n",
    "plt.savefig(\"Continent_bar_seaborn\")\n",
    "plt.show()"
   ]
  },
  {
   "cell_type": "code",
   "execution_count": null,
   "id": "f3de409b",
   "metadata": {},
   "outputs": [],
   "source": [
    "# Method-1: using matplotlib\n",
    "\n",
    "##################################### Reading the data####################################\n",
    "file_path=\"C:\\\\Users\\sony\\\\ DATA SCIENCE  NARESH IT\\\\Visadataset.csv\"\n",
    "\n",
    "visa_df=pd.read_csv(file_path)\n",
    "visa_df.head(2)\n",
    "\n",
    "\n",
    "############################################# Create a frequency table ####################\n",
    "\n",
    "\n",
    "visa_df['continent'].value_counts()\n",
    "continents=visa_df['continent'].value_counts().keys()\n",
    "count=visa_df['continent'].value_counts().values\n",
    "contint_data=pd.DataFrame(zip(continents,count),\n",
    "                          columns=['continents','counts'])\n",
    "\n",
    "contint_data\n",
    "\n",
    "################################## plot ############################\n",
    "\n",
    "plt.figure(figsize=(10,5))\n",
    "# 10= horizontal x\n",
    "# 5= vertical y\n",
    "plt.bar('continents','count',data=contint_data)\n",
    "plt.title(\"Bar chart\")\n",
    "plt.xlabel(\"continents\")\n",
    "plt.ylabel(\"count\")\n",
    "plt.savefig(\"continents_bar.jpg\")\n",
    "plt.show()\n"
   ]
  },
  {
   "cell_type": "code",
   "execution_count": null,
   "id": "8a2c588a",
   "metadata": {},
   "outputs": [],
   "source": [
    "# Method-2: seaborn\n",
    "\n",
    "#################################### Reading the data ############################\n",
    "\n",
    "file_path=\"C:\\\\Users\\sony\\\\ DATA SCIENCE  NARESH IT\\\\Visadataset.csv\"\n",
    "visa_df=pd.read_csv(file_path)\n",
    "visa_df.head(2)\n",
    "\n",
    "\n",
    "####################################### plot #######################################\n",
    "\n",
    "import seaborn as sns\n",
    "labels=visa_df['continent'].value_counts().keys()\n",
    "plt.figure(figsize=(10,5))\n",
    "sns.countplot(data=visa_df,\n",
    "              x='continent',\n",
    "              order=labels)\n",
    "plt.title(\"Bar plot\")\n",
    "plt.savefig(\"Continent_bar_seaborn\")\n",
    "plt.show()\n",
    "\n",
    "\n"
   ]
  },
  {
   "cell_type": "code",
   "execution_count": null,
   "id": "f60b3242",
   "metadata": {},
   "outputs": [],
   "source": [
    "# Method-3: using value counts\n",
    "\n",
    "count=visa_df['continent'].value_counts()\n",
    "ax=count.plot(kind='bar')    # ax mean axis\n",
    "ax.bar_label(ax.containers[0])\n",
    "plt.show()"
   ]
  },
  {
   "cell_type": "markdown",
   "id": "9e7c1172",
   "metadata": {},
   "source": [
    "# pie-chart"
   ]
  },
  {
   "cell_type": "code",
   "execution_count": 37,
   "id": "0d670f05",
   "metadata": {},
   "outputs": [
    {
     "data": {
      "text/html": [
       "<div>\n",
       "<style scoped>\n",
       "    .dataframe tbody tr th:only-of-type {\n",
       "        vertical-align: middle;\n",
       "    }\n",
       "\n",
       "    .dataframe tbody tr th {\n",
       "        vertical-align: top;\n",
       "    }\n",
       "\n",
       "    .dataframe thead th {\n",
       "        text-align: right;\n",
       "    }\n",
       "</style>\n",
       "<table border=\"1\" class=\"dataframe\">\n",
       "  <thead>\n",
       "    <tr style=\"text-align: right;\">\n",
       "      <th></th>\n",
       "      <th>Continent</th>\n",
       "      <th>Relative frequency</th>\n",
       "    </tr>\n",
       "  </thead>\n",
       "  <tbody>\n",
       "    <tr>\n",
       "      <th>0</th>\n",
       "      <td>Asia</td>\n",
       "      <td>0.661735</td>\n",
       "    </tr>\n",
       "    <tr>\n",
       "      <th>1</th>\n",
       "      <td>Europe</td>\n",
       "      <td>0.146468</td>\n",
       "    </tr>\n",
       "    <tr>\n",
       "      <th>2</th>\n",
       "      <td>North America</td>\n",
       "      <td>0.129199</td>\n",
       "    </tr>\n",
       "    <tr>\n",
       "      <th>3</th>\n",
       "      <td>South America</td>\n",
       "      <td>0.033438</td>\n",
       "    </tr>\n",
       "    <tr>\n",
       "      <th>4</th>\n",
       "      <td>Africa</td>\n",
       "      <td>0.021625</td>\n",
       "    </tr>\n",
       "    <tr>\n",
       "      <th>5</th>\n",
       "      <td>Oceania</td>\n",
       "      <td>0.007535</td>\n",
       "    </tr>\n",
       "  </tbody>\n",
       "</table>\n",
       "</div>"
      ],
      "text/plain": [
       "       Continent  Relative frequency\n",
       "0           Asia            0.661735\n",
       "1         Europe            0.146468\n",
       "2  North America            0.129199\n",
       "3  South America            0.033438\n",
       "4         Africa            0.021625\n",
       "5        Oceania            0.007535"
      ]
     },
     "execution_count": 37,
     "metadata": {},
     "output_type": "execute_result"
    }
   ],
   "source": [
    "keys=visa_df['continent'].value_counts(normalize=True).keys()\n",
    "values=visa_df['continent'].value_counts(normalize=True).values\n",
    "pd.DataFrame(zip(keys,values),\n",
    "             columns=['Continent','Relative frequency'])\n"
   ]
  },
  {
   "cell_type": "code",
   "execution_count": 50,
   "id": "d1268122",
   "metadata": {},
   "outputs": [
    {
     "data": {
      "image/png": "[encoded data removed]",
      "text/plain": [
       "<Figure size 432x288 with 1 Axes>"
      ]
     },
     "metadata": {},
     "output_type": "display_data"
    }
   ],
   "source": [
    "plt.pie(x=values,\n",
    "       labels=keys,\n",
    "       autopct=\"%0.2f%%\",\n",
    "       shadow=True,\n",
    "       startangle=180,\n",
    "       radius=1,\n",
    "       explode=[0.1,0.1,0.1,0.1,0.1,0.1])  # 66% 66.76\n",
    "\n",
    "plt.show()"
   ]
  },
  {
   "cell_type": "code",
   "execution_count": 53,
   "id": "54f20f10",
   "metadata": {},
   "outputs": [
    {
     "data": {
      "text/plain": [
       "['case_id',\n",
       " 'continent',\n",
       " 'education_of_employee',\n",
       " 'has_job_experience',\n",
       " 'requires_job_training',\n",
       " 'region_of_employment',\n",
       " 'unit_of_wage',\n",
       " 'full_time_position',\n",
       " 'case_status']"
      ]
     },
     "execution_count": 53,
     "metadata": {},
     "output_type": "execute_result"
    }
   ],
   "source": [
    "data_type=dict(visa_df.dtypes)\n",
    "cat=[i for i in data_type if dict(visa_df.dtypes)[i]=='O']\n",
    "cat"
   ]
  },
  {
   "cell_type": "code",
   "execution_count": 51,
   "id": "4f4320bd",
   "metadata": {},
   "outputs": [
    {
     "data": {
      "text/html": [
       "<div>\n",
       "<style scoped>\n",
       "    .dataframe tbody tr th:only-of-type {\n",
       "        vertical-align: middle;\n",
       "    }\n",
       "\n",
       "    .dataframe tbody tr th {\n",
       "        vertical-align: top;\n",
       "    }\n",
       "\n",
       "    .dataframe thead th {\n",
       "        text-align: right;\n",
       "    }\n",
       "</style>\n",
       "<table border=\"1\" class=\"dataframe\">\n",
       "  <thead>\n",
       "    <tr style=\"text-align: right;\">\n",
       "      <th></th>\n",
       "      <th>continents</th>\n",
       "      <th>counts</th>\n",
       "    </tr>\n",
       "  </thead>\n",
       "  <tbody>\n",
       "    <tr>\n",
       "      <th>0</th>\n",
       "      <td>Asia</td>\n",
       "      <td>16861</td>\n",
       "    </tr>\n",
       "    <tr>\n",
       "      <th>1</th>\n",
       "      <td>Europe</td>\n",
       "      <td>3732</td>\n",
       "    </tr>\n",
       "    <tr>\n",
       "      <th>2</th>\n",
       "      <td>North America</td>\n",
       "      <td>3292</td>\n",
       "    </tr>\n",
       "    <tr>\n",
       "      <th>3</th>\n",
       "      <td>South America</td>\n",
       "      <td>852</td>\n",
       "    </tr>\n",
       "    <tr>\n",
       "      <th>4</th>\n",
       "      <td>Africa</td>\n",
       "      <td>551</td>\n",
       "    </tr>\n",
       "    <tr>\n",
       "      <th>5</th>\n",
       "      <td>Oceania</td>\n",
       "      <td>192</td>\n",
       "    </tr>\n",
       "  </tbody>\n",
       "</table>\n",
       "</div>"
      ],
      "text/plain": [
       "      continents  counts\n",
       "0           Asia   16861\n",
       "1         Europe    3732\n",
       "2  North America    3292\n",
       "3  South America     852\n",
       "4         Africa     551\n",
       "5        Oceania     192"
      ]
     },
     "execution_count": 51,
     "metadata": {},
     "output_type": "execute_result"
    }
   ],
   "source": [
    "visa_df['continent'].value_counts()\n",
    "continents=visa_df['continent'].value_counts().keys()\n",
    "count=visa_df['continent'].value_counts().values\n",
    "contint_data=pd.DataFrame(zip(continents,count),\n",
    "                          columns=['continents','counts'])\n",
    "\n",
    "contint_data\n"
   ]
  },
  {
   "cell_type": "code",
   "execution_count": null,
   "id": "a0475915",
   "metadata": {},
   "outputs": [],
   "source": [
    "# If we wants to case_status.\n",
    "# continent will replace the case_status\n",
    "\n",
    "visa_df['case_status'].value_counts()\n",
    "continents=visa_df['case_status'].value_counts().keys()\n",
    "count=visa_df['case_status'].value_counts().values\n",
    "contint_data=pd.DataFrame(zip(continents,count),\n",
    "                          columns=['case_status','counts'])\n",
    "\n",
    "contint_data\n"
   ]
  },
  {
   "cell_type": "code",
   "execution_count": 55,
   "id": "cb9b06ca",
   "metadata": {},
   "outputs": [
    {
     "data": {
      "text/html": [
       "<div>\n",
       "<style scoped>\n",
       "    .dataframe tbody tr th:only-of-type {\n",
       "        vertical-align: middle;\n",
       "    }\n",
       "\n",
       "    .dataframe tbody tr th {\n",
       "        vertical-align: top;\n",
       "    }\n",
       "\n",
       "    .dataframe thead th {\n",
       "        text-align: right;\n",
       "    }\n",
       "</style>\n",
       "<table border=\"1\" class=\"dataframe\">\n",
       "  <thead>\n",
       "    <tr style=\"text-align: right;\">\n",
       "      <th></th>\n",
       "      <th>case_status</th>\n",
       "      <th>count</th>\n",
       "    </tr>\n",
       "  </thead>\n",
       "  <tbody>\n",
       "    <tr>\n",
       "      <th>0</th>\n",
       "      <td>Certified</td>\n",
       "      <td>17018</td>\n",
       "    </tr>\n",
       "    <tr>\n",
       "      <th>1</th>\n",
       "      <td>Denied</td>\n",
       "      <td>8462</td>\n",
       "    </tr>\n",
       "  </tbody>\n",
       "</table>\n",
       "</div>"
      ],
      "text/plain": [
       "  case_status  count\n",
       "0   Certified  17018\n",
       "1      Denied   8462"
      ]
     },
     "execution_count": 55,
     "metadata": {},
     "output_type": "execute_result"
    }
   ],
   "source": [
    "i='case_status'\n",
    "visa_df[i].value_counts()\n",
    "value1=visa_df[i].value_counts().keys()\n",
    "value2=visa_df[i].value_counts().values\n",
    "data=pd.DataFrame(zip(value1,value2),\n",
    "                          columns=[i,'count'])\n",
    "\n",
    "data\n"
   ]
  },
  {
   "cell_type": "code",
   "execution_count": 56,
   "id": "a47fb74b",
   "metadata": {},
   "outputs": [
    {
     "data": {
      "text/html": [
       "<div>\n",
       "<style scoped>\n",
       "    .dataframe tbody tr th:only-of-type {\n",
       "        vertical-align: middle;\n",
       "    }\n",
       "\n",
       "    .dataframe tbody tr th {\n",
       "        vertical-align: top;\n",
       "    }\n",
       "\n",
       "    .dataframe thead th {\n",
       "        text-align: right;\n",
       "    }\n",
       "</style>\n",
       "<table border=\"1\" class=\"dataframe\">\n",
       "  <thead>\n",
       "    <tr style=\"text-align: right;\">\n",
       "      <th></th>\n",
       "      <th>continent</th>\n",
       "      <th>count</th>\n",
       "    </tr>\n",
       "  </thead>\n",
       "  <tbody>\n",
       "    <tr>\n",
       "      <th>0</th>\n",
       "      <td>Asia</td>\n",
       "      <td>16861</td>\n",
       "    </tr>\n",
       "    <tr>\n",
       "      <th>1</th>\n",
       "      <td>Europe</td>\n",
       "      <td>3732</td>\n",
       "    </tr>\n",
       "    <tr>\n",
       "      <th>2</th>\n",
       "      <td>North America</td>\n",
       "      <td>3292</td>\n",
       "    </tr>\n",
       "    <tr>\n",
       "      <th>3</th>\n",
       "      <td>South America</td>\n",
       "      <td>852</td>\n",
       "    </tr>\n",
       "    <tr>\n",
       "      <th>4</th>\n",
       "      <td>Africa</td>\n",
       "      <td>551</td>\n",
       "    </tr>\n",
       "    <tr>\n",
       "      <th>5</th>\n",
       "      <td>Oceania</td>\n",
       "      <td>192</td>\n",
       "    </tr>\n",
       "  </tbody>\n",
       "</table>\n",
       "</div>"
      ],
      "text/plain": [
       "       continent  count\n",
       "0           Asia  16861\n",
       "1         Europe   3732\n",
       "2  North America   3292\n",
       "3  South America    852\n",
       "4         Africa    551\n",
       "5        Oceania    192"
      ]
     },
     "execution_count": 56,
     "metadata": {},
     "output_type": "execute_result"
    }
   ],
   "source": [
    "i='continent'\n",
    "visa_df[i].value_counts()\n",
    "value1=visa_df[i].value_counts().keys()\n",
    "value2=visa_df[i].value_counts().values\n",
    "data=pd.DataFrame(zip(value1,value2),\n",
    "                          columns=[i,'count'])\n",
    "\n",
    "data"
   ]
  },
  {
   "cell_type": "code",
   "execution_count": 64,
   "id": "41fd73d3",
   "metadata": {},
   "outputs": [],
   "source": [
    "# if we wAnt to save data\n",
    "\n",
    "i='continent'\n",
    "visa_df[i].value_counts()\n",
    "value1=visa_df[i].value_counts().keys()\n",
    "value2=visa_df[i].value_counts().values\n",
    "data=pd.DataFrame(zip(value1,value2),\n",
    "                          columns=[i,'count'])\n",
    "\n",
    "contint_data.to_csv(\"continent.csv\")"
   ]
  },
  {
   "cell_type": "code",
   "execution_count": 57,
   "id": "1fd210c1",
   "metadata": {},
   "outputs": [
    {
     "data": {
      "text/html": [
       "<div>\n",
       "<style scoped>\n",
       "    .dataframe tbody tr th:only-of-type {\n",
       "        vertical-align: middle;\n",
       "    }\n",
       "\n",
       "    .dataframe tbody tr th {\n",
       "        vertical-align: top;\n",
       "    }\n",
       "\n",
       "    .dataframe thead th {\n",
       "        text-align: right;\n",
       "    }\n",
       "</style>\n",
       "<table border=\"1\" class=\"dataframe\">\n",
       "  <thead>\n",
       "    <tr style=\"text-align: right;\">\n",
       "      <th></th>\n",
       "      <th>full_time_position</th>\n",
       "      <th>count</th>\n",
       "    </tr>\n",
       "  </thead>\n",
       "  <tbody>\n",
       "    <tr>\n",
       "      <th>0</th>\n",
       "      <td>Y</td>\n",
       "      <td>22773</td>\n",
       "    </tr>\n",
       "    <tr>\n",
       "      <th>1</th>\n",
       "      <td>N</td>\n",
       "      <td>2707</td>\n",
       "    </tr>\n",
       "  </tbody>\n",
       "</table>\n",
       "</div>"
      ],
      "text/plain": [
       "  full_time_position  count\n",
       "0                  Y  22773\n",
       "1                  N   2707"
      ]
     },
     "execution_count": 57,
     "metadata": {},
     "output_type": "execute_result"
    }
   ],
   "source": [
    "i='full_time_position'\n",
    "visa_df[i].value_counts()\n",
    "value1=visa_df[i].value_counts().keys()\n",
    "value2=visa_df[i].value_counts().values\n",
    "data=pd.DataFrame(zip(value1,value2),\n",
    "                          columns=[i,'count'])\n",
    "\n",
    "data"
   ]
  },
  {
   "cell_type": "code",
   "execution_count": 60,
   "id": "b081989e",
   "metadata": {},
   "outputs": [
    {
     "name": "stdout",
     "output_type": "stream",
     "text": [
      "       continent  count\n",
      "0           Asia  16861\n",
      "1         Europe   3732\n",
      "2  North America   3292\n",
      "3  South America    852\n",
      "4         Africa    551\n",
      "5        Oceania    192\n",
      "  education_of_employee  count\n",
      "0            Bachelor's  10234\n",
      "1              Master's   9634\n",
      "2           High School   3420\n",
      "3             Doctorate   2192\n",
      "  has_job_experience  count\n",
      "0                  Y  14802\n",
      "1                  N  10678\n",
      "  requires_job_training  count\n",
      "0                     N  22525\n",
      "1                     Y   2955\n",
      "  region_of_employment  count\n",
      "0            Northeast   7195\n",
      "1                South   7017\n",
      "2                 West   6586\n",
      "3              Midwest   4307\n",
      "4               Island    375\n",
      "  unit_of_wage  count\n",
      "0         Year  22962\n",
      "1         Hour   2157\n",
      "2         Week    272\n",
      "3        Month     89\n",
      "  full_time_position  count\n",
      "0                  Y  22773\n",
      "1                  N   2707\n",
      "  case_status  count\n",
      "0   Certified  17018\n",
      "1      Denied   8462\n"
     ]
    }
   ],
   "source": [
    "for i in cat[1:]:\n",
    "    visa_df[i].value_counts()\n",
    "    value1=visa_df[i].value_counts().keys()\n",
    "    value2=visa_df[i].value_counts().values\n",
    "    data=pd.DataFrame(zip(value1,value2),\n",
    "                          columns=[i,'count'])\n",
    "\n",
    "    print(data)"
   ]
  },
  {
   "cell_type": "code",
   "execution_count": 61,
   "id": "cc5364fb",
   "metadata": {},
   "outputs": [
    {
     "name": "stdout",
     "output_type": "stream",
     "text": [
      "       continent  count\n",
      "0           Asia  16861\n",
      "1         Europe   3732\n",
      "2  North America   3292\n",
      "3  South America    852\n",
      "4         Africa    551\n",
      "5        Oceania    192\n",
      "  education_of_employee  count\n",
      "0            Bachelor's  10234\n",
      "1              Master's   9634\n",
      "2           High School   3420\n",
      "3             Doctorate   2192\n",
      "  has_job_experience  count\n",
      "0                  Y  14802\n",
      "1                  N  10678\n",
      "  requires_job_training  count\n",
      "0                     N  22525\n",
      "1                     Y   2955\n",
      "  region_of_employment  count\n",
      "0            Northeast   7195\n",
      "1                South   7017\n",
      "2                 West   6586\n",
      "3              Midwest   4307\n",
      "4               Island    375\n",
      "  unit_of_wage  count\n",
      "0         Year  22962\n",
      "1         Hour   2157\n",
      "2         Week    272\n",
      "3        Month     89\n",
      "  full_time_position  count\n",
      "0                  Y  22773\n",
      "1                  N   2707\n",
      "  case_status  count\n",
      "0   Certified  17018\n",
      "1      Denied   8462\n"
     ]
    }
   ],
   "source": [
    "data_type=dict(visa_df.dtypes)\n",
    "cat=[i for i in data_type if dict(visa_df.dtypes)[i]=='O']\n",
    "\n",
    "for i in cat[1:]:\n",
    "    visa_df[i].value_counts()\n",
    "    value1=visa_df[i].value_counts().keys()\n",
    "    value2=visa_df[i].value_counts().values\n",
    "    data=pd.DataFrame(zip(value1,value2),\n",
    "                          columns=[i,'count'])\n",
    "\n",
    "    print(data)\n",
    "\n"
   ]
  },
  {
   "cell_type": "code",
   "execution_count": 67,
   "id": "6b1e3ca3",
   "metadata": {},
   "outputs": [],
   "source": [
    "# If we want to save the data\n",
    "\n",
    "data_type=dict(visa_df.dtypes)\n",
    "cat=[i for i in data_type if dict(visa_df.dtypes)[i]=='O']\n",
    "\n",
    "for i in cat[1:]:\n",
    "    visa_df[i].value_counts()\n",
    "    value1=visa_df[i].value_counts().keys()\n",
    "    value2=visa_df[i].value_counts().values\n",
    "    data=pd.DataFrame(zip(value1,value2),\n",
    "                          columns=[i,'count'])\n",
    "\n",
    "    data.to_csv('{}.csv'.format(i))\n",
    "    \n",
    "# this will save dataframes where python file existed    \n",
    "\n"
   ]
  },
  {
   "cell_type": "markdown",
   "id": "e19318dc",
   "metadata": {},
   "source": [
    "- create a folder\n",
    "\n",
    "- take a entire path\n",
    "\n",
    "- add doubal slash at the end\n",
    "\n",
    "- conactenate(+) with your file name"
   ]
  },
  {
   "cell_type": "code",
   "execution_count": 65,
   "id": "3c0129a5",
   "metadata": {},
   "outputs": [],
   "source": [
    "file_path='C:\\\\Users\\\\sony\\\\ DATA SCIENCE  NARESH IT\\\\dataframes_output\\\\'"
   ]
  },
  {
   "cell_type": "code",
   "execution_count": 68,
   "id": "d957260d",
   "metadata": {},
   "outputs": [],
   "source": [
    "file_path+'{}.csv'.format(i) # file_location + file_name.csv\n",
    "\n",
    "# This will save the data frames in a separate folder\n",
    "\n",
    "data_type=dict(visa_df.dtypes)\n",
    "cat=[i for i in data_type if dict(visa_df.dtypes)[i]=='O']\n",
    "\n",
    "for i in cat[1:]:\n",
    "    visa_df[i].value_counts()\n",
    "    value1=visa_df[i].value_counts().keys()\n",
    "    value2=visa_df[i].value_counts().values\n",
    "    data=pd.DataFrame(zip(value1,value2),\n",
    "                          columns=[i,'count'])\n",
    "\n",
    "    data.to_csv(file_path+'{}.csv'.format(i))\n",
    " "
   ]
  },
  {
   "cell_type": "code",
   "execution_count": 70,
   "id": "83b47cfd",
   "metadata": {},
   "outputs": [
    {
     "data": {
      "text/plain": [
       "<AxesSubplot:>"
      ]
     },
     "execution_count": 70,
     "metadata": {},
     "output_type": "execute_result"
    },
    {
     "data": {
      "image/png": "[encoded data removed]",
      "text/plain": [
       "<Figure size 432x288 with 1 Axes>"
      ]
     },
     "metadata": {
      "needs_background": "light"
     },
     "output_type": "display_data"
    }
   ],
   "source": [
    "plt.subplot(2,2,2)"
   ]
  },
  {
   "cell_type": "code",
   "execution_count": 71,
   "id": "8b163e87",
   "metadata": {},
   "outputs": [
    {
     "data": {
      "text/plain": [
       "<AxesSubplot:>"
      ]
     },
     "execution_count": 71,
     "metadata": {},
     "output_type": "execute_result"
    },
    {
     "data": {
      "image/png": "[encoded data removed]",
      "text/plain": [
       "<Figure size 432x288 with 4 Axes>"
      ]
     },
     "metadata": {
      "needs_background": "light"
     },
     "output_type": "display_data"
    }
   ],
   "source": [
    "plt.subplot(2,2,1)\n",
    "plt.subplot(2,2,2)\n",
    "plt.subplot(2,2,3)\n",
    "plt.subplot(2,2,4)"
   ]
  },
  {
   "cell_type": "code",
   "execution_count": 73,
   "id": "77ea2542",
   "metadata": {},
   "outputs": [
    {
     "data": {
      "text/plain": [
       "<AxesSubplot:>"
      ]
     },
     "execution_count": 73,
     "metadata": {},
     "output_type": "execute_result"
    },
    {
     "data": {
      "image/png": "[encoded data removed]",
      "text/plain": [
       "<Figure size 432x288 with 9 Axes>"
      ]
     },
     "metadata": {
      "needs_background": "light"
     },
     "output_type": "display_data"
    }
   ],
   "source": [
    "plt.subplot(3,3,1)\n",
    "\n",
    "#################code#############\n",
    "plt.subplot(3,3,2)\n",
    "################code#############\n",
    "plt.subplot(3,3,3)\n",
    "plt.subplot(3,3,4)\n",
    "plt.subplot(3,3,5)\n",
    "plt.subplot(3,3,6)\n",
    "plt.subplot(3,3,7)\n",
    "plt.subplot(3,3,8)\n",
    "plt.subplot(3,3,9)"
   ]
  },
  {
   "cell_type": "code",
   "execution_count": null,
   "id": "7f68af97",
   "metadata": {},
   "outputs": [],
   "source": []
  }
 ],
 "metadata": {
  "kernelspec": {
   "display_name": "Python 3 (ipykernel)",
   "language": "python",
   "name": "python3"
  },
  "language_info": {
   "codemirror_mode": {
    "name": "ipython",
    "version": 3
   },
   "file_extension": ".py",
   "mimetype": "text/x-python",
   "name": "python",
   "nbconvert_exporter": "python",
   "pygments_lexer": "ipython3",
   "version": "3.9.12"
  }
 },
 "nbformat": 4,
 "nbformat_minor": 5
}
