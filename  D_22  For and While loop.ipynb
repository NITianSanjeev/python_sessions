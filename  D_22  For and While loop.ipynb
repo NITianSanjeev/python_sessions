{
 "cells": [
  {
   "cell_type": "markdown",
   "id": "2e0d32fd",
   "metadata": {},
   "source": [
    "- For loop"
   ]
  },
  {
   "cell_type": "markdown",
   "id": "45bf48a7",
   "metadata": {},
   "source": [
    "- you will be in the loop\n",
    "- when you will enter the loop\n",
    "- how much time you will stay in the loop\n",
    "\n",
    "\n",
    "- intialization\n",
    "- increment/decrement\n",
    "- condition to stop the loop"
   ]
  },
  {
   "cell_type": "code",
   "execution_count": 1,
   "id": "66900821",
   "metadata": {},
   "outputs": [],
   "source": [
    "# I want to print first 10 numbers\n",
    "# initial point: 0\n",
    "# increment\n",
    "# cond=10"
   ]
  },
  {
   "cell_type": "code",
   "execution_count": 6,
   "id": "09c35128",
   "metadata": {},
   "outputs": [],
   "source": [
    "# i=0\n",
    "# i=1\n",
    "# i=2 \n",
    "# i=3\n",
    "# i=4"
   ]
  },
  {
   "cell_type": "markdown",
   "id": "e11b004f",
   "metadata": {},
   "source": [
    "Pattern-1"
   ]
  },
  {
   "cell_type": "markdown",
   "id": "017314ba",
   "metadata": {},
   "source": [
    "for i in range(stop):\n",
    "    \n",
    "- in the bracket if we have only single value that is consider as stop value\n",
    "\n",
    "- the default start value is =0\n",
    "\n",
    "- python index always start with :0\n",
    "    \n",
    "- if direction sign is not mentioned : increment (+) sign\n",
    "    \n",
    "- if direction is postive side then end=stop-1    \n",
    "\n"
   ]
  },
  {
   "cell_type": "code",
   "execution_count": 3,
   "id": "e011f461",
   "metadata": {},
   "outputs": [
    {
     "name": "stdout",
     "output_type": "stream",
     "text": [
      "0\n",
      "1\n",
      "2\n",
      "3\n",
      "4\n",
      "5\n",
      "6\n",
      "7\n",
      "8\n",
      "9\n"
     ]
    }
   ],
   "source": [
    "for i in range(10):\n",
    "    print(i)\n",
    "    \n",
    "# start=0\n",
    "# direc=+\n",
    "# end=stop-1=10-1=9\n",
    "    "
   ]
  },
  {
   "cell_type": "code",
   "execution_count": 7,
   "id": "ba8ea8f8",
   "metadata": {},
   "outputs": [
    {
     "name": "stdout",
     "output_type": "stream",
     "text": [
      "0\n",
      "1\n",
      "2\n",
      "3\n",
      "4\n",
      "5\n",
      "6\n",
      "7\n",
      "8\n",
      "9\n",
      "10\n",
      "11\n",
      "12\n",
      "13\n",
      "14\n",
      "15\n",
      "16\n",
      "17\n",
      "18\n",
      "19\n"
     ]
    }
   ],
   "source": [
    "for i in range(20):\n",
    "    print(i)"
   ]
  },
  {
   "cell_type": "code",
   "execution_count": 8,
   "id": "a08475a2",
   "metadata": {},
   "outputs": [
    {
     "name": "stdout",
     "output_type": "stream",
     "text": [
      "0\n",
      "1\n",
      "2\n"
     ]
    }
   ],
   "source": [
    "print(0)\n",
    "print(1)\n",
    "print(2)\n",
    "\n",
    "# generalised: print(i)"
   ]
  },
  {
   "cell_type": "markdown",
   "id": "4e77baf8",
   "metadata": {},
   "source": [
    "- intial\n",
    "- incerment/decrement\n",
    "- condition\n",
    "\n",
    "for i range (20):"
   ]
  },
  {
   "cell_type": "code",
   "execution_count": 10,
   "id": "39b055f2",
   "metadata": {},
   "outputs": [
    {
     "name": "stdout",
     "output_type": "stream",
     "text": [
      "0 1 2\n"
     ]
    }
   ],
   "source": [
    "print(0,end=' ')\n",
    "print(1,end=' ')\n",
    "print(2)    # 0 1 2 "
   ]
  },
  {
   "cell_type": "code",
   "execution_count": 11,
   "id": "afba1b9a",
   "metadata": {},
   "outputs": [
    {
     "name": "stdout",
     "output_type": "stream",
     "text": [
      "0 1 2 3 4 5 6 7 8 9 10 11 12 13 14 15 16 17 18 19 "
     ]
    }
   ],
   "source": [
    "for i in range(20):\n",
    "    print(i,end=' ')"
   ]
  },
  {
   "cell_type": "markdown",
   "id": "173c9164",
   "metadata": {},
   "source": [
    "$pattern-2$\n",
    "\n",
    "for i in range(start,stop)\n",
    "\n",
    "- start: start of the loop, initial point\n",
    "    \n",
    "- direction sing not mentioned: +ve direction i.e. increment\n",
    "    \n",
    "- end=stop-1    \n",
    "    "
   ]
  },
  {
   "cell_type": "code",
   "execution_count": 13,
   "id": "f6b06ce1",
   "metadata": {},
   "outputs": [
    {
     "name": "stdout",
     "output_type": "stream",
     "text": [
      "10 11 12 13 14 15 16 17 18 19 "
     ]
    }
   ],
   "source": [
    "for i in range(10,20):\n",
    "    print(i,end=' ')\n",
    "    \n",
    "# start=10  pos end=20-1=19    "
   ]
  },
  {
   "cell_type": "markdown",
   "id": "104a9709",
   "metadata": {},
   "source": [
    "𝑝𝑎𝑡𝑡𝑒𝑟𝑛−3\n",
    " \n",
    "\n",
    "for i in range(start,stop,step)\n",
    "\n",
    "start: start of the loop, initial point\n",
    "\n",
    "direction : what is sign of step value, that is the  direction\n",
    "\n",
    "              - direction will not decide by start and stop value\n",
    "              - direction will provided by step value\n",
    "              \n",
    "- if step size is positive direction\n",
    "\n",
    "             end=stop-1\n",
    "             \n",
    "- if steP size is negative direction\n",
    "              \n",
    "\n",
    "            end=stop+1\n",
    "\n"
   ]
  },
  {
   "cell_type": "code",
   "execution_count": 1,
   "id": "557a9e4a",
   "metadata": {},
   "outputs": [
    {
     "name": "stdout",
     "output_type": "stream",
     "text": [
      "2 4 6 8 10 12 14 16 18 "
     ]
    }
   ],
   "source": [
    "for i in range(2,20,2):   #(start,stop,step)\n",
    "    print(i,end=' ')\n",
    "    \n",
    "# start=2\n",
    "# direction: step size=+2\n",
    "# end= stop-1=20-1=19"
   ]
  },
  {
   "cell_type": "code",
   "execution_count": 4,
   "id": "f2dafd07",
   "metadata": {},
   "outputs": [
    {
     "name": "stdout",
     "output_type": "stream",
     "text": [
      "-1 -2 -3 -4 -5 -6 -7 -8 -9 "
     ]
    }
   ],
   "source": [
    "for i in range(-1,-10,-1):\n",
    "     print(i,end=' ')\n",
    "    \n",
    "# start=-1\n",
    "# direction: step size=-1\n",
    "# end= stop+1 = -10+1=-9\n",
    "# is this possible or not?\n",
    "    \n",
    "    "
   ]
  },
  {
   "cell_type": "code",
   "execution_count": 7,
   "id": "9cb66c7c",
   "metadata": {},
   "outputs": [],
   "source": [
    "for i in range(-1,-10,1):\n",
    "    print(i,end=' ')\n",
    "    \n",
    "# start=-1\n",
    "# direction: step size=1\n",
    "# end= stop-1=-10-1=-11"
   ]
  },
  {
   "cell_type": "code",
   "execution_count": 8,
   "id": "a0d2fbb1",
   "metadata": {},
   "outputs": [],
   "source": [
    "for i in range(8,20,-2):\n",
    "    print(i,end=' ')\n",
    "    \n",
    "# start=8\n",
    "# direction: step size=-2\n",
    "# end= stop+1=20+1=21"
   ]
  },
  {
   "cell_type": "code",
   "execution_count": null,
   "id": "09329351",
   "metadata": {},
   "outputs": [],
   "source": []
  }
 ],
 "metadata": {
  "kernelspec": {
   "display_name": "Python 3 (ipykernel)",
   "language": "python",
   "name": "python3"
  },
  "language_info": {
   "codemirror_mode": {
    "name": "ipython",
    "version": 3
   },
   "file_extension": ".py",
   "mimetype": "text/x-python",
   "name": "python",
   "nbconvert_exporter": "python",
   "pygments_lexer": "ipython3",
   "version": "3.9.12"
  }
 },
 "nbformat": 4,
 "nbformat_minor": 5
}
