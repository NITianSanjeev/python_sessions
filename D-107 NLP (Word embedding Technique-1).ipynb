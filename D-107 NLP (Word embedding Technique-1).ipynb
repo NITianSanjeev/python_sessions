{
 "cells": [
  {
   "cell_type": "code",
   "execution_count": 1,
   "id": "cf797ab3",
   "metadata": {},
   "outputs": [
    {
     "name": "stdout",
     "output_type": "stream",
     "text": [
      "['sky nice', 'cloud nice', 'sky nice cloud nice']\n"
     ]
    }
   ],
   "source": [
    "from nltk.corpus import stopwords\n",
    "sentences = ['sky is nice','cloud are nice','Sky is nice and Cloud are nice']\n",
    "\n",
    "cleaned_sentence = []\n",
    "\n",
    "for sentence in sentences:\n",
    "    word = sentence.lower()\n",
    "    ## Lowering all the letters becaz we want it to treat uppercase and lower case words differently\n",
    "    \n",
    "    word = word.split()  # spliting our sentence into words\n",
    "    \n",
    "    ## removing stop words\n",
    "    word = [i for i in word if i not in set(stopwords.words('english'))]\n",
    "    word = \" \".join(word)           # joining our words back to sentences\n",
    "    cleaned_sentence.append(word)   # appending our preprocessed sentence into a new list\n",
    "    \n",
    "## printing our new list\n",
    "print(cleaned_sentence)"
   ]
  },
  {
   "cell_type": "markdown",
   "id": "22c947ec",
   "metadata": {},
   "source": [
    "- after preprocess and apply Stop words"
   ]
  },
  {
   "cell_type": "markdown",
   "id": "9cef1274",
   "metadata": {},
   "source": [
    "## Sentence-1"
   ]
  },
  {
   "cell_type": "code",
   "execution_count": 2,
   "id": "c9995e26",
   "metadata": {},
   "outputs": [
    {
     "name": "stdout",
     "output_type": "stream",
     "text": [
      "[[0 1 1]\n",
      " [1 1 0]\n",
      " [1 2 1]]\n"
     ]
    }
   ],
   "source": [
    "from sklearn.feature_extraction.text import CountVectorizer\n",
    "\n",
    "cv = CountVectorizer(max_features = 3) # give it a max feature as 3\n",
    "Bagofwords = cv.fit_transform(cleaned_sentence).toarray()\n",
    "\n",
    "print(Bagofwords)"
   ]
  },
  {
   "cell_type": "code",
   "execution_count": 3,
   "id": "ea469f04",
   "metadata": {},
   "outputs": [
    {
     "data": {
      "text/html": [
       "<div>\n",
       "<style scoped>\n",
       "    .dataframe tbody tr th:only-of-type {\n",
       "        vertical-align: middle;\n",
       "    }\n",
       "\n",
       "    .dataframe tbody tr th {\n",
       "        vertical-align: top;\n",
       "    }\n",
       "\n",
       "    .dataframe thead th {\n",
       "        text-align: right;\n",
       "    }\n",
       "</style>\n",
       "<table border=\"1\" class=\"dataframe\">\n",
       "  <thead>\n",
       "    <tr style=\"text-align: right;\">\n",
       "      <th></th>\n",
       "      <th>cloud</th>\n",
       "      <th>nice</th>\n",
       "      <th>sky</th>\n",
       "    </tr>\n",
       "  </thead>\n",
       "  <tbody>\n",
       "    <tr>\n",
       "      <th>0</th>\n",
       "      <td>0</td>\n",
       "      <td>1</td>\n",
       "      <td>1</td>\n",
       "    </tr>\n",
       "    <tr>\n",
       "      <th>1</th>\n",
       "      <td>1</td>\n",
       "      <td>1</td>\n",
       "      <td>0</td>\n",
       "    </tr>\n",
       "    <tr>\n",
       "      <th>2</th>\n",
       "      <td>1</td>\n",
       "      <td>2</td>\n",
       "      <td>1</td>\n",
       "    </tr>\n",
       "  </tbody>\n",
       "</table>\n",
       "</div>"
      ],
      "text/plain": [
       "   cloud  nice  sky\n",
       "0      0     1    1\n",
       "1      1     1    0\n",
       "2      1     2    1"
      ]
     },
     "execution_count": 3,
     "metadata": {},
     "output_type": "execute_result"
    }
   ],
   "source": [
    "import pandas as pd\n",
    "pd.DataFrame(Bagofwords,columns=['cloud','nice','sky'])"
   ]
  },
  {
   "cell_type": "code",
   "execution_count": 4,
   "id": "cf112acf",
   "metadata": {},
   "outputs": [
    {
     "data": {
      "text/plain": [
       "{'sky': 2, 'nice': 1, 'cloud': 0}"
      ]
     },
     "execution_count": 4,
     "metadata": {},
     "output_type": "execute_result"
    }
   ],
   "source": [
    "cv.vocabulary_\n",
    "# Unique words with index\n",
    "# cloud is first word : first feature\n",
    "# nice is second word : second feature\n",
    "# sky is third word : third feature\n"
   ]
  },
  {
   "cell_type": "code",
   "execution_count": 11,
   "id": "a50f91c9",
   "metadata": {},
   "outputs": [
    {
     "name": "stdout",
     "output_type": "stream",
     "text": [
      "['game throne amazing tv series!', 'game throne best tv series!', 'game thrones great']\n",
      "[[0 1 1]\n",
      " [1 1 0]\n",
      " [1 2 1]]\n"
     ]
    }
   ],
   "source": [
    "from nltk.corpus import stopwords\n",
    "from sklearn.feature_extraction.text import CountVectorizer\n",
    "\n",
    "sentences = ['Game of Throne is an amazing tv series!',\n",
    "             'Game of Throne is the best tv series!','Game of Thrones is so great']\n",
    "\n",
    "cleaned_sentence = []\n",
    "\n",
    "for sentence in sentences:\n",
    "    word = sentence.lower()\n",
    "    ## Lowering all the letters becaz we want it to treat uppercase and lower case words differently\n",
    "    \n",
    "    word = word.split()  # spliting our sentence into words\n",
    "    \n",
    "    ## removing stop words\n",
    "    word = [i for i in word if i not in set(stopwords.words('english'))]\n",
    "    word = \" \".join(word)           # joining our words back to sentences\n",
    "    cleaned_sentence.append(word)   # appending our preprocessed sentence into a new list\n",
    "    \n",
    "## printing our new list\n",
    "print(cleaned_sentence)\n",
    "\n",
    "cv = CountVectorizer(ngram_range=(1,2))  #give it a max feature as 3\n",
    "Bangofwords = cv.fit_transform(cleaned_sentence).toarray()\n",
    "\n",
    "print(Bagofwords)"
   ]
  },
  {
   "cell_type": "code",
   "execution_count": 15,
   "id": "d0038925",
   "metadata": {},
   "outputs": [
    {
     "data": {
      "text/plain": [
       "{'sky': 4,\n",
       " 'nice': 2,\n",
       " 'sky nice': 5,\n",
       " 'cloud': 0,\n",
       " 'cloud nice': 1,\n",
       " 'nice cloud': 3}"
      ]
     },
     "execution_count": 15,
     "metadata": {},
     "output_type": "execute_result"
    }
   ],
   "source": [
    "cv.vocabulary_\n",
    "# Index mapping"
   ]
  },
  {
   "cell_type": "code",
   "execution_count": 16,
   "id": "b63a8c76",
   "metadata": {},
   "outputs": [
    {
     "name": "stdout",
     "output_type": "stream",
     "text": [
      "['sky nice', 'cloud nice', 'sky nice cloud nice']\n",
      "[[0 1 1]\n",
      " [1 1 0]\n",
      " [1 2 1]]\n"
     ]
    }
   ],
   "source": [
    "# All together \n",
    "from nltk.corpus import stopwords\n",
    "from sklearn.feature_extraction.text import CountVectorizer\n",
    "\n",
    "sentences = ['sky is nice','cloud are nice','Sky is nice and Cloud are nice']\n",
    "\n",
    "cleaned_sentence = []\n",
    "\n",
    "for sentence in sentences:\n",
    "    word = sentence.lower()\n",
    "    ## Lowering all the letters becaz we want it to treat uppercase and lower case words differently\n",
    "    \n",
    "    word = word.split()  # spliting our sentence into words\n",
    "    \n",
    "    ## removing stop words\n",
    "    word = [i for i in word if i not in set(stopwords.words('english'))]\n",
    "    word = \" \".join(word)           # joining our words back to sentences\n",
    "    cleaned_sentence.append(word)   # appending our preprocessed sentence into a new list\n",
    "    \n",
    "## printing our new list\n",
    "print(cleaned_sentence)\n",
    "\n",
    "cv = CountVectorizer(ngram_range=(1,2))  #give it a max feature as 3\n",
    "Bangofwords = cv.fit_transform(cleaned_sentence).toarray()\n",
    "\n",
    "print(Bagofwords)"
   ]
  },
  {
   "cell_type": "code",
   "execution_count": 18,
   "id": "ee182cde",
   "metadata": {},
   "outputs": [
    {
     "data": {
      "text/plain": [
       "{'sky': 4,\n",
       " 'nice': 2,\n",
       " 'sky nice': 5,\n",
       " 'cloud': 0,\n",
       " 'cloud nice': 1,\n",
       " 'nice cloud': 3}"
      ]
     },
     "execution_count": 18,
     "metadata": {},
     "output_type": "execute_result"
    }
   ],
   "source": [
    "cv.vocabulary_\n",
    "\n",
    "# Vector formation happens based on vocabulary"
   ]
  },
  {
   "cell_type": "markdown",
   "id": "db53bea7",
   "metadata": {},
   "source": [
    "## TfidfVectorizer"
   ]
  },
  {
   "cell_type": "code",
   "execution_count": 19,
   "id": "8085b10e",
   "metadata": {},
   "outputs": [
    {
     "name": "stdout",
     "output_type": "stream",
     "text": [
      "['going rain today.', 'Today going outside.', 'going warch season premiere']\n"
     ]
    }
   ],
   "source": [
    "Document1= \"going rain today.\"\n",
    "Document2= \"Today going outside.\"\n",
    "Document3= \"going warch season premiere\"\n",
    "Doc = [Document1 ,Document2 ,Document3]\n",
    "print(Doc)"
   ]
  },
  {
   "cell_type": "code",
   "execution_count": 20,
   "id": "f4b42496",
   "metadata": {},
   "outputs": [],
   "source": [
    "from sklearn.feature_extraction.text import TfidfVectorizer\n",
    "vectorizer = TfidfVectorizer()\n",
    "x = vectorizer.fit_transform(Doc)"
   ]
  },
  {
   "cell_type": "code",
   "execution_count": 26,
   "id": "cc4511e2",
   "metadata": {},
   "outputs": [
    {
     "data": {
      "text/plain": [
       "{'going': 0,\n",
       " 'rain': 3,\n",
       " 'today': 5,\n",
       " 'outside': 1,\n",
       " 'warch': 6,\n",
       " 'season': 4,\n",
       " 'premiere': 2}"
      ]
     },
     "execution_count": 26,
     "metadata": {},
     "output_type": "execute_result"
    }
   ],
   "source": [
    "vectorizer.vocabulary_"
   ]
  },
  {
   "cell_type": "code",
   "execution_count": 25,
   "id": "4fac849d",
   "metadata": {},
   "outputs": [
    {
     "name": "stdout",
     "output_type": "stream",
     "text": [
      "Document 1 ['going', 'rain', 'today']\n",
      "Document 2 ['today', 'going', 'outside']\n",
      "Document 3 ['going', 'warch', 'season', 'premiere']\n",
      "Document transform [[0.42544054 0.         0.         0.72033345 0.         0.54783215\n",
      "  0.        ]\n",
      " [0.42544054 0.72033345 0.         0.         0.         0.54783215\n",
      "  0.        ]\n",
      " [0.32274454 0.         0.54645401 0.         0.54645401 0.\n",
      "  0.54645401]]\n"
     ]
    }
   ],
   "source": [
    "analyze = vectorizer.build_analyzer()\n",
    "print(\"Document 1\",analyze(Document1)) # Individual tf-idf\n",
    "print(\"Document 2\",analyze(Document2))\n",
    "print(\"Document 3\",analyze(Document3))\n",
    "print(\"Document transform\",x.toarray())  # all together"
   ]
  },
  {
   "cell_type": "code",
   "execution_count": 29,
   "id": "55c60730",
   "metadata": {},
   "outputs": [
    {
     "data": {
      "text/plain": [
       "array(['going', 'outside', 'premiere', 'rain', 'season', 'today', 'warch'],\n",
       "      dtype=object)"
      ]
     },
     "execution_count": 29,
     "metadata": {},
     "output_type": "execute_result"
    }
   ],
   "source": [
    "vectorizer.get_feature_names_out() # sorted order of vocab"
   ]
  },
  {
   "cell_type": "code",
   "execution_count": 45,
   "id": "3b7a7624",
   "metadata": {},
   "outputs": [
    {
     "name": "stdout",
     "output_type": "stream",
     "text": [
      "['good movie.', 'good snacks.', 'movie snacks good']\n",
      "Document 1 ['good', 'movie']\n",
      "Document 2 ['good', 'snacks']\n",
      "Document 3 ['movie', 'snacks', 'good']\n",
      "Document transform [[1.         1.28768207 0.        ]\n",
      " [1.         0.         1.28768207]\n",
      " [1.         1.28768207 1.28768207]]\n"
     ]
    },
    {
     "data": {
      "text/plain": [
       "array(['good', 'movie', 'snacks'], dtype=object)"
      ]
     },
     "execution_count": 45,
     "metadata": {},
     "output_type": "execute_result"
    }
   ],
   "source": [
    "# With out Normalization\n",
    "Document1= \"good movie.\"\n",
    "Document2= \"good snacks.\"\n",
    "Document3= \"movie snacks good\"\n",
    "Doc = [Document1 ,Document2 ,Document3]\n",
    "print(Doc)\n",
    "\n",
    "from sklearn.feature_extraction.text import TfidfVectorizer\n",
    "vectorizer = TfidfVectorizer(norm=None)\n",
    "x = vectorizer.fit_transform(Doc)\n",
    "\n",
    "analyze = vectorizer.build_analyzer()\n",
    "print(\"Document 1\",analyze(Document1)) # Individual tf-idf\n",
    "print(\"Document 2\",analyze(Document2))\n",
    "print(\"Document 3\",analyze(Document3))\n",
    "print(\"Document transform\",x.toarray())  # all together\n",
    "\n",
    "vectorizer.get_feature_names_out()"
   ]
  },
  {
   "cell_type": "code",
   "execution_count": 46,
   "id": "bea43819",
   "metadata": {},
   "outputs": [],
   "source": [
    "# (count_of_term_t_in_d) * ((log (NUMBER_OF_DOCUMENTS + 1) / (Number_of_documents_where_t_appears +1)) +1)"
   ]
  },
  {
   "cell_type": "code",
   "execution_count": 47,
   "id": "324f415a",
   "metadata": {},
   "outputs": [
    {
     "data": {
      "text/plain": [
       "1.0"
      ]
     },
     "execution_count": 47,
     "metadata": {},
     "output_type": "execute_result"
    }
   ],
   "source": [
    "import numpy as np\n",
    "1 * (np.log((3 + 1)/(3+1))+1)"
   ]
  },
  {
   "cell_type": "code",
   "execution_count": 51,
   "id": "53d92077",
   "metadata": {},
   "outputs": [
    {
     "data": {
      "text/plain": [
       "1.2876820724517808"
      ]
     },
     "execution_count": 51,
     "metadata": {},
     "output_type": "execute_result"
    }
   ],
   "source": [
    "# movie\n",
    "1 * (np.log((3 + 1)/(2+1))+1)"
   ]
  },
  {
   "cell_type": "code",
   "execution_count": 52,
   "id": "49f68185",
   "metadata": {},
   "outputs": [
    {
     "name": "stdout",
     "output_type": "stream",
     "text": [
      "[0.61335554 0.78980693 0.        ]\n"
     ]
    }
   ],
   "source": [
    "tfidf_vector = [1, 1.28768207, 0]\n",
    "\n",
    "tfidf_vector = tfidf_vector / np.linalg.norm(tfidf_vector)\n",
    "\n",
    "print(tfidf_vector)"
   ]
  },
  {
   "cell_type": "code",
   "execution_count": 53,
   "id": "09670b93",
   "metadata": {},
   "outputs": [
    {
     "name": "stdout",
     "output_type": "stream",
     "text": [
      "['good movie.', 'good snacks.', 'movie snacks good']\n",
      "Document 1 ['good', 'movie']\n",
      "Document 2 ['good', 'snacks']\n",
      "Document 3 ['movie', 'snacks', 'good']\n",
      "Document transform [[0.61335554 0.78980693 0.        ]\n",
      " [0.61335554 0.         0.78980693]\n",
      " [0.48133417 0.61980538 0.61980538]]\n"
     ]
    },
    {
     "data": {
      "text/plain": [
       "array(['good', 'movie', 'snacks'], dtype=object)"
      ]
     },
     "execution_count": 53,
     "metadata": {},
     "output_type": "execute_result"
    }
   ],
   "source": [
    "# With Normalization\n",
    "# With out Normalization\n",
    "Document1= \"good movie.\"\n",
    "Document2= \"good snacks.\"\n",
    "Document3= \"movie snacks good\"\n",
    "Doc = [Document1 ,Document2 ,Document3]\n",
    "print(Doc)\n",
    "\n",
    "from sklearn.feature_extraction.text import TfidfVectorizer\n",
    "vectorizer = TfidfVectorizer()\n",
    "x = vectorizer.fit_transform(Doc)\n",
    "\n",
    "analyze = vectorizer.build_analyzer()\n",
    "print(\"Document 1\",analyze(Document1)) # Individual tf-idf\n",
    "print(\"Document 2\",analyze(Document2))\n",
    "print(\"Document 3\",analyze(Document3))\n",
    "print(\"Document transform\",x.toarray())  # all together\n",
    "\n",
    "vectorizer.get_feature_names_out()\n"
   ]
  },
  {
   "cell_type": "code",
   "execution_count": 54,
   "id": "e99ae164",
   "metadata": {},
   "outputs": [
    {
     "name": "stdout",
     "output_type": "stream",
     "text": [
      "[0.61335554 0.78980693 0.        ]\n"
     ]
    }
   ],
   "source": [
    "tfidf_vector = [1, 1.28768207, 0]\n",
    "\n",
    "tfidf_vector = tfidf_vector / np.linalg.norm(tfidf_vector)\n",
    "\n",
    "print(tfidf_vector)"
   ]
  },
  {
   "cell_type": "code",
   "execution_count": null,
   "id": "601809a6",
   "metadata": {},
   "outputs": [],
   "source": []
  }
 ],
 "metadata": {
  "kernelspec": {
   "display_name": "Python 3 (ipykernel)",
   "language": "python",
   "name": "python3"
  },
  "language_info": {
   "codemirror_mode": {
    "name": "ipython",
    "version": 3
   },
   "file_extension": ".py",
   "mimetype": "text/x-python",
   "name": "python",
   "nbconvert_exporter": "python",
   "pygments_lexer": "ipython3",
   "version": "3.9.12"
  }
 },
 "nbformat": 4,
 "nbformat_minor": 5
}
