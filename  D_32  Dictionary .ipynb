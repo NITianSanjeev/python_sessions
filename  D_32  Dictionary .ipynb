{
 "cells": [
  {
   "cell_type": "code",
   "execution_count": 1,
   "id": "de4899dc",
   "metadata": {},
   "outputs": [
    {
     "data": {
      "text/plain": [
       "['__class__',\n",
       " '__class_getitem__',\n",
       " '__contains__',\n",
       " '__delattr__',\n",
       " '__delitem__',\n",
       " '__dir__',\n",
       " '__doc__',\n",
       " '__eq__',\n",
       " '__format__',\n",
       " '__ge__',\n",
       " '__getattribute__',\n",
       " '__getitem__',\n",
       " '__gt__',\n",
       " '__hash__',\n",
       " '__init__',\n",
       " '__init_subclass__',\n",
       " '__ior__',\n",
       " '__iter__',\n",
       " '__le__',\n",
       " '__len__',\n",
       " '__lt__',\n",
       " '__ne__',\n",
       " '__new__',\n",
       " '__or__',\n",
       " '__reduce__',\n",
       " '__reduce_ex__',\n",
       " '__repr__',\n",
       " '__reversed__',\n",
       " '__ror__',\n",
       " '__setattr__',\n",
       " '__setitem__',\n",
       " '__sizeof__',\n",
       " '__str__',\n",
       " '__subclasshook__',\n",
       " 'clear',\n",
       " 'copy',\n",
       " 'fromkeys',\n",
       " 'get',\n",
       " 'items',\n",
       " 'keys',\n",
       " 'pop',\n",
       " 'popitem',\n",
       " 'setdefault',\n",
       " 'update',\n",
       " 'values']"
      ]
     },
     "execution_count": 1,
     "metadata": {},
     "output_type": "execute_result"
    }
   ],
   "source": [
    "dir({})\n",
    "\n",
    "\n",
    "# str=''\n",
    "# List=[]\n",
    "# dict={}"
   ]
  },
  {
   "cell_type": "markdown",
   "id": "8a6bc151",
   "metadata": {},
   "source": [
    "## items-keys-values"
   ]
  },
  {
   "cell_type": "code",
   "execution_count": 2,
   "id": "fed3f9a4",
   "metadata": {},
   "outputs": [
    {
     "data": {
      "text/plain": [
       "{'Ram': 25, 'Raheem': 30, 'Robert': 35}"
      ]
     },
     "execution_count": 2,
     "metadata": {},
     "output_type": "execute_result"
    }
   ],
   "source": [
    "d1={'Ram':25,\n",
    "    'Raheem':30,\n",
    "    'Robert':35}\n",
    "d1"
   ]
  },
  {
   "cell_type": "code",
   "execution_count": 3,
   "id": "3bb2f64f",
   "metadata": {},
   "outputs": [
    {
     "data": {
      "text/plain": [
       "dict_items([('Ram', 25), ('Raheem', 30), ('Robert', 35)])"
      ]
     },
     "execution_count": 3,
     "metadata": {},
     "output_type": "execute_result"
    }
   ],
   "source": [
    "# items\n",
    "\n",
    "items=d1.items()\n",
    "items"
   ]
  },
  {
   "cell_type": "code",
   "execution_count": 4,
   "id": "8eb09d5e",
   "metadata": {},
   "outputs": [
    {
     "data": {
      "text/plain": [
       "dict_items"
      ]
     },
     "execution_count": 4,
     "metadata": {},
     "output_type": "execute_result"
    }
   ],
   "source": [
    "type(items)"
   ]
  },
  {
   "cell_type": "code",
   "execution_count": 5,
   "id": "81fc4290",
   "metadata": {},
   "outputs": [
    {
     "data": {
      "text/plain": [
       "dict_keys(['Ram', 'Raheem', 'Robert'])"
      ]
     },
     "execution_count": 5,
     "metadata": {},
     "output_type": "execute_result"
    }
   ],
   "source": [
    "# keys\n",
    "keys=d1.keys()\n",
    "keys"
   ]
  },
  {
   "cell_type": "code",
   "execution_count": 6,
   "id": "32d1d81e",
   "metadata": {},
   "outputs": [
    {
     "data": {
      "text/plain": [
       "dict_values([25, 30, 35])"
      ]
     },
     "execution_count": 6,
     "metadata": {},
     "output_type": "execute_result"
    }
   ],
   "source": [
    "# values\n",
    "values=d1.values()\n",
    "values"
   ]
  },
  {
   "cell_type": "code",
   "execution_count": 7,
   "id": "2a2ef6ff",
   "metadata": {},
   "outputs": [
    {
     "data": {
      "text/plain": [
       "dict_values"
      ]
     },
     "execution_count": 7,
     "metadata": {},
     "output_type": "execute_result"
    }
   ],
   "source": [
    "type(values)"
   ]
  },
  {
   "cell_type": "code",
   "execution_count": 8,
   "id": "617415f3",
   "metadata": {},
   "outputs": [
    {
     "data": {
      "text/plain": [
       "[25, 30, 35, 400]"
      ]
     },
     "execution_count": 8,
     "metadata": {},
     "output_type": "execute_result"
    }
   ],
   "source": [
    "l1=[25,30,35]\n",
    "l1.append(400)\n",
    "l1"
   ]
  },
  {
   "cell_type": "code",
   "execution_count": 9,
   "id": "7fc336cc",
   "metadata": {},
   "outputs": [
    {
     "data": {
      "text/plain": [
       "[25, 30, 35, 400]"
      ]
     },
     "execution_count": 9,
     "metadata": {},
     "output_type": "execute_result"
    }
   ],
   "source": [
    "l1=[25,30,35]\n",
    "l1.append(400)\n",
    "l1"
   ]
  },
  {
   "cell_type": "code",
   "execution_count": 10,
   "id": "29bdb7c6",
   "metadata": {},
   "outputs": [
    {
     "data": {
      "text/plain": [
       "[25, 30, 35]"
      ]
     },
     "execution_count": 10,
     "metadata": {},
     "output_type": "execute_result"
    }
   ],
   "source": [
    "values         # I want to convert in to a list\n",
    "values_list=list(values) # Then you can apply the list method\n",
    "values_list"
   ]
  },
  {
   "cell_type": "code",
   "execution_count": 11,
   "id": "502e3511",
   "metadata": {},
   "outputs": [
    {
     "data": {
      "text/plain": [
       "['Ram', 'Raheem', 'Robert']"
      ]
     },
     "execution_count": 11,
     "metadata": {},
     "output_type": "execute_result"
    }
   ],
   "source": [
    "keys_list=list(keys)\n",
    "keys_list"
   ]
  },
  {
   "cell_type": "code",
   "execution_count": 12,
   "id": "593b5cda",
   "metadata": {},
   "outputs": [],
   "source": [
    "# Q-1  I will give the dictionary\n",
    "#     can you extract keys and values in list\n",
    "\n",
    "# Q-2 I will give two list keys and values\n",
    "#    can you create a dictionary "
   ]
  },
  {
   "cell_type": "code",
   "execution_count": 13,
   "id": "b9aecd14",
   "metadata": {},
   "outputs": [],
   "source": [
    "d1={'Ram':25,\n",
    "    'Raheem':30,\n",
    "    'Robert':35}\n",
    "\n",
    "keys=list(d1.keys())\n",
    "values=list(d1.values())\n"
   ]
  },
  {
   "cell_type": "code",
   "execution_count": 14,
   "id": "e344c6cd",
   "metadata": {},
   "outputs": [
    {
     "data": {
      "text/plain": [
       "(['Ram', 'Raheem', 'Robert'], [25, 30, 35])"
      ]
     },
     "execution_count": 14,
     "metadata": {},
     "output_type": "execute_result"
    }
   ],
   "source": [
    "keys,values"
   ]
  },
  {
   "cell_type": "code",
   "execution_count": 15,
   "id": "aad88c18",
   "metadata": {},
   "outputs": [
    {
     "data": {
      "text/plain": [
       "{'Ram': 25, 'Raheem': 30, 'Robert': 35}"
      ]
     },
     "execution_count": 15,
     "metadata": {},
     "output_type": "execute_result"
    }
   ],
   "source": [
    "{i:j for i,j in zip(keys,values)}"
   ]
  },
  {
   "cell_type": "code",
   "execution_count": 16,
   "id": "4c445c93",
   "metadata": {},
   "outputs": [
    {
     "data": {
      "text/plain": [
       "{'Ram': 25, 'Raheem': 30, 'Robert': 35}"
      ]
     },
     "execution_count": 16,
     "metadata": {},
     "output_type": "execute_result"
    }
   ],
   "source": [
    "d1={}\n",
    "for i in range (len(keys)):\n",
    "    d1[keys[i]]=values[i]    # d1[keys[0]]=values[0]  d1['Ram']=25\n",
    "    \n",
    "d1    "
   ]
  },
  {
   "cell_type": "code",
   "execution_count": 17,
   "id": "0310f845",
   "metadata": {},
   "outputs": [
    {
     "data": {
      "text/plain": [
       "{'Ram': 25, 'Raheem': 30, 'Robert': 35}"
      ]
     },
     "execution_count": 17,
     "metadata": {},
     "output_type": "execute_result"
    }
   ],
   "source": [
    "dict(zip(keys,values))"
   ]
  },
  {
   "cell_type": "code",
   "execution_count": 31,
   "id": "7ae00769",
   "metadata": {},
   "outputs": [],
   "source": [
    "s1='Virat.kohli@blr.com,Rohit.sharma@mumbai.com,kl.rahul@lucknow.com'\n",
    "\n",
    "# {'first_name':['Virat','Rohit','KL'],\n",
    "# 'second_name':['kohli','sharma','rahul']\n",
    "#  'company':['blr','mumbai','lucknow']}"
   ]
  },
  {
   "cell_type": "code",
   "execution_count": 32,
   "id": "82ae6da9",
   "metadata": {},
   "outputs": [
    {
     "data": {
      "text/plain": [
       "['Virat.kohli@blr.com', 'Rohit.sharma@mumbai.com', 'kl.rahul@lucknow.com']"
      ]
     },
     "execution_count": 32,
     "metadata": {},
     "output_type": "execute_result"
    }
   ],
   "source": [
    "s1.split(',')"
   ]
  },
  {
   "cell_type": "code",
   "execution_count": 33,
   "id": "278168d0",
   "metadata": {},
   "outputs": [],
   "source": [
    "str1='Virat.kohli@blr.com'"
   ]
  },
  {
   "cell_type": "code",
   "execution_count": 37,
   "id": "0fa5d257",
   "metadata": {},
   "outputs": [
    {
     "data": {
      "text/plain": [
       "{'First name': ['Virat', 'Rohit', 'kl'],\n",
       " 'Second name': ['kohli', 'sharma', 'rahul'],\n",
       " 'Company name': ['blr', 'mumbai', 'lucknow']}"
      ]
     },
     "execution_count": 37,
     "metadata": {},
     "output_type": "execute_result"
    }
   ],
   "source": [
    "d1={}\n",
    "f_name=[str1[:str1.find('.')] for str1 in s1.split(',')]\n",
    "\n",
    "s_name=[str1[str1.find('.')+1:str1.find('@')] for str1 in s1.split(',')]\n",
    "\n",
    "c_name=[str1[str1.find('@')+1:str1.find('.',str1.find('.')+1)] for str1 in s1.split(',')]\n",
    "\n",
    "f_name,s_name,c_name\n",
    "\n",
    "d1['First name']=f_name\n",
    "d1['Second name']=s_name\n",
    "d1['Company name']=c_name\n",
    "\n",
    "d1"
   ]
  },
  {
   "cell_type": "code",
   "execution_count": 40,
   "id": "35716e35",
   "metadata": {},
   "outputs": [],
   "source": [
    "str1='can can you canner can you able to can canner'\n",
    "\n",
    "#{'can':4,'you':2,'canner':2,'able':1,'to':1}\n",
    "\n",
    "# d={}\n",
    "# step-1: split the str1 =========== > you will get a list\n",
    "# step-2: iterate through loop =======> each word will print\n",
    "# step3: list1.count(<word>): number\n",
    "# step4: make a dictionary"
   ]
  },
  {
   "cell_type": "code",
   "execution_count": 41,
   "id": "6f82c275",
   "metadata": {},
   "outputs": [
    {
     "data": {
      "text/plain": [
       "{'can': 4, 'you': 2, 'canner': 2, 'able': 1, 'to': 1}"
      ]
     },
     "execution_count": 41,
     "metadata": {},
     "output_type": "execute_result"
    }
   ],
   "source": [
    "str1='can can you canner can you able to can canner'\n",
    "l1=str1.split(' ')\n",
    "d1={}\n",
    "\n",
    "for i in l1:\n",
    "    d1[i]=l1.count(i)\n",
    "    \n",
    "d1    "
   ]
  },
  {
   "cell_type": "code",
   "execution_count": 47,
   "id": "9092f5df",
   "metadata": {},
   "outputs": [],
   "source": [
    "keys=list(d1.keys())"
   ]
  },
  {
   "cell_type": "code",
   "execution_count": 48,
   "id": "7b5c0f38",
   "metadata": {},
   "outputs": [],
   "source": [
    "values=list(d1.values())"
   ]
  },
  {
   "cell_type": "code",
   "execution_count": 49,
   "id": "f834cc01",
   "metadata": {},
   "outputs": [
    {
     "data": {
      "text/plain": [
       "(['can', 'you', 'canner', 'able', 'to'], [4, 2, 2, 1, 1])"
      ]
     },
     "execution_count": 49,
     "metadata": {},
     "output_type": "execute_result"
    }
   ],
   "source": [
    "keys,values"
   ]
  },
  {
   "cell_type": "code",
   "execution_count": 50,
   "id": "51c18132",
   "metadata": {},
   "outputs": [],
   "source": [
    "i=max(values)"
   ]
  },
  {
   "cell_type": "code",
   "execution_count": 51,
   "id": "1930a4eb",
   "metadata": {},
   "outputs": [
    {
     "data": {
      "text/plain": [
       "0"
      ]
     },
     "execution_count": 51,
     "metadata": {},
     "output_type": "execute_result"
    }
   ],
   "source": [
    "values.index(i)"
   ]
  },
  {
   "cell_type": "code",
   "execution_count": 54,
   "id": "3ff55bad",
   "metadata": {},
   "outputs": [
    {
     "data": {
      "text/plain": [
       "'can'"
      ]
     },
     "execution_count": 54,
     "metadata": {},
     "output_type": "execute_result"
    }
   ],
   "source": [
    "keys[values.index(max(values))]"
   ]
  },
  {
   "cell_type": "code",
   "execution_count": null,
   "id": "fb1c1ae0",
   "metadata": {},
   "outputs": [],
   "source": [
    "d1={'a':20,'b':30,'c':40}\n",
    "d2={'a':50,'b':100,'c':200}\n",
    "\n",
    "# o/p={'a':70,'b':130,'c':240}"
   ]
  },
  {
   "cell_type": "code",
   "execution_count": null,
   "id": "d297d7cc",
   "metadata": {},
   "outputs": [],
   "source": [
    "d1={'a':20,'b':30,'c':40,'d':500}\n",
    "d2={'a':50,'b':100,'c':200}\n",
    "\n",
    "# o/p={'a':70,'b':130,'c':240,'d':500}\n"
   ]
  },
  {
   "cell_type": "code",
   "execution_count": 56,
   "id": "6dac23f3",
   "metadata": {},
   "outputs": [
    {
     "data": {
      "text/plain": [
       "{'a': 70, 'b': 130, 'c': 240}"
      ]
     },
     "execution_count": 56,
     "metadata": {},
     "output_type": "execute_result"
    }
   ],
   "source": [
    "d1={'a':20,'b':30,'c':40}\n",
    "d2={'a':50,'b':100,'c':200}\n",
    "\n",
    "for i in d1:\n",
    "    d1[i]+=d2[i]\n",
    "    \n",
    "d1    \n"
   ]
  },
  {
   "cell_type": "code",
   "execution_count": 57,
   "id": "b768cec6",
   "metadata": {},
   "outputs": [
    {
     "data": {
      "text/plain": [
       "{'a': 70, 'b': 130, 'c': 240}"
      ]
     },
     "execution_count": 57,
     "metadata": {},
     "output_type": "execute_result"
    }
   ],
   "source": [
    "d1={'a':20,'b':30,'c':40}\n",
    "d2={'a':50,'b':100,'c':200}\n",
    "\n",
    "d3={}\n",
    "if len(d1)==len(d2):\n",
    "    for i in d1:\n",
    "        d3[i]=d1[i]+d2[i]\n",
    "        \n",
    "d3        \n",
    " "
   ]
  },
  {
   "cell_type": "code",
   "execution_count": 58,
   "id": "94ae5c6b",
   "metadata": {},
   "outputs": [
    {
     "data": {
      "text/plain": [
       "{'a': 70, 'b': 130, 'c': 240, 'd': 500}"
      ]
     },
     "execution_count": 58,
     "metadata": {},
     "output_type": "execute_result"
    }
   ],
   "source": [
    "d1={'a':20,'b':30,'c':40,'d':500}\n",
    "d2={'a':50,'b':100,'c':200}\n",
    "\n",
    "for i in range(min(len(d1),len(d2))):\n",
    "    d1[list(d1.keys())[i]]+=d2[list(d2.keys())[i]]\n",
    "    \n",
    "d1    "
   ]
  },
  {
   "cell_type": "code",
   "execution_count": null,
   "id": "69efaa44",
   "metadata": {},
   "outputs": [],
   "source": []
  }
 ],
 "metadata": {
  "kernelspec": {
   "display_name": "Python 3 (ipykernel)",
   "language": "python",
   "name": "python3"
  },
  "language_info": {
   "codemirror_mode": {
    "name": "ipython",
    "version": 3
   },
   "file_extension": ".py",
   "mimetype": "text/x-python",
   "name": "python",
   "nbconvert_exporter": "python",
   "pygments_lexer": "ipython3",
   "version": "3.9.12"
  }
 },
 "nbformat": 4,
 "nbformat_minor": 5
}
