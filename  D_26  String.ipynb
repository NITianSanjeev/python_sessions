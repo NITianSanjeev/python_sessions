{
 "cells": [
  {
   "cell_type": "markdown",
   "id": "85b8761c",
   "metadata": {},
   "source": [
    "**casefold**"
   ]
  },
  {
   "cell_type": "code",
   "execution_count": 1,
   "id": "71c9b4ed",
   "metadata": {},
   "outputs": [
    {
     "data": {
      "text/plain": [
       "'walcome'"
      ]
     },
     "execution_count": 1,
     "metadata": {},
     "output_type": "execute_result"
    }
   ],
   "source": [
    "string1='WalCome'\n",
    "string1.casefold()"
   ]
  },
  {
   "cell_type": "code",
   "execution_count": 3,
   "id": "b9fa2c01",
   "metadata": {},
   "outputs": [
    {
     "data": {
      "text/plain": [
       "'walcome'"
      ]
     },
     "execution_count": 3,
     "metadata": {},
     "output_type": "execute_result"
    }
   ],
   "source": [
    "string2='walcome'\n",
    "string2.casefold()"
   ]
  },
  {
   "cell_type": "markdown",
   "id": "0bbeb2a3",
   "metadata": {},
   "source": [
    "- capitalize : First letter as capital\n",
    "\n",
    "- upper : All latters in upper case\n",
    "    \n",
    "- lower : All latter in lower case \n",
    "    \n",
    "- casefold : case less comparision(lower case)    \n",
    "    "
   ]
  },
  {
   "cell_type": "markdown",
   "id": "c31ea2cb",
   "metadata": {},
   "source": [
    "$count$"
   ]
  },
  {
   "cell_type": "code",
   "execution_count": 4,
   "id": "cf700fe8",
   "metadata": {},
   "outputs": [
    {
     "data": {
      "text/plain": [
       "2"
      ]
     },
     "execution_count": 4,
     "metadata": {},
     "output_type": "execute_result"
    }
   ],
   "source": [
    "string1='hai how are you'\n",
    "# How many 'a' are there\n",
    "string1.count('a')"
   ]
  },
  {
   "cell_type": "code",
   "execution_count": 5,
   "id": "e628b29a",
   "metadata": {},
   "outputs": [
    {
     "data": {
      "text/plain": [
       "1"
      ]
     },
     "execution_count": 5,
     "metadata": {},
     "output_type": "execute_result"
    }
   ],
   "source": [
    "string1.count('hai')"
   ]
  },
  {
   "cell_type": "code",
   "execution_count": 6,
   "id": "de022a2b",
   "metadata": {},
   "outputs": [
    {
     "name": "stdout",
     "output_type": "stream",
     "text": [
      "3\n",
      "2\n",
      "3\n",
      "0\n"
     ]
    }
   ],
   "source": [
    "string1='ola ola ola'\n",
    "print(string1.count('ola'))    # 3\n",
    "print(string1.count('ola '))   # 2\n",
    "print(string1.count('ol'))     # 3\n",
    "print(string1.count('oa'))     # check 'o' after 'a' is there?"
   ]
  },
  {
   "cell_type": "code",
   "execution_count": 7,
   "id": "b3d126d8",
   "metadata": {},
   "outputs": [
    {
     "data": {
      "text/plain": [
       "2"
      ]
     },
     "execution_count": 7,
     "metadata": {},
     "output_type": "execute_result"
    }
   ],
   "source": [
    "string1='ola ola ola'\n",
    "string1.count('a',4)# we are counting the number of 'a' from index 4"
   ]
  },
  {
   "cell_type": "code",
   "execution_count": 8,
   "id": "e22e748d",
   "metadata": {},
   "outputs": [
    {
     "data": {
      "text/plain": [
       "2"
      ]
     },
     "execution_count": 8,
     "metadata": {},
     "output_type": "execute_result"
    }
   ],
   "source": [
    "string1.count('a',6)"
   ]
  },
  {
   "cell_type": "code",
   "execution_count": 9,
   "id": "40413de8",
   "metadata": {},
   "outputs": [
    {
     "data": {
      "text/plain": [
       "0"
      ]
     },
     "execution_count": 9,
     "metadata": {},
     "output_type": "execute_result"
    }
   ],
   "source": [
    "string1.count('a',4,6)"
   ]
  },
  {
   "cell_type": "code",
   "execution_count": 10,
   "id": "0a45d0c4",
   "metadata": {},
   "outputs": [
    {
     "data": {
      "text/plain": [
       "1"
      ]
     },
     "execution_count": 10,
     "metadata": {},
     "output_type": "execute_result"
    }
   ],
   "source": [
    "string1.count('a',4,7)"
   ]
  },
  {
   "cell_type": "code",
   "execution_count": 12,
   "id": "2c703e7c",
   "metadata": {},
   "outputs": [
    {
     "data": {
      "text/plain": [
       "0"
      ]
     },
     "execution_count": 12,
     "metadata": {},
     "output_type": "execute_result"
    }
   ],
   "source": [
    "string1.count('A',4)"
   ]
  },
  {
   "cell_type": "code",
   "execution_count": 13,
   "id": "26b4e8c2",
   "metadata": {},
   "outputs": [
    {
     "data": {
      "text/plain": [
       "2"
      ]
     },
     "execution_count": 13,
     "metadata": {},
     "output_type": "execute_result"
    }
   ],
   "source": [
    "string1.count('A'.lower(),4)"
   ]
  },
  {
   "cell_type": "code",
   "execution_count": 14,
   "id": "8b98821e",
   "metadata": {},
   "outputs": [
    {
     "name": "stdout",
     "output_type": "stream",
     "text": [
      "3\n"
     ]
    }
   ],
   "source": [
    "string1='ola ola ola'\n",
    "count=0\n",
    "for i in string1:\n",
    "    if i=='a':\n",
    "        count+=1\n",
    "print(count)        \n",
    "            "
   ]
  },
  {
   "cell_type": "code",
   "execution_count": 15,
   "id": "733a7768",
   "metadata": {},
   "outputs": [],
   "source": [
    "# How many 'ola' are there\n",
    "# do till now what we completed use that only except count method"
   ]
  },
  {
   "cell_type": "code",
   "execution_count": 16,
   "id": "3c633f6c",
   "metadata": {},
   "outputs": [
    {
     "name": "stdout",
     "output_type": "stream",
     "text": [
      "3\n"
     ]
    }
   ],
   "source": [
    "string1='ola ola ola'\n",
    "count=0\n",
    "for i in range(len(string1)):\n",
    "    if string1[i:i+3]=='ola':\n",
    "        count+=1\n",
    "print(count)        \n",
    "            "
   ]
  },
  {
   "cell_type": "code",
   "execution_count": 19,
   "id": "422c52bd",
   "metadata": {},
   "outputs": [
    {
     "data": {
      "text/plain": [
       "3"
      ]
     },
     "execution_count": 19,
     "metadata": {},
     "output_type": "execute_result"
    }
   ],
   "source": [
    "string1.count('a') # this is developer\n",
    "\n",
    "string1.count('ola') # as developer mode"
   ]
  },
  {
   "cell_type": "markdown",
   "id": "10578055",
   "metadata": {},
   "source": [
    "## replace"
   ]
  },
  {
   "cell_type": "code",
   "execution_count": 22,
   "id": "6631f7d0",
   "metadata": {},
   "outputs": [
    {
     "data": {
      "text/plain": [
       "'weLcome'"
      ]
     },
     "execution_count": 22,
     "metadata": {},
     "output_type": "execute_result"
    }
   ],
   "source": [
    "string1='welcome'\n",
    "# replace 'l' with 'L' \n",
    "string1.replace('l','L')"
   ]
  },
  {
   "cell_type": "code",
   "execution_count": 23,
   "id": "6ae494e4",
   "metadata": {},
   "outputs": [
    {
     "data": {
      "text/plain": [
       "'weLLLLcome'"
      ]
     },
     "execution_count": 23,
     "metadata": {},
     "output_type": "execute_result"
    }
   ],
   "source": [
    "string1='welcome'\n",
    "# replace 'l' with 'L' \n",
    "string1.replace('l','LLLL')"
   ]
  },
  {
   "cell_type": "code",
   "execution_count": 25,
   "id": "611b562e",
   "metadata": {},
   "outputs": [
    {
     "data": {
      "text/plain": [
       "'$esta$t'"
      ]
     },
     "execution_count": 25,
     "metadata": {},
     "output_type": "execute_result"
    }
   ],
   "source": [
    "string1='restart'\n",
    "# replace 'r' with '$'\n",
    "string1.replace('r','$')"
   ]
  },
  {
   "cell_type": "code",
   "execution_count": 26,
   "id": "0dd36a94",
   "metadata": {},
   "outputs": [
    {
     "data": {
      "text/plain": [
       "'$estart'"
      ]
     },
     "execution_count": 26,
     "metadata": {},
     "output_type": "execute_result"
    }
   ],
   "source": [
    "string1='restart'\n",
    "# replace 'r' with '$'\n",
    "string1.replace('r','$',1)"
   ]
  },
  {
   "cell_type": "code",
   "execution_count": 28,
   "id": "3f03be3a",
   "metadata": {},
   "outputs": [
    {
     "data": {
      "text/plain": [
       "'$esta$t $$$$'"
      ]
     },
     "execution_count": 28,
     "metadata": {},
     "output_type": "execute_result"
    }
   ],
   "source": [
    "string1='restart rrrr'\n",
    "string1.replace('r','$',-1)"
   ]
  },
  {
   "cell_type": "code",
   "execution_count": 31,
   "id": "caa7fb83",
   "metadata": {},
   "outputs": [
    {
     "data": {
      "text/plain": [
       "'resa$t'"
      ]
     },
     "execution_count": 31,
     "metadata": {},
     "output_type": "execute_result"
    }
   ],
   "source": [
    "string1='resart'\n",
    "# o/p: 'resta$t'\n",
    "\n",
    "# Do only with what we completed till now\n",
    "s1=string1[0]\n",
    "s2=string1[1:].replace('r','$')\n",
    "s1+s2"
   ]
  },
  {
   "cell_type": "markdown",
   "id": "582e67a5",
   "metadata": {},
   "source": [
    "## index"
   ]
  },
  {
   "cell_type": "code",
   "execution_count": 32,
   "id": "6a1149df",
   "metadata": {},
   "outputs": [
    {
     "data": {
      "text/plain": [
       "3"
      ]
     },
     "execution_count": 32,
     "metadata": {},
     "output_type": "execute_result"
    }
   ],
   "source": [
    "string1='welcome python'\n",
    "\n",
    "# index of 'c'\n",
    "\n",
    "string1.index('c')"
   ]
  },
  {
   "cell_type": "code",
   "execution_count": 33,
   "id": "255f4f8f",
   "metadata": {},
   "outputs": [
    {
     "ename": "ValueError",
     "evalue": "substring not found",
     "output_type": "error",
     "traceback": [
      "\u001b[1;31m---------------------------------------------------------------------------\u001b[0m",
      "\u001b[1;31mValueError\u001b[0m                                Traceback (most recent call last)",
      "Input \u001b[1;32mIn [33]\u001b[0m, in \u001b[0;36m<cell line: 1>\u001b[1;34m()\u001b[0m\n\u001b[1;32m----> 1\u001b[0m \u001b[43mstring1\u001b[49m\u001b[38;5;241;43m.\u001b[39;49m\u001b[43mindex\u001b[49m\u001b[43m(\u001b[49m\u001b[38;5;124;43m'\u001b[39;49m\u001b[38;5;124;43mz\u001b[39;49m\u001b[38;5;124;43m'\u001b[39;49m\u001b[43m)\u001b[49m\n",
      "\u001b[1;31mValueError\u001b[0m: substring not found"
     ]
    }
   ],
   "source": [
    "string1.index('z')"
   ]
  },
  {
   "cell_type": "code",
   "execution_count": 35,
   "id": "5bd05e79",
   "metadata": {},
   "outputs": [
    {
     "name": "stdout",
     "output_type": "stream",
     "text": [
      "3\n"
     ]
    },
    {
     "data": {
      "text/plain": [
       "3"
      ]
     },
     "execution_count": 35,
     "metadata": {},
     "output_type": "execute_result"
    }
   ],
   "source": [
    "string1='hai how are you are'\n",
    "# how many 'a' are there\n",
    "# what are the indexes of 'a'\n",
    "\n",
    "\n",
    "count=0\n",
    "for i in string1:\n",
    "    if i=='a':\n",
    "        count=count+1\n",
    "        \n",
    "print(count) \n",
    "\n",
    "string1.count('a')"
   ]
  },
  {
   "cell_type": "code",
   "execution_count": 36,
   "id": "f2da7689",
   "metadata": {},
   "outputs": [
    {
     "name": "stdout",
     "output_type": "stream",
     "text": [
      "1\n",
      "8\n",
      "16\n"
     ]
    }
   ],
   "source": [
    "for i in range(len(string1)):\n",
    "    if string1[i]=='a':\n",
    "        print(i)"
   ]
  },
  {
   "cell_type": "code",
   "execution_count": 38,
   "id": "493b7bdc",
   "metadata": {},
   "outputs": [
    {
     "data": {
      "text/plain": [
       "5"
      ]
     },
     "execution_count": 38,
     "metadata": {},
     "output_type": "execute_result"
    }
   ],
   "source": [
    " string1='hai hai hai'\n",
    " string1.index('a',2) # first occurrence of 'a' is 1  "
   ]
  },
  {
   "cell_type": "code",
   "execution_count": 40,
   "id": "82a03db7",
   "metadata": {},
   "outputs": [
    {
     "data": {
      "text/plain": [
       "9"
      ]
     },
     "execution_count": 40,
     "metadata": {},
     "output_type": "execute_result"
    }
   ],
   "source": [
    " string1='hai hai hai'\n",
    " string1.index('a',6)"
   ]
  },
  {
   "cell_type": "code",
   "execution_count": 47,
   "id": "04868248",
   "metadata": {},
   "outputs": [
    {
     "name": "stdout",
     "output_type": "stream",
     "text": [
      "1 5 9 13 17\n"
     ]
    }
   ],
   "source": [
    " string1='hai hai hai hai hai'\n",
    "i1=string1.index('a')\n",
    "i2=string1.index('a',i1+1)\n",
    "i3=string1.index('a',i2+1)\n",
    "i4=string1.index('a',i3+1)\n",
    "i5=string1.index('a',i4+1)\n",
    "print(i1,i2,i3,i4,i5)"
   ]
  },
  {
   "cell_type": "code",
   "execution_count": 48,
   "id": "6879df42",
   "metadata": {},
   "outputs": [
    {
     "data": {
      "text/plain": [
       "5"
      ]
     },
     "execution_count": 48,
     "metadata": {},
     "output_type": "execute_result"
    }
   ],
   "source": [
    "string1.index('a',string1.index('a')+1)"
   ]
  },
  {
   "cell_type": "code",
   "execution_count": 56,
   "id": "1cc62550",
   "metadata": {},
   "outputs": [
    {
     "data": {
      "text/plain": [
       "15"
      ]
     },
     "execution_count": 56,
     "metadata": {},
     "output_type": "execute_result"
    }
   ],
   "source": [
    "string1='welcome helo hello'\n",
    "string1.index('l')\n",
    "string1.index('l',string1.index('l')+1)\n",
    "string1.index('l',string1.index('l',string1.index('l')+1)+1)"
   ]
  },
  {
   "cell_type": "markdown",
   "id": "c02351c1",
   "metadata": {},
   "source": [
    "## find"
   ]
  },
  {
   "cell_type": "code",
   "execution_count": 57,
   "id": "44e59b0a",
   "metadata": {},
   "outputs": [],
   "source": [
    "# take one string\n",
    "# string1.find\n",
    "# apply shift+tab\n",
    "# read what it is says\n",
    "# implement that"
   ]
  },
  {
   "cell_type": "code",
   "execution_count": 58,
   "id": "cc7f1d21",
   "metadata": {},
   "outputs": [
    {
     "ename": "ValueError",
     "evalue": "substring not found",
     "output_type": "error",
     "traceback": [
      "\u001b[1;31m---------------------------------------------------------------------------\u001b[0m",
      "\u001b[1;31mValueError\u001b[0m                                Traceback (most recent call last)",
      "Input \u001b[1;32mIn [58]\u001b[0m, in \u001b[0;36m<cell line: 6>\u001b[1;34m()\u001b[0m\n\u001b[0;32m      2\u001b[0m string1\u001b[38;5;241m.\u001b[39mfind(\u001b[38;5;124m'\u001b[39m\u001b[38;5;124mz\u001b[39m\u001b[38;5;124m'\u001b[39m) \u001b[38;5;66;03m# no error\u001b[39;00m\n\u001b[0;32m      4\u001b[0m \u001b[38;5;66;03m# if substring not found it return -1\u001b[39;00m\n\u001b[1;32m----> 6\u001b[0m \u001b[43mstring1\u001b[49m\u001b[38;5;241;43m.\u001b[39;49m\u001b[43mindex\u001b[49m\u001b[43m(\u001b[49m\u001b[38;5;124;43m'\u001b[39;49m\u001b[38;5;124;43mz\u001b[39;49m\u001b[38;5;124;43m'\u001b[39;49m\u001b[43m)\u001b[49m\n",
      "\u001b[1;31mValueError\u001b[0m: substring not found"
     ]
    }
   ],
   "source": [
    "string1='hai hai'\n",
    "string1.find('z') # no error\n",
    "\n",
    "# if substring not found it return -1\n",
    "\n",
    "string1.index('z')\n",
    "\n",
    "# value error: substring not found\n",
    "\n",
    "string1.count('z')  # no error\n",
    "\n",
    "# return zero"
   ]
  },
  {
   "cell_type": "code",
   "execution_count": null,
   "id": "b3b7c05e",
   "metadata": {},
   "outputs": [],
   "source": [
    "- "
   ]
  }
 ],
 "metadata": {
  "kernelspec": {
   "display_name": "Python 3 (ipykernel)",
   "language": "python",
   "name": "python3"
  },
  "language_info": {
   "codemirror_mode": {
    "name": "ipython",
    "version": 3
   },
   "file_extension": ".py",
   "mimetype": "text/x-python",
   "name": "python",
   "nbconvert_exporter": "python",
   "pygments_lexer": "ipython3",
   "version": "3.9.12"
  }
 },
 "nbformat": 4,
 "nbformat_minor": 5
}
