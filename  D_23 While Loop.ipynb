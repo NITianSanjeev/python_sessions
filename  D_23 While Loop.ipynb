{
 "cells": [
  {
   "cell_type": "markdown",
   "id": "2e450eab",
   "metadata": {},
   "source": [
    "# any loop we need three things\n",
    "\n",
    "- Intialization\n",
    "\n",
    "- condition\n",
    "\n",
    "- incement/decrement"
   ]
  },
  {
   "cell_type": "code",
   "execution_count": 1,
   "id": "7763b1e5",
   "metadata": {},
   "outputs": [
    {
     "ename": "SyntaxError",
     "evalue": "invalid syntax (2593448397.py, line 1)",
     "output_type": "error",
     "traceback": [
      "\u001b[1;36m  Input \u001b[1;32mIn [1]\u001b[1;36m\u001b[0m\n\u001b[1;33m    for i in range(1,10)\u001b[0m\n\u001b[1;37m                        ^\u001b[0m\n\u001b[1;31mSyntaxError\u001b[0m\u001b[1;31m:\u001b[0m invalid syntax\n"
     ]
    }
   ],
   "source": [
    "for i in range(1,10)\n",
    "\n",
    "in while loop we need to provide all three are individually"
   ]
  },
  {
   "cell_type": "code",
   "execution_count": null,
   "id": "74362683",
   "metadata": {},
   "outputs": [],
   "source": [
    "# I want print first 10 number 0 to 9\n",
    "\n",
    "#  initial point = 0\n",
    "\n",
    "# increment\n",
    "\n",
    "# condition : whenever i will see value 9 then i will stop my loop"
   ]
  },
  {
   "cell_type": "code",
   "execution_count": null,
   "id": "4c1faab6",
   "metadata": {},
   "outputs": [],
   "source": [
    "# wapper\n",
    "\n",
    "i=0     # initial point\n",
    "\n",
    "while<condition>:\n",
    "    #st1\n",
    "    #st2\n",
    "    #st3\n",
    "    \n",
    "    i=i+1"
   ]
  },
  {
   "cell_type": "code",
   "execution_count": null,
   "id": "25c9f67b",
   "metadata": {},
   "outputs": [],
   "source": [
    "# i want to print 10 numbers 0 to 9\n",
    "for i in range(10):\n",
    "    print(i,end=' ')"
   ]
  },
  {
   "cell_type": "code",
   "execution_count": null,
   "id": "dcb8a584",
   "metadata": {},
   "outputs": [],
   "source": [
    "i=0\n",
    "while i<10:\n",
    "    print(i,end=' ')\n",
    "    i=i+1"
   ]
  },
  {
   "cell_type": "markdown",
   "id": "81803448",
   "metadata": {},
   "source": [
    "- If you want avoid infinite loop , give proper a condition\n",
    "- Based on given question\n",
    "- even though the condition is valid , you can enter inside the loop\n",
    "- but you never come out of the loop"
   ]
  },
  {
   "cell_type": "code",
   "execution_count": null,
   "id": "28b84fcd",
   "metadata": {},
   "outputs": [],
   "source": [
    "# print 10 to 20 \n",
    "\n",
    "i=10\n",
    "\n",
    "while i<20:\n",
    "    print(i,end=' ')\n",
    "    i=i+1"
   ]
  },
  {
   "cell_type": "code",
   "execution_count": null,
   "id": "7f09d031",
   "metadata": {},
   "outputs": [],
   "source": [
    "# print -1 to -10\n",
    "# First create the wapper\n",
    "\n",
    "i=-1\n",
    "while i>-11:\n",
    "    print(i,end=' ')\n",
    "    i=i-1"
   ]
  },
  {
   "cell_type": "code",
   "execution_count": null,
   "id": "2e6060ea",
   "metadata": {},
   "outputs": [],
   "source": [
    "i=-1\n",
    "while True:\n",
    "    print(i,end=' ')\n",
    "    i=i-1\n",
    "    if i==-11:\n",
    "        break"
   ]
  },
  {
   "cell_type": "code",
   "execution_count": null,
   "id": "043e0a21",
   "metadata": {},
   "outputs": [],
   "source": [
    "# By mistake you provided not a valid condition\n",
    "# then your is going to infinite\n",
    "# then provide a if condition inside the loop\n",
    "\n",
    "# Suppose you are not good at aprovide condition\n",
    "# then apply while True=== then provide the if condition\n",
    "# inside the loop"
   ]
  },
  {
   "cell_type": "code",
   "execution_count": null,
   "id": "8a0f3f68",
   "metadata": {},
   "outputs": [],
   "source": [
    "#################### Infinite loop ############\n",
    "\n",
    "i=0\n",
    "while i>=0:\n",
    "    print(i,end=' ')\n",
    "    i=i+1\n",
    "    if i==10:\n",
    "        break\n",
    "        \n",
    "################### True ###################\n",
    "i=0\n",
    "while True:\n",
    "    print(i,end=' ')\n",
    "    i=i+1\n",
    "    if i==10:\n",
    "        break\n",
    "        \n",
    "##################  I know the condition ##############\n",
    "i=0\n",
    "while i<10:\n",
    "    print(i,end=' ')\n",
    "    i=i+1\n",
    "\n",
    "\n",
    "\n",
    "\n",
    "        \n",
    "    "
   ]
  },
  {
   "cell_type": "code",
   "execution_count": null,
   "id": "c81e3cdb",
   "metadata": {},
   "outputs": [],
   "source": [
    "# ask the user enter a number 5 times\n",
    "# print the the square of the number\n",
    "\n",
    "# First do with for loop\n",
    "# then with wile loop\n",
    "\n"
   ]
  },
  {
   "cell_type": "code",
   "execution_count": null,
   "id": "48f5d18c",
   "metadata": {},
   "outputs": [],
   "source": [
    "for i in range(5):\n",
    "    num=eval(input(\"enter a nuamber:\"))\n",
    "    print(\"the square of {} is {}\".format(num,num*num))"
   ]
  },
  {
   "cell_type": "code",
   "execution_count": null,
   "id": "bd60b627",
   "metadata": {},
   "outputs": [
    {
     "name": "stdout",
     "output_type": "stream",
     "text": [
      "enter a nuamber:10\n",
      "the square of 10 is 100\n",
      "enter a nuamber:20\n",
      "the square of 20 is 400\n",
      "enter a nuamber:50\n",
      "the square of 50 is 2500\n"
     ]
    }
   ],
   "source": [
    "i=0\n",
    "while True:\n",
    "    num=eval(input(\"enter a nuamber:\"))\n",
    "    print(\"the square of {} is {}\".format(num,num*num))\n",
    "    i=i+1\n",
    "    if i==5:\n",
    "        break\n",
    "    \n",
    "    \n",
    "    \n",
    "    \n"
   ]
  },
  {
   "cell_type": "code",
   "execution_count": 1,
   "id": "2af4b48f",
   "metadata": {},
   "outputs": [
    {
     "name": "stdout",
     "output_type": "stream",
     "text": [
      "enter a nuamber:1\n",
      "the square of 1 is 1\n",
      "enter a nuamber:2\n",
      "the square of 2 is 4\n",
      "enter a nuamber:3\n",
      "the square of 3 is 9\n",
      "enter a nuamber:4\n",
      "the square of 4 is 16\n",
      "enter a nuamber:5\n",
      "the square of 5 is 25\n"
     ]
    }
   ],
   "source": [
    "i=0\n",
    "while i<=4:\n",
    "    num=eval(input(\"enter a nuamber:\"))\n",
    "    print(\"the square of {} is {}\".format(num,num*num))\n",
    "    i=i+1\n",
    "    \n",
    "    \n",
    "    "
   ]
  },
  {
   "cell_type": "code",
   "execution_count": 2,
   "id": "5c4d7cb6",
   "metadata": {},
   "outputs": [],
   "source": [
    "# WAP take a random number between 10 to 20,Five time you need to take\n",
    "# and print the square of the number "
   ]
  },
  {
   "cell_type": "code",
   "execution_count": 3,
   "id": "8b56b1c9",
   "metadata": {},
   "outputs": [
    {
     "name": "stdout",
     "output_type": "stream",
     "text": [
      "the square of 19 is 361\n",
      "the square of 17 is 289\n",
      "the square of 17 is 289\n",
      "the square of 20 is 400\n",
      "the square of 16 is 256\n"
     ]
    }
   ],
   "source": [
    "import random\n",
    "for i in range(5):\n",
    "    num=random.randint(10,20)\n",
    "    print(\"the square of {} is {}\".format(num,num*num))"
   ]
  },
  {
   "cell_type": "code",
   "execution_count": 4,
   "id": "703f7fc0",
   "metadata": {},
   "outputs": [
    {
     "name": "stdout",
     "output_type": "stream",
     "text": [
      "the square of 12 is 144\n",
      "the square of 15 is 225\n",
      "the square of 17 is 289\n",
      "the square of 14 is 196\n",
      "the square of 13 is 169\n"
     ]
    }
   ],
   "source": [
    "import random\n",
    "i=0\n",
    "while i<=4:\n",
    "    num=random.randint(10,20)\n",
    "    print(\"the square of {} is {}\".format(num,num*num))\n",
    "    i=i+1\n",
    "    \n",
    "    \n",
    "    \n",
    "    \n",
    "    \n",
    "    "
   ]
  },
  {
   "cell_type": "code",
   "execution_count": 5,
   "id": "7ac63a95",
   "metadata": {},
   "outputs": [],
   "source": [
    "# wap ask the user print a number is an even or odd\n",
    "# consider number from 10 to 20\n",
    "\n",
    "# For\n",
    "# While "
   ]
  },
  {
   "cell_type": "code",
   "execution_count": 6,
   "id": "26c9d693",
   "metadata": {},
   "outputs": [
    {
     "name": "stdout",
     "output_type": "stream",
     "text": [
      "10 is a even number\n",
      "11 is odd numbers\n",
      "12 is a even number\n",
      "13 is odd numbers\n",
      "14 is a even number\n",
      "15 is odd numbers\n",
      "16 is a even number\n",
      "17 is odd numbers\n",
      "18 is a even number\n",
      "19 is odd numbers\n",
      "20 is a even number\n"
     ]
    }
   ],
   "source": [
    "for i in range(10,21):\n",
    "    if i%2==0:\n",
    "        print('{} is a even number'.format(i))\n",
    "    else:\n",
    "        print('{} is odd numbers'.format(i))"
   ]
  },
  {
   "cell_type": "code",
   "execution_count": 13,
   "id": "1a109524",
   "metadata": {},
   "outputs": [
    {
     "name": "stdout",
     "output_type": "stream",
     "text": [
      "10 is an even numbers\n",
      "11 is an odd numbers\n",
      "12 is an even numbers\n",
      "13 is an odd numbers\n",
      "14 is an even numbers\n",
      "15 is an odd numbers\n",
      "16 is an even numbers\n",
      "17 is an odd numbers\n",
      "18 is an even numbers\n",
      "19 is an odd numbers\n",
      "20 is an even numbers\n"
     ]
    }
   ],
   "source": [
    "i=10\n",
    "while i<21:\n",
    "    if i%2==0:\n",
    "        print('{} is an even numbers'.format(i))\n",
    "    else:\n",
    "        print('{} is an odd numbers'.format(i))\n",
    "    i=i+1    "
   ]
  },
  {
   "cell_type": "code",
   "execution_count": 14,
   "id": "06594206",
   "metadata": {},
   "outputs": [],
   "source": [
    "# print sum of first 10 natural number\n",
    "# ans=55\n",
    "\n",
    "# for loop\n",
    "# while loop"
   ]
  },
  {
   "cell_type": "code",
   "execution_count": 18,
   "id": "59ae2aa6",
   "metadata": {},
   "outputs": [
    {
     "name": "stdout",
     "output_type": "stream",
     "text": [
      "55\n"
     ]
    }
   ],
   "source": [
    "summ=0\n",
    "for i in range(1,11):\n",
    "    summ+=i\n",
    "print(summ)\n"
   ]
  },
  {
   "cell_type": "code",
   "execution_count": 19,
   "id": "d71ba0d8",
   "metadata": {},
   "outputs": [
    {
     "name": "stdout",
     "output_type": "stream",
     "text": [
      "55\n"
     ]
    }
   ],
   "source": [
    "i=1\n",
    "summ=0\n",
    "while i<11:\n",
    "    summ+=i\n",
    "    i=i+1\n",
    "    \n",
    "print(summ)    \n",
    "    "
   ]
  },
  {
   "cell_type": "code",
   "execution_count": 27,
   "id": "26e87434",
   "metadata": {},
   "outputs": [
    {
     "name": "stdout",
     "output_type": "stream",
     "text": [
      "473\n"
     ]
    }
   ],
   "source": [
    "# WAP get 10 random numbers between 1 to 100\n",
    "# and sum those numbers\n",
    "\n",
    "import random\n",
    "summ=0\n",
    "for i in range(10): \n",
    "    num=random.randint(1,100)\n",
    "    summ=summ+num\n",
    "print(summ)"
   ]
  },
  {
   "cell_type": "code",
   "execution_count": 28,
   "id": "97bdb5ae",
   "metadata": {},
   "outputs": [
    {
     "name": "stdout",
     "output_type": "stream",
     "text": [
      "10\n"
     ]
    }
   ],
   "source": [
    "import random\n",
    "i=0\n",
    "summ=0\n",
    "while i<10:\n",
    "    num=random.randint(1,100)\n",
    "    summ=summ+1\n",
    "    i=i+1\n",
    "print(summ)    "
   ]
  },
  {
   "cell_type": "code",
   "execution_count": 29,
   "id": "1fd2804f",
   "metadata": {},
   "outputs": [
    {
     "name": "stdout",
     "output_type": "stream",
     "text": [
      "6\n"
     ]
    }
   ],
   "source": [
    "# WAP ask the user get a 10 random number between 10 to 100\n",
    "# count how many are greater then 50\n",
    "count=0\n",
    "for i in range(10):\n",
    "    num=random.randint(10,100)\n",
    "    if num>50:\n",
    "        count=count+1\n",
    "        \n",
    "print(count)        "
   ]
  },
  {
   "cell_type": "code",
   "execution_count": 31,
   "id": "6b1f00cf",
   "metadata": {},
   "outputs": [
    {
     "name": "stdout",
     "output_type": "stream",
     "text": [
      "89 63 57 88 /\n",
      "4\n"
     ]
    }
   ],
   "source": [
    "i=0\n",
    "count=0\n",
    "while i<10:\n",
    "    num=random.randint(10,100)\n",
    "    if num>50:\n",
    "        print(num,end=' ')\n",
    "        count=count+1\n",
    "    i=i+1\n",
    "print('/')    \n",
    "print(count)    "
   ]
  },
  {
   "cell_type": "code",
   "execution_count": 32,
   "id": "69d5a6fd",
   "metadata": {},
   "outputs": [
    {
     "name": "stdout",
     "output_type": "stream",
     "text": [
      "16 71 51 39 16 63 30 95 51 10 /\n",
      "10\n"
     ]
    }
   ],
   "source": [
    "# WAP ask the user get a 10 random number between 10 to 100\n",
    "# count how many are greater then 5 and equal=0\n",
    "\n",
    "i=0\n",
    "count=0\n",
    "while i<10:\n",
    "    num=random.randint(10,100)\n",
    "    if num>5 or num==0:\n",
    "        print(num,end=' ')\n",
    "        count=count+1\n",
    "    i=i+1\n",
    "print('/')    \n",
    "print(count)    "
   ]
  },
  {
   "cell_type": "code",
   "execution_count": 33,
   "id": "13553b05",
   "metadata": {},
   "outputs": [],
   "source": [
    "# WAP ask the user get a 10 random number between 10 to 100\n",
    "# count how many are greater then 5 \n",
    "# how many are equal=0"
   ]
  },
  {
   "cell_type": "code",
   "execution_count": 36,
   "id": "1b3b5d71",
   "metadata": {},
   "outputs": [
    {
     "name": "stdout",
     "output_type": "stream",
     "text": [
      "68 73 95 77 50 92 27 38 36 48 /\n",
      "10\n",
      "/\n",
      "0\n"
     ]
    }
   ],
   "source": [
    "#i=0\n",
    "#count_5=0\n",
    "#count_0=0\n",
    "i=count_5=count_0=0\n",
    "while i<10:\n",
    "    num=random.randint(10,100)\n",
    "    if num>5: \n",
    "        print(num,end=' ')\n",
    "        count_5+=1\n",
    "        \n",
    "    elif num==0:\n",
    "        print(num,end=' ')\n",
    "        count_0+=1\n",
    "    i=i+1\n",
    "print('/')    \n",
    "print(count_5)\n",
    "print('/')\n",
    "print(count_0)"
   ]
  },
  {
   "cell_type": "code",
   "execution_count": null,
   "id": "9ba85903",
   "metadata": {},
   "outputs": [],
   "source": []
  }
 ],
 "metadata": {
  "kernelspec": {
   "display_name": "Python 3 (ipykernel)",
   "language": "python",
   "name": "python3"
  },
  "language_info": {
   "codemirror_mode": {
    "name": "ipython",
    "version": 3
   },
   "file_extension": ".py",
   "mimetype": "text/x-python",
   "name": "python",
   "nbconvert_exporter": "python",
   "pygments_lexer": "ipython3",
   "version": "3.9.12"
  }
 },
 "nbformat": 4,
 "nbformat_minor": 5
}
