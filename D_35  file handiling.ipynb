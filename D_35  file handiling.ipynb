{
 "cells": [
  {
   "cell_type": "markdown",
   "id": "784eb262",
   "metadata": {},
   "source": [
    "file handiling session\n",
    "whenever you want to read any file\n",
    "\n",
    ".text\n",
    "\n",
    ".csv (comma separated value)\n",
    "\n",
    ".xlsx\n",
    "\n",
    ".json (dictionary format)\n",
    "\n",
    ".xml (IOT data)\n",
    "\n",
    ".parquet (encoded file)\n",
    "\n",
    ".delta (encoded file)\n",
    "\n",
    ".pdf\n",
    "\n",
    ".jpg\n",
    "\n",
    ".png\n",
    "\n",
    "whare is your file located:\n",
    "\n",
    "what is your file name\n",
    "\n",
    "what is the type of file (extention)"
   ]
  },
  {
   "cell_type": "code",
   "execution_count": null,
   "id": "53696787",
   "metadata": {},
   "outputs": [],
   "source": [
    "C:\\Users\\sony\\Downloads\n",
    "    \n",
    "example (1)\n",
    "\n",
    "(.pdf)"
   ]
  },
  {
   "cell_type": "code",
   "execution_count": null,
   "id": "15414920",
   "metadata": {},
   "outputs": [],
   "source": [
    "file_location=\"C:\\Users\\sony\\Documents\"\n",
    "\n",
    "file_name= CandidateHallTicket\n",
    "\n",
    "extention=\".pdf\""
   ]
  },
  {
   "cell_type": "code",
   "execution_count": 3,
   "id": "8978c8e3",
   "metadata": {},
   "outputs": [
    {
     "ename": "NameError",
     "evalue": "name 'file_location' is not defined",
     "output_type": "error",
     "traceback": [
      "\u001b[1;31m---------------------------------------------------------------------------\u001b[0m",
      "\u001b[1;31mNameError\u001b[0m                                 Traceback (most recent call last)",
      "Input \u001b[1;32mIn [3]\u001b[0m, in \u001b[0;36m<cell line: 1>\u001b[1;34m()\u001b[0m\n\u001b[1;32m----> 1\u001b[0m \u001b[43mfile_location\u001b[49m\u001b[38;5;241m+\u001b[39mfile_name\u001b[38;5;241m+\u001b[39mextenction\n",
      "\u001b[1;31mNameError\u001b[0m: name 'file_location' is not defined"
     ]
    }
   ],
   "source": [
    "file_location+file_name+extenction"
   ]
  },
  {
   "cell_type": "code",
   "execution_count": null,
   "id": "5fff0d64",
   "metadata": {},
   "outputs": [],
   "source": [
    "- unicode error : single slash\n",
    "    \n",
    "- in  order to read the file, we need provide '\\\\'   "
   ]
  },
  {
   "cell_type": "code",
   "execution_count": 47,
   "id": "a51099a3",
   "metadata": {},
   "outputs": [
    {
     "data": {
      "text/plain": [
       "'C:\\\\Users\\\\sony\\\\Documents\\\\CandidateHallTicket.pdf'"
      ]
     },
     "execution_count": 47,
     "metadata": {},
     "output_type": "execute_result"
    }
   ],
   "source": [
    "\"C:\\\\Users\\\\sony\\\\Documents\\\\CandidateHallTicket.pdf\""
   ]
  },
  {
   "cell_type": "code",
   "execution_count": 48,
   "id": "715075c4",
   "metadata": {},
   "outputs": [
    {
     "data": {
      "text/plain": [
       "'C:\\\\Users\\\\sony\\\\Documents\\\\CandidateHallTicket.pdf'"
      ]
     },
     "execution_count": 48,
     "metadata": {},
     "output_type": "execute_result"
    }
   ],
   "source": [
    "file_path=\"C:\\\\Users\\\\sony\\\\Documents\\\\CandidateHallTicket.pdf\" \n",
    "file_path"
   ]
  },
  {
   "cell_type": "code",
   "execution_count": 49,
   "id": "50ba6db7",
   "metadata": {},
   "outputs": [
    {
     "data": {
      "text/plain": [
       "<_io.TextIOWrapper name='C:\\\\Users\\\\sony\\\\Documents\\\\CandidateHallTicket.pdf' mode='r' encoding='utf-8'>"
      ]
     },
     "execution_count": 49,
     "metadata": {},
     "output_type": "execute_result"
    }
   ],
   "source": [
    "open(file_path,encoding='utf-8')\n",
    "\n",
    "# mode: read: r/write:w\n",
    "# encoding: cp1252/utf-8"
   ]
  },
  {
   "cell_type": "markdown",
   "id": "d55008a3",
   "metadata": {},
   "source": [
    "- whenever any file has spl charcters it will not read\n",
    "\n",
    "- that time you need to provide encoding value\n",
    "\n",
    "- different encoding files has different encoding method\n",
    "\n",
    "- 'utf-8'/'cp-1252'"
   ]
  },
  {
   "cell_type": "code",
   "execution_count": 55,
   "id": "6ab6c4d9",
   "metadata": {},
   "outputs": [
    {
     "ename": "UnicodeDecodeError",
     "evalue": "'utf-8' codec can't decode byte 0xe2 in position 10: invalid continuation byte",
     "output_type": "error",
     "traceback": [
      "\u001b[1;31m---------------------------------------------------------------------------\u001b[0m",
      "\u001b[1;31mUnicodeDecodeError\u001b[0m                        Traceback (most recent call last)",
      "Input \u001b[1;32mIn [55]\u001b[0m, in \u001b[0;36m<cell line: 3>\u001b[1;34m()\u001b[0m\n\u001b[0;32m      1\u001b[0m file_path\u001b[38;5;241m=\u001b[39m\u001b[38;5;124m\"\u001b[39m\u001b[38;5;124mC:\u001b[39m\u001b[38;5;130;01m\\\\\u001b[39;00m\u001b[38;5;124mUsers\u001b[39m\u001b[38;5;130;01m\\\\\u001b[39;00m\u001b[38;5;124msony\u001b[39m\u001b[38;5;130;01m\\\\\u001b[39;00m\u001b[38;5;124mDocuments\u001b[39m\u001b[38;5;130;01m\\\\\u001b[39;00m\u001b[38;5;124mCandidateHallTicket.pdf\u001b[39m\u001b[38;5;124m\"\u001b[39m\n\u001b[0;32m      2\u001b[0m file\u001b[38;5;241m=\u001b[39m\u001b[38;5;28mopen\u001b[39m(file_path,encoding\u001b[38;5;241m=\u001b[39m\u001b[38;5;124m'\u001b[39m\u001b[38;5;124mutf-8-sig\u001b[39m\u001b[38;5;124m'\u001b[39m)\n\u001b[1;32m----> 3\u001b[0m \u001b[38;5;28mprint\u001b[39m(\u001b[43mfile\u001b[49m\u001b[38;5;241;43m.\u001b[39;49m\u001b[43mread\u001b[49m\u001b[43m(\u001b[49m\u001b[43m)\u001b[49m)\n",
      "File \u001b[1;32m~\\anaconda3\\lib\\codecs.py:322\u001b[0m, in \u001b[0;36mBufferedIncrementalDecoder.decode\u001b[1;34m(self, input, final)\u001b[0m\n\u001b[0;32m    319\u001b[0m \u001b[38;5;28;01mdef\u001b[39;00m \u001b[38;5;21mdecode\u001b[39m(\u001b[38;5;28mself\u001b[39m, \u001b[38;5;28minput\u001b[39m, final\u001b[38;5;241m=\u001b[39m\u001b[38;5;28;01mFalse\u001b[39;00m):\n\u001b[0;32m    320\u001b[0m     \u001b[38;5;66;03m# decode input (taking the buffer into account)\u001b[39;00m\n\u001b[0;32m    321\u001b[0m     data \u001b[38;5;241m=\u001b[39m \u001b[38;5;28mself\u001b[39m\u001b[38;5;241m.\u001b[39mbuffer \u001b[38;5;241m+\u001b[39m \u001b[38;5;28minput\u001b[39m\n\u001b[1;32m--> 322\u001b[0m     (result, consumed) \u001b[38;5;241m=\u001b[39m \u001b[38;5;28;43mself\u001b[39;49m\u001b[38;5;241;43m.\u001b[39;49m\u001b[43m_buffer_decode\u001b[49m\u001b[43m(\u001b[49m\u001b[43mdata\u001b[49m\u001b[43m,\u001b[49m\u001b[43m \u001b[49m\u001b[38;5;28;43mself\u001b[39;49m\u001b[38;5;241;43m.\u001b[39;49m\u001b[43merrors\u001b[49m\u001b[43m,\u001b[49m\u001b[43m \u001b[49m\u001b[43mfinal\u001b[49m\u001b[43m)\u001b[49m\n\u001b[0;32m    323\u001b[0m     \u001b[38;5;66;03m# keep undecoded input until the next call\u001b[39;00m\n\u001b[0;32m    324\u001b[0m     \u001b[38;5;28mself\u001b[39m\u001b[38;5;241m.\u001b[39mbuffer \u001b[38;5;241m=\u001b[39m data[consumed:]\n",
      "File \u001b[1;32m~\\anaconda3\\lib\\encodings\\utf_8_sig.py:69\u001b[0m, in \u001b[0;36mIncrementalDecoder._buffer_decode\u001b[1;34m(self, input, errors, final)\u001b[0m\n\u001b[0;32m     66\u001b[0m             (output, consumed) \u001b[38;5;241m=\u001b[39m \\\n\u001b[0;32m     67\u001b[0m                codecs\u001b[38;5;241m.\u001b[39mutf_8_decode(\u001b[38;5;28minput\u001b[39m[\u001b[38;5;241m3\u001b[39m:], errors, final)\n\u001b[0;32m     68\u001b[0m             \u001b[38;5;28;01mreturn\u001b[39;00m (output, consumed\u001b[38;5;241m+\u001b[39m\u001b[38;5;241m3\u001b[39m)\n\u001b[1;32m---> 69\u001b[0m \u001b[38;5;28;01mreturn\u001b[39;00m \u001b[43mcodecs\u001b[49m\u001b[38;5;241;43m.\u001b[39;49m\u001b[43mutf_8_decode\u001b[49m\u001b[43m(\u001b[49m\u001b[38;5;28;43minput\u001b[39;49m\u001b[43m,\u001b[49m\u001b[43m \u001b[49m\u001b[43merrors\u001b[49m\u001b[43m,\u001b[49m\u001b[43m \u001b[49m\u001b[43mfinal\u001b[49m\u001b[43m)\u001b[49m\n",
      "\u001b[1;31mUnicodeDecodeError\u001b[0m: 'utf-8' codec can't decode byte 0xe2 in position 10: invalid continuation byte"
     ]
    }
   ],
   "source": [
    "file_path=\"C:\\\\Users\\\\sony\\\\Documents\\\\CandidateHallTicket.pdf\"\n",
    "file=open(file_path,encoding='utf-8-sig')\n",
    "print(file.read())\n",
    "\n",
    "# \\n: new line\n",
    "# \\t: tab"
   ]
  },
  {
   "cell_type": "code",
   "execution_count": null,
   "id": "520503bd",
   "metadata": {},
   "outputs": [],
   "source": [
    "# in the above case\n",
    "# your data file and python file both are in different location\n",
    "# full location\n",
    "\n",
    "# python file and data file both are in same location\n",
    "# you no need to provide the location\n"
   ]
  },
  {
   "cell_type": "code",
   "execution_count": 11,
   "id": "5aac7305",
   "metadata": {},
   "outputs": [],
   "source": [
    "import os"
   ]
  },
  {
   "cell_type": "code",
   "execution_count": 12,
   "id": "c20b1673",
   "metadata": {},
   "outputs": [
    {
     "data": {
      "text/plain": [
       "'C:\\\\Users\\\\sony\\\\ DATA SCIENCE  NARESH IT'"
      ]
     },
     "execution_count": 12,
     "metadata": {},
     "output_type": "execute_result"
    }
   ],
   "source": [
    "os.getcwd()\n",
    "\n",
    "# get current working directory"
   ]
  },
  {
   "cell_type": "code",
   "execution_count": 63,
   "id": "fdac594c",
   "metadata": {},
   "outputs": [
    {
     "ename": "FileNotFoundError",
     "evalue": "[Errno 2] No such file or directory: 'CandidateHallTicket.pdf'",
     "output_type": "error",
     "traceback": [
      "\u001b[1;31m---------------------------------------------------------------------------\u001b[0m",
      "\u001b[1;31mFileNotFoundError\u001b[0m                         Traceback (most recent call last)",
      "Input \u001b[1;32mIn [63]\u001b[0m, in \u001b[0;36m<cell line: 6>\u001b[1;34m()\u001b[0m\n\u001b[0;32m      1\u001b[0m \u001b[38;5;66;03m# i will copy data file in my python location\u001b[39;00m\n\u001b[0;32m      2\u001b[0m \u001b[38;5;66;03m# file_name+<extinction>\u001b[39;00m\n\u001b[0;32m      3\u001b[0m \u001b[38;5;66;03m# no need to provide location\u001b[39;00m\n\u001b[0;32m      5\u001b[0m file_path\u001b[38;5;241m=\u001b[39m\u001b[38;5;124m\"\u001b[39m\u001b[38;5;124mCandidateHallTicket.pdf\u001b[39m\u001b[38;5;124m\"\u001b[39m\n\u001b[1;32m----> 6\u001b[0m file\u001b[38;5;241m=\u001b[39m\u001b[38;5;28;43mopen\u001b[39;49m\u001b[43m(\u001b[49m\u001b[43mfile_path\u001b[49m\u001b[43m,\u001b[49m\u001b[43mencoding\u001b[49m\u001b[38;5;241;43m=\u001b[39;49m\u001b[38;5;124;43m'\u001b[39;49m\u001b[38;5;124;43mutf-8\u001b[39;49m\u001b[38;5;124;43m'\u001b[39;49m\u001b[43m)\u001b[49m\n\u001b[0;32m      7\u001b[0m \u001b[38;5;28mprint\u001b[39m(file\u001b[38;5;241m.\u001b[39mread())\n",
      "\u001b[1;31mFileNotFoundError\u001b[0m: [Errno 2] No such file or directory: 'CandidateHallTicket.pdf'"
     ]
    }
   ],
   "source": [
    "# i will copy data file in my python location\n",
    "# file_name+<extinction>\n",
    "# no need to provide location\n",
    "\n",
    "file_path=\"CandidateHallTicket.pdf\"\n",
    "file=open(file_path,encoding='utf-8')\n",
    "print(file.read())\n",
    "\n",
    "\n",
    "# note: data file and python file in same location\n",
    "\n",
    "\n"
   ]
  },
  {
   "cell_type": "code",
   "execution_count": 64,
   "id": "5e64d50d",
   "metadata": {},
   "outputs": [
    {
     "ename": "FileNotFoundError",
     "evalue": "[Errno 2] No such file or directory: 'CandidateHallTicket.pdf'",
     "output_type": "error",
     "traceback": [
      "\u001b[1;31m---------------------------------------------------------------------------\u001b[0m",
      "\u001b[1;31mFileNotFoundError\u001b[0m                         Traceback (most recent call last)",
      "Input \u001b[1;32mIn [64]\u001b[0m, in \u001b[0;36m<cell line: 6>\u001b[1;34m()\u001b[0m\n\u001b[0;32m      1\u001b[0m \u001b[38;5;66;03m# i will copy data file in my python location\u001b[39;00m\n\u001b[0;32m      2\u001b[0m \u001b[38;5;66;03m# file_name+<extinction>\u001b[39;00m\n\u001b[0;32m      3\u001b[0m \u001b[38;5;66;03m# no need to provide location\u001b[39;00m\n\u001b[0;32m      5\u001b[0m file_path\u001b[38;5;241m=\u001b[39m\u001b[38;5;124m\"\u001b[39m\u001b[38;5;124mCandidateHallTicket.pdf\u001b[39m\u001b[38;5;124m\"\u001b[39m\n\u001b[1;32m----> 6\u001b[0m file\u001b[38;5;241m=\u001b[39m\u001b[38;5;28;43mopen\u001b[39;49m\u001b[43m(\u001b[49m\u001b[43mfile_path\u001b[49m\u001b[43m,\u001b[49m\u001b[43mencoding\u001b[49m\u001b[38;5;241;43m=\u001b[39;49m\u001b[38;5;124;43m'\u001b[39;49m\u001b[38;5;124;43mutf-8\u001b[39;49m\u001b[38;5;124;43m'\u001b[39;49m\u001b[43m)\u001b[49m\n\u001b[0;32m      7\u001b[0m \u001b[38;5;28mprint\u001b[39m(file\u001b[38;5;241m.\u001b[39mread())\n",
      "\u001b[1;31mFileNotFoundError\u001b[0m: [Errno 2] No such file or directory: 'CandidateHallTicket.pdf'"
     ]
    }
   ],
   "source": [
    "# i will copy data file in my python location\n",
    "# file_name+<extinction>\n",
    "# no need to provide location\n",
    "\n",
    "file_path=\"CandidateHallTicket.pdf\"\n",
    "file=open(file_path,encoding='utf-8')\n",
    "print(file.read())\n",
    "\n",
    "\n",
    "# note: data file and python file in same location\n"
   ]
  },
  {
   "cell_type": "code",
   "execution_count": 17,
   "id": "47630200",
   "metadata": {},
   "outputs": [
    {
     "data": {
      "text/plain": [
       "['DirEntry',\n",
       " 'F_OK',\n",
       " 'GenericAlias',\n",
       " 'Mapping',\n",
       " 'MutableMapping',\n",
       " 'O_APPEND',\n",
       " 'O_BINARY',\n",
       " 'O_CREAT',\n",
       " 'O_EXCL',\n",
       " 'O_NOINHERIT',\n",
       " 'O_RANDOM',\n",
       " 'O_RDONLY',\n",
       " 'O_RDWR',\n",
       " 'O_SEQUENTIAL',\n",
       " 'O_SHORT_LIVED',\n",
       " 'O_TEMPORARY',\n",
       " 'O_TEXT',\n",
       " 'O_TRUNC',\n",
       " 'O_WRONLY',\n",
       " 'P_DETACH',\n",
       " 'P_NOWAIT',\n",
       " 'P_NOWAITO',\n",
       " 'P_OVERLAY',\n",
       " 'P_WAIT',\n",
       " 'PathLike',\n",
       " 'R_OK',\n",
       " 'SEEK_CUR',\n",
       " 'SEEK_END',\n",
       " 'SEEK_SET',\n",
       " 'TMP_MAX',\n",
       " 'W_OK',\n",
       " 'X_OK',\n",
       " '_AddedDllDirectory',\n",
       " '_Environ',\n",
       " '__all__',\n",
       " '__builtins__',\n",
       " '__cached__',\n",
       " '__doc__',\n",
       " '__file__',\n",
       " '__loader__',\n",
       " '__name__',\n",
       " '__package__',\n",
       " '__spec__',\n",
       " '_check_methods',\n",
       " '_execvpe',\n",
       " '_exists',\n",
       " '_exit',\n",
       " '_fspath',\n",
       " '_get_exports_list',\n",
       " '_walk',\n",
       " '_wrap_close',\n",
       " 'abc',\n",
       " 'abort',\n",
       " 'access',\n",
       " 'add_dll_directory',\n",
       " 'altsep',\n",
       " 'chdir',\n",
       " 'chmod',\n",
       " 'close',\n",
       " 'closerange',\n",
       " 'cpu_count',\n",
       " 'curdir',\n",
       " 'defpath',\n",
       " 'device_encoding',\n",
       " 'devnull',\n",
       " 'dup',\n",
       " 'dup2',\n",
       " 'environ',\n",
       " 'error',\n",
       " 'execl',\n",
       " 'execle',\n",
       " 'execlp',\n",
       " 'execlpe',\n",
       " 'execv',\n",
       " 'execve',\n",
       " 'execvp',\n",
       " 'execvpe',\n",
       " 'extsep',\n",
       " 'fdopen',\n",
       " 'fsdecode',\n",
       " 'fsencode',\n",
       " 'fspath',\n",
       " 'fstat',\n",
       " 'fsync',\n",
       " 'ftruncate',\n",
       " 'get_exec_path',\n",
       " 'get_handle_inheritable',\n",
       " 'get_inheritable',\n",
       " 'get_terminal_size',\n",
       " 'getcwd',\n",
       " 'getcwdb',\n",
       " 'getenv',\n",
       " 'getlogin',\n",
       " 'getpid',\n",
       " 'getppid',\n",
       " 'isatty',\n",
       " 'kill',\n",
       " 'linesep',\n",
       " 'link',\n",
       " 'listdir',\n",
       " 'lseek',\n",
       " 'lstat',\n",
       " 'makedirs',\n",
       " 'mkdir',\n",
       " 'name',\n",
       " 'open',\n",
       " 'pardir',\n",
       " 'path',\n",
       " 'pathsep',\n",
       " 'pipe',\n",
       " 'popen',\n",
       " 'putenv',\n",
       " 'read',\n",
       " 'readlink',\n",
       " 'remove',\n",
       " 'removedirs',\n",
       " 'rename',\n",
       " 'renames',\n",
       " 'replace',\n",
       " 'rmdir',\n",
       " 'scandir',\n",
       " 'sep',\n",
       " 'set_handle_inheritable',\n",
       " 'set_inheritable',\n",
       " 'spawnl',\n",
       " 'spawnle',\n",
       " 'spawnv',\n",
       " 'spawnve',\n",
       " 'st',\n",
       " 'startfile',\n",
       " 'stat',\n",
       " 'stat_result',\n",
       " 'statvfs_result',\n",
       " 'strerror',\n",
       " 'supports_bytes_environ',\n",
       " 'supports_dir_fd',\n",
       " 'supports_effective_ids',\n",
       " 'supports_fd',\n",
       " 'supports_follow_symlinks',\n",
       " 'symlink',\n",
       " 'sys',\n",
       " 'system',\n",
       " 'terminal_size',\n",
       " 'times',\n",
       " 'times_result',\n",
       " 'truncate',\n",
       " 'umask',\n",
       " 'uname_result',\n",
       " 'unlink',\n",
       " 'unsetenv',\n",
       " 'urandom',\n",
       " 'utime',\n",
       " 'waitpid',\n",
       " 'waitstatus_to_exitcode',\n",
       " 'walk',\n",
       " 'write']"
      ]
     },
     "execution_count": 17,
     "metadata": {},
     "output_type": "execute_result"
    }
   ],
   "source": [
    "# change directory\n",
    "dir(os)"
   ]
  },
  {
   "cell_type": "code",
   "execution_count": 18,
   "id": "7f017e11",
   "metadata": {},
   "outputs": [
    {
     "data": {
      "text/plain": [
       "'C:\\\\Users\\\\sony\\\\ DATA SCIENCE  NARESH IT'"
      ]
     },
     "execution_count": 18,
     "metadata": {},
     "output_type": "execute_result"
    }
   ],
   "source": [
    "os.getcwd()"
   ]
  },
  {
   "cell_type": "code",
   "execution_count": 53,
   "id": "be8429b0",
   "metadata": {},
   "outputs": [],
   "source": [
    "path=\"C:\\\\Users\\\\sony\\\\ DATA SCIENCE  NARESH IT\"\n",
    "os.chdir(path)"
   ]
  },
  {
   "cell_type": "code",
   "execution_count": 54,
   "id": "d356a162",
   "metadata": {},
   "outputs": [
    {
     "data": {
      "text/plain": [
       "'C:\\\\Users\\\\sony\\\\ DATA SCIENCE  NARESH IT'"
      ]
     },
     "execution_count": 54,
     "metadata": {},
     "output_type": "execute_result"
    }
   ],
   "source": [
    "os.getcwd()"
   ]
  },
  {
   "cell_type": "markdown",
   "id": "e67191b4",
   "metadata": {},
   "source": [
    "- python file\n",
    "\n",
    "- data file\n",
    "\n",
    "- both are in different location\n",
    "\n",
    "- you need to provide full path\n",
    "\n",
    "- in code you alredy changed the directory,whare you data file existed"
   ]
  },
  {
   "cell_type": "code",
   "execution_count": null,
   "id": "c6bc2a13",
   "metadata": {},
   "outputs": [],
   "source": [
    "- python\n",
    "\n",
    "- data file\n",
    "\n",
    "- now i will not change my data file\n",
    "\n",
    "- os.chdir(<path>)"
   ]
  },
  {
   "cell_type": "markdown",
   "id": "42a44857",
   "metadata": {},
   "source": [
    "# with"
   ]
  },
  {
   "cell_type": "code",
   "execution_count": 56,
   "id": "2ce1c915",
   "metadata": {},
   "outputs": [
    {
     "data": {
      "text/plain": [
       "''"
      ]
     },
     "execution_count": 56,
     "metadata": {},
     "output_type": "execute_result"
    }
   ],
   "source": [
    "file.read()"
   ]
  },
  {
   "cell_type": "code",
   "execution_count": 57,
   "id": "66ab23b0",
   "metadata": {},
   "outputs": [
    {
     "data": {
      "text/plain": [
       "<_io.TextIOWrapper name='C:\\\\Users\\\\sony\\\\Documents\\\\CandidateHallTicket.pdf' mode='r' encoding='utf-8-sig'>"
      ]
     },
     "execution_count": 57,
     "metadata": {},
     "output_type": "execute_result"
    }
   ],
   "source": [
    "file"
   ]
  },
  {
   "cell_type": "code",
   "execution_count": 62,
   "id": "0b842492",
   "metadata": {},
   "outputs": [
    {
     "ename": "FileNotFoundError",
     "evalue": "[Errno 2] No such file or directory: 'example (1).pdf'",
     "output_type": "error",
     "traceback": [
      "\u001b[1;31m---------------------------------------------------------------------------\u001b[0m",
      "\u001b[1;31mFileNotFoundError\u001b[0m                         Traceback (most recent call last)",
      "Input \u001b[1;32mIn [62]\u001b[0m, in \u001b[0;36m<cell line: 6>\u001b[1;34m()\u001b[0m\n\u001b[0;32m      1\u001b[0m \u001b[38;5;66;03m#file_path=\"example (1).pdf\"\u001b[39;00m\n\u001b[0;32m      2\u001b[0m \u001b[38;5;66;03m#file=open(file_path,encoding='utf-8')\u001b[39;00m\n\u001b[0;32m      3\u001b[0m \u001b[38;5;66;03m#print(file.read())\u001b[39;00m\n\u001b[0;32m      5\u001b[0m file_path\u001b[38;5;241m=\u001b[39m\u001b[38;5;124m\"\u001b[39m\u001b[38;5;124mexample (1).pdf\u001b[39m\u001b[38;5;124m\"\u001b[39m\n\u001b[1;32m----> 6\u001b[0m \u001b[38;5;28;01mwith\u001b[39;00m \u001b[38;5;28;43mopen\u001b[39;49m\u001b[43m(\u001b[49m\u001b[43mfile_path\u001b[49m\u001b[43m)\u001b[49m \u001b[38;5;28;01mas\u001b[39;00m file:\n\u001b[0;32m      7\u001b[0m     data\u001b[38;5;241m=\u001b[39mfile\u001b[38;5;241m.\u001b[39mread()\n",
      "\u001b[1;31mFileNotFoundError\u001b[0m: [Errno 2] No such file or directory: 'example (1).pdf'"
     ]
    }
   ],
   "source": [
    "#file_path=\"example (1).pdf\"\n",
    "#file=open(file_path,encoding='utf-8')\n",
    "#print(file.read())\n",
    "\n",
    "file_path=\"example (1).pdf\"\n",
    "with open(file_path) as file:\n",
    "    data=file.read()\n",
    "    \n",
    "    \n",
    "    \n"
   ]
  },
  {
   "cell_type": "code",
   "execution_count": null,
   "id": "7c78a206",
   "metadata": {},
   "outputs": [],
   "source": [
    "########################################### M-1\n",
    "file_path=\"C:\\\\Users\\\\sony\\\\Documents\\\\CandidateHallTicket.pdf\"\n",
    "file=open(file_path,encoding='utf-8')\n",
    "print(file.read())\n",
    "\n",
    "########################################## M-2\n",
    "file_path=\"CandidateHallTicket.pdf\"\n",
    "file=open(file_path,encoding='utf-8')\n",
    "print(file.read())\n",
    "\n",
    "######################################### M-3\n",
    "file_path=\"CandidateHallTicket.pdf\"\n",
    "with open(file_path) as file:\n",
    "    data=file.read()\n",
    "    "
   ]
  },
  {
   "cell_type": "code",
   "execution_count": 66,
   "id": "6868f45a",
   "metadata": {},
   "outputs": [
    {
     "ename": "NameError",
     "evalue": "name 'data' is not defined",
     "output_type": "error",
     "traceback": [
      "\u001b[1;31m---------------------------------------------------------------------------\u001b[0m",
      "\u001b[1;31mNameError\u001b[0m                                 Traceback (most recent call last)",
      "Input \u001b[1;32mIn [66]\u001b[0m, in \u001b[0;36m<cell line: 1>\u001b[1;34m()\u001b[0m\n\u001b[1;32m----> 1\u001b[0m \u001b[38;5;28mlen\u001b[39m(\u001b[43mdata\u001b[49m)\n",
      "\u001b[1;31mNameError\u001b[0m: name 'data' is not defined"
     ]
    }
   ],
   "source": [
    "len(data)"
   ]
  },
  {
   "cell_type": "markdown",
   "id": "c9b2ec26",
   "metadata": {},
   "source": [
    "## enumerate"
   ]
  },
  {
   "cell_type": "code",
   "execution_count": 1,
   "id": "5638818f",
   "metadata": {},
   "outputs": [
    {
     "ename": "NameError",
     "evalue": "name 'data' is not defined",
     "output_type": "error",
     "traceback": [
      "\u001b[1;31m---------------------------------------------------------------------------\u001b[0m",
      "\u001b[1;31mNameError\u001b[0m                                 Traceback (most recent call last)",
      "Input \u001b[1;32mIn [1]\u001b[0m, in \u001b[0;36m<cell line: 1>\u001b[1;34m()\u001b[0m\n\u001b[1;32m----> 1\u001b[0m \u001b[38;5;28;01mfor\u001b[39;00m i \u001b[38;5;129;01min\u001b[39;00m \u001b[43mdata\u001b[49m:\n\u001b[0;32m      2\u001b[0m     \u001b[38;5;28mprint\u001b[39m(i)\n",
      "\u001b[1;31mNameError\u001b[0m: name 'data' is not defined"
     ]
    }
   ],
   "source": [
    "for i in data:\n",
    "    print(i)"
   ]
  },
  {
   "cell_type": "code",
   "execution_count": 2,
   "id": "5773e629",
   "metadata": {},
   "outputs": [
    {
     "ename": "FileNotFoundError",
     "evalue": "[Errno 2] No such file or directory: 'CandidateHallTicket.pdf'",
     "output_type": "error",
     "traceback": [
      "\u001b[1;31m---------------------------------------------------------------------------\u001b[0m",
      "\u001b[1;31mFileNotFoundError\u001b[0m                         Traceback (most recent call last)",
      "Input \u001b[1;32mIn [2]\u001b[0m, in \u001b[0;36m<cell line: 2>\u001b[1;34m()\u001b[0m\n\u001b[0;32m      1\u001b[0m file_path\u001b[38;5;241m=\u001b[39m\u001b[38;5;124m\"\u001b[39m\u001b[38;5;124mCandidateHallTicket.pdf\u001b[39m\u001b[38;5;124m\"\u001b[39m\n\u001b[1;32m----> 2\u001b[0m file\u001b[38;5;241m=\u001b[39m\u001b[38;5;28;43mopen\u001b[39;49m\u001b[43m(\u001b[49m\u001b[43mfile_path\u001b[49m\u001b[43m,\u001b[49m\u001b[43mencoding\u001b[49m\u001b[38;5;241;43m=\u001b[39;49m\u001b[38;5;124;43m'\u001b[39;49m\u001b[38;5;124;43mutf-8\u001b[39;49m\u001b[38;5;124;43m'\u001b[39;49m\u001b[43m)\u001b[49m\n\u001b[0;32m      3\u001b[0m \u001b[38;5;28;01mfor\u001b[39;00m i \u001b[38;5;129;01min\u001b[39;00m file\u001b[38;5;241m.\u001b[39mread():\n\u001b[0;32m      4\u001b[0m     \u001b[38;5;28mprint\u001b[39m(i)\n",
      "\u001b[1;31mFileNotFoundError\u001b[0m: [Errno 2] No such file or directory: 'CandidateHallTicket.pdf'"
     ]
    }
   ],
   "source": [
    "file_path=\"CandidateHallTicket.pdf\"\n",
    "file=open(file_path,encoding='utf-8')\n",
    "for i in file.read():\n",
    "    print(i) \n",
    "    \n",
    "# are you getting lines\n",
    "# or\n",
    "# charcters"
   ]
  },
  {
   "cell_type": "code",
   "execution_count": 3,
   "id": "727c8135",
   "metadata": {},
   "outputs": [
    {
     "ename": "FileNotFoundError",
     "evalue": "[Errno 2] No such file or directory: 'CandidateHallTicket.pdf'",
     "output_type": "error",
     "traceback": [
      "\u001b[1;31m---------------------------------------------------------------------------\u001b[0m",
      "\u001b[1;31mFileNotFoundError\u001b[0m                         Traceback (most recent call last)",
      "Input \u001b[1;32mIn [3]\u001b[0m, in \u001b[0;36m<cell line: 2>\u001b[1;34m()\u001b[0m\n\u001b[0;32m      1\u001b[0m file_path\u001b[38;5;241m=\u001b[39m\u001b[38;5;124m\"\u001b[39m\u001b[38;5;124mCandidateHallTicket.pdf\u001b[39m\u001b[38;5;124m\"\u001b[39m\n\u001b[1;32m----> 2\u001b[0m file\u001b[38;5;241m=\u001b[39m\u001b[38;5;28;43mopen\u001b[39;49m\u001b[43m(\u001b[49m\u001b[43mfile_path\u001b[49m\u001b[43m,\u001b[49m\u001b[43mencoding\u001b[49m\u001b[38;5;241;43m=\u001b[39;49m\u001b[38;5;124;43m'\u001b[39;49m\u001b[38;5;124;43mutf-8\u001b[39;49m\u001b[38;5;124;43m'\u001b[39;49m\u001b[43m)\u001b[49m\n\u001b[0;32m      4\u001b[0m \u001b[38;5;28;01mfor\u001b[39;00m i \u001b[38;5;129;01min\u001b[39;00m file:\n\u001b[0;32m      5\u001b[0m     \u001b[38;5;28mprint\u001b[39m(i)\n",
      "\u001b[1;31mFileNotFoundError\u001b[0m: [Errno 2] No such file or directory: 'CandidateHallTicket.pdf'"
     ]
    }
   ],
   "source": [
    "file_path=\"CandidateHallTicket.pdf\"\n",
    "file=open(file_path,encoding='utf-8')\n",
    "\n",
    "for i in file:\n",
    "    print(i)"
   ]
  },
  {
   "cell_type": "markdown",
   "id": "7cade421",
   "metadata": {},
   "source": [
    "- before reading will have lines\n",
    "\n",
    "- if you want to see line , work on open()\n",
    "\n",
    "- if you want to see the charcters, work on file.read()\n"
   ]
  },
  {
   "cell_type": "code",
   "execution_count": null,
   "id": "e7c520ff",
   "metadata": {},
   "outputs": [],
   "source": [
    "# Q1) get number of lines \n",
    "\n",
    "file_path=\"CandidateHallTicket.pdf\"\n",
    "file=open(file_path,encoding='utf-8')\n",
    "\n",
    "count=0\n",
    "for i in file:\n",
    "    count=count+1\n",
    "    \n",
    "print(count)    \n",
    "    \n",
    "# Indeed to count how many line    \n"
   ]
  },
  {
   "cell_type": "code",
   "execution_count": null,
   "id": "20706bed",
   "metadata": {},
   "outputs": [],
   "source": [
    "# M1\n",
    "\n",
    "file_path=\"CandidateHallTicket.pdf\"\n",
    "file=open(file_path,encoding='utf-8')\n",
    "\n",
    "for index,line in enumerate(file):\n",
    "    print(index,line)"
   ]
  },
  {
   "cell_type": "code",
   "execution_count": null,
   "id": "93de60cf",
   "metadata": {},
   "outputs": [],
   "source": [
    "# M-2\n",
    "\n",
    "file_path=\"CandidateHallTicket.pdf\"\n",
    "file=open(file_path,encoding='utf-8')\n",
    "\n",
    "for index,line in enumerate(file):\n",
    "    pass\n",
    "\n",
    "number=index+1\n",
    "print(number)"
   ]
  },
  {
   "cell_type": "code",
   "execution_count": null,
   "id": "ee51ebba",
   "metadata": {},
   "outputs": [],
   "source": [
    "# M-3\n",
    "\n",
    "file_path=\"CandidateHallTicket.pdf\"\n",
    "file=open(file_path,encoding='utf-8')\n",
    "\n",
    "l1=len[index for index,_ in enumerate(file)]\n",
    "l1\n",
    "\n",
    "# hare line are not required\n",
    "# whenever you do not want use any specific variable\n",
    "# keep that variable name as_\n",
    "\n",
    "\n"
   ]
  },
  {
   "cell_type": "code",
   "execution_count": null,
   "id": "e921adc7",
   "metadata": {},
   "outputs": [],
   "source": [
    "# Q3) print first 10 lines\n",
    "\n",
    "file_path=\"CandidateHallTicket.pdf\"\n",
    "file=open(file_path,encoding='utf-8')\n",
    "\n",
    "for index,line in enumerate(file):\n",
    "    print(index,line)\n",
    "    if index==10:\n",
    "        break\n",
    "\n",
    "\n",
    "\n"
   ]
  },
  {
   "cell_type": "code",
   "execution_count": null,
   "id": "920d9ceb",
   "metadata": {},
   "outputs": [],
   "source": [
    "# Q-4) make all lines in same aligment\n",
    "\n",
    "file_path=\"CandidateHallTicket.pdf\"\n",
    "file=open(file_path,encoding='utf-8')\n",
    "\n",
    "for line in (file):\n",
    "    print(line.strip())\n"
   ]
  },
  {
   "cell_type": "code",
   "execution_count": null,
   "id": "d5624027",
   "metadata": {},
   "outputs": [],
   "source": [
    "# Q-5) Extract line those who are starting with 'from'\n",
    "\n",
    "# and keep in list\n",
    "# and get the count of list\n",
    "\n",
    "file_path=\"CandidateHallTicket.pdf\"\n",
    "file=open(file_path,encoding='utf-8')\n",
    "\n",
    "# for line in file:\n",
    "#     if line.startswith('From'):\n",
    "#         print(line)\n",
    "\n",
    "from_list=[line for line in file if line.startswith('From')]\n",
    "len(from_list)\n"
   ]
  },
  {
   "cell_type": "code",
   "execution_count": null,
   "id": "70fd025c",
   "metadata": {},
   "outputs": [],
   "source": [
    "# Q6) remove '\\n' from output of above code\n",
    "[line.rstrip('\\n')for line in from_list]"
   ]
  },
  {
   "cell_type": "code",
   "execution_count": null,
   "id": "8b01457e",
   "metadata": {},
   "outputs": [],
   "source": [
    "# Q7) \n",
    "file_path=\"CandidateHallTicket.pdf\"\n",
    "file=open(file_path,encoding='utf-8')\n",
    "\n",
    "from_list=[line.rstrip('\\n') for line in file if line.startswith('From')]\n",
    "len(from_list)\n",
    "\n"
   ]
  },
  {
   "cell_type": "code",
   "execution_count": null,
   "id": "e6d4067c",
   "metadata": {},
   "outputs": [],
   "source": [
    "#Q8)\n",
    "\n",
    "# extract all emails from above output\n",
    "# 54 line are there\n",
    "# Each line has one email\n",
    "# From \"  to \"\n",
    "\n",
    "emails=[line.split()[1] for line in from_list]\n",
    "emails"
   ]
  },
  {
   "cell_type": "code",
   "execution_count": null,
   "id": "47c6bdf7",
   "metadata": {},
   "outputs": [],
   "source": [
    "s1='ABC'\n",
    "s2='abc'\n",
    "# AaBbCc"
   ]
  },
  {
   "cell_type": "code",
   "execution_count": null,
   "id": "52a2c6c5",
   "metadata": {},
   "outputs": [],
   "source": [
    "# Q9)\n",
    "\n",
    "# in above email list, there are repeated emails are there\n",
    "# create unique email list\n",
    "\n",
    "# unique vowels\n",
    "# counter \n",
    "# summ\n",
    "# create an empty string/list/dictionary"
   ]
  },
  {
   "cell_type": "code",
   "execution_count": null,
   "id": "bc509464",
   "metadata": {},
   "outputs": [],
   "source": [
    "list=[]\n",
    "for email in emails:\n",
    "    if email not in list1:\n",
    "        email_list.append(email)\n",
    "        \n",
    "print(len(email_list))       "
   ]
  },
  {
   "cell_type": "code",
   "execution_count": null,
   "id": "dcea7c40",
   "metadata": {},
   "outputs": [],
   "source": [
    "email_list=[]\n",
    "l=[email.append(email_list) for email in emails if email not in email_list]\n",
    "print(l)"
   ]
  }
 ],
 "metadata": {
  "kernelspec": {
   "display_name": "Python 3 (ipykernel)",
   "language": "python",
   "name": "python3"
  },
  "language_info": {
   "codemirror_mode": {
    "name": "ipython",
    "version": 3
   },
   "file_extension": ".py",
   "mimetype": "text/x-python",
   "name": "python",
   "nbconvert_exporter": "python",
   "pygments_lexer": "ipython3",
   "version": "3.9.12"
  }
 },
 "nbformat": 4,
 "nbformat_minor": 5
}
