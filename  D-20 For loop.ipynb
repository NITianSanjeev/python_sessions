{
 "cells": [
  {
   "cell_type": "code",
   "execution_count": 1,
   "id": "23bc27e8",
   "metadata": {},
   "outputs": [
    {
     "name": "stdout",
     "output_type": "stream",
     "text": [
      "hello\n",
      "hello\n",
      "hello\n"
     ]
    }
   ],
   "source": [
    "# wap print : hello  3 times/iteration =====> loop for\n",
    "print(\"hello\")\n",
    "print(\"hello\")\n",
    "print(\"hello\")"
   ]
  },
  {
   "cell_type": "code",
   "execution_count": 3,
   "id": "189e1e3c",
   "metadata": {},
   "outputs": [
    {
     "name": "stdout",
     "output_type": "stream",
     "text": [
      "1\n",
      "2\n",
      "3\n"
     ]
    }
   ],
   "source": [
    "# first set up the loop \n",
    "for i in range (1,4):\n",
    "    print(i)\n"
   ]
  },
  {
   "cell_type": "code",
   "execution_count": 5,
   "id": "e8b1b86b",
   "metadata": {},
   "outputs": [
    {
     "name": "stdout",
     "output_type": "stream",
     "text": [
      "hi\n",
      "hello\n",
      "hello\n",
      "hello\n",
      "how are you\n"
     ]
    }
   ],
   "source": [
    "print(\"hi\")\n",
    "for i in range(3):\n",
    "    print('hello')\n",
    "print(\"how are you\")    "
   ]
  },
  {
   "cell_type": "code",
   "execution_count": 7,
   "id": "c812d7d8",
   "metadata": {},
   "outputs": [
    {
     "name": "stdout",
     "output_type": "stream",
     "text": [
      "A\n",
      "A\n",
      "A\n",
      "B\n",
      "B\n",
      "C\n",
      "C\n",
      "C\n"
     ]
    }
   ],
   "source": [
    "for i in range(3):\n",
    "    print(\"A\")\n",
    "for i in range(2):\n",
    "    print(\"B\")\n",
    "for i in range(3): \n",
    "    print(\"C\")\n",
    "    "
   ]
  },
  {
   "cell_type": "code",
   "execution_count": 10,
   "id": "fb41c4d6",
   "metadata": {},
   "outputs": [
    {
     "name": "stdout",
     "output_type": "stream",
     "text": [
      " The square of 10 is 100\n",
      " The square of 11 is 121\n",
      " The square of 12 is 144\n",
      " The square of 13 is 169\n",
      " The square of 14 is 196\n",
      " The square of 15 is 225\n"
     ]
    }
   ],
   "source": [
    "# wap ask the user to get the square of the number \n",
    "# between 10 to 15\n",
    "# square of 10 is 100\n",
    "# square of 11 is 121\n",
    "# square of 12 is 144\n",
    "\n",
    "# first get numbers from 10 to 15\n",
    "\n",
    "for i in range (10,16):\n",
    "    print(\" The square of {} is {}\".format(i,i*i))"
   ]
  },
  {
   "cell_type": "code",
   "execution_count": 16,
   "id": "3ff84aa6",
   "metadata": {},
   "outputs": [
    {
     "name": "stdout",
     "output_type": "stream",
     "text": [
      "enter start number:10\n",
      "enter stop number:16\n",
      "The square of 10 is 100\n",
      "The square of 11 is 121\n",
      "The square of 12 is 144\n",
      "The square of 13 is 169\n",
      "The square of 14 is 196\n",
      "The square of 15 is 225\n"
     ]
    }
   ],
   "source": [
    "# the same above question\n",
    "# take the numbers from keyboard\n",
    "# num1=eval(input())  10\n",
    "# num2=eval(input())  16  in for loop with variables num1,num2 \n",
    "\n",
    " \n",
    "num1=eval(input('enter start number:'))\n",
    "num2=eval(input('enter stop number:'))\n",
    "    \n",
    "for i in range(num1,num2):\n",
    "    print(\"The square of {} is {}\".format(i,i*i))\n",
    "    "
   ]
  },
  {
   "cell_type": "code",
   "execution_count": 17,
   "id": "da28a908",
   "metadata": {},
   "outputs": [
    {
     "name": "stdout",
     "output_type": "stream",
     "text": [
      "enter start number:10\n",
      "enter stop number:16\n",
      "The square of 10 is 100\n",
      "The square of 11 is 121\n",
      "The square of 12 is 144\n",
      "The square of 13 is 169\n",
      "The square of 14 is 196\n",
      "The square of 15 is 225\n"
     ]
    }
   ],
   "source": [
    "for i in range(eval(input('enter start number:')),\n",
    "               eval(input('enter stop number:'))):\n",
    "    print(\"The square of {} is {}\".format(i,i*i))"
   ]
  },
  {
   "cell_type": "code",
   "execution_count": 19,
   "id": "a9d26ca0",
   "metadata": {},
   "outputs": [
    {
     "name": "stdout",
     "output_type": "stream",
     "text": [
      "The square of 10 is 100\n",
      "The square of 11 is 121\n",
      "The square of 12 is 144\n",
      "The square of 13 is 169\n",
      "The square of 14 is 196\n",
      "The square of 15 is 225\n"
     ]
    }
   ],
   "source": [
    "num1=10\n",
    "num2=16\n",
    "\n",
    "for i in range(num1,num2):\n",
    "    print(\"The square of {} is {}\".format(i,i*i))"
   ]
  },
  {
   "cell_type": "code",
   "execution_count": 21,
   "id": "57030878",
   "metadata": {},
   "outputs": [
    {
     "name": "stdout",
     "output_type": "stream",
     "text": [
      "enter start number:10\n",
      "enter stop number:16\n",
      "The square of 10 is 100\n",
      "The square of 11 is 121\n",
      "The square of 12 is 144\n",
      "The square of 13 is 169\n",
      "The square of 14 is 196\n",
      "The square of 15 is 225\n"
     ]
    }
   ],
   "source": [
    "# Function without arguments\n",
    "def square1():\n",
    "    num1=eval(input('enter start number:'))\n",
    "    num2=eval(input('enter stop number:'))\n",
    "\n",
    "    for i in range(num1,num2):\n",
    "        print(\"The square of {} is {}\".format(i,i*i))\n",
    "        \n",
    "square1()        \n",
    "    "
   ]
  },
  {
   "cell_type": "code",
   "execution_count": 22,
   "id": "07111127",
   "metadata": {},
   "outputs": [
    {
     "name": "stdout",
     "output_type": "stream",
     "text": [
      "The square of 10 is 100\n",
      "The square of 11 is 121\n",
      "The square of 12 is 144\n",
      "The square of 13 is 169\n",
      "The square of 14 is 196\n",
      "The square of 15 is 225\n"
     ]
    }
   ],
   "source": [
    "# Function with arguments\n",
    "\n",
    "def square1(num1,num2):\n",
    "     \n",
    "    for i in range(num1,num2):\n",
    "        print(\"The square of {} is {}\".format(i,i*i))\n",
    "        \n",
    "square1(10,16)        "
   ]
  },
  {
   "cell_type": "code",
   "execution_count": 23,
   "id": "123cbaf1",
   "metadata": {},
   "outputs": [],
   "source": [
    "# WAP ask the user to print square of the five number\n",
    "# and these five number you need ask user every time"
   ]
  },
  {
   "cell_type": "code",
   "execution_count": 24,
   "id": "f9aad116",
   "metadata": {},
   "outputs": [
    {
     "name": "stdout",
     "output_type": "stream",
     "text": [
      "enter a number:10\n",
      "the square of 10 is 100\n",
      "enter a number:20\n",
      "the square of 20 is 400\n",
      "enter a number:50\n",
      "the square of 50 is 2500\n",
      "enter a number:60\n",
      "the square of 60 is 3600\n",
      "enter a number:70\n",
      "the square of 70 is 4900\n"
     ]
    }
   ],
   "source": [
    "for i  in range (5):\n",
    "    num=eval(input(\"enter a number:\"))\n",
    "    print(\"the square of {} is {}\".format(num,num*num))"
   ]
  },
  {
   "cell_type": "code",
   "execution_count": 26,
   "id": "d8f6f3f8",
   "metadata": {},
   "outputs": [],
   "source": [
    "# WAP ask the user  to print five times square of a number\n",
    "# this is you need to take every time a random number between 1 to 20"
   ]
  },
  {
   "cell_type": "code",
   "execution_count": 29,
   "id": "419c7db5",
   "metadata": {},
   "outputs": [
    {
     "name": "stdout",
     "output_type": "stream",
     "text": [
      "the square of 18 is 324\n",
      "the square of 10 is 100\n",
      "the square of 19 is 361\n",
      "the square of 10 is 100\n",
      "the square of 6 is 36\n"
     ]
    }
   ],
   "source": [
    "import random\n",
    "for i in range(5):\n",
    "    num=random.randint(1,20)\n",
    "    print(\"the square of {} is {}\".format(num,num*num))\n",
    "    "
   ]
  },
  {
   "cell_type": "code",
   "execution_count": 30,
   "id": "5d469c38",
   "metadata": {},
   "outputs": [],
   "source": [
    "# WAP ask the user print the given number is even or odd\n",
    "# you need to take the number between 10 and 30\n",
    "\n",
    "# iterate the loop between 10 and 30\n",
    "# every time apply if i%2==0: print even \n",
    "#                  else : print odd"
   ]
  },
  {
   "cell_type": "code",
   "execution_count": 2,
   "id": "ba8963bf",
   "metadata": {},
   "outputs": [
    {
     "name": "stdout",
     "output_type": "stream",
     "text": [
      "The given 10 is even\n",
      "The given 11 is odd\n",
      "The given 12 is even\n",
      "The given 13 is odd\n",
      "The given 14 is even\n",
      "The given 15 is odd\n",
      "The given 16 is even\n",
      "The given 17 is odd\n",
      "The given 18 is even\n",
      "The given 19 is odd\n",
      "The given 20 is even\n",
      "The given 21 is odd\n",
      "The given 22 is even\n",
      "The given 23 is odd\n",
      "The given 24 is even\n",
      "The given 25 is odd\n",
      "The given 26 is even\n",
      "The given 27 is odd\n",
      "The given 28 is even\n",
      "The given 29 is odd\n",
      "The given 30 is even\n"
     ]
    }
   ],
   "source": [
    "for num in range(10,31):\n",
    "    if num%2==0:\n",
    "        print(\"The given {} is even\".format(num))\n",
    "    else:\n",
    "        print(\"The given {} is odd\".format(num))"
   ]
  },
  {
   "cell_type": "code",
   "execution_count": 3,
   "id": "39cf4a2e",
   "metadata": {},
   "outputs": [],
   "source": [
    "# WAP ask the user print the given number is even or odd\n",
    "# you need to take the number between randomly between 10 to 30\n",
    "# this process you need to 5 times\n",
    "\n",
    "# create a for loop to 5 times\n",
    "# every time get the random number \n",
    "# finally apply if-else : it is even or odd"
   ]
  },
  {
   "cell_type": "code",
   "execution_count": 4,
   "id": "127b846a",
   "metadata": {},
   "outputs": [
    {
     "name": "stdout",
     "output_type": "stream",
     "text": [
      "The given 10 is even\n",
      "The given 19 is odd\n",
      "The given 21 is odd\n",
      "The given 22 is even\n",
      "The given 13 is odd\n"
     ]
    }
   ],
   "source": [
    "import random\n",
    "for i in range(5):\n",
    "    num= random.randint(10,30)\n",
    "    if num%2==0:\n",
    "        print(\"The given {} is even\".format(num))\n",
    "    else:\n",
    "        print(\"The given {} is odd\".format(num))\n",
    "    "
   ]
  },
  {
   "cell_type": "code",
   "execution_count": 5,
   "id": "5fe599b1",
   "metadata": {},
   "outputs": [
    {
     "name": "stdout",
     "output_type": "stream",
     "text": [
      "The given 30 is even\n",
      "The given 5 is odd\n",
      "The given 2 is even\n",
      "The given 10 is even\n",
      "The given 17 is odd\n"
     ]
    }
   ],
   "source": [
    "def even_odd(num):\n",
    "    if num%2==0:\n",
    "        print(\"The given {} is even\".format(num))\n",
    "    else:\n",
    "        print(\"The given {} is odd\".format(num))\n",
    "        \n",
    "        \n",
    "import random\n",
    "for i in range(5):\n",
    "    num=random.randint(1,30)\n",
    "    even_odd(num)\n",
    "        "
   ]
  },
  {
   "cell_type": "code",
   "execution_count": 6,
   "id": "c4bfdffe",
   "metadata": {},
   "outputs": [],
   "source": [
    "# 5 lines\n",
    "# take a random number from random package between 1 to 10\n",
    "\n",
    "# ========you need to repat 3 times===========\n",
    "# ask the user enter a number between 1 to 10\n",
    "# if number == random number:\n",
    "#              print('you won')\n",
    "# else:\n",
    "#  print('you lost')"
   ]
  },
  {
   "cell_type": "code",
   "execution_count": 10,
   "id": "5bad91d2",
   "metadata": {},
   "outputs": [
    {
     "name": "stdout",
     "output_type": "stream",
     "text": [
      "1\n",
      "enter a number between 1 and 10:20\n",
      "you lost\n",
      "enter a number between 1 and 10:52\n",
      "you lost\n",
      "enter a number between 1 and 10:52\n",
      "you lost\n"
     ]
    }
   ],
   "source": [
    "import random\n",
    "random_num=random.randint(1,10)\n",
    "print(random_num)\n",
    "for i in range(3):\n",
    "    user_num=eval(input(\"enter a number between 1 and 10:\"))\n",
    "    if user_num==random_num:\n",
    "        print('you won')\n",
    "        break\n",
    "    else:\n",
    "        print('you lost')"
   ]
  },
  {
   "cell_type": "code",
   "execution_count": 11,
   "id": "675bf456",
   "metadata": {},
   "outputs": [],
   "source": [
    "# Improvise above code \n",
    "# you need to mention number of chances left\n",
    "# the user whenever he fail/losr"
   ]
  },
  {
   "cell_type": "code",
   "execution_count": 12,
   "id": "f49b8fa4",
   "metadata": {},
   "outputs": [
    {
     "name": "stdout",
     "output_type": "stream",
     "text": [
      "enter how many chances you want:2\n",
      "2\n",
      "enter a number between 1 and 10:2\n",
      "you won\n"
     ]
    }
   ],
   "source": [
    "import random\n",
    "random_num=random.randint(1,10)\n",
    "chances=eval(input(\"enter how many chances you want:\"))\n",
    "print(random_num)\n",
    "for i in range(chances):\n",
    "    user_num=eval(input(\"enter a number between 1 and 10:\"))\n",
    "    if user_num==random_num:\n",
    "        print('you won')\n",
    "        break\n",
    "    else:\n",
    "        print('you lost')\n",
    "        print(\"the number of chances left is:\",chances-1-i)"
   ]
  },
  {
   "cell_type": "code",
   "execution_count": 13,
   "id": "059a94d6",
   "metadata": {},
   "outputs": [],
   "source": [
    "# Improvise above code \n",
    "# whenever the user lost all the chances\n",
    "# it should print all the chances are over\n",
    "# print('pls try again after 10 min')\n",
    "\n",
    "# Hint:\n",
    "# you need to provide one more condition"
   ]
  },
  {
   "cell_type": "code",
   "execution_count": null,
   "id": "fdcb687f",
   "metadata": {},
   "outputs": [],
   "source": [
    "import random\n",
    "random_num=random.randint(1,10)\n",
    "chances=eval(input(\"enter how many chances you want:\"))\n",
    "print(random_num)\n",
    "for i in range(chances):\n",
    "    user_num=eval(input(\"enter a number between 1 and 10:\"))\n",
    "    if user_num==random_num:\n",
    "        print('you won')\n",
    "        break\n",
    "        \n",
    "    elif chances-1-i==0:\n",
    "        print(\"you lost\")\n",
    "        print(\"all chances are over\")\n",
    "        print(\"pls try again \")\n",
    "    \n",
    "    else:\n",
    "        print('you lost')\n",
    "        print(\"the number of chances left is:\",chances-1-i)\n",
    "        print(\"--------------------------------------------\")\n",
    "        "
   ]
  }
 ],
 "metadata": {
  "kernelspec": {
   "display_name": "Python 3 (ipykernel)",
   "language": "python",
   "name": "python3"
  },
  "language_info": {
   "codemirror_mode": {
    "name": "ipython",
    "version": 3
   },
   "file_extension": ".py",
   "mimetype": "text/x-python",
   "name": "python",
   "nbconvert_exporter": "python",
   "pygments_lexer": "ipython3",
   "version": "3.9.12"
  }
 },
 "nbformat": 4,
 "nbformat_minor": 5
}
