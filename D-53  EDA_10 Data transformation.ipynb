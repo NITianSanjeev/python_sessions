{
 "cells": [
  {
   "cell_type": "markdown",
   "id": "d11f6b35",
   "metadata": {},
   "source": [
    "- Converting skewd distribution to normal distribution\n",
    "\n",
    "- All maths developed by assumption as data follows Normal distribution\n",
    "\n",
    "    - log transformation\n",
    "    \n",
    "    - Reciprocal transformation\n",
    "\n",
    "    - sort transformation\n",
    "\n",
    "    - exponential transformation\n",
    "\n",
    "    - box-cox transformation\n",
    "\n",
    "    - yeo-jhanosn transformation"
   ]
  },
  {
   "cell_type": "markdown",
   "id": "c8658904",
   "metadata": {},
   "source": [
    "# Step-1:\n",
    "\n",
    "## Read the packages"
   ]
  },
  {
   "cell_type": "code",
   "execution_count": 4,
   "id": "3257c8b2",
   "metadata": {},
   "outputs": [],
   "source": [
    "import numpy as np\n",
    "import matplotlib.pyplot as plt\n"
   ]
  },
  {
   "cell_type": "markdown",
   "id": "f04a453f",
   "metadata": {},
   "source": [
    "## Step-2:\n",
    "\n",
    "### Read the data"
   ]
  },
  {
   "cell_type": "code",
   "execution_count": 5,
   "id": "ce6f8705",
   "metadata": {},
   "outputs": [],
   "source": [
    "data=np.random.exponential(size=1000)\n",
    "\n",
    "# we are takin a random values\n",
    "# 1000 samples we are taking\n"
   ]
  },
  {
   "cell_type": "code",
   "execution_count": 12,
   "id": "bb273d0d",
   "metadata": {},
   "outputs": [
    {
     "data": {
      "image/png": "[encoded data removed]",
      "text/plain": [
       "<Figure size 432x288 with 1 Axes>"
      ]
     },
     "metadata": {
      "needs_background": "light"
     },
     "output_type": "display_data"
    }
   ],
   "source": [
    "plt.hist(data,bins=40,label='Exponential')\n",
    "plt.legend()\n",
    "plt.show()"
   ]
  },
  {
   "cell_type": "markdown",
   "id": "c4bacdbd",
   "metadata": {},
   "source": [
    "## Step-3:\n",
    "\n",
    "### Log transformation\n",
    "\n",
    "     - np.log represent natural logrithm\n",
    "     \n",
    "     - natural logorithm means base e\n",
    "     \n",
    "     - exponential will multiply with log base e\n",
    "     \n",
    "     - Natural logorithms will works positive data\n",
    "     \n",
    "     - log transformation will remove the skew\n",
    "     \n",
    "     - It will not convert into Normal distribution"
   ]
  },
  {
   "cell_type": "code",
   "execution_count": 13,
   "id": "e754cd8f",
   "metadata": {},
   "outputs": [
    {
     "data": {
      "image/png": "[encoded data removed]",
      "text/plain": [
       "<Figure size 432x288 with 1 Axes>"
      ]
     },
     "metadata": {
      "needs_background": "light"
     },
     "output_type": "display_data"
    }
   ],
   "source": [
    "log_data=np.log(data)\n",
    "plt.hist(log_data,bins=40,label='Log transformation')\n",
    "plt.legend()\n",
    "plt.show()"
   ]
  },
  {
   "cell_type": "code",
   "execution_count": 15,
   "id": "a76fbe2b",
   "metadata": {},
   "outputs": [
    {
     "data": {
      "image/png": "[encoded data removed]",
      "text/plain": [
       "<Figure size 432x288 with 2 Axes>"
      ]
     },
     "metadata": {
      "needs_background": "light"
     },
     "output_type": "display_data"
    }
   ],
   "source": [
    "plt.subplot(1,2,1).hist(data,bins=40)\n",
    "plt.subplot(1,2,2).hist(log_data,bins=40)\n",
    "plt.show()"
   ]
  },
  {
   "cell_type": "markdown",
   "id": "f8013f23",
   "metadata": {},
   "source": [
    "## Step-4:\n",
    "\n",
    "## Reciprocal transformation\n",
    "\n",
    "   - if data has zero,it will fail"
   ]
  },
  {
   "cell_type": "code",
   "execution_count": 21,
   "id": "554ee4b6",
   "metadata": {},
   "outputs": [
    {
     "name": "stdout",
     "output_type": "stream",
     "text": [
      "[1.65564985 0.89701871 0.78402937 0.80653149 0.18951367]\n",
      "[0.60399244 1.11480395 1.27546242 1.23987719 5.27666433]\n"
     ]
    }
   ],
   "source": [
    "print(data[:5])\n",
    "print(1/data[:5])"
   ]
  },
  {
   "cell_type": "code",
   "execution_count": 19,
   "id": "9a65e689",
   "metadata": {},
   "outputs": [
    {
     "data": {
      "image/png": "[encoded data removed]",
      "text/plain": [
       "<Figure size 432x288 with 1 Axes>"
      ]
     },
     "metadata": {
      "needs_background": "light"
     },
     "output_type": "display_data"
    }
   ],
   "source": [
    "rec_data=1/data\n",
    "log_data=np.log(data)\n",
    "plt.hist(rec_data,bins=40,label='Reciprocal transformation')\n",
    "plt.legend()\n",
    "plt.show()"
   ]
  },
  {
   "cell_type": "markdown",
   "id": "559cea73",
   "metadata": {},
   "source": [
    "## Step-5:\n",
    "\n",
    "### Square root transformation"
   ]
  },
  {
   "cell_type": "code",
   "execution_count": 23,
   "id": "a4228274",
   "metadata": {},
   "outputs": [
    {
     "data": {
      "image/png": "[encoded data removed]",
      "text/plain": [
       "<Figure size 432x288 with 1 Axes>"
      ]
     },
     "metadata": {
      "needs_background": "light"
     },
     "output_type": "display_data"
    }
   ],
   "source": [
    "sqrt_data=np.sqrt(data)\n",
    "plt.hist(sqrt_data,bins=40,label='Square root transformation')\n",
    "plt.show()"
   ]
  },
  {
   "cell_type": "code",
   "execution_count": null,
   "id": "57521bed",
   "metadata": {},
   "outputs": [],
   "source": [
    "a=(10,20)\n",
    "b=[(1,2),(6,7)(8,9)]\n",
    "\n",
    "# distance between two point"
   ]
  },
  {
   "cell_type": "markdown",
   "id": "828a1fbd",
   "metadata": {},
   "source": [
    "## Power Transformer"
   ]
  },
  {
   "cell_type": "markdown",
   "id": "98c33b80",
   "metadata": {},
   "source": [
    "- it is in sklearn.preprocessing\n",
    "\n",
    "- method argument\n",
    "\n",
    "- box-cox\n",
    "\n",
    "- ye-jhonson\n"
   ]
  },
  {
   "cell_type": "code",
   "execution_count": null,
   "id": "dba9d555",
   "metadata": {},
   "outputs": [],
   "source": []
  }
 ],
 "metadata": {
  "kernelspec": {
   "display_name": "Python 3 (ipykernel)",
   "language": "python",
   "name": "python3"
  },
  "language_info": {
   "codemirror_mode": {
    "name": "ipython",
    "version": 3
   },
   "file_extension": ".py",
   "mimetype": "text/x-python",
   "name": "python",
   "nbconvert_exporter": "python",
   "pygments_lexer": "ipython3",
   "version": "3.9.12"
  }
 },
 "nbformat": 4,
 "nbformat_minor": 5
}
