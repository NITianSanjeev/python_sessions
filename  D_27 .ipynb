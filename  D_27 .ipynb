{
 "cells": [
  {
   "cell_type": "markdown",
   "id": "382f4b4b",
   "metadata": {},
   "source": [
    "- capitalize/upper/lower/casefold\n",
    "\n",
    "- index/find\n",
    "\n",
    "- count\n",
    "\n",
    "- replace"
   ]
  },
  {
   "cell_type": "code",
   "execution_count": 3,
   "id": "a100e5f3",
   "metadata": {},
   "outputs": [
    {
     "data": {
      "text/plain": [
       "2"
      ]
     },
     "execution_count": 3,
     "metadata": {},
     "output_type": "execute_result"
    }
   ],
   "source": [
    "str1='hai how are you , im good'\n",
    "str1.index('i')"
   ]
  },
  {
   "cell_type": "code",
   "execution_count": 4,
   "id": "e8838d02",
   "metadata": {},
   "outputs": [
    {
     "data": {
      "text/plain": [
       "18"
      ]
     },
     "execution_count": 4,
     "metadata": {},
     "output_type": "execute_result"
    }
   ],
   "source": [
    "str1.index('i',2+1)"
   ]
  },
  {
   "cell_type": "code",
   "execution_count": 5,
   "id": "b6c19d29",
   "metadata": {},
   "outputs": [
    {
     "data": {
      "text/plain": [
       "18"
      ]
     },
     "execution_count": 5,
     "metadata": {},
     "output_type": "execute_result"
    }
   ],
   "source": [
    "str1.index('i',str1.index('i')+1)"
   ]
  },
  {
   "cell_type": "markdown",
   "id": "e0cff796",
   "metadata": {},
   "source": [
    "$split$-$lstrip$-$rstrip$"
   ]
  },
  {
   "cell_type": "code",
   "execution_count": 12,
   "id": "084fe1da",
   "metadata": {},
   "outputs": [],
   "source": [
    "str1=' hello how are you '\n",
    "str2=\" hello how are you\"\n",
    "str3=\"hello how are you \"\n",
    "\n",
    "# I want remove the space\n",
    "# if you want to remove the space both side use strip method\n",
    "# if you want to remove the space only left side then use lstrip: Leftstrip\n",
    "# if you want to remove the spaces only right side then use rstrip: Rstrip"
   ]
  },
  {
   "cell_type": "code",
   "execution_count": 13,
   "id": "f99ff3a8",
   "metadata": {},
   "outputs": [
    {
     "name": "stdout",
     "output_type": "stream",
     "text": [
      "hello how are you\n",
      "hello how are you \n",
      " hello how are you\n"
     ]
    }
   ],
   "source": [
    "print(str1.strip())\n",
    "print(str1.lstrip())\n",
    "print(str1.rstrip())"
   ]
  },
  {
   "cell_type": "code",
   "execution_count": 14,
   "id": "8fd3df57",
   "metadata": {},
   "outputs": [
    {
     "name": "stdout",
     "output_type": "stream",
     "text": [
      "hello how are you\n",
      "hello how are you\n",
      "hello how are you\n"
     ]
    }
   ],
   "source": [
    "print(str1.strip())\n",
    "print(str2.lstrip())\n",
    "print(str3.rstrip())"
   ]
  },
  {
   "cell_type": "code",
   "execution_count": 15,
   "id": "4a249a06",
   "metadata": {},
   "outputs": [
    {
     "name": "stdout",
     "output_type": "stream",
     "text": [
      "hello how are you \n"
     ]
    }
   ],
   "source": [
    "print(str3)"
   ]
  },
  {
   "cell_type": "code",
   "execution_count": 16,
   "id": "066b42b2",
   "metadata": {},
   "outputs": [
    {
     "data": {
      "text/plain": [
       "'hello how are you '"
      ]
     },
     "execution_count": 16,
     "metadata": {},
     "output_type": "execute_result"
    }
   ],
   "source": [
    "str3"
   ]
  },
  {
   "cell_type": "code",
   "execution_count": 22,
   "id": "a3ea92d2",
   "metadata": {},
   "outputs": [],
   "source": [
    "# WAP to extract\n",
    "\n",
    "str1='python.anaconda@nareshit.com'\n",
    "str2='omkar.nallagoni@cognizant.com'\n",
    "str3='Virat.kohli@bcci.com'\n",
    "# Extract first name: python\n",
    "# Extract second name: anaconda\n",
    "# Extract company name: nareshit\n",
    "\n",
    "# Do not count it\n",
    "# use method find/index"
   ]
  },
  {
   "cell_type": "code",
   "execution_count": 23,
   "id": "6ec76dd2",
   "metadata": {},
   "outputs": [
    {
     "data": {
      "text/plain": [
       "6"
      ]
     },
     "execution_count": 23,
     "metadata": {},
     "output_type": "execute_result"
    }
   ],
   "source": [
    "str1[0:6],str1[7:15],str1[16:24]\n",
    "str1.find('.')"
   ]
  },
  {
   "cell_type": "code",
   "execution_count": 28,
   "id": "ac75762e",
   "metadata": {},
   "outputs": [
    {
     "data": {
      "text/plain": [
       "'python'"
      ]
     },
     "execution_count": 28,
     "metadata": {},
     "output_type": "execute_result"
    }
   ],
   "source": [
    "str1[0:str1.find('.')]\n",
    "\n",
    "\n"
   ]
  },
  {
   "cell_type": "code",
   "execution_count": 36,
   "id": "8f2502cd",
   "metadata": {},
   "outputs": [
    {
     "data": {
      "text/plain": [
       "'cognizant'"
      ]
     },
     "execution_count": 36,
     "metadata": {},
     "output_type": "execute_result"
    }
   ],
   "source": [
    "str1='omkar.nallagoni@cognizant.com'\n",
    "\n",
    "first_dot=str1.index('.')\n",
    "\n",
    "second_dot=str1.index('.',first_dot+1)\n",
    "\n",
    "str1[str1.find('@')+1:second_dot]"
   ]
  },
  {
   "cell_type": "code",
   "execution_count": 41,
   "id": "73549edb",
   "metadata": {},
   "outputs": [
    {
     "data": {
      "text/plain": [
       "'1489'"
      ]
     },
     "execution_count": 41,
     "metadata": {},
     "output_type": "execute_result"
    }
   ],
   "source": [
    "str1='3.1489'\n",
    "# Extract 3\n",
    "# Extract 1489\n",
    "\n",
    "str1[str1.index('.')-1]\n",
    "str1[str1.index('.')+1:]"
   ]
  },
  {
   "cell_type": "markdown",
   "id": "20ba18c1",
   "metadata": {},
   "source": [
    "$startswith$-$endwidth$"
   ]
  },
  {
   "cell_type": "code",
   "execution_count": 42,
   "id": "f39140a4",
   "metadata": {},
   "outputs": [],
   "source": [
    "str1='hai how are you'\n"
   ]
  },
  {
   "cell_type": "code",
   "execution_count": 46,
   "id": "f957f7a4",
   "metadata": {},
   "outputs": [
    {
     "data": {
      "text/plain": [
       "True"
      ]
     },
     "execution_count": 46,
     "metadata": {},
     "output_type": "execute_result"
    }
   ],
   "source": [
    "str1.startswith('hai')\n",
    "str1.startswith('h')"
   ]
  },
  {
   "cell_type": "code",
   "execution_count": 48,
   "id": "511934bc",
   "metadata": {},
   "outputs": [
    {
     "data": {
      "text/plain": [
       "True"
      ]
     },
     "execution_count": 48,
     "metadata": {},
     "output_type": "execute_result"
    }
   ],
   "source": [
    "str1.endswith('you')\n"
   ]
  },
  {
   "cell_type": "code",
   "execution_count": 50,
   "id": "05741dcd",
   "metadata": {},
   "outputs": [
    {
     "data": {
      "text/plain": [
       "True"
      ]
     },
     "execution_count": 50,
     "metadata": {},
     "output_type": "execute_result"
    }
   ],
   "source": [
    "str1.startswith(str1)"
   ]
  },
  {
   "cell_type": "code",
   "execution_count": 51,
   "id": "4d3c8d27",
   "metadata": {},
   "outputs": [
    {
     "data": {
      "text/plain": [
       "True"
      ]
     },
     "execution_count": 51,
     "metadata": {},
     "output_type": "execute_result"
    }
   ],
   "source": [
    "str1.endswith(str1)"
   ]
  },
  {
   "cell_type": "code",
   "execution_count": 53,
   "id": "23e9456c",
   "metadata": {},
   "outputs": [
    {
     "data": {
      "text/plain": [
       "['__add__',\n",
       " '__class__',\n",
       " '__contains__',\n",
       " '__delattr__',\n",
       " '__dir__',\n",
       " '__doc__',\n",
       " '__eq__',\n",
       " '__format__',\n",
       " '__ge__',\n",
       " '__getattribute__',\n",
       " '__getitem__',\n",
       " '__getnewargs__',\n",
       " '__gt__',\n",
       " '__hash__',\n",
       " '__init__',\n",
       " '__init_subclass__',\n",
       " '__iter__',\n",
       " '__le__',\n",
       " '__len__',\n",
       " '__lt__',\n",
       " '__mod__',\n",
       " '__mul__',\n",
       " '__ne__',\n",
       " '__new__',\n",
       " '__reduce__',\n",
       " '__reduce_ex__',\n",
       " '__repr__',\n",
       " '__rmod__',\n",
       " '__rmul__',\n",
       " '__setattr__',\n",
       " '__sizeof__',\n",
       " '__str__',\n",
       " '__subclasshook__',\n",
       " 'capitalize',\n",
       " 'casefold',\n",
       " 'center',\n",
       " 'count',\n",
       " 'encode',\n",
       " 'endswith',\n",
       " 'expandtabs',\n",
       " 'find',\n",
       " 'format',\n",
       " 'format_map',\n",
       " 'index',\n",
       " 'isalnum',\n",
       " 'isalpha',\n",
       " 'isascii',\n",
       " 'isdecimal',\n",
       " 'isdigit',\n",
       " 'isidentifier',\n",
       " 'islower',\n",
       " 'isnumeric',\n",
       " 'isprintable',\n",
       " 'isspace',\n",
       " 'istitle',\n",
       " 'isupper',\n",
       " 'join',\n",
       " 'ljust',\n",
       " 'lower',\n",
       " 'lstrip',\n",
       " 'maketrans',\n",
       " 'partition',\n",
       " 'removeprefix',\n",
       " 'removesuffix',\n",
       " 'replace',\n",
       " 'rfind',\n",
       " 'rindex',\n",
       " 'rjust',\n",
       " 'rpartition',\n",
       " 'rsplit',\n",
       " 'rstrip',\n",
       " 'split',\n",
       " 'splitlines',\n",
       " 'startswith',\n",
       " 'strip',\n",
       " 'swapcase',\n",
       " 'title',\n",
       " 'translate',\n",
       " 'upper',\n",
       " 'zfill']"
      ]
     },
     "execution_count": 53,
     "metadata": {},
     "output_type": "execute_result"
    }
   ],
   "source": [
    "dir('')"
   ]
  },
  {
   "cell_type": "code",
   "execution_count": null,
   "id": "a9cf76de",
   "metadata": {},
   "outputs": [],
   "source": [
    "# take one string1\n",
    "# string1.isalnum()"
   ]
  },
  {
   "cell_type": "code",
   "execution_count": 56,
   "id": "e36fb779",
   "metadata": {},
   "outputs": [
    {
     "data": {
      "text/plain": [
       "True"
      ]
     },
     "execution_count": 56,
     "metadata": {},
     "output_type": "execute_result"
    }
   ],
   "source": [
    "string1='abc'\n",
    "string1.isalpha()"
   ]
  },
  {
   "cell_type": "code",
   "execution_count": 57,
   "id": "61a43b51",
   "metadata": {},
   "outputs": [
    {
     "data": {
      "text/plain": [
       "False"
      ]
     },
     "execution_count": 57,
     "metadata": {},
     "output_type": "execute_result"
    }
   ],
   "source": [
    "string1='abc'\n",
    "string1.isnumeric()"
   ]
  },
  {
   "cell_type": "code",
   "execution_count": 62,
   "id": "c28c8529",
   "metadata": {},
   "outputs": [
    {
     "data": {
      "text/plain": [
       "True"
      ]
     },
     "execution_count": 62,
     "metadata": {},
     "output_type": "execute_result"
    }
   ],
   "source": [
    "str1='abc'\n",
    "str2='123'\n",
    "str3='abc123'\n",
    "str4='ABC'\n",
    "\n",
    "str1.isnumeric()\n",
    "str1.isalpha()\n",
    "str1.isupper()\n",
    "str1.islower()"
   ]
  },
  {
   "cell_type": "code",
   "execution_count": 63,
   "id": "579d1713",
   "metadata": {},
   "outputs": [
    {
     "data": {
      "text/plain": [
       "False"
      ]
     },
     "execution_count": 63,
     "metadata": {},
     "output_type": "execute_result"
    }
   ],
   "source": [
    "str2.isnumeric()\n",
    "str2.isalpha()\n",
    "str2.isupper()\n",
    "str2.islower()"
   ]
  },
  {
   "cell_type": "markdown",
   "id": "d42004ed",
   "metadata": {},
   "source": [
    "$split$"
   ]
  },
  {
   "cell_type": "code",
   "execution_count": 64,
   "id": "c6acd64d",
   "metadata": {},
   "outputs": [
    {
     "data": {
      "text/plain": [
       "['hai', 'hoW', 'are', 'you']"
      ]
     },
     "execution_count": 64,
     "metadata": {},
     "output_type": "execute_result"
    }
   ],
   "source": [
    "str1='hai hoW are you'\n",
    "str1.split()\n",
    "# if i not provide anything inside bracket: space\n",
    "# output is in list format"
   ]
  },
  {
   "cell_type": "code",
   "execution_count": 65,
   "id": "c4077837",
   "metadata": {},
   "outputs": [
    {
     "data": {
      "text/plain": [
       "['hai hoW are you']"
      ]
     },
     "execution_count": 65,
     "metadata": {},
     "output_type": "execute_result"
    }
   ],
   "source": [
    "str1='hai hoW are you'\n",
    "str1.split(',')"
   ]
  },
  {
   "cell_type": "code",
   "execution_count": 66,
   "id": "b3520035",
   "metadata": {},
   "outputs": [
    {
     "data": {
      "text/plain": [
       "['h', 'i hoW ', 're you']"
      ]
     },
     "execution_count": 66,
     "metadata": {},
     "output_type": "execute_result"
    }
   ],
   "source": [
    "str1='hai hoW are you'\n",
    "str1.split('a')"
   ]
  },
  {
   "cell_type": "code",
   "execution_count": 70,
   "id": "d7f99a69",
   "metadata": {},
   "outputs": [
    {
     "data": {
      "text/plain": [
       "'hello'"
      ]
     },
     "execution_count": 70,
     "metadata": {},
     "output_type": "execute_result"
    }
   ],
   "source": [
    "str1='%%%%hello%%%%%'\n",
    "str1.strip('%')"
   ]
  },
  {
   "cell_type": "code",
   "execution_count": 72,
   "id": "1da5d3af",
   "metadata": {},
   "outputs": [
    {
     "data": {
      "text/plain": [
       "['hai', 'hoW', 'are', 'you']"
      ]
     },
     "execution_count": 72,
     "metadata": {},
     "output_type": "execute_result"
    }
   ],
   "source": [
    "str1='hai hoW are you'\n",
    "str1.split()"
   ]
  },
  {
   "cell_type": "code",
   "execution_count": null,
   "id": "74591a62",
   "metadata": {},
   "outputs": [],
   "source": []
  }
 ],
 "metadata": {
  "kernelspec": {
   "display_name": "Python 3 (ipykernel)",
   "language": "python",
   "name": "python3"
  },
  "language_info": {
   "codemirror_mode": {
    "name": "ipython",
    "version": 3
   },
   "file_extension": ".py",
   "mimetype": "text/x-python",
   "name": "python",
   "nbconvert_exporter": "python",
   "pygments_lexer": "ipython3",
   "version": "3.9.12"
  }
 },
 "nbformat": 4,
 "nbformat_minor": 5
}
