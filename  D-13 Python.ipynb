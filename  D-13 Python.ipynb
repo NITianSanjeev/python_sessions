{
 "cells": [
  {
   "cell_type": "code",
   "execution_count": 1,
   "id": "cae5684a",
   "metadata": {},
   "outputs": [
    {
     "name": "stdout",
     "output_type": "stream",
     "text": [
      "The addition of 200 and 300 is 500\n",
      "The subtraction of 200 and 300 is -100\n",
      "The multiplication of 200 and 300 is 60000\n",
      "The division of 200 and 300 is 0.67\n"
     ]
    }
   ],
   "source": [
    "val1 = 200\n",
    "val2 = 300\n",
    "add = val1+val2\n",
    "sub = val1-val2\n",
    "mul = val1*val2\n",
    "div = round(val1/val2,2)\n",
    "print('The addition of {} and {} is {}'.format(val1,val2,add))\n",
    "print('The subtraction of {} and {} is {}'.format(val1,val2,sub))\n",
    "print('The multiplication of {} and {} is {}'.format(val1,val2,mul))\n",
    "print('The division of {} and {} is {}'.format(val1,val2,div))"
   ]
  },
  {
   "cell_type": "code",
   "execution_count": 2,
   "id": "29d548ae",
   "metadata": {},
   "outputs": [
    {
     "name": "stdout",
     "output_type": "stream",
     "text": [
      "enter val1:52\n",
      "enter val2:25\n",
      "The addition of 200 and 25 is 225\n"
     ]
    }
   ],
   "source": [
    "Val1 = int(input(\"enter val1:\"))\n",
    "val2 = int(input(\"enter val2:\"))\n",
    "add = val1+val2\n",
    "print(\"The addition of {} and {} is {}\".format(val1,val2,add))"
   ]
  },
  {
   "cell_type": "code",
   "execution_count": 3,
   "id": "6bb9be5a",
   "metadata": {},
   "outputs": [
    {
     "name": "stdout",
     "output_type": "stream",
     "text": [
      "Enter a number1: 52\n",
      "Enter a number2: 25\n",
      "77\n"
     ]
    }
   ],
   "source": [
    "num1=eval(input(\"Enter a number1: \"))\n",
    "num2=eval(input(\"Enter a number2: \"))\n",
    "print(num1+num2)"
   ]
  },
  {
   "cell_type": "code",
   "execution_count": 4,
   "id": "0f0ef303",
   "metadata": {},
   "outputs": [
    {
     "name": "stdout",
     "output_type": "stream",
     "text": [
      "enter a distance in km :25\n",
      "enter rate per km:41\n",
      "for25 km charge is 1025 rs\n"
     ]
    }
   ],
   "source": [
    "# WAP ask the user enter a distance=20km\n",
    "#     ask the user enter a rate per km=2\n",
    "# calculate total charge=20*2=40rs\n",
    "\n",
    "distance=eval(input(\"enter a distance in km :\"))\n",
    "rate=eval(input(\"enter rate per km:\"))\n",
    "charge=distance*rate\n",
    "print(\"for{} km charge is {} rs\".format(distance,charge))"
   ]
  },
  {
   "cell_type": "code",
   "execution_count": 5,
   "id": "c47a6e92",
   "metadata": {},
   "outputs": [
    {
     "name": "stdout",
     "output_type": "stream",
     "text": [
      "enter a number1: 25\n",
      "enter a number2: 526\n",
      "enter a number3: 12\n",
      "The average of 25,526 and 12 is 187.66666666666666\n"
     ]
    }
   ],
   "source": [
    "# wap ask the user enter 3 number and find the average\n",
    "num1=eval(input(\"enter a number1: \"))\n",
    "num2=eval(input(\"enter a number2: \"))\n",
    "num3=eval(input(\"enter a number3: \"))\n",
    "average=(num1+num2+num3)/3\n",
    "print(\"The average of {},{} and {} is {}\".format(num1,num2,num3,average))"
   ]
  },
  {
   "cell_type": "code",
   "execution_count": null,
   "id": "e165bf1e",
   "metadata": {},
   "outputs": [],
   "source": []
  },
  {
   "cell_type": "code",
   "execution_count": null,
   "id": "62b64b17",
   "metadata": {},
   "outputs": [],
   "source": []
  },
  {
   "cell_type": "code",
   "execution_count": null,
   "id": "adc6557b",
   "metadata": {},
   "outputs": [],
   "source": []
  },
  {
   "cell_type": "code",
   "execution_count": null,
   "id": "5b90cb22",
   "metadata": {},
   "outputs": [],
   "source": []
  }
 ],
 "metadata": {
  "kernelspec": {
   "display_name": "Python 3 (ipykernel)",
   "language": "python",
   "name": "python3"
  },
  "language_info": {
   "codemirror_mode": {
    "name": "ipython",
    "version": 3
   },
   "file_extension": ".py",
   "mimetype": "text/x-python",
   "name": "python",
   "nbconvert_exporter": "python",
   "pygments_lexer": "ipython3",
   "version": "3.9.12"
  }
 },
 "nbformat": 4,
 "nbformat_minor": 5
}
